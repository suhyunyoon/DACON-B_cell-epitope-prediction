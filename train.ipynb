{
 "cells": [
  {
   "cell_type": "markdown",
   "id": "1ddfa63d",
   "metadata": {},
   "source": [
    "## 0. Import"
   ]
  },
  {
   "cell_type": "code",
   "execution_count": 1,
   "id": "e45a5858",
   "metadata": {},
   "outputs": [],
   "source": [
    "import random\n",
    "import pandas as pd\n",
    "import numpy as np\n",
    "import os\n",
    "\n",
    "import matplotlib.pyplot as plt \n",
    "plt.rcParams['figure.figsize'] = [15, 10]\n",
    "\n",
    "import torch\n",
    "import torch.nn as nn\n",
    "import torch.optim as optim\n",
    "import torch.nn.functional as F\n",
    "from torch.utils.data import Dataset, DataLoader\n",
    "from torchsampler import ImbalancedDatasetSampler # pip install torchsampler\n",
    "\n",
    "from tqdm import tqdm\n",
    "from sklearn.metrics import accuracy_score, precision_score, recall_score, confusion_matrix, f1_score\n",
    "import warnings\n",
    "warnings.filterwarnings(action='ignore')"
   ]
  },
  {
   "cell_type": "code",
   "execution_count": 2,
   "id": "1e98bb25",
   "metadata": {},
   "outputs": [
    {
     "data": {
      "text/plain": [
       "True"
      ]
     },
     "execution_count": 2,
     "metadata": {},
     "output_type": "execute_result"
    }
   ],
   "source": [
    "torch.cuda.is_available()"
   ]
  },
  {
   "cell_type": "code",
   "execution_count": 3,
   "id": "052d3795",
   "metadata": {},
   "outputs": [],
   "source": [
    "device = torch.device('cuda') if torch.cuda.is_available() else torch.device('cpu')"
   ]
  },
  {
   "cell_type": "markdown",
   "id": "8153efcf",
   "metadata": {},
   "source": [
    "## 1-1. Hyperparameter Setting"
   ]
  },
  {
   "cell_type": "code",
   "execution_count": 4,
   "id": "7399d279",
   "metadata": {},
   "outputs": [],
   "source": [
    "CFG = {\n",
    "    'NUM_WORKERS':4,\n",
    "    'ANTIGEN_WINDOW':128,\n",
    "    'ANTIGEN_MAX_LEN':128, # ANTIGEN_WINDOW와 ANTIGEN_MAX_LEN은 같아야합니다.\n",
    "    'EPITOPE_MAX_LEN':64, # 256\n",
    "    'EPOCHS':100,\n",
    "    'LEARNING_RATE':1e-3,\n",
    "    'BATCH_SIZE':512,\n",
    "    'NUM_LAYERS': 2,\n",
    "    'THRESHOLD':0.5,\n",
    "    'SEED':41\n",
    "}"
   ]
  },
  {
   "cell_type": "markdown",
   "id": "eebdf7e0",
   "metadata": {},
   "source": [
    "## 1-2. Fixed RandomSeed"
   ]
  },
  {
   "cell_type": "code",
   "execution_count": 5,
   "id": "f1b8941e",
   "metadata": {},
   "outputs": [],
   "source": [
    "def seed_everything(seed):\n",
    "    random.seed(seed)\n",
    "    os.environ['PYTHONHASHSEED'] = str(seed)\n",
    "    np.random.seed(seed)\n",
    "    torch.manual_seed(seed)\n",
    "    torch.cuda.manual_seed(seed)\n",
    "    torch.backends.cudnn.deterministic = True\n",
    "    torch.backends.cudnn.benchmark = True\n",
    "\n",
    "seed_everything(CFG['SEED']) # Seed 고정"
   ]
  },
  {
   "cell_type": "markdown",
   "id": "ff1562f9",
   "metadata": {},
   "source": [
    "## 2-1. Data Pre-processing"
   ]
  },
  {
   "cell_type": "code",
   "execution_count": 6,
   "id": "34737d7f",
   "metadata": {},
   "outputs": [],
   "source": [
    "def get_preprocessing(data_type, new_df):\n",
    "    alpha_map = {\n",
    "                'A':0, 'B':1, 'C':2, 'D':3, 'E':4, 'F':5,\n",
    "                'G':6, 'H':7, 'I':8, 'J':9, 'K':10, 'L':11,\n",
    "                'M':12, 'N':13, 'O':14, 'P':15, 'Q':16, 'R':17,\n",
    "                'S':18, 'T':19, 'U':20, 'V':21, 'W':22, 'X':23,\n",
    "                'Y':24, 'Z':25, '<PAD>':26,\n",
    "            }\n",
    "\n",
    "    epitope_list = []\n",
    "    left_antigen_list = []\n",
    "    right_antigen_list = []\n",
    "    \n",
    "    for epitope, antigen, s_p, e_p in tqdm(zip(new_df['epitope_seq'], new_df['antigen_seq'], new_df['start_position'], new_df['end_position'])):\n",
    "        epitope_pad = [26 for _ in range(CFG['EPITOPE_MAX_LEN'])]\n",
    "        left_antigen_pad = [26 for _ in range(CFG['ANTIGEN_MAX_LEN'])]\n",
    "        right_antigen_pad = [26 for _ in range(CFG['ANTIGEN_MAX_LEN'])]\n",
    "        \n",
    "        epitope = [alpha_map[x] for x in epitope]\n",
    "        \n",
    "        # Left antigen : [start_position-WINDOW : start_position]\n",
    "        # Right antigen : [end_position : end_position+WINDOW]\n",
    "\n",
    "        start_position = s_p-CFG['ANTIGEN_WINDOW']-1\n",
    "        end_position = e_p+CFG['ANTIGEN_WINDOW']\n",
    "        if start_position < 0:\n",
    "            start_position = 0\n",
    "        if end_position > len(antigen):\n",
    "            end_position = len(antigen)\n",
    "        \n",
    "        # left / right antigen sequence 추출\n",
    "        left_antigen = antigen[int(start_position) : int(s_p)-1]\n",
    "        left_antigen = [alpha_map[x] for x in left_antigen]\n",
    "        \n",
    "        right_antigen = antigen[int(e_p) : int(end_position)]\n",
    "        right_antigen = [alpha_map[x] for x in right_antigen]\n",
    "\n",
    "        if CFG['EPITOPE_MAX_LEN']<len(epitope):\n",
    "            epitope_pad[:len(epitope)] = epitope[:CFG['EPITOPE_MAX_LEN']]\n",
    "        else:\n",
    "            epitope_pad[:len(epitope)] = epitope[:]\n",
    "\n",
    "        left_antigen_pad[:len(left_antigen)] = left_antigen[:]\n",
    "        right_antigen_pad[:len(right_antigen)] = right_antigen[:]\n",
    "        \n",
    "        epitope_list.append(epitope_pad)\n",
    "        left_antigen_list.append(left_antigen_pad)\n",
    "        right_antigen_list.append(right_antigen_pad)\n",
    "    \n",
    "    label_list = None\n",
    "    if data_type != 'test':\n",
    "        label_list = []\n",
    "        for label in new_df['label']:\n",
    "            label_list.append(label)\n",
    "    print(f'{data_type} dataframe preprocessing was done.')\n",
    "    return epitope_list, left_antigen_list, right_antigen_list, label_list"
   ]
  },
  {
   "cell_type": "code",
   "execution_count": 7,
   "id": "f73dc8b6",
   "metadata": {},
   "outputs": [],
   "source": [
    "from sklearn.metrics import accuracy_score, precision_score, recall_score, confusion_matrix, f1_score\n",
    "\n",
    "def get_clf_eval(y_test, pred):\n",
    "    confusion = confusion_matrix(y_test, pred)\n",
    "    accuracy  = accuracy_score(y_test, pred)\n",
    "    precision = precision_score(y_test, pred)\n",
    "    recall    = recall_score(y_test, pred)\n",
    "    f1        = f1_score(y_test, pred, average='macro')\n",
    "    print('Confusion Matrix')\n",
    "    print(confusion)\n",
    "    print(f'Accuracy:{accuracy:.6f}, Precision:{precision:.6f}, Recall:{recall:.6f}, F1:{f1:.6f}')\n",
    "    return accuracy, precision, recall, f1\n",
    "\n",
    "def threshold_eval(model, x, y):\n",
    "    for th in [0.2, 0.25, 0.3, 0.35, 0.4, 0.45, 0.5, 0.55, 0.6, 0.7, 0.8]:\n",
    "        print('THRESHOLD:', th)\n",
    "        #idx = np.where((pred_p[:,1] >= 0.7))\n",
    "        pred_p = model.predict_proba(x) ###\n",
    "        pred = np.where(pred_p[:,1] >= th, 1, 0)\n",
    "        get_clf_eval(y, pred)"
   ]
  },
  {
   "cell_type": "code",
   "execution_count": 41,
   "id": "4b0118db",
   "metadata": {},
   "outputs": [],
   "source": [
    "df = pd.read_csv('./data/train.csv') #, encoding='utf-8')\n",
    "# Split Train : Validation = 0.8 : 0.2\n",
    "train_len = len(df)\n",
    "train_idx = np.arange(train_len)\n",
    "\n",
    "# random split\n",
    "np.random.shuffle(train_idx)\n",
    "\n",
    "train_df = df.iloc[train_idx[:int(train_len*0.8)]]\n",
    "val_df = df.iloc[int(train_len*0.8):]"
   ]
  },
  {
   "cell_type": "code",
   "execution_count": 8,
   "id": "5f626991",
   "metadata": {
    "scrolled": false
   },
   "outputs": [
    {
     "name": "stderr",
     "output_type": "stream",
     "text": [
      "152648it [00:12, 12203.29it/s]\n"
     ]
    },
    {
     "name": "stdout",
     "output_type": "stream",
     "text": [
      "train dataframe preprocessing was done.\n"
     ]
    },
    {
     "name": "stderr",
     "output_type": "stream",
     "text": [
      "38163it [00:02, 18645.10it/s]"
     ]
    },
    {
     "name": "stdout",
     "output_type": "stream",
     "text": [
      "val dataframe preprocessing was done.\n"
     ]
    },
    {
     "name": "stderr",
     "output_type": "stream",
     "text": [
      "\n"
     ]
    }
   ],
   "source": [
    "train_epitope_list, train_left_antigen_list, train_right_antigen_list, train_label_list = get_preprocessing('train', train_df)\n",
    "val_epitope_list, val_left_antigen_list, val_right_antigen_list, val_label_list = get_preprocessing('val', val_df)"
   ]
  },
  {
   "cell_type": "markdown",
   "id": "28753e69",
   "metadata": {},
   "source": [
    "## 2-2. CustomDataset"
   ]
  },
  {
   "cell_type": "code",
   "execution_count": 9,
   "id": "2e2ff935",
   "metadata": {},
   "outputs": [],
   "source": [
    "class CustomDataset(Dataset):\n",
    "    def __init__(self, epitope_list, left_antigen_list, right_antigen_list, label_list):\n",
    "        self.epitope_list = epitope_list\n",
    "        self.left_antigen_list = left_antigen_list\n",
    "        self.right_antigen_list = right_antigen_list\n",
    "        self.label_list = label_list\n",
    "        \n",
    "    def __getitem__(self, index):\n",
    "        self.epitope = self.epitope_list[index]\n",
    "        self.left_antigen = self.left_antigen_list[index]\n",
    "        self.right_antigen = self.right_antigen_list[index]\n",
    "        \n",
    "        if self.label_list is not None:\n",
    "            self.label = self.label_list[index]\n",
    "            return torch.tensor(self.epitope), torch.tensor(self.left_antigen), torch.tensor(self.right_antigen), self.label\n",
    "        else:\n",
    "            return torch.tensor(self.epitope), torch.tensor(self.left_antigen), torch.tensor(self.right_antigen)\n",
    "        \n",
    "    def __len__(self):\n",
    "        return len(self.epitope_list)\n",
    "    \n",
    "    def get_labels(self):\n",
    "        return self.label_list"
   ]
  },
  {
   "cell_type": "code",
   "execution_count": 10,
   "id": "fc25a38b",
   "metadata": {},
   "outputs": [],
   "source": [
    "train_dataset = CustomDataset(train_epitope_list, train_left_antigen_list, train_right_antigen_list, train_label_list)\n",
    "train_loader = DataLoader(train_dataset, batch_size = CFG['BATCH_SIZE'], num_workers=CFG['NUM_WORKERS'], sampler=ImbalancedDatasetSampler(train_dataset)) # shuffle=True, \n",
    "\n",
    "val_dataset = CustomDataset(val_epitope_list, val_left_antigen_list, val_right_antigen_list, val_label_list)\n",
    "val_loader = DataLoader(val_dataset, batch_size = CFG['BATCH_SIZE'], shuffle=False, num_workers=CFG['NUM_WORKERS'])"
   ]
  },
  {
   "cell_type": "markdown",
   "id": "7fd4a897",
   "metadata": {},
   "source": [
    "## 3_option 1. LSTM Model Define"
   ]
  },
  {
   "cell_type": "code",
   "execution_count": 11,
   "id": "2ead4f1b",
   "metadata": {},
   "outputs": [],
   "source": [
    "class BaseModel(nn.Module):\n",
    "    def __init__(self,\n",
    "                 epitope_length=CFG['EPITOPE_MAX_LEN'],\n",
    "                 epitope_emb_node=10,\n",
    "                 epitope_hidden_dim=64,\n",
    "                 left_antigen_length=CFG['ANTIGEN_MAX_LEN'],\n",
    "                 left_antigen_emb_node=10,\n",
    "                 left_antigen_hidden_dim=64,\n",
    "                 right_antigen_length=CFG['ANTIGEN_MAX_LEN'],\n",
    "                 right_antigen_emb_node=10,\n",
    "                 right_antigen_hidden_dim=64,\n",
    "                 num_layers=CFG['NUM_LAYERS'],\n",
    "                 num_class=2,\n",
    "                 drop_prob=0.5,\n",
    "                 lstm_bidirect=True\n",
    "                ):\n",
    "        super(BaseModel, self).__init__()\n",
    "        self.num_class = num_class\n",
    "        self.num_layers = num_layers\n",
    "        self.epitope_hidden_dim = epitope_hidden_dim\n",
    "        self.left_antigen_hidden_dim = left_antigen_hidden_dim\n",
    "        self.right_antigen_hidden_dim = right_antigen_hidden_dim\n",
    "        # Embedding Layer\n",
    "        self.epitope_embed = nn.Embedding(num_embeddings=27, \n",
    "                                          embedding_dim=epitope_emb_node, \n",
    "                                          padding_idx=26\n",
    "                                         )\n",
    "        self.left_antigen_embed = nn.Embedding(num_embeddings=27,\n",
    "                                          embedding_dim=left_antigen_emb_node, \n",
    "                                          padding_idx=26\n",
    "                                         )\n",
    "        self.right_antigen_embed = nn.Embedding(num_embeddings=27,\n",
    "                                          embedding_dim=right_antigen_emb_node, \n",
    "                                          padding_idx=26\n",
    "                                         )\n",
    "        # LSTM\n",
    "        self.epitope_lstm = nn.LSTM(input_size=epitope_emb_node, \n",
    "                                    hidden_size=epitope_hidden_dim, \n",
    "                                    batch_first=True, \n",
    "                                    bidirectional=lstm_bidirect,\n",
    "                                    num_layers=num_layers,\n",
    "                                    dropout=drop_prob\n",
    "                                   )\n",
    "        self.left_antigen_lstm = nn.LSTM(input_size=left_antigen_emb_node, \n",
    "                                    hidden_size=left_antigen_hidden_dim, \n",
    "                                    batch_first=True, \n",
    "                                    bidirectional=lstm_bidirect,\n",
    "                                    num_layers=num_layers,\n",
    "                                    dropout=drop_prob\n",
    "                                   )\n",
    "        self.right_antigen_lstm = nn.LSTM(input_size=right_antigen_emb_node, \n",
    "                                    hidden_size=right_antigen_hidden_dim, \n",
    "                                    batch_first=True, \n",
    "                                    bidirectional=lstm_bidirect,\n",
    "                                    num_layers=num_layers,\n",
    "                                    dropout=drop_prob\n",
    "                                   )\n",
    "\n",
    "        # Classifier\n",
    "        in_channels = epitope_hidden_dim+left_antigen_hidden_dim+right_antigen_hidden_dim\n",
    "        if lstm_bidirect:\n",
    "            in_channels *= 2\n",
    "            \n",
    "        self.classifier = nn.Sequential(\n",
    "            nn.LeakyReLU(True),\n",
    "            nn.BatchNorm1d(in_channels),\n",
    "            nn.Linear(in_channels, in_channels//4),\n",
    "            nn.LeakyReLU(True),\n",
    "            nn.BatchNorm1d(in_channels//4),\n",
    "            nn.Linear(in_channels//4, self.num_class)\n",
    "        )\n",
    "        \n",
    "        # Weight Initialization \n",
    "        self.init_weights()\n",
    "        \n",
    "    def forward(self, epitope_x, left_antigen_x, right_antigen_x):\n",
    "        BATCH_SIZE = epitope_x.size(0)\n",
    "        \n",
    "#         # Initialize hidden cell\n",
    "#         hc       = self.init_hidden_cell(self.epitope_lstm, BATCH_SIZE, self.epitope_hidden_dim)\n",
    "#         left_hc  = self.init_hidden_cell(self.left_antigen_lstm, BATCH_SIZE, self.left_antigen_hidden_dim)\n",
    "#         right_hc = self.init_hidden_cell(self.right_antigen_lstm, BATCH_SIZE, self.right_antigen_hidden_dim)\n",
    "        \n",
    "        # Get Embedding Vector\n",
    "        epitope_x       = self.epitope_embed(epitope_x)\n",
    "        left_antigen_x  = self.left_antigen_embed(left_antigen_x)\n",
    "        right_antigen_x = self.right_antigen_embed(right_antigen_x)\n",
    "        \n",
    "        # LSTM\n",
    "        epitope_hidden, _ = self.epitope_lstm(epitope_x) #, hc)\n",
    "        epitope_hidden = epitope_hidden[:,-1,:]\n",
    "\n",
    "        left_antigen_hidden, _ = self.left_antigen_lstm(left_antigen_x) #, left_hc)\n",
    "        left_antigen_hidden = left_antigen_hidden[:,-1,:]\n",
    "        \n",
    "        right_antigen_hidden, _ = self.right_antigen_lstm(right_antigen_x) #, right_hc)\n",
    "        right_antigen_hidden = right_antigen_hidden[:,-1,:]\n",
    "        \n",
    "        # Feature Concat -> Binary Classifier\n",
    "        x = torch.cat([epitope_hidden, left_antigen_hidden, right_antigen_hidden], axis=-1)\n",
    "        x = torch.cat([left_antigen_hidden, right_antigen_hidden], axis=-1)\n",
    "        x = epitope_hidden\n",
    "        \n",
    "        x = self.classifier(x).view(-1, self.num_class)\n",
    "        return x\n",
    "    \n",
    "    \n",
    "    def init_weights(self):\n",
    "        # Classifier\n",
    "        for layer in self.classifier:\n",
    "            if isinstance(layer, nn.Linear):\n",
    "                torch.nn.init.xavier_uniform(layer.weight)\n",
    "                layer.bias.data.fill_(0.01)\n",
    "        # LSTM\n",
    "        lstms = [self.epitope_lstm, self.left_antigen_embed, self.right_antigen_embed]\n",
    "        for lstm in lstms:\n",
    "            for name, param in lstm.named_parameters():\n",
    "                if 'bias' in name:\n",
    "                    nn.init.constant_(param, 0.)\n",
    "                elif 'weight' in name:\n",
    "                    nn.init.xavier_uniform_(param)\n",
    "\n",
    "    def init_hidden_cell(self, lstm, batch_size, hidden_dim):\n",
    "        weight = next(lstm.parameters()).data\n",
    "        return (weight.new(self.num_layers, batch_size, hidden_dim).zero_(),\n",
    "                weight.new(self.num_layers, batch_size, hidden_dim).zero_())"
   ]
  },
  {
   "cell_type": "markdown",
   "id": "1563816f",
   "metadata": {},
   "source": [
    "## 3_option 2. CNN Model Define"
   ]
  },
  {
   "cell_type": "code",
   "execution_count": 19,
   "id": "1d438f5c",
   "metadata": {},
   "outputs": [],
   "source": [
    "class CNNModel(nn.Module):\n",
    "    def __init__(self,\n",
    "                 epitope_length=CFG['EPITOPE_MAX_LEN'],\n",
    "                 epitope_emb_node=10,\n",
    "                 epitope_hidden_dim=64,\n",
    "                 left_antigen_length=CFG['ANTIGEN_MAX_LEN'],\n",
    "                 left_antigen_emb_node=10,\n",
    "                 left_antigen_hidden_dim=64,\n",
    "                 right_antigen_length=CFG['ANTIGEN_MAX_LEN'],\n",
    "                 right_antigen_emb_node=10,\n",
    "                 right_antigen_hidden_dim=64,\n",
    "                 num_class=2,\n",
    "                 drop_prob=0.5\n",
    "                ):\n",
    "        super(CNNModel, self).__init__()\n",
    "        self.num_class = num_class\n",
    "        self.epitope_hidden_dim = epitope_hidden_dim\n",
    "        \n",
    "        # Embedding Layer\n",
    "        self.epitope_embed = nn.Embedding(num_embeddings=27, \n",
    "                                          embedding_dim=epitope_emb_node, \n",
    "                                          padding_idx=26\n",
    "                                         )\n",
    "        self.left_antigen_embed = nn.Embedding(num_embeddings=27,\n",
    "                                          embedding_dim=left_antigen_emb_node, \n",
    "                                          padding_idx=26\n",
    "                                         )\n",
    "        self.right_antigen_embed = nn.Embedding(num_embeddings=27,\n",
    "                                          embedding_dim=right_antigen_emb_node, \n",
    "                                          padding_idx=26\n",
    "                                         )\n",
    "        \n",
    "        # CNN\n",
    "        self.epitope_cnn1 = nn.Conv1d(in_channels=epitope_emb_node, out_channels=epitope_emb_node*2, kernel_size=3, padding=1, stride=2)\n",
    "        self.epitope_cnn2 = nn.Conv1d(in_channels=epitope_emb_node*2, out_channels=epitope_emb_node*4, kernel_size=3, padding=1, stride=2)\n",
    "        self.epitope_cnn3 = nn.Conv1d(in_channels=epitope_emb_node*4, out_channels=epitope_emb_node, kernel_size=3, padding=1, stride=2)\n",
    "        \n",
    "        # BatchNorm\n",
    "        \n",
    "        self.relu = nn.ReLU(inplace=True)\n",
    "        \n",
    "        # Classifier\n",
    "        self.in_channels = epitope_emb_node * (epitope_length // (2 ** 3))\n",
    "            \n",
    "        self.classifier = nn.Sequential(\n",
    "            nn.LeakyReLU(True),\n",
    "            nn.BatchNorm1d(self.in_channels),\n",
    "            nn.Linear(self.in_channels, self.in_channels//4),\n",
    "            nn.LeakyReLU(True),\n",
    "            nn.BatchNorm1d(self.in_channels//4),\n",
    "            nn.Linear(self.in_channels//4, self.num_class)\n",
    "        )\n",
    "        \n",
    "        # Weight Initialization \n",
    "        self.init_weights()\n",
    "        \n",
    "    def forward(self, epitope_x, left_antigen_x, right_antigen_x):\n",
    "        BATCH_SIZE = epitope_x.size(0)\n",
    "        \n",
    "        # Get Embedding Vector\n",
    "        epitope_x       = self.epitope_embed(epitope_x)\n",
    "\n",
    "        # CNN\n",
    "        epitope_x = epitope_x.permute(0,2,1)\n",
    "        epitope_hidden = self.relu(self.epitope_cnn1(epitope_x))\n",
    "        epitope_hidden = self.relu(self.epitope_cnn2(epitope_hidden))\n",
    "        epitope_hidden = self.relu(self.epitope_cnn3(epitope_hidden))\n",
    "        \n",
    "        # Feature Concat -> Binary Classifier\n",
    "        x = epitope_hidden.reshape(epitope_hidden.size(0), -1)\n",
    "        \n",
    "        x = self.classifier(x).view(-1, self.num_class)\n",
    "        return x\n",
    "    \n",
    "    \n",
    "    def init_weights(self):\n",
    "        # Classifier\n",
    "        for layer in self.classifier:\n",
    "            if isinstance(layer, nn.Linear):\n",
    "                torch.nn.init.xavier_uniform(layer.weight)\n",
    "                layer.bias.data.fill_(0.01)\n",
    "        # CNN\n",
    "        cnns = [self.epitope_cnn1, self.epitope_cnn2, self.epitope_cnn3]\n",
    "        for lstm in cnns:\n",
    "            for name, param in lstm.named_parameters():\n",
    "                if 'bias' in name:\n",
    "                    nn.init.constant_(param, 0.)\n",
    "                elif 'weight' in name:\n",
    "                    nn.init.xavier_uniform_(param)"
   ]
  },
  {
   "cell_type": "markdown",
   "id": "2eb1d5b9",
   "metadata": {},
   "source": [
    "## Train"
   ]
  },
  {
   "cell_type": "code",
   "execution_count": 20,
   "id": "804e329a",
   "metadata": {},
   "outputs": [],
   "source": [
    "def train(model, optimizer, train_loader, val_loader, scheduler, device):\n",
    "    model.to(device)\n",
    "    #criterion = nn.BCEWithLogitsLoss().to(device) \n",
    "    criterion = nn.CrossEntropyLoss().to(device)\n",
    "    \n",
    "    best_val_f1 = 0\n",
    "    best_epoch = 0\n",
    "    for epoch in range(1, CFG['EPOCHS']+1):\n",
    "        model.train()\n",
    "        train_loss = []\n",
    "        for epitope_seq, left_antigen_seq, right_antigen_seq, label in tqdm(iter(train_loader)):\n",
    "            epitope_seq = epitope_seq.to(device)\n",
    "            left_antigen_seq = left_antigen_seq.to(device)\n",
    "            right_antigen_seq = right_antigen_seq.to(device)\n",
    "            label = label.long().to(device)\n",
    "            \n",
    "            optimizer.zero_grad()\n",
    "            \n",
    "            output = model(epitope_seq, left_antigen_seq, right_antigen_seq)\n",
    "            loss = criterion(output, label)\n",
    "            \n",
    "            loss.backward()\n",
    "            optimizer.step()\n",
    "            \n",
    "            train_loss.append(loss.item())\n",
    "            \n",
    "            if scheduler is not None:\n",
    "                scheduler.step()\n",
    "                    \n",
    "        val_loss, val_f1, val_acc, val_precision, val_recall, val_conf = validation(model, val_loader, criterion, device)\n",
    "        print(f'Epoch : [{epoch}] Train Loss : [{np.mean(train_loss):.5f}] Val Loss : [{val_loss:.5f}] Val F1 : [{val_f1:.5f}] Val ACC : [{val_acc:.5f}] ')\n",
    "        print(f'                                   Val Precision : [{val_precision:.5f}] Val Recall : [{val_recall:.5f}]')\n",
    "        print(val_conf)\n",
    "        \n",
    "        if best_val_f1 < val_f1:\n",
    "            best_val_f1 = val_f1\n",
    "            best_epoch = epoch\n",
    "            torch.save(model.state_dict(), './best_model.pth', _use_new_zipfile_serialization=False)\n",
    "            print('Model Saved.')\n",
    "    return best_val_f1, best_epoch"
   ]
  },
  {
   "cell_type": "code",
   "execution_count": 21,
   "id": "daab2ce0",
   "metadata": {},
   "outputs": [],
   "source": [
    "def validation(model, val_loader, criterion, device, th=CFG['THRESHOLD']):\n",
    "    model.eval()\n",
    "    pred_proba_label = []\n",
    "    true_label = []\n",
    "    val_loss = []\n",
    "    with torch.no_grad():\n",
    "        for epitope_seq, left_antigen_seq, right_antigen_seq, label in tqdm(iter(val_loader)):\n",
    "            epitope_seq = epitope_seq.to(device)\n",
    "            left_antigen_seq = left_antigen_seq.to(device)\n",
    "            right_antigen_seq = right_antigen_seq.to(device)\n",
    "            label = label.long().to(device)\n",
    "            \n",
    "            model_pred = model(epitope_seq, left_antigen_seq, right_antigen_seq)\n",
    "            loss = criterion(model_pred, label)\n",
    "            model_pred = torch.softmax(model_pred, dim=1)[:,1].to('cpu')\n",
    "            pred_proba_label += model_pred.tolist()\n",
    "            true_label += label.to('cpu').tolist()\n",
    "            \n",
    "            val_loss.append(loss.item())\n",
    "            \n",
    "    pred_label = np.where(np.array(pred_proba_label)>th, 1, 0)\n",
    "    val_f1        = f1_score(true_label, pred_label, average='macro')\n",
    "    val_confusion = confusion_matrix(true_label, pred_label)\n",
    "    val_acc       = accuracy_score(true_label, pred_label)\n",
    "    val_precision = precision_score(true_label, pred_label)\n",
    "    val_recall    = recall_score(true_label, pred_label)\n",
    "    return np.mean(val_loss), val_f1, val_acc, val_precision, val_recall, val_confusion"
   ]
  },
  {
   "cell_type": "code",
   "execution_count": 22,
   "id": "bf2bc1b0",
   "metadata": {
    "scrolled": true,
    "tags": []
   },
   "outputs": [
    {
     "name": "stderr",
     "output_type": "stream",
     "text": [
      "Exception ignored in: <function _MultiProcessingDataLoaderIter.__del__ at 0x7f4c27a267a0>\n",
      "Traceback (most recent call last):\n",
      "  File \"/home/suhyun/.conda/envs/py37/lib/python3.7/site-packages/torch/utils/data/dataloader.py\", line 1328, in __del__\n",
      "    self._shutdown_workers()\n",
      "  File \"/home/suhyun/.conda/envs/py37/lib/python3.7/site-packages/torch/utils/data/dataloader.py\", line 1320, in _shutdown_workers\n",
      "    if w.is_alive():\n",
      "  File \"/home/suhyun/.conda/envs/py37/lib/python3.7/multiprocessing/process.py\", line 151, in is_alive\n",
      "    assert self._parent_pid == os.getpid(), 'can only test a child process'\n",
      "AssertionError: can only test a child process\n",
      "  0%|          | 0/299 [00:00<?, ?it/s]Exception ignored in: Exception ignored in: Exception ignored in: <function _MultiProcessingDataLoaderIter.__del__ at 0x7f4c27a267a0><function _MultiProcessingDataLoaderIter.__del__ at 0x7f4c27a267a0><function _MultiProcessingDataLoaderIter.__del__ at 0x7f4c27a267a0>\n",
      "\n",
      "Traceback (most recent call last):\n",
      "  File \"/home/suhyun/.conda/envs/py37/lib/python3.7/site-packages/torch/utils/data/dataloader.py\", line 1328, in __del__\n",
      "Traceback (most recent call last):\n",
      "  File \"/home/suhyun/.conda/envs/py37/lib/python3.7/site-packages/torch/utils/data/dataloader.py\", line 1328, in __del__\n",
      "    self._shutdown_workers()    \n",
      "self._shutdown_workers()  File \"/home/suhyun/.conda/envs/py37/lib/python3.7/site-packages/torch/utils/data/dataloader.py\", line 1320, in _shutdown_workers\n",
      "\n",
      "  File \"/home/suhyun/.conda/envs/py37/lib/python3.7/site-packages/torch/utils/data/dataloader.py\", line 1320, in _shutdown_workers\n",
      "        if w.is_alive():if w.is_alive():\n",
      "\n",
      "  File \"/home/suhyun/.conda/envs/py37/lib/python3.7/multiprocessing/process.py\", line 151, in is_alive\n",
      "  File \"/home/suhyun/.conda/envs/py37/lib/python3.7/multiprocessing/process.py\", line 151, in is_alive\n",
      "    assert self._parent_pid == os.getpid(), 'can only test a child process'\n",
      "    \n",
      "Traceback (most recent call last):\n",
      "assert self._parent_pid == os.getpid(), 'can only test a child process'AssertionError  File \"/home/suhyun/.conda/envs/py37/lib/python3.7/site-packages/torch/utils/data/dataloader.py\", line 1328, in __del__\n",
      ": \n",
      "AssertionErrorcan only test a child process    : \n",
      "self._shutdown_workers()can only test a child process\n",
      "\n",
      "  File \"/home/suhyun/.conda/envs/py37/lib/python3.7/site-packages/torch/utils/data/dataloader.py\", line 1320, in _shutdown_workers\n",
      "    if w.is_alive():\n",
      "  File \"/home/suhyun/.conda/envs/py37/lib/python3.7/multiprocessing/process.py\", line 151, in is_alive\n",
      "    assert self._parent_pid == os.getpid(), 'can only test a child process'\n",
      "AssertionError: can only test a child process\n",
      "100%|██████████| 299/299 [00:08<00:00, 36.00it/s]\n",
      "100%|██████████| 75/75 [00:01<00:00, 67.64it/s]"
     ]
    },
    {
     "name": "stdout",
     "output_type": "stream",
     "text": [
      "Epoch : [1] Train Loss : [0.59884] Val Loss : [0.41804] Val F1 : [0.62205] Val ACC : [0.85997] \n",
      "                                   Val Precision : [0.49206] Val Recall : [0.23949]\n",
      "[[31549  1311]\n",
      " [ 4033  1270]]\n",
      "Model Saved.\n"
     ]
    },
    {
     "name": "stderr",
     "output_type": "stream",
     "text": [
      "\n",
      "100%|██████████| 299/299 [00:08<00:00, 36.99it/s]\n",
      "100%|██████████| 75/75 [00:01<00:00, 74.53it/s]\n"
     ]
    },
    {
     "name": "stdout",
     "output_type": "stream",
     "text": [
      "Epoch : [2] Train Loss : [0.55280] Val Loss : [0.53823] Val F1 : [0.62038] Val ACC : [0.76700] \n",
      "                                   Val Precision : [0.30373] Val Recall : [0.52367]\n",
      "[[26494  6366]\n",
      " [ 2526  2777]]\n"
     ]
    },
    {
     "name": "stderr",
     "output_type": "stream",
     "text": [
      "100%|██████████| 299/299 [00:07<00:00, 37.81it/s]\n",
      "100%|██████████| 75/75 [00:01<00:00, 72.68it/s]\n"
     ]
    },
    {
     "name": "stdout",
     "output_type": "stream",
     "text": [
      "Epoch : [3] Train Loss : [0.52898] Val Loss : [0.52560] Val F1 : [0.63325] Val ACC : [0.77997] \n",
      "                                   Val Precision : [0.32263] Val Recall : [0.53064]\n",
      "[[26952  5908]\n",
      " [ 2489  2814]]\n",
      "Model Saved.\n"
     ]
    },
    {
     "name": "stderr",
     "output_type": "stream",
     "text": [
      "100%|██████████| 299/299 [00:08<00:00, 36.21it/s]\n",
      "100%|██████████| 75/75 [00:01<00:00, 73.76it/s]\n"
     ]
    },
    {
     "name": "stdout",
     "output_type": "stream",
     "text": [
      "Epoch : [4] Train Loss : [0.51141] Val Loss : [0.54561] Val F1 : [0.62659] Val ACC : [0.75353] \n",
      "                                   Val Precision : [0.30663] Val Recall : [0.61343]\n",
      "[[25504  7356]\n",
      " [ 2050  3253]]\n"
     ]
    },
    {
     "name": "stderr",
     "output_type": "stream",
     "text": [
      "100%|██████████| 299/299 [00:08<00:00, 36.31it/s]\n",
      "100%|██████████| 75/75 [00:01<00:00, 74.87it/s]\n"
     ]
    },
    {
     "name": "stdout",
     "output_type": "stream",
     "text": [
      "Epoch : [5] Train Loss : [0.49721] Val Loss : [1.90007] Val F1 : [0.16783] Val ACC : [0.17585] \n",
      "                                   Val Precision : [0.14284] Val Recall : [0.98605]\n",
      "[[ 1482 31378]\n",
      " [   74  5229]]\n"
     ]
    },
    {
     "name": "stderr",
     "output_type": "stream",
     "text": [
      "100%|██████████| 299/299 [00:08<00:00, 36.72it/s]\n",
      "100%|██████████| 75/75 [00:01<00:00, 67.05it/s]\n"
     ]
    },
    {
     "name": "stdout",
     "output_type": "stream",
     "text": [
      "Epoch : [6] Train Loss : [0.48673] Val Loss : [0.43636] Val F1 : [0.66783] Val ACC : [0.82064] \n",
      "                                   Val Precision : [0.38948] Val Recall : [0.51235]\n",
      "[[28601  4259]\n",
      " [ 2586  2717]]\n",
      "Model Saved.\n"
     ]
    },
    {
     "name": "stderr",
     "output_type": "stream",
     "text": [
      "100%|██████████| 299/299 [00:08<00:00, 36.90it/s]\n",
      "100%|██████████| 75/75 [00:01<00:00, 71.94it/s]\n"
     ]
    },
    {
     "name": "stdout",
     "output_type": "stream",
     "text": [
      "Epoch : [7] Train Loss : [0.47340] Val Loss : [1.74365] Val F1 : [0.18547] Val ACC : [0.19084] \n",
      "                                   Val Precision : [0.14436] Val Recall : [0.97888]\n",
      "[[ 2092 30768]\n",
      " [  112  5191]]\n"
     ]
    },
    {
     "name": "stderr",
     "output_type": "stream",
     "text": [
      "100%|██████████| 299/299 [00:08<00:00, 36.88it/s]\n",
      "100%|██████████| 75/75 [00:00<00:00, 77.09it/s]\n"
     ]
    },
    {
     "name": "stdout",
     "output_type": "stream",
     "text": [
      "Epoch : [8] Train Loss : [0.46506] Val Loss : [0.36086] Val F1 : [0.64647] Val ACC : [0.86906] \n",
      "                                   Val Precision : [0.55935] Val Recall : [0.27192]\n",
      "[[31724  1136]\n",
      " [ 3861  1442]]\n"
     ]
    },
    {
     "name": "stderr",
     "output_type": "stream",
     "text": [
      "100%|██████████| 299/299 [00:08<00:00, 36.46it/s]\n",
      "100%|██████████| 75/75 [00:01<00:00, 74.80it/s]\n"
     ]
    },
    {
     "name": "stdout",
     "output_type": "stream",
     "text": [
      "Epoch : [9] Train Loss : [0.46341] Val Loss : [1.42104] Val F1 : [0.27655] Val ACC : [0.27658] \n",
      "                                   Val Precision : [0.15833] Val Recall : [0.97454]\n",
      "[[ 5387 27473]\n",
      " [  135  5168]]\n"
     ]
    },
    {
     "name": "stderr",
     "output_type": "stream",
     "text": [
      "100%|██████████| 299/299 [00:08<00:00, 36.99it/s]\n",
      "100%|██████████| 75/75 [00:01<00:00, 69.41it/s]"
     ]
    },
    {
     "name": "stdout",
     "output_type": "stream",
     "text": [
      "Epoch : [10] Train Loss : [0.45290] Val Loss : [0.53109] Val F1 : [0.63992] Val ACC : [0.75796] \n",
      "                                   Val Precision : [0.32134] Val Recall : [0.66717]\n",
      "[[25388  7472]\n",
      " [ 1765  3538]]\n"
     ]
    },
    {
     "name": "stderr",
     "output_type": "stream",
     "text": [
      "\n",
      "100%|██████████| 299/299 [00:08<00:00, 34.70it/s]\n",
      "100%|██████████| 75/75 [00:01<00:00, 70.07it/s]"
     ]
    },
    {
     "name": "stdout",
     "output_type": "stream",
     "text": [
      "Epoch : [11] Train Loss : [0.45075] Val Loss : [0.44589] Val F1 : [0.66656] Val ACC : [0.81016] \n",
      "                                   Val Precision : [0.37577] Val Recall : [0.55384]\n",
      "[[27981  4879]\n",
      " [ 2366  2937]]\n"
     ]
    },
    {
     "name": "stderr",
     "output_type": "stream",
     "text": [
      "\n",
      "100%|██████████| 299/299 [00:08<00:00, 36.67it/s]\n",
      "100%|██████████| 75/75 [00:00<00:00, 76.47it/s]\n"
     ]
    },
    {
     "name": "stdout",
     "output_type": "stream",
     "text": [
      "Epoch : [12] Train Loss : [0.44428] Val Loss : [1.29435] Val F1 : [0.31989] Val ACC : [0.32196] \n",
      "                                   Val Precision : [0.16551] Val Recall : [0.95983]\n",
      "[[ 7197 25663]\n",
      " [  213  5090]]\n"
     ]
    },
    {
     "name": "stderr",
     "output_type": "stream",
     "text": [
      "100%|██████████| 299/299 [00:08<00:00, 36.26it/s]\n",
      "100%|██████████| 75/75 [00:01<00:00, 69.69it/s]\n"
     ]
    },
    {
     "name": "stdout",
     "output_type": "stream",
     "text": [
      "Epoch : [13] Train Loss : [0.44058] Val Loss : [0.40512] Val F1 : [0.68143] Val ACC : [0.83649] \n",
      "                                   Val Precision : [0.42486] Val Recall : [0.49953]\n",
      "[[29274  3586]\n",
      " [ 2654  2649]]\n",
      "Model Saved.\n"
     ]
    },
    {
     "name": "stderr",
     "output_type": "stream",
     "text": [
      "100%|██████████| 299/299 [00:08<00:00, 36.32it/s]\n",
      "100%|██████████| 75/75 [00:00<00:00, 77.67it/s]\n"
     ]
    },
    {
     "name": "stdout",
     "output_type": "stream",
     "text": [
      "Epoch : [14] Train Loss : [0.43797] Val Loss : [0.50340] Val F1 : [0.65371] Val ACC : [0.77465] \n",
      "                                   Val Precision : [0.34006] Val Recall : [0.66095]\n",
      "[[26058  6802]\n",
      " [ 1798  3505]]\n"
     ]
    },
    {
     "name": "stderr",
     "output_type": "stream",
     "text": [
      "100%|██████████| 299/299 [00:08<00:00, 36.26it/s]\n",
      "100%|██████████| 75/75 [00:01<00:00, 74.84it/s]\n"
     ]
    },
    {
     "name": "stdout",
     "output_type": "stream",
     "text": [
      "Epoch : [15] Train Loss : [0.43411] Val Loss : [0.66363] Val F1 : [0.58038] Val ACC : [0.66578] \n",
      "                                   Val Precision : [0.26183] Val Recall : [0.77239]\n",
      "[[21312 11548]\n",
      " [ 1207  4096]]\n"
     ]
    },
    {
     "name": "stderr",
     "output_type": "stream",
     "text": [
      "100%|██████████| 299/299 [00:08<00:00, 36.39it/s]\n",
      "100%|██████████| 75/75 [00:00<00:00, 75.93it/s]\n"
     ]
    },
    {
     "name": "stdout",
     "output_type": "stream",
     "text": [
      "Epoch : [16] Train Loss : [0.43079] Val Loss : [1.35716] Val F1 : [0.31024] Val ACC : [0.31156] \n",
      "                                   Val Precision : [0.16383] Val Recall : [0.96361]\n",
      "[[ 6780 26080]\n",
      " [  193  5110]]\n"
     ]
    },
    {
     "name": "stderr",
     "output_type": "stream",
     "text": [
      "100%|██████████| 299/299 [00:08<00:00, 36.58it/s]\n",
      "100%|██████████| 75/75 [00:01<00:00, 70.04it/s]\n"
     ]
    },
    {
     "name": "stdout",
     "output_type": "stream",
     "text": [
      "Epoch : [17] Train Loss : [0.42994] Val Loss : [0.75899] Val F1 : [0.53309] Val ACC : [0.59628] \n",
      "                                   Val Precision : [0.23156] Val Recall : [0.82180]\n",
      "[[18398 14462]\n",
      " [  945  4358]]\n"
     ]
    },
    {
     "name": "stderr",
     "output_type": "stream",
     "text": [
      "100%|██████████| 299/299 [00:08<00:00, 36.69it/s]\n",
      "100%|██████████| 75/75 [00:01<00:00, 72.41it/s]\n"
     ]
    },
    {
     "name": "stdout",
     "output_type": "stream",
     "text": [
      "Epoch : [18] Train Loss : [0.42831] Val Loss : [0.71599] Val F1 : [0.55680] Val ACC : [0.62846] \n",
      "                                   Val Precision : [0.24660] Val Recall : [0.81444]\n",
      "[[19665 13195]\n",
      " [  984  4319]]\n"
     ]
    },
    {
     "name": "stderr",
     "output_type": "stream",
     "text": [
      "100%|██████████| 299/299 [00:08<00:00, 36.49it/s]\n",
      "100%|██████████| 75/75 [00:00<00:00, 77.11it/s]\n"
     ]
    },
    {
     "name": "stdout",
     "output_type": "stream",
     "text": [
      "Epoch : [19] Train Loss : [0.42342] Val Loss : [0.92494] Val F1 : [0.47357] Val ACC : [0.50981] \n",
      "                                   Val Precision : [0.20664] Val Recall : [0.89025]\n",
      "[[14735 18125]\n",
      " [  582  4721]]\n"
     ]
    },
    {
     "name": "stderr",
     "output_type": "stream",
     "text": [
      "100%|██████████| 299/299 [00:08<00:00, 36.50it/s]\n",
      "100%|██████████| 75/75 [00:01<00:00, 68.27it/s]"
     ]
    },
    {
     "name": "stdout",
     "output_type": "stream",
     "text": [
      "Epoch : [20] Train Loss : [0.42408] Val Loss : [0.94921] Val F1 : [0.46090] Val ACC : [0.49165] \n",
      "                                   Val Precision : [0.20316] Val Recall : [0.90967]\n",
      "[[13939 18921]\n",
      " [  479  4824]]\n"
     ]
    },
    {
     "name": "stderr",
     "output_type": "stream",
     "text": [
      "\n",
      "100%|██████████| 299/299 [00:08<00:00, 36.15it/s]\n",
      "100%|██████████| 75/75 [00:00<00:00, 75.60it/s]\n"
     ]
    },
    {
     "name": "stdout",
     "output_type": "stream",
     "text": [
      "Epoch : [21] Train Loss : [0.41727] Val Loss : [0.78164] Val F1 : [0.52354] Val ACC : [0.57799] \n",
      "                                   Val Precision : [0.22938] Val Recall : [0.86328]\n",
      "[[17480 15380]\n",
      " [  725  4578]]\n"
     ]
    },
    {
     "name": "stderr",
     "output_type": "stream",
     "text": [
      "100%|██████████| 299/299 [00:08<00:00, 36.46it/s]\n",
      "100%|██████████| 75/75 [00:01<00:00, 73.39it/s]\n"
     ]
    },
    {
     "name": "stdout",
     "output_type": "stream",
     "text": [
      "Epoch : [22] Train Loss : [0.41610] Val Loss : [0.95950] Val F1 : [0.45428] Val ACC : [0.48361] \n",
      "                                   Val Precision : [0.20007] Val Recall : [0.90590]\n",
      "[[13652 19208]\n",
      " [  499  4804]]\n"
     ]
    },
    {
     "name": "stderr",
     "output_type": "stream",
     "text": [
      "100%|██████████| 299/299 [00:08<00:00, 36.42it/s]\n",
      "100%|██████████| 75/75 [00:00<00:00, 77.87it/s]\n"
     ]
    },
    {
     "name": "stdout",
     "output_type": "stream",
     "text": [
      "Epoch : [23] Train Loss : [0.41530] Val Loss : [0.79223] Val F1 : [0.52251] Val ACC : [0.57844] \n",
      "                                   Val Precision : [0.22764] Val Recall : [0.84990]\n",
      "[[17568 15292]\n",
      " [  796  4507]]\n"
     ]
    },
    {
     "name": "stderr",
     "output_type": "stream",
     "text": [
      "100%|██████████| 299/299 [00:08<00:00, 36.83it/s]\n",
      "100%|██████████| 75/75 [00:01<00:00, 74.20it/s]\n"
     ]
    },
    {
     "name": "stdout",
     "output_type": "stream",
     "text": [
      "Epoch : [24] Train Loss : [0.41398] Val Loss : [0.44740] Val F1 : [0.67249] Val ACC : [0.80769] \n",
      "                                   Val Precision : [0.37794] Val Recall : [0.59438]\n",
      "[[27672  5188]\n",
      " [ 2151  3152]]\n"
     ]
    },
    {
     "name": "stderr",
     "output_type": "stream",
     "text": [
      "100%|██████████| 299/299 [00:08<00:00, 36.87it/s]\n",
      "100%|██████████| 75/75 [00:01<00:00, 74.36it/s]\n"
     ]
    },
    {
     "name": "stdout",
     "output_type": "stream",
     "text": [
      "Epoch : [25] Train Loss : [0.41113] Val Loss : [0.54115] Val F1 : [0.63562] Val ACC : [0.74711] \n",
      "                                   Val Precision : [0.31498] Val Recall : [0.69791]\n",
      "[[24811  8049]\n",
      " [ 1602  3701]]\n"
     ]
    },
    {
     "name": "stderr",
     "output_type": "stream",
     "text": [
      "100%|██████████| 299/299 [00:08<00:00, 36.95it/s]\n",
      "100%|██████████| 75/75 [00:00<00:00, 81.65it/s]"
     ]
    },
    {
     "name": "stdout",
     "output_type": "stream",
     "text": [
      "Epoch : [26] Train Loss : [0.41184] Val Loss : [0.85692] Val F1 : [0.50103] Val ACC : [0.54731] \n",
      "                                   Val Precision : [0.21811] Val Recall : [0.87347]\n",
      "[[16255 16605]\n",
      " [  671  4632]]\n"
     ]
    },
    {
     "name": "stderr",
     "output_type": "stream",
     "text": [
      "\n",
      "100%|██████████| 299/299 [00:08<00:00, 36.51it/s]\n",
      "100%|██████████| 75/75 [00:01<00:00, 74.72it/s]\n"
     ]
    },
    {
     "name": "stdout",
     "output_type": "stream",
     "text": [
      "Epoch : [27] Train Loss : [0.40963] Val Loss : [0.64205] Val F1 : [0.60176] Val ACC : [0.68939] \n",
      "                                   Val Precision : [0.28103] Val Recall : [0.79276]\n",
      "[[22105 10755]\n",
      " [ 1099  4204]]\n"
     ]
    },
    {
     "name": "stderr",
     "output_type": "stream",
     "text": [
      "100%|██████████| 299/299 [00:08<00:00, 36.58it/s]\n",
      "100%|██████████| 75/75 [00:00<00:00, 77.05it/s]\n"
     ]
    },
    {
     "name": "stdout",
     "output_type": "stream",
     "text": [
      "Epoch : [28] Train Loss : [0.40650] Val Loss : [0.41319] Val F1 : [0.68451] Val ACC : [0.82397] \n",
      "                                   Val Precision : [0.40550] Val Recall : [0.57251]\n",
      "[[28409  4451]\n",
      " [ 2267  3036]]\n",
      "Model Saved.\n"
     ]
    },
    {
     "name": "stderr",
     "output_type": "stream",
     "text": [
      "100%|██████████| 299/299 [00:08<00:00, 36.30it/s]\n",
      "100%|██████████| 75/75 [00:01<00:00, 69.82it/s]\n"
     ]
    },
    {
     "name": "stdout",
     "output_type": "stream",
     "text": [
      "Epoch : [29] Train Loss : [0.40430] Val Loss : [0.42908] Val F1 : [0.68132] Val ACC : [0.81647] \n",
      "                                   Val Precision : [0.39378] Val Recall : [0.59457]\n",
      "[[28006  4854]\n",
      " [ 2150  3153]]\n"
     ]
    },
    {
     "name": "stderr",
     "output_type": "stream",
     "text": [
      "100%|██████████| 299/299 [00:09<00:00, 31.00it/s]\n",
      "100%|██████████| 75/75 [00:00<00:00, 75.65it/s]\n"
     ]
    },
    {
     "name": "stdout",
     "output_type": "stream",
     "text": [
      "Epoch : [30] Train Loss : [0.40679] Val Loss : [0.92210] Val F1 : [0.47696] Val ACC : [0.51348] \n",
      "                                   Val Precision : [0.20882] Val Recall : [0.89685]\n",
      "[[14840 18020]\n",
      " [  547  4756]]\n"
     ]
    },
    {
     "name": "stderr",
     "output_type": "stream",
     "text": [
      "100%|██████████| 299/299 [00:08<00:00, 36.10it/s]\n",
      "100%|██████████| 75/75 [00:00<00:00, 78.68it/s]\n"
     ]
    },
    {
     "name": "stdout",
     "output_type": "stream",
     "text": [
      "Epoch : [31] Train Loss : [0.40355] Val Loss : [0.51623] Val F1 : [0.64937] Val ACC : [0.76386] \n",
      "                                   Val Precision : [0.33222] Val Recall : [0.69244]\n",
      "[[25479  7381]\n",
      " [ 1631  3672]]\n"
     ]
    },
    {
     "name": "stderr",
     "output_type": "stream",
     "text": [
      "100%|██████████| 299/299 [00:08<00:00, 36.44it/s]\n",
      "100%|██████████| 75/75 [00:01<00:00, 69.97it/s]\n"
     ]
    },
    {
     "name": "stdout",
     "output_type": "stream",
     "text": [
      "Epoch : [32] Train Loss : [0.40175] Val Loss : [0.76888] Val F1 : [0.54307] Val ACC : [0.60375] \n",
      "                                   Val Precision : [0.24096] Val Recall : [0.86121]\n",
      "[[18474 14386]\n",
      " [  736  4567]]\n"
     ]
    },
    {
     "name": "stderr",
     "output_type": "stream",
     "text": [
      "100%|██████████| 299/299 [00:08<00:00, 36.65it/s]\n",
      "100%|██████████| 75/75 [00:01<00:00, 69.70it/s]\n"
     ]
    },
    {
     "name": "stdout",
     "output_type": "stream",
     "text": [
      "Epoch : [33] Train Loss : [0.39966] Val Loss : [0.54034] Val F1 : [0.63896] Val ACC : [0.74968] \n",
      "                                   Val Precision : [0.31878] Val Recall : [0.70488]\n",
      "[[24872  7988]\n",
      " [ 1565  3738]]\n"
     ]
    },
    {
     "name": "stderr",
     "output_type": "stream",
     "text": [
      "100%|██████████| 299/299 [00:08<00:00, 36.04it/s]\n",
      "100%|██████████| 75/75 [00:01<00:00, 72.12it/s]\n"
     ]
    },
    {
     "name": "stdout",
     "output_type": "stream",
     "text": [
      "Epoch : [34] Train Loss : [0.39764] Val Loss : [0.44198] Val F1 : [0.67635] Val ACC : [0.80982] \n",
      "                                   Val Precision : [0.38298] Val Recall : [0.60324]\n",
      "[[27706  5154]\n",
      " [ 2104  3199]]\n"
     ]
    },
    {
     "name": "stderr",
     "output_type": "stream",
     "text": [
      "100%|██████████| 299/299 [00:08<00:00, 36.12it/s]\n",
      "100%|██████████| 75/75 [00:01<00:00, 72.56it/s]\n"
     ]
    },
    {
     "name": "stdout",
     "output_type": "stream",
     "text": [
      "Epoch : [35] Train Loss : [0.39928] Val Loss : [0.56235] Val F1 : [0.63163] Val ACC : [0.73333] \n",
      "                                   Val Precision : [0.30973] Val Recall : [0.74807]\n",
      "[[24019  8841]\n",
      " [ 1336  3967]]\n"
     ]
    },
    {
     "name": "stderr",
     "output_type": "stream",
     "text": [
      "100%|██████████| 299/299 [00:08<00:00, 36.33it/s]\n",
      "100%|██████████| 75/75 [00:01<00:00, 68.04it/s]\n"
     ]
    },
    {
     "name": "stdout",
     "output_type": "stream",
     "text": [
      "Epoch : [36] Train Loss : [0.39718] Val Loss : [0.60364] Val F1 : [0.61200] Val ACC : [0.70450] \n",
      "                                   Val Precision : [0.29003] Val Recall : [0.77805]\n",
      "[[22760 10100]\n",
      " [ 1177  4126]]\n"
     ]
    },
    {
     "name": "stderr",
     "output_type": "stream",
     "text": [
      "100%|██████████| 299/299 [00:08<00:00, 36.27it/s]\n",
      "100%|██████████| 75/75 [00:01<00:00, 74.12it/s]\n"
     ]
    },
    {
     "name": "stdout",
     "output_type": "stream",
     "text": [
      "Epoch : [37] Train Loss : [0.39584] Val Loss : [0.96231] Val F1 : [0.46843] Val ACC : [0.49999] \n",
      "                                   Val Precision : [0.20759] Val Recall : [0.92231]\n",
      "[[14190 18670]\n",
      " [  412  4891]]\n"
     ]
    },
    {
     "name": "stderr",
     "output_type": "stream",
     "text": [
      "100%|██████████| 299/299 [00:08<00:00, 36.34it/s]\n",
      "100%|██████████| 75/75 [00:01<00:00, 74.96it/s]\n"
     ]
    },
    {
     "name": "stdout",
     "output_type": "stream",
     "text": [
      "Epoch : [38] Train Loss : [0.39748] Val Loss : [0.57878] Val F1 : [0.62559] Val ACC : [0.72675] \n",
      "                                   Val Precision : [0.30323] Val Recall : [0.74467]\n",
      "[[23786  9074]\n",
      " [ 1354  3949]]\n"
     ]
    },
    {
     "name": "stderr",
     "output_type": "stream",
     "text": [
      "100%|██████████| 299/299 [00:08<00:00, 36.16it/s]\n",
      "100%|██████████| 75/75 [00:02<00:00, 34.89it/s]"
     ]
    },
    {
     "name": "stdout",
     "output_type": "stream",
     "text": [
      "Epoch : [39] Train Loss : [0.39536] Val Loss : [0.54818] Val F1 : [0.63638] Val ACC : [0.74087] \n",
      "                                   Val Precision : [0.31511] Val Recall : [0.73694]\n",
      "[[24366  8494]\n",
      " [ 1395  3908]]\n"
     ]
    },
    {
     "name": "stderr",
     "output_type": "stream",
     "text": [
      "\n",
      "100%|██████████| 299/299 [00:09<00:00, 32.22it/s]\n",
      "100%|██████████| 75/75 [00:00<00:00, 75.49it/s]"
     ]
    },
    {
     "name": "stdout",
     "output_type": "stream",
     "text": [
      "Epoch : [40] Train Loss : [0.39392] Val Loss : [0.60202] Val F1 : [0.60923] Val ACC : [0.70359] \n",
      "                                   Val Precision : [0.28702] Val Recall : [0.76353]\n",
      "[[22802 10058]\n",
      " [ 1254  4049]]\n"
     ]
    },
    {
     "name": "stderr",
     "output_type": "stream",
     "text": [
      "\n",
      "100%|██████████| 299/299 [00:08<00:00, 36.46it/s]\n",
      "100%|██████████| 75/75 [00:00<00:00, 76.78it/s]\n"
     ]
    },
    {
     "name": "stdout",
     "output_type": "stream",
     "text": [
      "Epoch : [41] Train Loss : [0.39050] Val Loss : [0.69324] Val F1 : [0.58000] Val ACC : [0.65590] \n",
      "                                   Val Precision : [0.26471] Val Recall : [0.83047]\n",
      "[[20627 12233]\n",
      " [  899  4404]]\n"
     ]
    },
    {
     "name": "stderr",
     "output_type": "stream",
     "text": [
      "100%|██████████| 299/299 [00:08<00:00, 36.33it/s]\n",
      "100%|██████████| 75/75 [00:01<00:00, 73.93it/s]\n"
     ]
    },
    {
     "name": "stdout",
     "output_type": "stream",
     "text": [
      "Epoch : [42] Train Loss : [0.38986] Val Loss : [0.38307] Val F1 : [0.68750] Val ACC : [0.84372] \n",
      "                                   Val Precision : [0.44376] Val Recall : [0.49180]\n",
      "[[29591  3269]\n",
      " [ 2695  2608]]\n",
      "Model Saved.\n"
     ]
    },
    {
     "name": "stderr",
     "output_type": "stream",
     "text": [
      "100%|██████████| 299/299 [00:08<00:00, 36.61it/s]\n",
      "100%|██████████| 75/75 [00:01<00:00, 73.00it/s]\n"
     ]
    },
    {
     "name": "stdout",
     "output_type": "stream",
     "text": [
      "Epoch : [43] Train Loss : [0.39080] Val Loss : [0.65502] Val F1 : [0.59389] Val ACC : [0.67751] \n",
      "                                   Val Precision : [0.27468] Val Recall : [0.80502]\n",
      "[[21587 11273]\n",
      " [ 1034  4269]]\n"
     ]
    },
    {
     "name": "stderr",
     "output_type": "stream",
     "text": [
      "100%|██████████| 299/299 [00:08<00:00, 36.63it/s]\n",
      "100%|██████████| 75/75 [00:01<00:00, 68.11it/s]\n"
     ]
    },
    {
     "name": "stdout",
     "output_type": "stream",
     "text": [
      "Epoch : [44] Train Loss : [0.39131] Val Loss : [0.45411] Val F1 : [0.67246] Val ACC : [0.80099] \n",
      "                                   Val Precision : [0.37201] Val Recall : [0.62814]\n",
      "[[27237  5623]\n",
      " [ 1972  3331]]\n"
     ]
    },
    {
     "name": "stderr",
     "output_type": "stream",
     "text": [
      "100%|██████████| 299/299 [00:08<00:00, 36.31it/s]\n",
      "100%|██████████| 75/75 [00:01<00:00, 71.79it/s]"
     ]
    },
    {
     "name": "stdout",
     "output_type": "stream",
     "text": [
      "Epoch : [45] Train Loss : [0.38993] Val Loss : [0.72301] Val F1 : [0.56718] Val ACC : [0.63714] \n",
      "                                   Val Precision : [0.25609] Val Recall : [0.84594]\n",
      "[[19829 13031]\n",
      " [  817  4486]]\n"
     ]
    },
    {
     "name": "stderr",
     "output_type": "stream",
     "text": [
      "\n",
      "100%|██████████| 299/299 [00:08<00:00, 36.04it/s]\n",
      "100%|██████████| 75/75 [00:00<00:00, 76.76it/s]\n"
     ]
    },
    {
     "name": "stdout",
     "output_type": "stream",
     "text": [
      "Epoch : [46] Train Loss : [0.38655] Val Loss : [0.54842] Val F1 : [0.64023] Val ACC : [0.74635] \n",
      "                                   Val Precision : [0.31962] Val Recall : [0.73128]\n",
      "[[24605  8255]\n",
      " [ 1425  3878]]\n"
     ]
    },
    {
     "name": "stderr",
     "output_type": "stream",
     "text": [
      "100%|██████████| 299/299 [00:08<00:00, 36.25it/s]\n",
      "100%|██████████| 75/75 [00:01<00:00, 67.79it/s]"
     ]
    },
    {
     "name": "stdout",
     "output_type": "stream",
     "text": [
      "Epoch : [47] Train Loss : [0.39066] Val Loss : [0.45688] Val F1 : [0.67524] Val ACC : [0.79868] \n",
      "                                   Val Precision : [0.37248] Val Recall : [0.65548]\n",
      "[[27004  5856]\n",
      " [ 1827  3476]]\n"
     ]
    },
    {
     "name": "stderr",
     "output_type": "stream",
     "text": [
      "\n",
      "100%|██████████| 299/299 [00:08<00:00, 36.20it/s]\n",
      "100%|██████████| 75/75 [00:00<00:00, 79.27it/s]\n"
     ]
    },
    {
     "name": "stdout",
     "output_type": "stream",
     "text": [
      "Epoch : [48] Train Loss : [0.38806] Val Loss : [0.86729] Val F1 : [0.51578] Val ACC : [0.56314] \n",
      "                                   Val Precision : [0.22834] Val Recall : [0.90100]\n",
      "[[16713 16147]\n",
      " [  525  4778]]\n"
     ]
    },
    {
     "name": "stderr",
     "output_type": "stream",
     "text": [
      "100%|██████████| 299/299 [00:08<00:00, 36.45it/s]\n",
      "100%|██████████| 75/75 [00:01<00:00, 74.81it/s]\n"
     ]
    },
    {
     "name": "stdout",
     "output_type": "stream",
     "text": [
      "Epoch : [49] Train Loss : [0.38809] Val Loss : [0.50633] Val F1 : [0.65443] Val ACC : [0.76747] \n",
      "                                   Val Precision : [0.33817] Val Recall : [0.70356]\n",
      "[[25558  7302]\n",
      " [ 1572  3731]]\n"
     ]
    },
    {
     "name": "stderr",
     "output_type": "stream",
     "text": [
      "100%|██████████| 299/299 [00:08<00:00, 35.84it/s]\n",
      "100%|██████████| 75/75 [00:01<00:00, 73.33it/s]\n"
     ]
    },
    {
     "name": "stdout",
     "output_type": "stream",
     "text": [
      "Epoch : [50] Train Loss : [0.38718] Val Loss : [0.76670] Val F1 : [0.55245] Val ACC : [0.61410] \n",
      "                                   Val Precision : [0.24797] Val Recall : [0.87422]\n",
      "[[18800 14060]\n",
      " [  667  4636]]\n"
     ]
    },
    {
     "name": "stderr",
     "output_type": "stream",
     "text": [
      "100%|██████████| 299/299 [00:08<00:00, 35.28it/s]\n",
      "100%|██████████| 75/75 [00:00<00:00, 75.77it/s]\n"
     ]
    },
    {
     "name": "stdout",
     "output_type": "stream",
     "text": [
      "Epoch : [51] Train Loss : [0.38720] Val Loss : [0.63107] Val F1 : [0.60700] Val ACC : [0.69473] \n",
      "                                   Val Precision : [0.28599] Val Recall : [0.79974]\n",
      "[[22272 10588]\n",
      " [ 1062  4241]]\n"
     ]
    },
    {
     "name": "stderr",
     "output_type": "stream",
     "text": [
      "100%|██████████| 299/299 [00:08<00:00, 36.15it/s]\n",
      "100%|██████████| 75/75 [00:01<00:00, 73.59it/s]"
     ]
    },
    {
     "name": "stdout",
     "output_type": "stream",
     "text": [
      "Epoch : [52] Train Loss : [0.38605] Val Loss : [0.52273] Val F1 : [0.64977] Val ACC : [0.75896] \n",
      "                                   Val Precision : [0.33137] Val Recall : [0.72186]\n",
      "[[25136  7724]\n",
      " [ 1475  3828]]\n"
     ]
    },
    {
     "name": "stderr",
     "output_type": "stream",
     "text": [
      "\n",
      "100%|██████████| 299/299 [00:08<00:00, 36.52it/s]\n",
      "100%|██████████| 75/75 [00:01<00:00, 73.33it/s]\n"
     ]
    },
    {
     "name": "stdout",
     "output_type": "stream",
     "text": [
      "Epoch : [53] Train Loss : [0.38388] Val Loss : [0.76480] Val F1 : [0.55430] Val ACC : [0.61701] \n",
      "                                   Val Precision : [0.24891] Val Recall : [0.87045]\n",
      "[[18931 13929]\n",
      " [  687  4616]]\n"
     ]
    },
    {
     "name": "stderr",
     "output_type": "stream",
     "text": [
      "100%|██████████| 299/299 [00:09<00:00, 32.23it/s]\n",
      "100%|██████████| 75/75 [00:00<00:00, 77.00it/s]\n"
     ]
    },
    {
     "name": "stdout",
     "output_type": "stream",
     "text": [
      "Epoch : [54] Train Loss : [0.38289] Val Loss : [0.51025] Val F1 : [0.65396] Val ACC : [0.76606] \n",
      "                                   Val Precision : [0.33728] Val Recall : [0.70847]\n",
      "[[25478  7382]\n",
      " [ 1546  3757]]\n"
     ]
    },
    {
     "name": "stderr",
     "output_type": "stream",
     "text": [
      "100%|██████████| 299/299 [00:08<00:00, 36.10it/s]\n",
      "100%|██████████| 75/75 [00:01<00:00, 67.75it/s]\n"
     ]
    },
    {
     "name": "stdout",
     "output_type": "stream",
     "text": [
      "Epoch : [55] Train Loss : [0.38161] Val Loss : [0.61893] Val F1 : [0.61188] Val ACC : [0.69981] \n",
      "                                   Val Precision : [0.29064] Val Recall : [0.80539]\n",
      "[[22436 10424]\n",
      " [ 1032  4271]]\n"
     ]
    },
    {
     "name": "stderr",
     "output_type": "stream",
     "text": [
      "100%|██████████| 299/299 [00:08<00:00, 36.33it/s]\n",
      "100%|██████████| 75/75 [00:00<00:00, 75.58it/s]\n"
     ]
    },
    {
     "name": "stdout",
     "output_type": "stream",
     "text": [
      "Epoch : [56] Train Loss : [0.38125] Val Loss : [0.47267] Val F1 : [0.66962] Val ACC : [0.79084] \n",
      "                                   Val Precision : [0.36252] Val Recall : [0.66604]\n",
      "[[26649  6211]\n",
      " [ 1771  3532]]\n"
     ]
    },
    {
     "name": "stderr",
     "output_type": "stream",
     "text": [
      "100%|██████████| 299/299 [00:08<00:00, 36.22it/s]\n",
      "100%|██████████| 75/75 [00:01<00:00, 69.24it/s]\n"
     ]
    },
    {
     "name": "stdout",
     "output_type": "stream",
     "text": [
      "Epoch : [57] Train Loss : [0.38016] Val Loss : [0.49804] Val F1 : [0.65792] Val ACC : [0.77305] \n",
      "                                   Val Precision : [0.34338] Val Recall : [0.69414]\n",
      "[[25821  7039]\n",
      " [ 1622  3681]]\n"
     ]
    },
    {
     "name": "stderr",
     "output_type": "stream",
     "text": [
      "100%|██████████| 299/299 [00:08<00:00, 36.98it/s]\n",
      "100%|██████████| 75/75 [00:01<00:00, 73.53it/s]\n"
     ]
    },
    {
     "name": "stdout",
     "output_type": "stream",
     "text": [
      "Epoch : [58] Train Loss : [0.38060] Val Loss : [0.44647] Val F1 : [0.67936] Val ACC : [0.80827] \n",
      "                                   Val Precision : [0.38375] Val Recall : [0.62682]\n",
      "[[27522  5338]\n",
      " [ 1979  3324]]\n"
     ]
    },
    {
     "name": "stderr",
     "output_type": "stream",
     "text": [
      "100%|██████████| 299/299 [00:08<00:00, 36.51it/s]\n",
      "100%|██████████| 75/75 [00:00<00:00, 75.15it/s]\n"
     ]
    },
    {
     "name": "stdout",
     "output_type": "stream",
     "text": [
      "Epoch : [59] Train Loss : [0.38038] Val Loss : [0.59964] Val F1 : [0.62227] Val ACC : [0.71603] \n",
      "                                   Val Precision : [0.30016] Val Recall : [0.78371]\n",
      "[[23170  9690]\n",
      " [ 1147  4156]]\n"
     ]
    },
    {
     "name": "stderr",
     "output_type": "stream",
     "text": [
      "100%|██████████| 299/299 [00:08<00:00, 36.67it/s]\n",
      "100%|██████████| 75/75 [00:01<00:00, 71.39it/s]\n"
     ]
    },
    {
     "name": "stdout",
     "output_type": "stream",
     "text": [
      "Epoch : [60] Train Loss : [0.38030] Val Loss : [0.51695] Val F1 : [0.65433] Val ACC : [0.76522] \n",
      "                                   Val Precision : [0.33739] Val Recall : [0.71544]\n",
      "[[25409  7451]\n",
      " [ 1509  3794]]\n"
     ]
    },
    {
     "name": "stderr",
     "output_type": "stream",
     "text": [
      "100%|██████████| 299/299 [00:08<00:00, 36.61it/s]\n",
      "100%|██████████| 75/75 [00:01<00:00, 73.31it/s]\n"
     ]
    },
    {
     "name": "stdout",
     "output_type": "stream",
     "text": [
      "Epoch : [61] Train Loss : [0.37871] Val Loss : [0.63420] Val F1 : [0.60628] Val ACC : [0.69169] \n",
      "                                   Val Precision : [0.28578] Val Recall : [0.81294]\n",
      "[[22086 10774]\n",
      " [  992  4311]]\n"
     ]
    },
    {
     "name": "stderr",
     "output_type": "stream",
     "text": [
      "100%|██████████| 299/299 [00:08<00:00, 36.56it/s]\n",
      "100%|██████████| 75/75 [00:00<00:00, 77.24it/s]\n"
     ]
    },
    {
     "name": "stdout",
     "output_type": "stream",
     "text": [
      "Epoch : [62] Train Loss : [0.38042] Val Loss : [0.55238] Val F1 : [0.64192] Val ACC : [0.74405] \n",
      "                                   Val Precision : [0.32110] Val Recall : [0.75561]\n",
      "[[24388  8472]\n",
      " [ 1296  4007]]\n"
     ]
    },
    {
     "name": "stderr",
     "output_type": "stream",
     "text": [
      "100%|██████████| 299/299 [00:08<00:00, 36.32it/s]\n",
      "100%|██████████| 75/75 [00:02<00:00, 25.48it/s]\n"
     ]
    },
    {
     "name": "stdout",
     "output_type": "stream",
     "text": [
      "Epoch : [63] Train Loss : [0.37874] Val Loss : [0.59798] Val F1 : [0.62468] Val ACC : [0.71737] \n",
      "                                   Val Precision : [0.30270] Val Recall : [0.79314]\n",
      "[[23171  9689]\n",
      " [ 1097  4206]]\n"
     ]
    },
    {
     "name": "stderr",
     "output_type": "stream",
     "text": [
      "100%|██████████| 299/299 [00:09<00:00, 32.01it/s]\n",
      "100%|██████████| 75/75 [00:00<00:00, 79.10it/s]\n"
     ]
    },
    {
     "name": "stdout",
     "output_type": "stream",
     "text": [
      "Epoch : [64] Train Loss : [0.37670] Val Loss : [0.71555] Val F1 : [0.57623] Val ACC : [0.64772] \n",
      "                                   Val Precision : [0.26314] Val Recall : [0.85272]\n",
      "[[20197 12663]\n",
      " [  781  4522]]\n"
     ]
    },
    {
     "name": "stderr",
     "output_type": "stream",
     "text": [
      "100%|██████████| 299/299 [00:08<00:00, 36.17it/s]\n",
      "100%|██████████| 75/75 [00:01<00:00, 71.86it/s]\n"
     ]
    },
    {
     "name": "stdout",
     "output_type": "stream",
     "text": [
      "Epoch : [65] Train Loss : [0.37742] Val Loss : [0.60544] Val F1 : [0.61755] Val ACC : [0.70985] \n",
      "                                   Val Precision : [0.29556] Val Recall : [0.78654]\n",
      "[[22919  9941]\n",
      " [ 1132  4171]]\n"
     ]
    },
    {
     "name": "stderr",
     "output_type": "stream",
     "text": [
      "100%|██████████| 299/299 [00:08<00:00, 36.31it/s]\n",
      "100%|██████████| 75/75 [00:01<00:00, 71.85it/s]\n"
     ]
    },
    {
     "name": "stdout",
     "output_type": "stream",
     "text": [
      "Epoch : [66] Train Loss : [0.37652] Val Loss : [0.59355] Val F1 : [0.62496] Val ACC : [0.72141] \n",
      "                                   Val Precision : [0.30273] Val Recall : [0.77107]\n",
      "[[23442  9418]\n",
      " [ 1214  4089]]\n"
     ]
    },
    {
     "name": "stderr",
     "output_type": "stream",
     "text": [
      "100%|██████████| 299/299 [00:08<00:00, 36.04it/s]\n",
      "100%|██████████| 75/75 [00:01<00:00, 70.82it/s]"
     ]
    },
    {
     "name": "stdout",
     "output_type": "stream",
     "text": [
      "Epoch : [67] Train Loss : [0.37466] Val Loss : [0.58225] Val F1 : [0.62966] Val ACC : [0.72906] \n",
      "                                   Val Precision : [0.30759] Val Recall : [0.75919]\n",
      "[[23797  9063]\n",
      " [ 1277  4026]]\n"
     ]
    },
    {
     "name": "stderr",
     "output_type": "stream",
     "text": [
      "\n",
      "100%|██████████| 299/299 [00:08<00:00, 36.59it/s]\n",
      "100%|██████████| 75/75 [00:01<00:00, 74.00it/s]\n"
     ]
    },
    {
     "name": "stdout",
     "output_type": "stream",
     "text": [
      "Epoch : [68] Train Loss : [0.37425] Val Loss : [0.71982] Val F1 : [0.57777] Val ACC : [0.64893] \n",
      "                                   Val Precision : [0.26458] Val Recall : [0.85782]\n",
      "[[20216 12644]\n",
      " [  754  4549]]\n"
     ]
    },
    {
     "name": "stderr",
     "output_type": "stream",
     "text": [
      "100%|██████████| 299/299 [00:08<00:00, 36.11it/s]\n",
      "100%|██████████| 75/75 [00:00<00:00, 77.62it/s]\n"
     ]
    },
    {
     "name": "stdout",
     "output_type": "stream",
     "text": [
      "Epoch : [69] Train Loss : [0.37574] Val Loss : [0.66423] Val F1 : [0.59634] Val ACC : [0.67728] \n",
      "                                   Val Precision : [0.27766] Val Recall : [0.82576]\n",
      "[[21468 11392]\n",
      " [  924  4379]]\n"
     ]
    },
    {
     "name": "stderr",
     "output_type": "stream",
     "text": [
      "100%|██████████| 299/299 [00:08<00:00, 36.07it/s]\n",
      "100%|██████████| 75/75 [00:00<00:00, 76.41it/s]\n"
     ]
    },
    {
     "name": "stdout",
     "output_type": "stream",
     "text": [
      "Epoch : [70] Train Loss : [0.37411] Val Loss : [0.63312] Val F1 : [0.60641] Val ACC : [0.69431] \n",
      "                                   Val Precision : [0.28540] Val Recall : [0.79785]\n",
      "[[22266 10594]\n",
      " [ 1072  4231]]\n"
     ]
    },
    {
     "name": "stderr",
     "output_type": "stream",
     "text": [
      "100%|██████████| 299/299 [00:08<00:00, 36.58it/s]\n",
      "100%|██████████| 75/75 [00:00<00:00, 82.14it/s] \n"
     ]
    },
    {
     "name": "stdout",
     "output_type": "stream",
     "text": [
      "Epoch : [71] Train Loss : [0.37490] Val Loss : [0.59507] Val F1 : [0.62500] Val ACC : [0.71863] \n",
      "                                   Val Precision : [0.30295] Val Recall : [0.78786]\n",
      "[[23247  9613]\n",
      " [ 1125  4178]]\n"
     ]
    },
    {
     "name": "stderr",
     "output_type": "stream",
     "text": [
      "100%|██████████| 299/299 [00:08<00:00, 36.06it/s]\n",
      "100%|██████████| 75/75 [00:01<00:00, 74.20it/s]\n"
     ]
    },
    {
     "name": "stdout",
     "output_type": "stream",
     "text": [
      "Epoch : [72] Train Loss : [0.37481] Val Loss : [0.63839] Val F1 : [0.60558] Val ACC : [0.69140] \n",
      "                                   Val Precision : [0.28503] Val Recall : [0.80935]\n",
      "[[22094 10766]\n",
      " [ 1011  4292]]\n"
     ]
    },
    {
     "name": "stderr",
     "output_type": "stream",
     "text": [
      "100%|██████████| 299/299 [00:08<00:00, 36.46it/s]\n",
      "100%|██████████| 75/75 [00:01<00:00, 69.66it/s]"
     ]
    },
    {
     "name": "stdout",
     "output_type": "stream",
     "text": [
      "Epoch : [73] Train Loss : [0.37317] Val Loss : [0.60031] Val F1 : [0.62457] Val ACC : [0.71661] \n",
      "                                   Val Precision : [0.30264] Val Recall : [0.79691]\n",
      "[[23122  9738]\n",
      " [ 1077  4226]]\n"
     ]
    },
    {
     "name": "stderr",
     "output_type": "stream",
     "text": [
      "\n",
      "100%|██████████| 299/299 [00:08<00:00, 36.31it/s]\n",
      "100%|██████████| 75/75 [00:01<00:00, 73.51it/s]\n"
     ]
    },
    {
     "name": "stdout",
     "output_type": "stream",
     "text": [
      "Epoch : [74] Train Loss : [0.37382] Val Loss : [0.66034] Val F1 : [0.60024] Val ACC : [0.68257] \n",
      "                                   Val Precision : [0.28087] Val Recall : [0.82312]\n",
      "[[21684 11176]\n",
      " [  938  4365]]\n"
     ]
    },
    {
     "name": "stderr",
     "output_type": "stream",
     "text": [
      "100%|██████████| 299/299 [00:08<00:00, 36.38it/s]\n",
      "100%|██████████| 75/75 [00:00<00:00, 75.47it/s]\n"
     ]
    },
    {
     "name": "stdout",
     "output_type": "stream",
     "text": [
      "Epoch : [75] Train Loss : [0.37089] Val Loss : [0.64137] Val F1 : [0.60859] Val ACC : [0.69476] \n",
      "                                   Val Precision : [0.28782] Val Recall : [0.81162]\n",
      "[[22210 10650]\n",
      " [  999  4304]]\n"
     ]
    },
    {
     "name": "stderr",
     "output_type": "stream",
     "text": [
      "100%|██████████| 299/299 [00:08<00:00, 36.62it/s]\n",
      "100%|██████████| 75/75 [00:01<00:00, 74.59it/s]\n"
     ]
    },
    {
     "name": "stdout",
     "output_type": "stream",
     "text": [
      "Epoch : [76] Train Loss : [0.37466] Val Loss : [0.59102] Val F1 : [0.62663] Val ACC : [0.72156] \n",
      "                                   Val Precision : [0.30455] Val Recall : [0.78201]\n",
      "[[23390  9470]\n",
      " [ 1156  4147]]\n"
     ]
    },
    {
     "name": "stderr",
     "output_type": "stream",
     "text": [
      "100%|██████████| 299/299 [00:08<00:00, 36.47it/s]\n",
      "100%|██████████| 75/75 [00:01<00:00, 69.99it/s]"
     ]
    },
    {
     "name": "stdout",
     "output_type": "stream",
     "text": [
      "Epoch : [77] Train Loss : [0.37297] Val Loss : [0.65775] Val F1 : [0.60096] Val ACC : [0.68430] \n",
      "                                   Val Precision : [0.28128] Val Recall : [0.81784]\n",
      "[[21778 11082]\n",
      " [  966  4337]]\n"
     ]
    },
    {
     "name": "stderr",
     "output_type": "stream",
     "text": [
      "\n",
      "100%|██████████| 299/299 [00:09<00:00, 32.05it/s]\n",
      "100%|██████████| 75/75 [00:01<00:00, 70.30it/s]"
     ]
    },
    {
     "name": "stdout",
     "output_type": "stream",
     "text": [
      "Epoch : [78] Train Loss : [0.36989] Val Loss : [0.56199] Val F1 : [0.64082] Val ACC : [0.74158] \n",
      "                                   Val Precision : [0.31976] Val Recall : [0.76259]\n",
      "[[24257  8603]\n",
      " [ 1259  4044]]\n"
     ]
    },
    {
     "name": "stderr",
     "output_type": "stream",
     "text": [
      "\n",
      "100%|██████████| 299/299 [00:08<00:00, 36.26it/s]\n",
      "100%|██████████| 75/75 [00:00<00:00, 78.43it/s]\n"
     ]
    },
    {
     "name": "stdout",
     "output_type": "stream",
     "text": [
      "Epoch : [79] Train Loss : [0.37265] Val Loss : [0.63757] Val F1 : [0.61100] Val ACC : [0.69767] \n",
      "                                   Val Precision : [0.29002] Val Recall : [0.81199]\n",
      "[[22319 10541]\n",
      " [  997  4306]]\n"
     ]
    },
    {
     "name": "stderr",
     "output_type": "stream",
     "text": [
      "100%|██████████| 299/299 [00:08<00:00, 36.19it/s]\n",
      "100%|██████████| 75/75 [00:01<00:00, 68.68it/s]"
     ]
    },
    {
     "name": "stdout",
     "output_type": "stream",
     "text": [
      "Epoch : [80] Train Loss : [0.37073] Val Loss : [0.62006] Val F1 : [0.61794] Val ACC : [0.70802] \n",
      "                                   Val Precision : [0.29623] Val Recall : [0.80049]\n",
      "[[22775 10085]\n",
      " [ 1058  4245]]\n"
     ]
    },
    {
     "name": "stderr",
     "output_type": "stream",
     "text": [
      "\n",
      "100%|██████████| 299/299 [00:08<00:00, 36.59it/s]\n",
      "100%|██████████| 75/75 [00:01<00:00, 72.99it/s]"
     ]
    },
    {
     "name": "stdout",
     "output_type": "stream",
     "text": [
      "Epoch : [81] Train Loss : [0.37193] Val Loss : [0.63505] Val F1 : [0.60885] Val ACC : [0.69523] \n",
      "                                   Val Precision : [0.28802] Val Recall : [0.81067]\n",
      "[[22233 10627]\n",
      " [ 1004  4299]]\n"
     ]
    },
    {
     "name": "stderr",
     "output_type": "stream",
     "text": [
      "\n",
      "100%|██████████| 299/299 [00:08<00:00, 36.10it/s]\n",
      "100%|██████████| 75/75 [00:01<00:00, 72.96it/s]\n"
     ]
    },
    {
     "name": "stdout",
     "output_type": "stream",
     "text": [
      "Epoch : [82] Train Loss : [0.37054] Val Loss : [0.63353] Val F1 : [0.60953] Val ACC : [0.69641] \n",
      "                                   Val Precision : [0.28858] Val Recall : [0.80860]\n",
      "[[22289 10571]\n",
      " [ 1015  4288]]\n"
     ]
    },
    {
     "name": "stderr",
     "output_type": "stream",
     "text": [
      "100%|██████████| 299/299 [00:08<00:00, 36.67it/s]\n",
      "100%|██████████| 75/75 [00:00<00:00, 76.21it/s]\n"
     ]
    },
    {
     "name": "stdout",
     "output_type": "stream",
     "text": [
      "Epoch : [83] Train Loss : [0.36844] Val Loss : [0.63547] Val F1 : [0.60827] Val ACC : [0.69512] \n",
      "                                   Val Precision : [0.28737] Val Recall : [0.80690]\n",
      "[[22249 10611]\n",
      " [ 1024  4279]]\n"
     ]
    },
    {
     "name": "stderr",
     "output_type": "stream",
     "text": [
      "100%|██████████| 299/299 [00:08<00:00, 36.36it/s]\n",
      "100%|██████████| 75/75 [00:00<00:00, 77.92it/s]\n"
     ]
    },
    {
     "name": "stdout",
     "output_type": "stream",
     "text": [
      "Epoch : [84] Train Loss : [0.36956] Val Loss : [0.61830] Val F1 : [0.61717] Val ACC : [0.70720] \n",
      "                                   Val Precision : [0.29548] Val Recall : [0.79974]\n",
      "[[22748 10112]\n",
      " [ 1062  4241]]\n"
     ]
    },
    {
     "name": "stderr",
     "output_type": "stream",
     "text": [
      "100%|██████████| 299/299 [00:08<00:00, 36.50it/s]\n",
      "100%|██████████| 75/75 [00:00<00:00, 75.32it/s]\n"
     ]
    },
    {
     "name": "stdout",
     "output_type": "stream",
     "text": [
      "Epoch : [85] Train Loss : [0.36902] Val Loss : [0.60776] Val F1 : [0.62064] Val ACC : [0.71216] \n",
      "                                   Val Precision : [0.29874] Val Recall : [0.79521]\n",
      "[[22961  9899]\n",
      " [ 1086  4217]]\n"
     ]
    },
    {
     "name": "stderr",
     "output_type": "stream",
     "text": [
      "100%|██████████| 299/299 [00:08<00:00, 36.51it/s]\n",
      "100%|██████████| 75/75 [00:01<00:00, 72.26it/s]\n"
     ]
    },
    {
     "name": "stdout",
     "output_type": "stream",
     "text": [
      "Epoch : [86] Train Loss : [0.36903] Val Loss : [0.61376] Val F1 : [0.62179] Val ACC : [0.71302] \n",
      "                                   Val Precision : [0.29992] Val Recall : [0.79842]\n",
      "[[22977  9883]\n",
      " [ 1069  4234]]\n"
     ]
    },
    {
     "name": "stderr",
     "output_type": "stream",
     "text": [
      "100%|██████████| 299/299 [00:08<00:00, 36.89it/s]\n",
      "100%|██████████| 75/75 [00:02<00:00, 35.13it/s]\n"
     ]
    },
    {
     "name": "stdout",
     "output_type": "stream",
     "text": [
      "Epoch : [87] Train Loss : [0.36914] Val Loss : [0.61437] Val F1 : [0.61738] Val ACC : [0.70749] \n",
      "                                   Val Precision : [0.29568] Val Recall : [0.79955]\n",
      "[[22760 10100]\n",
      " [ 1063  4240]]\n"
     ]
    },
    {
     "name": "stderr",
     "output_type": "stream",
     "text": [
      "100%|██████████| 299/299 [00:09<00:00, 32.91it/s]\n",
      "100%|██████████| 75/75 [00:00<00:00, 78.74it/s]\n"
     ]
    },
    {
     "name": "stdout",
     "output_type": "stream",
     "text": [
      "Epoch : [88] Train Loss : [0.37048] Val Loss : [0.63100] Val F1 : [0.61181] Val ACC : [0.69979] \n",
      "                                   Val Precision : [0.29057] Val Recall : [0.80502]\n",
      "[[22437 10423]\n",
      " [ 1034  4269]]\n"
     ]
    },
    {
     "name": "stderr",
     "output_type": "stream",
     "text": [
      "100%|██████████| 299/299 [00:08<00:00, 36.41it/s]\n",
      "100%|██████████| 75/75 [00:01<00:00, 74.79it/s]\n"
     ]
    },
    {
     "name": "stdout",
     "output_type": "stream",
     "text": [
      "Epoch : [89] Train Loss : [0.36865] Val Loss : [0.61913] Val F1 : [0.61682] Val ACC : [0.70616] \n",
      "                                   Val Precision : [0.29523] Val Recall : [0.80351]\n",
      "[[22688 10172]\n",
      " [ 1042  4261]]\n"
     ]
    },
    {
     "name": "stderr",
     "output_type": "stream",
     "text": [
      "100%|██████████| 299/299 [00:08<00:00, 36.44it/s]\n",
      "100%|██████████| 75/75 [00:01<00:00, 73.08it/s]\n"
     ]
    },
    {
     "name": "stdout",
     "output_type": "stream",
     "text": [
      "Epoch : [90] Train Loss : [0.37120] Val Loss : [0.61021] Val F1 : [0.61967] Val ACC : [0.71048] \n",
      "                                   Val Precision : [0.29785] Val Recall : [0.79823]\n",
      "[[22881  9979]\n",
      " [ 1070  4233]]\n"
     ]
    },
    {
     "name": "stderr",
     "output_type": "stream",
     "text": [
      "100%|██████████| 299/299 [00:08<00:00, 36.48it/s]\n",
      "100%|██████████| 75/75 [00:01<00:00, 64.42it/s]"
     ]
    },
    {
     "name": "stdout",
     "output_type": "stream",
     "text": [
      "Epoch : [91] Train Loss : [0.36683] Val Loss : [0.63450] Val F1 : [0.61073] Val ACC : [0.69769] \n",
      "                                   Val Precision : [0.28970] Val Recall : [0.80973]\n",
      "[[22332 10528]\n",
      " [ 1009  4294]]\n"
     ]
    },
    {
     "name": "stderr",
     "output_type": "stream",
     "text": [
      "\n",
      "100%|██████████| 299/299 [00:08<00:00, 35.41it/s]\n",
      "100%|██████████| 75/75 [00:01<00:00, 72.73it/s]\n"
     ]
    },
    {
     "name": "stdout",
     "output_type": "stream",
     "text": [
      "Epoch : [92] Train Loss : [0.36619] Val Loss : [0.61729] Val F1 : [0.61737] Val ACC : [0.70723] \n",
      "                                   Val Precision : [0.29570] Val Recall : [0.80106]\n",
      "[[22742 10118]\n",
      " [ 1055  4248]]\n"
     ]
    },
    {
     "name": "stderr",
     "output_type": "stream",
     "text": [
      "100%|██████████| 299/299 [00:08<00:00, 36.33it/s]\n",
      "100%|██████████| 75/75 [00:01<00:00, 71.70it/s]\n"
     ]
    },
    {
     "name": "stdout",
     "output_type": "stream",
     "text": [
      "Epoch : [93] Train Loss : [0.37071] Val Loss : [0.63035] Val F1 : [0.61360] Val ACC : [0.70152] \n",
      "                                   Val Precision : [0.29230] Val Recall : [0.80784]\n",
      "[[22488 10372]\n",
      " [ 1019  4284]]\n"
     ]
    },
    {
     "name": "stderr",
     "output_type": "stream",
     "text": [
      "100%|██████████| 299/299 [00:08<00:00, 36.66it/s]\n",
      "100%|██████████| 75/75 [00:01<00:00, 68.54it/s]"
     ]
    },
    {
     "name": "stdout",
     "output_type": "stream",
     "text": [
      "Epoch : [94] Train Loss : [0.37193] Val Loss : [0.60647] Val F1 : [0.62117] Val ACC : [0.71373] \n",
      "                                   Val Precision : [0.29916] Val Recall : [0.78955]\n",
      "[[23051  9809]\n",
      " [ 1116  4187]]\n"
     ]
    },
    {
     "name": "stderr",
     "output_type": "stream",
     "text": [
      "\n",
      "100%|██████████| 299/299 [00:08<00:00, 36.20it/s]\n",
      "100%|██████████| 75/75 [00:01<00:00, 74.60it/s]\n"
     ]
    },
    {
     "name": "stdout",
     "output_type": "stream",
     "text": [
      "Epoch : [95] Train Loss : [0.36917] Val Loss : [0.61390] Val F1 : [0.61770] Val ACC : [0.70775] \n",
      "                                   Val Precision : [0.29600] Val Recall : [0.80030]\n",
      "[[22766 10094]\n",
      " [ 1059  4244]]\n"
     ]
    },
    {
     "name": "stderr",
     "output_type": "stream",
     "text": [
      "100%|██████████| 299/299 [00:08<00:00, 36.55it/s]\n",
      "100%|██████████| 75/75 [00:01<00:00, 74.98it/s]\n"
     ]
    },
    {
     "name": "stdout",
     "output_type": "stream",
     "text": [
      "Epoch : [96] Train Loss : [0.36838] Val Loss : [0.60869] Val F1 : [0.61941] Val ACC : [0.70982] \n",
      "                                   Val Precision : [0.29764] Val Recall : [0.80030]\n",
      "[[22845 10015]\n",
      " [ 1059  4244]]\n"
     ]
    },
    {
     "name": "stderr",
     "output_type": "stream",
     "text": [
      "100%|██████████| 299/299 [00:08<00:00, 36.14it/s]\n",
      "100%|██████████| 75/75 [00:01<00:00, 65.00it/s]\n"
     ]
    },
    {
     "name": "stdout",
     "output_type": "stream",
     "text": [
      "Epoch : [97] Train Loss : [0.36883] Val Loss : [0.63356] Val F1 : [0.61213] Val ACC : [0.69926] \n",
      "                                   Val Precision : [0.29102] Val Recall : [0.81067]\n",
      "[[22387 10473]\n",
      " [ 1004  4299]]\n"
     ]
    },
    {
     "name": "stderr",
     "output_type": "stream",
     "text": [
      "100%|██████████| 299/299 [00:08<00:00, 36.37it/s]\n",
      "100%|██████████| 75/75 [00:01<00:00, 73.56it/s]\n"
     ]
    },
    {
     "name": "stdout",
     "output_type": "stream",
     "text": [
      "Epoch : [98] Train Loss : [0.36854] Val Loss : [0.61522] Val F1 : [0.61891] Val ACC : [0.70919] \n",
      "                                   Val Precision : [0.29716] Val Recall : [0.80049]\n",
      "[[22820 10040]\n",
      " [ 1058  4245]]\n"
     ]
    },
    {
     "name": "stderr",
     "output_type": "stream",
     "text": [
      "100%|██████████| 299/299 [00:08<00:00, 36.55it/s]\n",
      "100%|██████████| 75/75 [00:01<00:00, 70.29it/s]"
     ]
    },
    {
     "name": "stdout",
     "output_type": "stream",
     "text": [
      "Epoch : [99] Train Loss : [0.36826] Val Loss : [0.61602] Val F1 : [0.61867] Val ACC : [0.70912] \n",
      "                                   Val Precision : [0.29690] Val Recall : [0.79917]\n",
      "[[22824 10036]\n",
      " [ 1065  4238]]\n"
     ]
    },
    {
     "name": "stderr",
     "output_type": "stream",
     "text": [
      "\n",
      "100%|██████████| 299/299 [00:08<00:00, 36.33it/s]\n",
      "100%|██████████| 75/75 [00:01<00:00, 65.98it/s]\n"
     ]
    },
    {
     "name": "stdout",
     "output_type": "stream",
     "text": [
      "Epoch : [100] Train Loss : [0.36946] Val Loss : [0.60934] Val F1 : [0.62106] Val ACC : [0.71297] \n",
      "                                   Val Precision : [0.29911] Val Recall : [0.79332]\n",
      "[[23002  9858]\n",
      " [ 1096  4207]]\n",
      "Best Validation F1 Score : [0.68750] at 42 EPOCH\n"
     ]
    }
   ],
   "source": [
    "#model = BaseModel()\n",
    "model = CNNModel()\n",
    "model.eval()\n",
    "optimizer = torch.optim.Adam(params = model.parameters(), lr = CFG[\"LEARNING_RATE\"])\n",
    "scheduler = torch.optim.lr_scheduler.CosineAnnealingLR(optimizer, T_max=len(train_loader)*CFG['EPOCHS'], eta_min=0)\n",
    "\n",
    "best_score, best_epoch = train(model, optimizer, train_loader, val_loader, scheduler, device)\n",
    "print(f'Best Validation F1 Score : [{best_score:.5f}] at {best_epoch} EPOCH')"
   ]
  },
  {
   "cell_type": "markdown",
   "id": "835dbc63",
   "metadata": {},
   "source": [
    "## Threshold Validation"
   ]
  },
  {
   "cell_type": "code",
   "execution_count": 25,
   "id": "64e748af",
   "metadata": {},
   "outputs": [],
   "source": [
    "# Validation with multiple threshold\n",
    "#model = BaseModel()\n",
    "model=CNNModel()\n",
    "best_checkpoint = torch.load('./best_model.pth')\n",
    "model.load_state_dict(best_checkpoint)\n",
    "model.eval()\n",
    "model = model.to(device)"
   ]
  },
  {
   "cell_type": "code",
   "execution_count": 26,
   "id": "4eb3a9ff",
   "metadata": {
    "scrolled": true
   },
   "outputs": [
    {
     "name": "stderr",
     "output_type": "stream",
     "text": [
      "100%|██████████| 75/75 [00:00<00:00, 89.18it/s] \n"
     ]
    },
    {
     "name": "stdout",
     "output_type": "stream",
     "text": [
      "[0.20] Loss: 0.383072, F1: 0.603553, ACC: 0.693184, PRECISION: 0.282316, RECALL: 0.783330\n",
      "[[22300 10560]\n",
      " [ 1149  4154]]\n"
     ]
    },
    {
     "name": "stderr",
     "output_type": "stream",
     "text": [
      "100%|██████████| 75/75 [00:01<00:00, 69.96it/s]"
     ]
    },
    {
     "name": "stdout",
     "output_type": "stream",
     "text": [
      "[0.30] Loss: 0.383072, F1: 0.656963, ACC: 0.774860, PRECISION: 0.343187, RECALL: 0.678672\n",
      "[[25972  6888]\n",
      " [ 1704  3599]]\n"
     ]
    },
    {
     "name": "stderr",
     "output_type": "stream",
     "text": [
      "\n",
      "100%|██████████| 75/75 [00:01<00:00, 71.27it/s]"
     ]
    },
    {
     "name": "stdout",
     "output_type": "stream",
     "text": [
      "[0.35] Loss: 0.383072, F1: 0.669312, ACC: 0.798391, PRECISION: 0.367417, RECALL: 0.624741\n",
      "[[27156  5704]\n",
      " [ 1990  3313]]\n"
     ]
    },
    {
     "name": "stderr",
     "output_type": "stream",
     "text": [
      "\n",
      "100%|██████████| 75/75 [00:00<00:00, 76.94it/s]\n"
     ]
    },
    {
     "name": "stdout",
     "output_type": "stream",
     "text": [
      "[0.40] Loss: 0.383072, F1: 0.681540, ACC: 0.819013, PRECISION: 0.396995, RECALL: 0.582878\n",
      "[[28165  4695]\n",
      " [ 2212  3091]]\n"
     ]
    },
    {
     "name": "stderr",
     "output_type": "stream",
     "text": [
      "100%|██████████| 75/75 [00:01<00:00, 69.12it/s]\n"
     ]
    },
    {
     "name": "stdout",
     "output_type": "stream",
     "text": [
      "[0.45] Loss: 0.383072, F1: 0.686865, ACC: 0.833530, PRECISION: 0.422130, RECALL: 0.536677\n",
      "[[28964  3896]\n",
      " [ 2457  2846]]\n"
     ]
    },
    {
     "name": "stderr",
     "output_type": "stream",
     "text": [
      "100%|██████████| 75/75 [00:01<00:00, 74.74it/s]\n"
     ]
    },
    {
     "name": "stdout",
     "output_type": "stream",
     "text": [
      "[0.50] Loss: 0.383072, F1: 0.687500, ACC: 0.843723, PRECISION: 0.443764, RECALL: 0.491797\n",
      "[[29591  3269]\n",
      " [ 2695  2608]]\n"
     ]
    },
    {
     "name": "stderr",
     "output_type": "stream",
     "text": [
      "100%|██████████| 75/75 [00:00<00:00, 76.23it/s]\n"
     ]
    },
    {
     "name": "stdout",
     "output_type": "stream",
     "text": [
      "[0.55] Loss: 0.383072, F1: 0.687225, ACC: 0.852685, PRECISION: 0.468744, RECALL: 0.451065\n",
      "[[30149  2711]\n",
      " [ 2911  2392]]\n"
     ]
    },
    {
     "name": "stderr",
     "output_type": "stream",
     "text": [
      "100%|██████████| 75/75 [00:01<00:00, 72.54it/s]"
     ]
    },
    {
     "name": "stdout",
     "output_type": "stream",
     "text": [
      "[0.60] Loss: 0.383072, F1: 0.684986, ACC: 0.859969, PRECISION: 0.495359, RECALL: 0.412597\n",
      "[[30631  2229]\n",
      " [ 3115  2188]]\n"
     ]
    },
    {
     "name": "stderr",
     "output_type": "stream",
     "text": [
      "\n",
      "100%|██████████| 75/75 [00:00<00:00, 78.51it/s]\n"
     ]
    },
    {
     "name": "stdout",
     "output_type": "stream",
     "text": [
      "[0.65] Loss: 0.383072, F1: 0.678161, ACC: 0.865341, PRECISION: 0.521832, RECALL: 0.369602\n",
      "[[31064  1796]\n",
      " [ 3343  1960]]\n"
     ]
    },
    {
     "name": "stderr",
     "output_type": "stream",
     "text": [
      "100%|██████████| 75/75 [00:00<00:00, 75.84it/s]\n"
     ]
    },
    {
     "name": "stdout",
     "output_type": "stream",
     "text": [
      "[0.70] Loss: 0.383072, F1: 0.669217, ACC: 0.869586, PRECISION: 0.551615, RECALL: 0.328493\n",
      "[[31444  1416]\n",
      " [ 3561  1742]]\n"
     ]
    },
    {
     "name": "stderr",
     "output_type": "stream",
     "text": [
      "100%|██████████| 75/75 [00:01<00:00, 72.31it/s]\n"
     ]
    },
    {
     "name": "stdout",
     "output_type": "stream",
     "text": [
      "[0.80] Loss: 0.383072, F1: 0.636511, ACC: 0.873071, PRECISION: 0.610709, RECALL: 0.238733\n",
      "[[32053   807]\n",
      " [ 4037  1266]]\n"
     ]
    }
   ],
   "source": [
    "for f in [0.2, 0.3, 0.35, 0.4, 0.45, 0.5, 0.55, 0.6, 0.65, 0.7, 0.8]:\n",
    "    val_loss, val_f1, val_acc, val_precision, val_recall, val_conf = validation(model, val_loader, nn.CrossEntropyLoss().to(device), device, f)\n",
    "    print(f'[{f:.2f}] Loss: {val_loss:.6f}, F1: {val_f1:.6f}, ACC: {val_acc:.6f}, PRECISION: {val_precision:.6f}, RECALL: {val_recall:.6f}')\n",
    "    print(val_conf)"
   ]
  },
  {
   "cell_type": "code",
   "execution_count": null,
   "id": "12c235de",
   "metadata": {},
   "outputs": [],
   "source": []
  },
  {
   "cell_type": "markdown",
   "id": "8c7a0b22",
   "metadata": {},
   "source": [
    "## 3_option 3. Pretrained ESM"
   ]
  },
  {
   "cell_type": "code",
   "execution_count": 37,
   "id": "5c7ce619",
   "metadata": {},
   "outputs": [],
   "source": [
    "import pathlib\n",
    "\n",
    "CFG_ESM = {\n",
    "    'toks_per_batch': 4096,\n",
    "    'model_location': 'uniref50_v2/weights.hdf5',\n",
    "    'output_dir': pathlib.Path('esm_features/'),\n",
    "    'test_output_dir': pathlib.Path('test_esm_features/'),\n",
    "    'repr_layers': [-1],\n",
    "    'include': 'per_tok mean bos',\n",
    "    'truncate': False,\n",
    "    'nogpu': False,\n",
    "    'EMB_LAYER': 33,\n",
    "    'num_pca_components': 60\n",
    "}"
   ]
  },
  {
   "cell_type": "code",
   "execution_count": 38,
   "id": "03e9ecb3",
   "metadata": {},
   "outputs": [],
   "source": [
    "class ESMDataset(object):\n",
    "    def __init__(self, sequence_labels, sequence_strs):\n",
    "        self.sequence_labels = list(sequence_labels)\n",
    "        self.sequence_strs = list(sequence_strs)\n",
    "        \n",
    "    def __len__(self):\n",
    "        return len(self.sequence_labels)\n",
    "\n",
    "    def __getitem__(self, idx):\n",
    "        return self.sequence_labels[idx], self.sequence_strs[idx]\n",
    "    \n",
    "    def get_batch_indices(self, toks_per_batch, extra_toks_per_seq=0):\n",
    "        sizes = [(len(s), i) for i, s in enumerate(self.sequence_strs)]\n",
    "        sizes.sort()\n",
    "        batches = []\n",
    "        buf = []\n",
    "        max_len = 0\n",
    "\n",
    "        def _flush_current_buf():\n",
    "            nonlocal max_len, buf\n",
    "            if len(buf) == 0:\n",
    "                return\n",
    "            batches.append(buf)\n",
    "            buf = []\n",
    "            max_len = 0\n",
    "\n",
    "        for sz, i in sizes:\n",
    "            sz += extra_toks_per_seq\n",
    "            if max(sz, max_len) * (len(buf) + 1) > toks_per_batch:\n",
    "                _flush_current_buf()\n",
    "            max_len = max(max_len, sz)\n",
    "            buf.append(i)\n",
    "\n",
    "        _flush_current_buf()\n",
    "        return batches"
   ]
  },
  {
   "cell_type": "code",
   "execution_count": 39,
   "id": "1a7a644b",
   "metadata": {
    "scrolled": true
   },
   "outputs": [
    {
     "name": "stderr",
     "output_type": "stream",
     "text": [
      "Using cache found in /home/suhyun/.cache/torch/hub/facebookresearch_esm_main\n"
     ]
    }
   ],
   "source": [
    "### Download Pretrained Model ###\n",
    "model, alphabet = torch.hub.load(\"facebookresearch/esm:main\", \"esm1b_t33_650M_UR50S\")\n",
    "model.eval()\n",
    "model = model.cuda()\n",
    "#model = torch.nn.DataParallel(model).cuda()"
   ]
  },
  {
   "cell_type": "code",
   "execution_count": 40,
   "id": "b86d7e1c",
   "metadata": {},
   "outputs": [
    {
     "ename": "KeyError",
     "evalue": "'epitope_seq'",
     "output_type": "error",
     "traceback": [
      "\u001b[0;31m---------------------------------------------------------------------------\u001b[0m",
      "\u001b[0;31mKeyError\u001b[0m                                  Traceback (most recent call last)",
      "\u001b[0;32m~/.conda/envs/py37/lib/python3.7/site-packages/pandas/core/indexes/base.py\u001b[0m in \u001b[0;36mget_loc\u001b[0;34m(self, key, method, tolerance)\u001b[0m\n\u001b[1;32m   3360\u001b[0m             \u001b[0;32mtry\u001b[0m\u001b[0;34m:\u001b[0m\u001b[0;34m\u001b[0m\u001b[0;34m\u001b[0m\u001b[0m\n\u001b[0;32m-> 3361\u001b[0;31m                 \u001b[0;32mreturn\u001b[0m \u001b[0mself\u001b[0m\u001b[0;34m.\u001b[0m\u001b[0m_engine\u001b[0m\u001b[0;34m.\u001b[0m\u001b[0mget_loc\u001b[0m\u001b[0;34m(\u001b[0m\u001b[0mcasted_key\u001b[0m\u001b[0;34m)\u001b[0m\u001b[0;34m\u001b[0m\u001b[0;34m\u001b[0m\u001b[0m\n\u001b[0m\u001b[1;32m   3362\u001b[0m             \u001b[0;32mexcept\u001b[0m \u001b[0mKeyError\u001b[0m \u001b[0;32mas\u001b[0m \u001b[0merr\u001b[0m\u001b[0;34m:\u001b[0m\u001b[0;34m\u001b[0m\u001b[0;34m\u001b[0m\u001b[0m\n",
      "\u001b[0;32m~/.conda/envs/py37/lib/python3.7/site-packages/pandas/_libs/index.pyx\u001b[0m in \u001b[0;36mpandas._libs.index.IndexEngine.get_loc\u001b[0;34m()\u001b[0m\n",
      "\u001b[0;32m~/.conda/envs/py37/lib/python3.7/site-packages/pandas/_libs/index.pyx\u001b[0m in \u001b[0;36mpandas._libs.index.IndexEngine.get_loc\u001b[0;34m()\u001b[0m\n",
      "\u001b[0;32mpandas/_libs/hashtable_class_helper.pxi\u001b[0m in \u001b[0;36mpandas._libs.hashtable.PyObjectHashTable.get_item\u001b[0;34m()\u001b[0m\n",
      "\u001b[0;32mpandas/_libs/hashtable_class_helper.pxi\u001b[0m in \u001b[0;36mpandas._libs.hashtable.PyObjectHashTable.get_item\u001b[0;34m()\u001b[0m\n",
      "\u001b[0;31mKeyError\u001b[0m: 'epitope_seq'",
      "\nThe above exception was the direct cause of the following exception:\n",
      "\u001b[0;31mKeyError\u001b[0m                                  Traceback (most recent call last)",
      "\u001b[0;32m<ipython-input-40-d2a433649570>\u001b[0m in \u001b[0;36m<module>\u001b[0;34m\u001b[0m\n\u001b[1;32m      1\u001b[0m \u001b[0;31m# Prepare dataset and dataloader\u001b[0m\u001b[0;34m\u001b[0m\u001b[0;34m\u001b[0m\u001b[0;34m\u001b[0m\u001b[0m\n\u001b[0;32m----> 2\u001b[0;31m \u001b[0mtrain_dataset\u001b[0m \u001b[0;34m=\u001b[0m \u001b[0mESMDataset\u001b[0m\u001b[0;34m(\u001b[0m\u001b[0msequence_labels\u001b[0m\u001b[0;34m=\u001b[0m\u001b[0mdf\u001b[0m\u001b[0;34m[\u001b[0m\u001b[0;34m'label'\u001b[0m\u001b[0;34m]\u001b[0m\u001b[0;34m.\u001b[0m\u001b[0mvalues\u001b[0m\u001b[0;34m,\u001b[0m \u001b[0msequence_strs\u001b[0m\u001b[0;34m=\u001b[0m\u001b[0mdf\u001b[0m\u001b[0;34m[\u001b[0m\u001b[0;34m'epitope_seq'\u001b[0m\u001b[0;34m]\u001b[0m\u001b[0;34m.\u001b[0m\u001b[0mvalues\u001b[0m\u001b[0;34m)\u001b[0m\u001b[0;34m\u001b[0m\u001b[0;34m\u001b[0m\u001b[0m\n\u001b[0m\u001b[1;32m      3\u001b[0m \u001b[0;34m\u001b[0m\u001b[0m\n\u001b[1;32m      4\u001b[0m \u001b[0mbatches\u001b[0m \u001b[0;34m=\u001b[0m \u001b[0mtrain_dataset\u001b[0m\u001b[0;34m.\u001b[0m\u001b[0mget_batch_indices\u001b[0m\u001b[0;34m(\u001b[0m\u001b[0mCFG_ESM\u001b[0m\u001b[0;34m[\u001b[0m\u001b[0;34m'toks_per_batch'\u001b[0m\u001b[0;34m]\u001b[0m\u001b[0;34m,\u001b[0m \u001b[0mextra_toks_per_seq\u001b[0m\u001b[0;34m=\u001b[0m\u001b[0;36m1\u001b[0m\u001b[0;34m)\u001b[0m\u001b[0;34m\u001b[0m\u001b[0;34m\u001b[0m\u001b[0m\n\u001b[1;32m      5\u001b[0m \u001b[0;34m\u001b[0m\u001b[0m\n",
      "\u001b[0;32m~/.conda/envs/py37/lib/python3.7/site-packages/pandas/core/frame.py\u001b[0m in \u001b[0;36m__getitem__\u001b[0;34m(self, key)\u001b[0m\n\u001b[1;32m   3456\u001b[0m             \u001b[0;32mif\u001b[0m \u001b[0mself\u001b[0m\u001b[0;34m.\u001b[0m\u001b[0mcolumns\u001b[0m\u001b[0;34m.\u001b[0m\u001b[0mnlevels\u001b[0m \u001b[0;34m>\u001b[0m \u001b[0;36m1\u001b[0m\u001b[0;34m:\u001b[0m\u001b[0;34m\u001b[0m\u001b[0;34m\u001b[0m\u001b[0m\n\u001b[1;32m   3457\u001b[0m                 \u001b[0;32mreturn\u001b[0m \u001b[0mself\u001b[0m\u001b[0;34m.\u001b[0m\u001b[0m_getitem_multilevel\u001b[0m\u001b[0;34m(\u001b[0m\u001b[0mkey\u001b[0m\u001b[0;34m)\u001b[0m\u001b[0;34m\u001b[0m\u001b[0;34m\u001b[0m\u001b[0m\n\u001b[0;32m-> 3458\u001b[0;31m             \u001b[0mindexer\u001b[0m \u001b[0;34m=\u001b[0m \u001b[0mself\u001b[0m\u001b[0;34m.\u001b[0m\u001b[0mcolumns\u001b[0m\u001b[0;34m.\u001b[0m\u001b[0mget_loc\u001b[0m\u001b[0;34m(\u001b[0m\u001b[0mkey\u001b[0m\u001b[0;34m)\u001b[0m\u001b[0;34m\u001b[0m\u001b[0;34m\u001b[0m\u001b[0m\n\u001b[0m\u001b[1;32m   3459\u001b[0m             \u001b[0;32mif\u001b[0m \u001b[0mis_integer\u001b[0m\u001b[0;34m(\u001b[0m\u001b[0mindexer\u001b[0m\u001b[0;34m)\u001b[0m\u001b[0;34m:\u001b[0m\u001b[0;34m\u001b[0m\u001b[0;34m\u001b[0m\u001b[0m\n\u001b[1;32m   3460\u001b[0m                 \u001b[0mindexer\u001b[0m \u001b[0;34m=\u001b[0m \u001b[0;34m[\u001b[0m\u001b[0mindexer\u001b[0m\u001b[0;34m]\u001b[0m\u001b[0;34m\u001b[0m\u001b[0;34m\u001b[0m\u001b[0m\n",
      "\u001b[0;32m~/.conda/envs/py37/lib/python3.7/site-packages/pandas/core/indexes/base.py\u001b[0m in \u001b[0;36mget_loc\u001b[0;34m(self, key, method, tolerance)\u001b[0m\n\u001b[1;32m   3361\u001b[0m                 \u001b[0;32mreturn\u001b[0m \u001b[0mself\u001b[0m\u001b[0;34m.\u001b[0m\u001b[0m_engine\u001b[0m\u001b[0;34m.\u001b[0m\u001b[0mget_loc\u001b[0m\u001b[0;34m(\u001b[0m\u001b[0mcasted_key\u001b[0m\u001b[0;34m)\u001b[0m\u001b[0;34m\u001b[0m\u001b[0;34m\u001b[0m\u001b[0m\n\u001b[1;32m   3362\u001b[0m             \u001b[0;32mexcept\u001b[0m \u001b[0mKeyError\u001b[0m \u001b[0;32mas\u001b[0m \u001b[0merr\u001b[0m\u001b[0;34m:\u001b[0m\u001b[0;34m\u001b[0m\u001b[0;34m\u001b[0m\u001b[0m\n\u001b[0;32m-> 3363\u001b[0;31m                 \u001b[0;32mraise\u001b[0m \u001b[0mKeyError\u001b[0m\u001b[0;34m(\u001b[0m\u001b[0mkey\u001b[0m\u001b[0;34m)\u001b[0m \u001b[0;32mfrom\u001b[0m \u001b[0merr\u001b[0m\u001b[0;34m\u001b[0m\u001b[0;34m\u001b[0m\u001b[0m\n\u001b[0m\u001b[1;32m   3364\u001b[0m \u001b[0;34m\u001b[0m\u001b[0m\n\u001b[1;32m   3365\u001b[0m         \u001b[0;32mif\u001b[0m \u001b[0mis_scalar\u001b[0m\u001b[0;34m(\u001b[0m\u001b[0mkey\u001b[0m\u001b[0;34m)\u001b[0m \u001b[0;32mand\u001b[0m \u001b[0misna\u001b[0m\u001b[0;34m(\u001b[0m\u001b[0mkey\u001b[0m\u001b[0;34m)\u001b[0m \u001b[0;32mand\u001b[0m \u001b[0;32mnot\u001b[0m \u001b[0mself\u001b[0m\u001b[0;34m.\u001b[0m\u001b[0mhasnans\u001b[0m\u001b[0;34m:\u001b[0m\u001b[0;34m\u001b[0m\u001b[0;34m\u001b[0m\u001b[0m\n",
      "\u001b[0;31mKeyError\u001b[0m: 'epitope_seq'"
     ]
    }
   ],
   "source": [
    "# Prepare dataset and dataloader\n",
    "train_dataset = ESMDataset(sequence_labels=df['label'].values, sequence_strs=df['epitope_seq'].values)\n",
    "\n",
    "batches = train_dataset.get_batch_indices(CFG_ESM['toks_per_batch'], extra_toks_per_seq=1)\n",
    "\n",
    "train_loader = torch.utils.data.DataLoader(\n",
    "    train_dataset, collate_fn=alphabet.get_batch_converter(), batch_sampler=batches\n",
    ")"
   ]
  },
  {
   "cell_type": "code",
   "execution_count": null,
   "id": "13eb4d45",
   "metadata": {
    "scrolled": true
   },
   "outputs": [],
   "source": [
    "from tqdm import tqdm\n",
    "\n",
    "def extract_features(model, loader, output_dir=CFG_ESM['output_dir']):\n",
    "    output_dir.mkdir(parents=True, exist_ok=True)\n",
    "    return_contacts = \"contacts\" in CFG_ESM['include']\n",
    "    \n",
    "    num_layers = model.num_layers if hasattr(model, 'num_layers') else model.module.num_layers\n",
    "\n",
    "    assert all(-(num_layers + 1) <= i <= num_layers for i in CFG_ESM['repr_layers'])\n",
    "    repr_layers = [(i + num_layers + 1) % (num_layers + 1) for i in CFG_ESM['repr_layers']]\n",
    "\n",
    "    with torch.no_grad():\n",
    "        idx = 0\n",
    "        for batch_idx, (labels, strs, toks) in tqdm(enumerate(loader), desc=f\"Processing {len(loader.batch_sampler)} batches\"):\n",
    "            #print(f\"Processing {batch_idx + 1} of {len(batches)} batches ({toks.size(0)} sequences)\")\n",
    "            if torch.cuda.is_available() and not CFG_ESM['nogpu']:\n",
    "                toks = toks.to(device=\"cuda\", non_blocking=True)\n",
    "\n",
    "            # The model is trained on truncated sequences and passing longer ones in at\n",
    "            # infernce will cause an error. See https://github.com/facebookresearch/esm/issues/21\n",
    "            if CFG_ESM['truncate']:\n",
    "                toks = toks[:, :1022]\n",
    "\n",
    "            out = model(toks, repr_layers=repr_layers, return_contacts=return_contacts)\n",
    "\n",
    "            logits = out[\"logits\"].to(device=\"cpu\")\n",
    "            representations = {\n",
    "                layer: t.to(device=\"cpu\") for layer, t in out[\"representations\"].items()\n",
    "            }\n",
    "            if return_contacts:\n",
    "                contacts = out[\"contacts\"].to(device=\"cpu\")\n",
    "\n",
    "            for i, label in enumerate(labels):\n",
    "                CFG_ESM['output_file'] = output_dir / f\"{idx}.pt\"\n",
    "                CFG_ESM['output_file'].parent.mkdir(parents=True, exist_ok=True)\n",
    "                result = {\"label\": label}\n",
    "                # Call clone on tensors to ensure tensors are not views into a larger representation\n",
    "                # See https://github.com/pytorch/pytorch/issues/1995\n",
    "                if \"per_tok\" in CFG_ESM['include']:\n",
    "                    result[\"representations\"] = {\n",
    "                        layer: t[i, 1 : len(strs[i]) + 1].clone()\n",
    "                        for layer, t in representations.items()\n",
    "                    }\n",
    "                if \"mean\" in CFG_ESM['include']:\n",
    "                    result[\"mean_representations\"] = {\n",
    "                        layer: t[i, 1 : len(strs[i]) + 1].mean(0).clone()\n",
    "                        for layer, t in representations.items()\n",
    "                    }\n",
    "                if \"bos\" in CFG_ESM['include']:\n",
    "                    result[\"bos_representations\"] = {\n",
    "                        layer: t[i, 0].clone() for layer, t in representations.items()\n",
    "                    }\n",
    "                if return_contacts:\n",
    "                    result[\"contacts\"] = contacts[i, : len(strs[i]), : len(strs[i])].clone()\n",
    "\n",
    "                torch.save(\n",
    "                    result,\n",
    "                    CFG_ESM['output_file'],\n",
    "                )\n",
    "                print(CFG_ESM['output_file'])\n",
    "                idx += 1"
   ]
  },
  {
   "cell_type": "code",
   "execution_count": 73,
   "id": "46d25446",
   "metadata": {},
   "outputs": [
    {
     "name": "stderr",
     "output_type": "stream",
     "text": [
      "\r",
      "Processing 2 batches: 0it [00:00, ?it/s]"
     ]
    },
    {
     "name": "stdout",
     "output_type": "stream",
     "text": [
      "esm_features/190500.pt\n",
      "esm_features/190501.pt\n",
      "esm_features/190502.pt\n",
      "esm_features/190503.pt\n",
      "esm_features/190504.pt\n",
      "esm_features/190505.pt\n",
      "esm_features/190506.pt\n",
      "esm_features/190507.pt\n",
      "esm_features/190508.pt\n",
      "esm_features/190509.pt\n",
      "esm_features/190510.pt\n",
      "esm_features/190511.pt\n",
      "esm_features/190512.pt\n",
      "esm_features/190513.pt\n",
      "esm_features/190514.pt\n",
      "esm_features/190515.pt\n",
      "esm_features/190516.pt\n",
      "esm_features/190517.pt\n",
      "esm_features/190518.pt\n",
      "esm_features/190519.pt\n",
      "esm_features/190520.pt\n",
      "esm_features/190521.pt\n",
      "esm_features/190522.pt\n",
      "esm_features/190523.pt\n",
      "esm_features/190524.pt\n",
      "esm_features/190525.pt\n",
      "esm_features/190526.pt\n",
      "esm_features/190527.pt\n",
      "esm_features/190528.pt\n",
      "esm_features/190529.pt\n",
      "esm_features/190530.pt\n",
      "esm_features/190531.pt\n",
      "esm_features/190532.pt\n",
      "esm_features/190533.pt\n",
      "esm_features/190534.pt\n",
      "esm_features/190535.pt\n",
      "esm_features/190536.pt\n",
      "esm_features/190537.pt\n",
      "esm_features/190538.pt\n",
      "esm_features/190539.pt\n",
      "esm_features/190540.pt\n",
      "esm_features/190541.pt\n",
      "esm_features/190542.pt\n",
      "esm_features/190543.pt\n",
      "esm_features/190544.pt\n",
      "esm_features/190545.pt\n",
      "esm_features/190546.pt\n",
      "esm_features/190547.pt\n",
      "esm_features/190548.pt\n",
      "esm_features/190549.pt\n",
      "esm_features/190550.pt\n",
      "esm_features/190551.pt\n",
      "esm_features/190552.pt\n",
      "esm_features/190553.pt\n",
      "esm_features/190554.pt\n",
      "esm_features/190555.pt\n",
      "esm_features/190556.pt\n",
      "esm_features/190557.pt\n",
      "esm_features/190558.pt\n",
      "esm_features/190559.pt\n",
      "esm_features/190560.pt\n",
      "esm_features/190561.pt\n",
      "esm_features/190562.pt\n",
      "esm_features/190563.pt\n",
      "esm_features/190564.pt\n",
      "esm_features/190565.pt\n",
      "esm_features/190566.pt\n",
      "esm_features/190567.pt\n",
      "esm_features/190568.pt\n",
      "esm_features/190569.pt\n",
      "esm_features/190570.pt\n",
      "esm_features/190571.pt\n",
      "esm_features/190572.pt\n",
      "esm_features/190573.pt\n",
      "esm_features/190574.pt\n",
      "esm_features/190575.pt\n",
      "esm_features/190576.pt\n",
      "esm_features/190577.pt\n",
      "esm_features/190578.pt\n",
      "esm_features/190579.pt\n",
      "esm_features/190580.pt\n",
      "esm_features/190581.pt\n",
      "esm_features/190582.pt\n",
      "esm_features/190583.pt\n",
      "esm_features/190584.pt\n",
      "esm_features/190585.pt\n",
      "esm_features/190586.pt\n",
      "esm_features/190587.pt\n",
      "esm_features/190588.pt\n",
      "esm_features/190589.pt\n",
      "esm_features/190590.pt\n",
      "esm_features/190591.pt\n",
      "esm_features/190592.pt\n",
      "esm_features/190593.pt\n",
      "esm_features/190594.pt\n",
      "esm_features/190595.pt\n",
      "esm_features/190596.pt\n",
      "esm_features/190597.pt\n",
      "esm_features/190598.pt\n",
      "esm_features/190599.pt\n",
      "esm_features/190600.pt\n",
      "esm_features/190601.pt\n",
      "esm_features/190602.pt\n",
      "esm_features/190603.pt\n",
      "esm_features/190604.pt\n",
      "esm_features/190605.pt\n",
      "esm_features/190606.pt\n",
      "esm_features/190607.pt\n",
      "esm_features/190608.pt\n",
      "esm_features/190609.pt\n",
      "esm_features/190610.pt\n",
      "esm_features/190611.pt\n",
      "esm_features/190612.pt\n",
      "esm_features/190613.pt\n",
      "esm_features/190614.pt\n",
      "esm_features/190615.pt\n",
      "esm_features/190616.pt\n",
      "esm_features/190617.pt\n",
      "esm_features/190618.pt\n",
      "esm_features/190619.pt\n",
      "esm_features/190620.pt\n",
      "esm_features/190621.pt\n",
      "esm_features/190622.pt\n",
      "esm_features/190623.pt\n",
      "esm_features/190624.pt\n",
      "esm_features/190625.pt\n",
      "esm_features/190626.pt\n",
      "esm_features/190627.pt\n",
      "esm_features/190628.pt\n",
      "esm_features/190629.pt\n",
      "esm_features/190630.pt\n",
      "esm_features/190631.pt\n",
      "esm_features/190632.pt\n",
      "esm_features/190633.pt\n",
      "esm_features/190634.pt\n",
      "esm_features/190635.pt\n",
      "esm_features/190636.pt\n",
      "esm_features/190637.pt\n",
      "esm_features/190638.pt\n",
      "esm_features/190639.pt\n",
      "esm_features/190640.pt\n",
      "esm_features/190641.pt\n",
      "esm_features/190642.pt\n",
      "esm_features/190643.pt\n",
      "esm_features/190644.pt\n",
      "esm_features/190645.pt\n",
      "esm_features/190646.pt\n",
      "esm_features/190647.pt\n",
      "esm_features/190648.pt\n",
      "esm_features/190649.pt\n",
      "esm_features/190650.pt\n",
      "esm_features/190651.pt\n",
      "esm_features/190652.pt\n",
      "esm_features/190653.pt\n",
      "esm_features/190654.pt\n",
      "esm_features/190655.pt\n",
      "esm_features/190656.pt\n",
      "esm_features/190657.pt\n",
      "esm_features/190658.pt\n",
      "esm_features/190659.pt\n",
      "esm_features/190660.pt\n",
      "esm_features/190661.pt\n",
      "esm_features/190662.pt\n",
      "esm_features/190663.pt\n",
      "esm_features/190664.pt\n",
      "esm_features/190665.pt\n",
      "esm_features/190666.pt\n",
      "esm_features/190667.pt\n",
      "esm_features/190668.pt\n",
      "esm_features/190669.pt\n",
      "esm_features/190670.pt\n",
      "esm_features/190671.pt\n",
      "esm_features/190672.pt\n",
      "esm_features/190673.pt\n",
      "esm_features/190674.pt\n",
      "esm_features/190675.pt\n",
      "esm_features/190676.pt\n",
      "esm_features/190677.pt\n",
      "esm_features/190678.pt\n",
      "esm_features/190679.pt\n",
      "esm_features/190680.pt\n",
      "esm_features/190681.pt\n",
      "esm_features/190682.pt\n",
      "esm_features/190683.pt\n",
      "esm_features/190684.pt\n",
      "esm_features/190685.pt\n",
      "esm_features/190686.pt\n",
      "esm_features/190687.pt\n",
      "esm_features/190688.pt\n",
      "esm_features/190689.pt\n",
      "esm_features/190690.pt\n",
      "esm_features/190691.pt\n",
      "esm_features/190692.pt\n",
      "esm_features/190693.pt\n",
      "esm_features/190694.pt\n",
      "esm_features/190695.pt\n"
     ]
    },
    {
     "name": "stderr",
     "output_type": "stream",
     "text": [
      "\r",
      "Processing 2 batches: 1it [00:01,  1.28s/it]"
     ]
    },
    {
     "name": "stdout",
     "output_type": "stream",
     "text": [
      "esm_features/190696.pt\n",
      "esm_features/190697.pt\n",
      "esm_features/190698.pt\n",
      "esm_features/190699.pt\n",
      "esm_features/190700.pt\n",
      "esm_features/190701.pt\n",
      "esm_features/190702.pt\n",
      "esm_features/190703.pt\n",
      "esm_features/190704.pt\n",
      "esm_features/190705.pt\n",
      "esm_features/190706.pt\n",
      "esm_features/190707.pt\n",
      "esm_features/190708.pt\n",
      "esm_features/190709.pt\n",
      "esm_features/190710.pt\n",
      "esm_features/190711.pt\n",
      "esm_features/190712.pt\n",
      "esm_features/190713.pt\n",
      "esm_features/190714.pt\n",
      "esm_features/190715.pt\n",
      "esm_features/190716.pt\n",
      "esm_features/190717.pt\n",
      "esm_features/190718.pt\n",
      "esm_features/190719.pt\n",
      "esm_features/190720.pt\n",
      "esm_features/190721.pt\n",
      "esm_features/190722.pt\n",
      "esm_features/190723.pt\n",
      "esm_features/190724.pt\n",
      "esm_features/190725.pt\n",
      "esm_features/190726.pt\n",
      "esm_features/190727.pt\n",
      "esm_features/190728.pt\n",
      "esm_features/190729.pt\n",
      "esm_features/190730.pt\n",
      "esm_features/190731.pt\n",
      "esm_features/190732.pt\n",
      "esm_features/190733.pt\n",
      "esm_features/190734.pt\n",
      "esm_features/190735.pt\n",
      "esm_features/190736.pt\n",
      "esm_features/190737.pt\n",
      "esm_features/190738.pt\n",
      "esm_features/190739.pt\n",
      "esm_features/190740.pt\n",
      "esm_features/190741.pt\n",
      "esm_features/190742.pt\n",
      "esm_features/190743.pt\n",
      "esm_features/190744.pt\n",
      "esm_features/190745.pt\n",
      "esm_features/190746.pt\n",
      "esm_features/190747.pt\n",
      "esm_features/190748.pt\n",
      "esm_features/190749.pt\n",
      "esm_features/190750.pt\n",
      "esm_features/190751.pt\n",
      "esm_features/190752.pt\n",
      "esm_features/190753.pt\n",
      "esm_features/190754.pt\n",
      "esm_features/190755.pt\n"
     ]
    },
    {
     "name": "stderr",
     "output_type": "stream",
     "text": [
      "Processing 2 batches: 2it [00:01,  1.07it/s]"
     ]
    },
    {
     "name": "stdout",
     "output_type": "stream",
     "text": [
      "esm_features/190756.pt\n",
      "esm_features/190757.pt\n",
      "esm_features/190758.pt\n",
      "esm_features/190759.pt\n",
      "esm_features/190760.pt\n",
      "esm_features/190761.pt\n",
      "esm_features/190762.pt\n",
      "esm_features/190763.pt\n",
      "esm_features/190764.pt\n",
      "esm_features/190765.pt\n",
      "esm_features/190766.pt\n",
      "esm_features/190767.pt\n",
      "esm_features/190768.pt\n",
      "esm_features/190769.pt\n",
      "esm_features/190770.pt\n",
      "esm_features/190771.pt\n",
      "esm_features/190772.pt\n",
      "esm_features/190773.pt\n",
      "esm_features/190774.pt\n",
      "esm_features/190775.pt\n",
      "esm_features/190776.pt\n",
      "esm_features/190777.pt\n",
      "esm_features/190778.pt\n",
      "esm_features/190779.pt\n",
      "esm_features/190780.pt\n",
      "esm_features/190781.pt\n",
      "esm_features/190782.pt\n",
      "esm_features/190783.pt\n",
      "esm_features/190784.pt\n",
      "esm_features/190785.pt\n",
      "esm_features/190786.pt\n",
      "esm_features/190787.pt\n",
      "esm_features/190788.pt\n",
      "esm_features/190789.pt\n",
      "esm_features/190790.pt\n",
      "esm_features/190791.pt\n",
      "esm_features/190792.pt\n",
      "esm_features/190793.pt\n",
      "esm_features/190794.pt\n",
      "esm_features/190795.pt\n",
      "esm_features/190796.pt\n",
      "esm_features/190797.pt\n",
      "esm_features/190798.pt\n",
      "esm_features/190799.pt\n",
      "esm_features/190800.pt\n",
      "esm_features/190801.pt\n",
      "esm_features/190802.pt\n",
      "esm_features/190803.pt\n",
      "esm_features/190804.pt\n",
      "esm_features/190805.pt\n",
      "esm_features/190806.pt\n",
      "esm_features/190807.pt\n",
      "esm_features/190808.pt\n",
      "esm_features/190809.pt\n",
      "esm_features/190810.pt\n"
     ]
    },
    {
     "name": "stderr",
     "output_type": "stream",
     "text": [
      "\n"
     ]
    }
   ],
   "source": [
    "# Call Ones\n",
    "#extract_features(model, train_loader)"
   ]
  },
  {
   "cell_type": "markdown",
   "id": "ac11a112",
   "metadata": {},
   "source": [
    "### Load features"
   ]
  },
  {
   "cell_type": "code",
   "execution_count": 42,
   "id": "cb71ae4a",
   "metadata": {},
   "outputs": [],
   "source": [
    "### import esm #!pip install git+https://github.com/facebookresearch/esm.git\n",
    "\n",
    "def load_esm_features(labels, output_dir=CFG_ESM['output_dir']):\n",
    "    Y = []\n",
    "    X = []\n",
    "    for i, label in tqdm(enumerate(labels)):\n",
    "        fn = f\"{output_dir}/{i}.pt\"\n",
    "        embs = torch.load(fn)\n",
    "        X.append(embs['mean_representations'][CFG_ESM['EMB_LAYER']])\n",
    "        Y.append(label)\n",
    "    X = torch.stack(X, dim=0).numpy()\n",
    "    Y = np.array(Y)\n",
    "    print(len(Y))\n",
    "    print(X.shape)\n",
    "    return X, Y"
   ]
  },
  {
   "cell_type": "code",
   "execution_count": 43,
   "id": "8c39d0be",
   "metadata": {},
   "outputs": [
    {
     "name": "stderr",
     "output_type": "stream",
     "text": [
      "190811it [01:09, 2758.71it/s]\n"
     ]
    },
    {
     "name": "stdout",
     "output_type": "stream",
     "text": [
      "190811\n",
      "(190811, 1280)\n"
     ]
    }
   ],
   "source": [
    "X, Y = load_esm_features(df['label'])"
   ]
  },
  {
   "cell_type": "code",
   "execution_count": 44,
   "id": "7ab7fb32",
   "metadata": {},
   "outputs": [],
   "source": [
    "# split\n",
    "train_x = X[train_idx[:int(train_len*0.8)]]\n",
    "train_y = Y[train_idx[:int(train_len*0.8)]]\n",
    "\n",
    "val_x = X[int(train_len*0.8):]\n",
    "val_y = Y[int(train_len*0.8):]"
   ]
  },
  {
   "cell_type": "markdown",
   "id": "d829e586",
   "metadata": {},
   "source": [
    "### PCA"
   ]
  },
  {
   "cell_type": "code",
   "execution_count": 45,
   "id": "028738c3",
   "metadata": {},
   "outputs": [],
   "source": [
    "from sklearn.decomposition import PCA\n",
    "import matplotlib.pyplot as plt"
   ]
  },
  {
   "cell_type": "code",
   "execution_count": 49,
   "id": "911fa61c",
   "metadata": {},
   "outputs": [],
   "source": [
    "num_pca_components = 128\n",
    "pca = PCA(num_pca_components)\n",
    "X_pca = pca.fit_transform(X)"
   ]
  },
  {
   "cell_type": "code",
   "execution_count": 51,
   "id": "f5566738",
   "metadata": {},
   "outputs": [
    {
     "data": {
      "image/png": "[encoded data removed]",
      "text/plain": [
       "<Figure size 700x600 with 2 Axes>"
      ]
     },
     "metadata": {},
     "output_type": "display_data"
    }
   ],
   "source": [
    "fig_dims = (7, 6)\n",
    "fig, ax = plt.subplots(figsize=fig_dims)\n",
    "sc = ax.scatter(X_pca[:,0], X_pca[:,1], c=Y, marker='.')\n",
    "ax.set_xlabel('PCA first principal component')\n",
    "ax.set_ylabel('PCA second principal component')\n",
    "plt.colorbar(sc, label='Variant Effect')\n",
    "plt.show()"
   ]
  },
  {
   "cell_type": "markdown",
   "id": "f30a3d15",
   "metadata": {},
   "source": [
    "### 3-3-1 RF"
   ]
  },
  {
   "cell_type": "code",
   "execution_count": 23,
   "id": "9536415b",
   "metadata": {},
   "outputs": [],
   "source": [
    "from sklearn.ensemble import RandomForestClassifier\n",
    "from sklearn.metrics import plot_confusion_matrix\n",
    "\n",
    "model = RandomForestClassifier(\n",
    "    n_estimators=100,\n",
    "    max_depth=None,\n",
    "    n_jobs=-1\n",
    ")"
   ]
  },
  {
   "cell_type": "markdown",
   "id": "1870bdc0",
   "metadata": {},
   "source": [
    "### 3-3-2 Logistic Regression"
   ]
  },
  {
   "cell_type": "code",
   "execution_count": 15,
   "id": "7b9851c3",
   "metadata": {},
   "outputs": [],
   "source": [
    "from sklearn.linear_model import LogisticRegression\n",
    "\n",
    "model = LogisticRegression()"
   ]
  },
  {
   "cell_type": "code",
   "execution_count": 20,
   "id": "4c70a0ad",
   "metadata": {},
   "outputs": [],
   "source": [
    "from sklearn.preprocessing import StandardScaler\n",
    "scaler = StandardScaler()\n",
    "l_train_x = scaler.fit_transform(train_x)\n",
    "l_val_x = scaler.transform(val_x)"
   ]
  },
  {
   "cell_type": "markdown",
   "id": "221d9663",
   "metadata": {},
   "source": [
    "### 3-3-3 SVC"
   ]
  },
  {
   "cell_type": "code",
   "execution_count": 25,
   "id": "8a9e17d5",
   "metadata": {},
   "outputs": [],
   "source": [
    "from sklearn.svm import SVC, SVR\n",
    "from sklearn.ensemble import BaggingClassifier\n",
    "estimator = SVC()\n",
    "n_estimators = 100\n",
    "n_jobs = 1\n",
    "model = BaggingClassifier(base_estimator=estimator,\n",
    "                          n_estimators=n_estimators,\n",
    "                          max_samples=1./n_estimators,\n",
    "                          n_jobs=n_jobs)\n",
    "\n",
    "#model = SVC(C=1.0, kernel='rbf', degree=3, gamma='scale', verbose=True)\n",
    "#         'model': [SVR()],\n",
    "#         'model__C' : [0.1, 1.0, 10.0],\n",
    "#         'model__kernel' : ['linear', 'poly', 'rbf', 'sigmoid'],\n",
    "#         'model__degree' : [3],\n",
    "#         'model__gamma': ['scale'],"
   ]
  },
  {
   "cell_type": "code",
   "execution_count": 81,
   "id": "b28a68db",
   "metadata": {},
   "outputs": [],
   "source": [
    "len(train_x)"
   ]
  },
  {
   "cell_type": "code",
   "execution_count": 24,
   "id": "33ea770c",
   "metadata": {
    "scrolled": true
   },
   "outputs": [
    {
     "name": "stdout",
     "output_type": "stream",
     "text": [
      "CPU times: user 42min 57s, sys: 2.32 s, total: 42min 59s\n",
      "Wall time: 1min 16s\n"
     ]
    },
    {
     "data": {
      "text/plain": [
       "RandomForestClassifier(n_jobs=-1)"
      ]
     },
     "execution_count": 24,
     "metadata": {},
     "output_type": "execute_result"
    }
   ],
   "source": [
    "%%time\n",
    "model.fit(train_x, train_y)\n",
    "#print('Accuracy: ', model_rf.score(val_x, val_y, metric='f1') * 100)"
   ]
  },
  {
   "cell_type": "code",
   "execution_count": 28,
   "id": "301acaf6",
   "metadata": {
    "scrolled": true
   },
   "outputs": [
    {
     "name": "stdout",
     "output_type": "stream",
     "text": [
      "Confusion Matrix\n",
      "[[32787    73]\n",
      " [ 1074  4229]]\n",
      "Accuracy:0.969945, Precision:0.983031, Recall:0.797473, F1:0.931696\n"
     ]
    },
    {
     "data": {
      "text/plain": [
       "(0.9699447108455834,\n",
       " 0.9830311483031148,\n",
       " 0.7974731284178767,\n",
       " 0.9316960201641804)"
      ]
     },
     "execution_count": 28,
     "metadata": {},
     "output_type": "execute_result"
    }
   ],
   "source": [
    "pred = model.predict(val_x) ###\n",
    "get_clf_eval(val_y, pred)"
   ]
  },
  {
   "cell_type": "markdown",
   "id": "fb99cc5a",
   "metadata": {},
   "source": [
    "### 3-3-4 FC"
   ]
  },
  {
   "cell_type": "code",
   "execution_count": 52,
   "id": "d9f56344",
   "metadata": {},
   "outputs": [],
   "source": [
    "CFG_FC = {\n",
    "    'NUM_WORKERS':4,\n",
    "    'EPOCHS':300,\n",
    "    'LEARNING_RATE':1e-1,\n",
    "    'BATCH_SIZE':8192,\n",
    "    'MOMENTUM':0.9,\n",
    "    'THRESHOLD':0.5,\n",
    "    'SEED':41\n",
    "}"
   ]
  },
  {
   "cell_type": "code",
   "execution_count": 53,
   "id": "fac3f556",
   "metadata": {},
   "outputs": [],
   "source": [
    "class ESMFeatureDataset(Dataset):\n",
    "    def __init__(self, X, Y=None):\n",
    "        self.X = X\n",
    "        self.Y = Y\n",
    "        \n",
    "    def __getitem__(self, index):        \n",
    "        if self.Y is not None:\n",
    "            return torch.tensor(self.X[index]), torch.tensor(self.Y[index])\n",
    "        else:\n",
    "            return torch.tensor(self.X[index])\n",
    "        \n",
    "    def __len__(self):\n",
    "        return len(self.X)\n",
    "    \n",
    "    def get_labels(self):\n",
    "        return self.Y"
   ]
  },
  {
   "cell_type": "code",
   "execution_count": 54,
   "id": "cb681f13",
   "metadata": {},
   "outputs": [
    {
     "data": {
      "text/plain": [
       "array([0, 0, 0, ..., 1, 1, 1])"
      ]
     },
     "execution_count": 54,
     "metadata": {},
     "output_type": "execute_result"
    }
   ],
   "source": [
    "val_y"
   ]
  },
  {
   "cell_type": "code",
   "execution_count": 55,
   "id": "990a290b",
   "metadata": {},
   "outputs": [],
   "source": [
    "train_dataset = ESMFeatureDataset(train_x, train_y)\n",
    "train_loader = DataLoader(train_dataset, batch_size = CFG_FC['BATCH_SIZE'], num_workers=CFG_FC['NUM_WORKERS'], shuffle=True) #sampler=ImbalancedDatasetSampler(train_dataset))  \n",
    "\n",
    "val_dataset = ESMFeatureDataset(val_x, val_y)\n",
    "val_loader = DataLoader(val_dataset, batch_size = CFG_FC['BATCH_SIZE'], shuffle=False, num_workers=CFG_FC['NUM_WORKERS'])"
   ]
  },
  {
   "cell_type": "code",
   "execution_count": 56,
   "id": "af15b6fe",
   "metadata": {},
   "outputs": [],
   "source": [
    "class ESMFeatureClassifier(nn.Module):\n",
    "    def __init__(self, input_dim=1280, num_class=2, drop_prob=0.5):\n",
    "        super(ESMFeatureClassifier, self).__init__()\n",
    "        self.num_class = num_class\n",
    "        self.input_dim = input_dim\n",
    "        \n",
    "        # Classifier            \n",
    "        self.classifier = nn.Sequential(\n",
    "#             nn.LeakyReLU(True),\n",
    "            nn.BatchNorm1d(self.input_dim),\n",
    "            nn.Linear(self.input_dim, self.input_dim//4),\n",
    "#             nn.LeakyReLU(True),\n",
    "            nn.ReLU(True),\n",
    "            nn.BatchNorm1d(self.input_dim//4),\n",
    "            nn.Linear(self.input_dim//4, self.num_class)\n",
    "        )\n",
    "        \n",
    "        # Weight Initialization \n",
    "        self.init_weights()\n",
    "        \n",
    "    def forward(self, x):\n",
    "        #BATCH_SIZE = epitope_x.size(0)\n",
    "        x = self.classifier(x) #.view(-1, self.num_class)\n",
    "        return x\n",
    "    \n",
    "    def init_weights(self):\n",
    "        # Classifier\n",
    "        for layer in self.classifier:\n",
    "            if isinstance(layer, nn.Linear):\n",
    "                torch.nn.init.xavier_uniform(layer.weight)\n",
    "                layer.bias.data.fill_(0.01)"
   ]
  },
  {
   "cell_type": "code",
   "execution_count": 57,
   "id": "092dd1cd",
   "metadata": {},
   "outputs": [],
   "source": [
    "def train(model, optimizer, train_loader, val_loader, scheduler, device):\n",
    "    model = torch.nn.DataParallel(model).to(device)\n",
    "    criterion = nn.CrossEntropyLoss().to(device)\n",
    "    \n",
    "    best_val_f1 = 0\n",
    "    best_epoch = 0\n",
    "    for epoch in range(1, CFG_FC['EPOCHS']+1):\n",
    "        model.train()\n",
    "        train_loss = []\n",
    "        for seq, label in tqdm(iter(train_loader)):\n",
    "            seq = seq.to(device)\n",
    "            label = label.long().to(device)\n",
    "            \n",
    "            optimizer.zero_grad()\n",
    "            \n",
    "            output = model(seq)\n",
    "            loss = criterion(output, label)\n",
    "            \n",
    "            loss.backward()\n",
    "            optimizer.step()\n",
    "            \n",
    "            train_loss.append(loss.item())\n",
    "            \n",
    "            if scheduler is not None:\n",
    "                scheduler.step()\n",
    "        \n",
    "        if epoch % ((CFG_FC['EPOCHS']+1) // 50) == 0:\n",
    "            val_loss, val_f1, val_acc, val_precision, val_recall, val_conf = validation(model, val_loader, criterion, device)\n",
    "            print(f'Epoch : [{epoch}] Train Loss : [{np.mean(train_loss):.5f}] Val Loss : [{val_loss:.5f}] Val F1 : [{val_f1:.5f}] Val ACC : [{val_acc:.5f}] ')\n",
    "            print(f'                                   Val Precision : [{val_precision:.5f}] Val Recall : [{val_recall:.5f}]')\n",
    "            print(val_conf)\n",
    "\n",
    "            if best_val_f1 < val_f1:\n",
    "                best_val_f1 = val_f1\n",
    "                best_epoch = epoch\n",
    "                torch.save(model.state_dict(), './best_model.pth', _use_new_zipfile_serialization=False)\n",
    "                print('Model Saved.')\n",
    "    return best_val_f1, best_epoch"
   ]
  },
  {
   "cell_type": "code",
   "execution_count": 58,
   "id": "87bdfa74",
   "metadata": {},
   "outputs": [],
   "source": [
    "def validation(model, val_loader, criterion, device, th=CFG_FC['THRESHOLD']):\n",
    "    model.eval()\n",
    "    pred_proba_label = []\n",
    "    true_label = []\n",
    "    val_loss = []\n",
    "    with torch.no_grad():\n",
    "        for seq, label in tqdm(iter(val_loader)):\n",
    "            seq = seq.to(device)\n",
    "            label = label.long().to(device)\n",
    "            \n",
    "            model_pred = model(seq)\n",
    "            loss = criterion(model_pred, label)\n",
    "            model_pred = torch.softmax(model_pred, dim=1)[:,1].to('cpu')\n",
    "            pred_proba_label += model_pred.tolist()\n",
    "            true_label += label.to('cpu').tolist()\n",
    "            \n",
    "            val_loss.append(loss.item())\n",
    "            \n",
    "    pred_label = np.where(np.array(pred_proba_label)>th, 1, 0)\n",
    "    val_f1        = f1_score(true_label, pred_label, average='macro')\n",
    "    val_confusion = confusion_matrix(true_label, pred_label)\n",
    "    val_acc       = accuracy_score(true_label, pred_label)\n",
    "    val_precision = precision_score(true_label, pred_label)\n",
    "    val_recall    = recall_score(true_label, pred_label)\n",
    "    return np.mean(val_loss), val_f1, val_acc, val_precision, val_recall, val_confusion"
   ]
  },
  {
   "cell_type": "code",
   "execution_count": null,
   "id": "32771ceb",
   "metadata": {
    "scrolled": false
   },
   "outputs": [
    {
     "name": "stderr",
     "output_type": "stream",
     "text": [
      "100%|██████████| 19/19 [00:10<00:00,  1.74it/s]\n",
      "100%|██████████| 19/19 [00:01<00:00, 13.65it/s]\n",
      "100%|██████████| 19/19 [00:01<00:00, 12.22it/s]\n",
      "100%|██████████| 19/19 [00:01<00:00, 11.64it/s]\n",
      "100%|██████████| 19/19 [00:01<00:00, 11.83it/s]\n",
      "100%|██████████| 19/19 [00:01<00:00, 13.54it/s]\n",
      "100%|██████████| 19/19 [00:01<00:00, 12.38it/s]\n",
      "100%|██████████| 19/19 [00:01<00:00, 11.06it/s]\n",
      "100%|██████████| 19/19 [00:01<00:00, 12.43it/s]\n",
      "100%|██████████| 19/19 [00:01<00:00, 13.05it/s]\n",
      "100%|██████████| 19/19 [00:01<00:00, 13.31it/s]\n",
      "100%|██████████| 19/19 [00:01<00:00, 11.20it/s]\n",
      "100%|██████████| 19/19 [00:01<00:00, 13.06it/s]\n",
      "100%|██████████| 19/19 [00:01<00:00, 11.55it/s]\n",
      "100%|██████████| 19/19 [00:01<00:00, 11.95it/s]\n",
      "100%|██████████| 5/5 [00:00<00:00,  7.71it/s]\n"
     ]
    },
    {
     "name": "stdout",
     "output_type": "stream",
     "text": [
      "Epoch : [15] Train Loss : [0.26313] Val Loss : [0.39482] Val F1 : [0.48144] Val ACC : [0.86191] \n",
      "                                   Val Precision : [0.59649] Val Recall : [0.01923]\n",
      "[[32791    69]\n",
      " [ 5201   102]]\n",
      "Model Saved.\n"
     ]
    },
    {
     "name": "stderr",
     "output_type": "stream",
     "text": [
      "100%|██████████| 19/19 [00:01<00:00, 12.57it/s]\n",
      "100%|██████████| 19/19 [00:01<00:00, 11.91it/s]\n",
      "100%|██████████| 19/19 [00:01<00:00, 11.22it/s]\n",
      "100%|██████████| 19/19 [00:01<00:00, 12.42it/s]\n",
      "100%|██████████| 19/19 [00:01<00:00, 13.05it/s]\n",
      "100%|██████████| 19/19 [00:01<00:00, 11.17it/s]\n",
      "100%|██████████| 19/19 [00:01<00:00, 12.62it/s]\n",
      "100%|██████████| 19/19 [00:01<00:00, 12.30it/s]\n",
      "100%|██████████| 19/19 [00:01<00:00, 12.63it/s]\n",
      "100%|██████████| 19/19 [00:01<00:00, 11.29it/s]\n",
      "100%|██████████| 19/19 [00:01<00:00, 11.36it/s]\n",
      "100%|██████████| 19/19 [00:01<00:00, 12.33it/s]\n",
      "100%|██████████| 19/19 [00:01<00:00, 12.54it/s]\n",
      "100%|██████████| 19/19 [00:01<00:00, 12.43it/s]\n",
      "100%|██████████| 19/19 [00:01<00:00, 12.42it/s]\n",
      "100%|██████████| 5/5 [00:00<00:00,  7.57it/s]"
     ]
    },
    {
     "name": "stdout",
     "output_type": "stream",
     "text": [
      "Epoch : [30] Train Loss : [0.23966] Val Loss : [0.36154] Val F1 : [0.53866] Val ACC : [0.86736] \n",
      "                                   Val Precision : [0.68624] Val Recall : [0.08373]\n",
      "[[32657   203]\n",
      " [ 4859   444]]\n",
      "Model Saved.\n"
     ]
    },
    {
     "name": "stderr",
     "output_type": "stream",
     "text": [
      "\n",
      "100%|██████████| 19/19 [00:01<00:00, 10.73it/s]\n",
      "100%|██████████| 19/19 [00:01<00:00, 12.80it/s]\n",
      "100%|██████████| 19/19 [00:01<00:00, 11.31it/s]\n",
      "100%|██████████| 19/19 [00:01<00:00, 13.71it/s]\n",
      "100%|██████████| 19/19 [00:01<00:00, 12.91it/s]\n",
      "100%|██████████| 19/19 [00:01<00:00, 11.01it/s]\n",
      "100%|██████████| 19/19 [00:01<00:00, 12.45it/s]\n",
      "100%|██████████| 19/19 [00:01<00:00, 12.25it/s]\n",
      "100%|██████████| 19/19 [00:01<00:00, 12.43it/s]\n",
      "100%|██████████| 19/19 [00:01<00:00, 11.96it/s]\n",
      "100%|██████████| 19/19 [00:01<00:00, 12.74it/s]\n",
      "100%|██████████| 19/19 [00:01<00:00, 12.59it/s]\n",
      "100%|██████████| 19/19 [00:01<00:00, 12.93it/s]\n",
      "100%|██████████| 19/19 [00:01<00:00, 12.56it/s]\n",
      "100%|██████████| 19/19 [00:01<00:00, 13.26it/s]\n",
      "100%|██████████| 5/5 [00:00<00:00,  6.48it/s]"
     ]
    },
    {
     "name": "stdout",
     "output_type": "stream",
     "text": [
      "Epoch : [45] Train Loss : [0.23141] Val Loss : [0.33564] Val F1 : [0.60375] Val ACC : [0.87270] \n",
      "                                   Val Precision : [0.65680] Val Recall : [0.17575]\n",
      "[[32373   487]\n",
      " [ 4371   932]]\n",
      "Model Saved.\n"
     ]
    },
    {
     "name": "stderr",
     "output_type": "stream",
     "text": [
      "\n",
      "100%|██████████| 19/19 [00:01<00:00, 11.92it/s]\n",
      "100%|██████████| 19/19 [00:01<00:00, 12.47it/s]\n",
      "100%|██████████| 19/19 [00:01<00:00, 11.98it/s]\n",
      "100%|██████████| 19/19 [00:01<00:00, 12.96it/s]\n",
      "100%|██████████| 19/19 [00:01<00:00, 12.85it/s]\n",
      "100%|██████████| 19/19 [00:01<00:00, 11.57it/s]\n",
      "100%|██████████| 19/19 [00:01<00:00, 12.96it/s]\n",
      "100%|██████████| 19/19 [00:01<00:00, 12.85it/s]\n",
      "100%|██████████| 19/19 [00:01<00:00, 12.62it/s]\n",
      "100%|██████████| 19/19 [00:01<00:00, 13.32it/s]\n",
      "100%|██████████| 19/19 [00:01<00:00, 11.56it/s]\n",
      "100%|██████████| 19/19 [00:01<00:00, 11.47it/s]\n",
      "100%|██████████| 19/19 [00:01<00:00, 12.99it/s]\n",
      "100%|██████████| 19/19 [00:01<00:00, 12.46it/s]\n",
      "100%|██████████| 19/19 [00:01<00:00, 12.09it/s]\n",
      "100%|██████████| 5/5 [00:00<00:00,  8.63it/s]\n"
     ]
    },
    {
     "name": "stdout",
     "output_type": "stream",
     "text": [
      "Epoch : [60] Train Loss : [0.22145] Val Loss : [0.38233] Val F1 : [0.62524] Val ACC : [0.86484] \n",
      "                                   Val Precision : [0.53092] Val Recall : [0.23477]\n",
      "[[31760  1100]\n",
      " [ 4058  1245]]\n",
      "Model Saved.\n"
     ]
    },
    {
     "name": "stderr",
     "output_type": "stream",
     "text": [
      "100%|██████████| 19/19 [00:01<00:00, 11.76it/s]\n",
      "100%|██████████| 19/19 [00:01<00:00, 11.23it/s]\n",
      "100%|██████████| 19/19 [00:01<00:00, 11.41it/s]\n",
      "100%|██████████| 19/19 [00:01<00:00, 13.02it/s]\n",
      "100%|██████████| 19/19 [00:01<00:00, 11.22it/s]\n",
      "100%|██████████| 19/19 [00:01<00:00, 11.57it/s]\n",
      "100%|██████████| 19/19 [00:01<00:00, 11.99it/s]\n",
      "100%|██████████| 19/19 [00:01<00:00, 12.38it/s]\n",
      "100%|██████████| 19/19 [00:01<00:00, 12.25it/s]\n",
      "100%|██████████| 19/19 [00:01<00:00, 11.67it/s]\n",
      "100%|██████████| 19/19 [00:01<00:00, 12.77it/s]\n",
      "100%|██████████| 19/19 [00:01<00:00, 11.31it/s]\n",
      "100%|██████████| 19/19 [00:01<00:00, 12.19it/s]\n",
      "100%|██████████| 19/19 [00:01<00:00, 12.04it/s]\n",
      "100%|██████████| 19/19 [00:01<00:00, 12.83it/s]\n",
      "100%|██████████| 5/5 [00:00<00:00,  8.18it/s]"
     ]
    },
    {
     "name": "stdout",
     "output_type": "stream",
     "text": [
      "Epoch : [75] Train Loss : [0.19918] Val Loss : [0.31418] Val F1 : [0.67128] Val ACC : [0.88526] \n",
      "                                   Val Precision : [0.72319] Val Recall : [0.28229]\n",
      "[[32287   573]\n",
      " [ 3806  1497]]\n",
      "Model Saved.\n"
     ]
    },
    {
     "name": "stderr",
     "output_type": "stream",
     "text": [
      "\n",
      "100%|██████████| 19/19 [00:01<00:00, 12.62it/s]\n",
      "100%|██████████| 19/19 [00:01<00:00, 13.33it/s]\n",
      "100%|██████████| 19/19 [00:01<00:00, 12.42it/s]\n",
      "100%|██████████| 19/19 [00:01<00:00, 12.67it/s]\n",
      "100%|██████████| 19/19 [00:01<00:00, 11.36it/s]\n",
      "100%|██████████| 19/19 [00:01<00:00, 12.55it/s]\n",
      "100%|██████████| 19/19 [00:01<00:00, 11.22it/s]\n",
      "100%|██████████| 19/19 [00:01<00:00, 13.48it/s]\n",
      "100%|██████████| 19/19 [00:01<00:00, 12.03it/s]\n",
      "100%|██████████| 19/19 [00:01<00:00, 12.41it/s]\n",
      "100%|██████████| 19/19 [00:01<00:00, 12.68it/s]\n",
      "100%|██████████| 19/19 [00:01<00:00, 10.97it/s]\n",
      "100%|██████████| 19/19 [00:01<00:00, 11.62it/s]\n",
      "100%|██████████| 19/19 [00:01<00:00, 11.75it/s]\n",
      "100%|██████████| 19/19 [00:01<00:00, 11.44it/s]\n",
      "100%|██████████| 5/5 [00:00<00:00,  8.50it/s]\n"
     ]
    },
    {
     "name": "stdout",
     "output_type": "stream",
     "text": [
      "Epoch : [90] Train Loss : [0.15292] Val Loss : [0.27947] Val F1 : [0.69958] Val ACC : [0.89432] \n",
      "                                   Val Precision : [0.79756] Val Recall : [0.32095]\n",
      "[[32428   432]\n",
      " [ 3601  1702]]\n",
      "Model Saved.\n"
     ]
    },
    {
     "name": "stderr",
     "output_type": "stream",
     "text": [
      "100%|██████████| 19/19 [00:01<00:00, 12.20it/s]\n",
      "100%|██████████| 19/19 [00:01<00:00, 12.81it/s]\n",
      "100%|██████████| 19/19 [00:01<00:00, 12.17it/s]\n",
      "100%|██████████| 19/19 [00:01<00:00, 11.42it/s]\n",
      "100%|██████████| 19/19 [00:01<00:00, 12.16it/s]\n",
      "100%|██████████| 19/19 [00:01<00:00, 11.69it/s]\n",
      "100%|██████████| 19/19 [00:01<00:00, 12.59it/s]\n",
      "100%|██████████| 19/19 [00:01<00:00, 12.02it/s]\n",
      "100%|██████████| 19/19 [00:01<00:00, 11.82it/s]\n",
      "100%|██████████| 19/19 [00:01<00:00, 11.67it/s]\n",
      "100%|██████████| 19/19 [00:01<00:00, 12.61it/s]\n",
      "100%|██████████| 19/19 [00:01<00:00, 11.95it/s]\n",
      "100%|██████████| 19/19 [00:01<00:00, 11.04it/s]\n",
      "100%|██████████| 19/19 [00:01<00:00, 12.61it/s]\n",
      "100%|██████████| 19/19 [00:01<00:00, 11.56it/s]\n",
      "100%|██████████| 5/5 [00:00<00:00,  8.86it/s]\n"
     ]
    },
    {
     "name": "stdout",
     "output_type": "stream",
     "text": [
      "Epoch : [105] Train Loss : [0.15316] Val Loss : [0.35267] Val F1 : [0.71442] Val ACC : [0.87661] \n",
      "                                   Val Precision : [0.57244] Val Recall : [0.44258]\n",
      "[[31107  1753]\n",
      " [ 2956  2347]]\n",
      "Model Saved.\n"
     ]
    },
    {
     "name": "stderr",
     "output_type": "stream",
     "text": [
      "100%|██████████| 19/19 [00:01<00:00, 12.30it/s]\n",
      "100%|██████████| 19/19 [00:01<00:00, 11.67it/s]\n",
      "100%|██████████| 19/19 [00:01<00:00, 12.10it/s]\n",
      "100%|██████████| 19/19 [00:01<00:00, 13.37it/s]\n",
      "100%|██████████| 19/19 [00:01<00:00, 14.01it/s]\n",
      "100%|██████████| 19/19 [00:01<00:00, 11.17it/s]\n",
      "100%|██████████| 19/19 [00:01<00:00, 12.69it/s]\n",
      "100%|██████████| 19/19 [00:01<00:00, 13.08it/s]\n",
      "100%|██████████| 19/19 [00:01<00:00, 11.15it/s]\n",
      "100%|██████████| 19/19 [00:01<00:00, 11.35it/s]\n",
      "100%|██████████| 19/19 [00:01<00:00, 11.21it/s]\n",
      "100%|██████████| 19/19 [00:01<00:00, 11.89it/s]\n",
      "100%|██████████| 19/19 [00:01<00:00, 12.50it/s]\n",
      "100%|██████████| 19/19 [00:01<00:00, 12.90it/s]\n",
      "100%|██████████| 19/19 [00:01<00:00, 12.97it/s]\n",
      "100%|██████████| 5/5 [00:00<00:00,  6.90it/s]"
     ]
    },
    {
     "name": "stdout",
     "output_type": "stream",
     "text": [
      "Epoch : [120] Train Loss : [0.12506] Val Loss : [0.25492] Val F1 : [0.77422] Val ACC : [0.91033] \n",
      "                                   Val Precision : [0.79127] Val Recall : [0.48180]\n",
      "[[32186   674]\n",
      " [ 2748  2555]]\n",
      "Model Saved.\n"
     ]
    },
    {
     "name": "stderr",
     "output_type": "stream",
     "text": [
      "\n",
      "100%|██████████| 19/19 [00:01<00:00, 12.17it/s]\n",
      "100%|██████████| 19/19 [00:01<00:00, 11.27it/s]\n",
      "100%|██████████| 19/19 [00:01<00:00, 12.23it/s]\n",
      "100%|██████████| 19/19 [00:01<00:00, 11.81it/s]\n",
      "100%|██████████| 19/19 [00:01<00:00, 11.19it/s]\n",
      "100%|██████████| 19/19 [00:01<00:00, 11.49it/s]\n",
      "100%|██████████| 19/19 [00:01<00:00, 12.52it/s]\n",
      "100%|██████████| 19/19 [00:01<00:00, 12.25it/s]\n",
      "100%|██████████| 19/19 [00:01<00:00, 12.83it/s]\n",
      "100%|██████████| 19/19 [00:01<00:00, 12.12it/s]\n",
      "100%|██████████| 19/19 [00:01<00:00, 11.42it/s]\n",
      "100%|██████████| 19/19 [00:01<00:00, 11.51it/s]\n",
      "100%|██████████| 19/19 [00:01<00:00, 11.30it/s]\n",
      "100%|██████████| 19/19 [00:01<00:00, 12.35it/s]\n",
      "100%|██████████| 19/19 [00:01<00:00, 12.46it/s]\n",
      "100%|██████████| 5/5 [00:00<00:00,  6.70it/s]"
     ]
    },
    {
     "name": "stdout",
     "output_type": "stream",
     "text": [
      "Epoch : [135] Train Loss : [0.14324] Val Loss : [0.33359] Val F1 : [0.71570] Val ACC : [0.89571] \n",
      "                                   Val Precision : [0.76534] Val Recall : [0.35980]\n",
      "[[32275   585]\n",
      " [ 3395  1908]]\n"
     ]
    },
    {
     "name": "stderr",
     "output_type": "stream",
     "text": [
      "\n",
      "100%|██████████| 19/19 [00:01<00:00, 11.26it/s]\n",
      "100%|██████████| 19/19 [00:01<00:00, 11.02it/s]\n",
      "100%|██████████| 19/19 [00:01<00:00, 12.59it/s]\n",
      "100%|██████████| 19/19 [00:01<00:00, 12.71it/s]\n",
      "100%|██████████| 19/19 [00:01<00:00, 13.12it/s]\n",
      "100%|██████████| 19/19 [00:01<00:00, 11.40it/s]\n",
      "100%|██████████| 19/19 [00:01<00:00, 10.88it/s]\n",
      "100%|██████████| 19/19 [00:01<00:00, 13.81it/s]\n",
      "100%|██████████| 19/19 [00:01<00:00, 12.56it/s]\n",
      "100%|██████████| 19/19 [00:01<00:00, 11.63it/s]\n",
      "100%|██████████| 19/19 [00:01<00:00, 12.86it/s]\n",
      "100%|██████████| 19/19 [00:01<00:00, 12.80it/s]\n",
      "100%|██████████| 19/19 [00:01<00:00, 12.74it/s]\n"
     ]
    }
   ],
   "source": [
    "#model = BaseModel()\n",
    "model = ESMFeatureClassifier()\n",
    "model.eval()\n",
    "#optimizer = torch.optim.Adam(params = model.parameters(), lr = CFG[\"LEARNING_RATE\"])\n",
    "optimizer = torch.optim.SGD(params = model.parameters(), lr = CFG_FC['LEARNING_RATE'], momentum=CFG_FC['MOMENTUM'])\n",
    "scheduler = torch.optim.lr_scheduler.CosineAnnealingLR(optimizer, T_max=len(train_loader)*CFG_FC['EPOCHS'], eta_min=0)\n",
    "\n",
    "best_score, best_epoch = train(model, optimizer, train_loader, val_loader, scheduler, device)\n",
    "print(f'Best Validation F1 Score : [{best_score:.5f}] at {best_epoch} EPOCH')"
   ]
  },
  {
   "cell_type": "code",
   "execution_count": null,
   "id": "680c41ba",
   "metadata": {},
   "outputs": [],
   "source": []
  },
  {
   "cell_type": "code",
   "execution_count": null,
   "id": "65fb0079",
   "metadata": {},
   "outputs": [],
   "source": []
  },
  {
   "cell_type": "markdown",
   "id": "5d74ffc1",
   "metadata": {},
   "source": [
    "### Inference ESM Test"
   ]
  },
  {
   "cell_type": "code",
   "execution_count": 38,
   "id": "42891f01",
   "metadata": {},
   "outputs": [],
   "source": [
    "# dataset\n",
    "test_df = pd.read_csv('./data/test.csv')\n",
    "test_x = test_df['epitope_seq'].values"
   ]
  },
  {
   "cell_type": "code",
   "execution_count": null,
   "id": "4a673f97",
   "metadata": {},
   "outputs": [],
   "source": [
    "test_dataset = ESMDataset(np.zeros(len(test_df)), sequence_strs=test_x)\n",
    "\n",
    "test_batches = test_dataset.get_batch_indices(CFG_ESM['toks_per_batch'], extra_toks_per_seq=1)\n",
    "\n",
    "test_loader = torch.utils.data.DataLoader(\n",
    "    test_dataset, collate_fn=alphabet.get_batch_converter(), batch_sampler=test_batches\n",
    ")"
   ]
  },
  {
   "cell_type": "code",
   "execution_count": 22,
   "id": "dadc81e5",
   "metadata": {},
   "outputs": [
    {
     "name": "stderr",
     "output_type": "stream",
     "text": [
      "Processing 453 batches: 453it [07:26,  1.01it/s]\n"
     ]
    }
   ],
   "source": [
    "# Call Ones\n",
    "#extract_features(model, test_loader, CFG_ESM['test_output_dir'])"
   ]
  },
  {
   "cell_type": "code",
   "execution_count": 39,
   "id": "72025f12",
   "metadata": {},
   "outputs": [
    {
     "name": "stderr",
     "output_type": "stream",
     "text": [
      "120944it [00:47, 2548.60it/s]\n"
     ]
    },
    {
     "name": "stdout",
     "output_type": "stream",
     "text": [
      "120944\n",
      "(120944, 1280)\n"
     ]
    }
   ],
   "source": [
    "test_x, test_y = load_esm_features(np.zeros(len(test_x)), CFG_ESM['test_output_dir'])"
   ]
  },
  {
   "cell_type": "markdown",
   "id": "73bc469c",
   "metadata": {},
   "source": [
    "### Pytorch"
   ]
  },
  {
   "cell_type": "code",
   "execution_count": null,
   "id": "1f9585d8",
   "metadata": {},
   "outputs": [],
   "source": []
  },
  {
   "cell_type": "markdown",
   "id": "b1487d82",
   "metadata": {},
   "source": [
    "### Sklearn"
   ]
  },
  {
   "cell_type": "code",
   "execution_count": 41,
   "id": "c2021a57",
   "metadata": {},
   "outputs": [
    {
     "name": "stdout",
     "output_type": "stream",
     "text": [
      "Done.\n"
     ]
    }
   ],
   "source": [
    "pred = model.predict(test_x) ###\n",
    "submit = pd.read_csv('./data/sample_submission.csv')\n",
    "submit['label'] = pred.astype(np.int32)\n",
    "submit.to_csv('./submit.csv', index=False)\n",
    "print('Done.')"
   ]
  },
  {
   "cell_type": "code",
   "execution_count": null,
   "id": "15e0901f",
   "metadata": {},
   "outputs": [],
   "source": []
  },
  {
   "cell_type": "markdown",
   "id": "b6488a5a",
   "metadata": {},
   "source": [
    "## Grid Search??????????"
   ]
  },
  {
   "cell_type": "code",
   "execution_count": 103,
   "id": "b8e97d04",
   "metadata": {},
   "outputs": [],
   "source": [
    "from sklearn.model_selection import GridSearchCV\n",
    "from sklearn.decomposition import PCA\n",
    "from sklearn.neighbors import KNeighborsClassifier, KNeighborsRegressor\n",
    "from sklearn.svm import SVC, SVR\n",
    "from sklearn.ensemble import RandomForestClassifier, RandomForestRegressor\n",
    "from sklearn.pipeline import Pipeline\n",
    "\n",
    "svm_grid = [\n",
    "    {\n",
    "        'model': [SVR()],\n",
    "        'model__C' : [0.1, 1.0, 10.0],\n",
    "        'model__kernel' : ['linear', 'poly', 'rbf', 'sigmoid'],\n",
    "        'model__degree' : [3],\n",
    "        'model__gamma': ['scale'],\n",
    "    }\n",
    "]\n",
    "\n",
    "rfr_grid = [\n",
    "    {\n",
    "        'model': [RandomForestRegressor()],\n",
    "        'model__n_estimators' : [20],\n",
    "        'model__criterion' : ['squared_error', 'absolute_error'],\n",
    "        'model__max_features': ['sqrt', 'log2'],\n",
    "        'model__min_samples_split' : [5, 10],\n",
    "        'model__min_samples_leaf': [1, 4]\n",
    "    }\n",
    "]"
   ]
  },
  {
   "cell_type": "code",
   "execution_count": 104,
   "id": "5682bfb8",
   "metadata": {},
   "outputs": [],
   "source": [
    "cls_list = [SVR, RandomForestRegressor] # KNeighborsRegressor\n",
    "param_grid_list = [svm_grid, rfr_grid] # knn_grid"
   ]
  },
  {
   "cell_type": "code",
   "execution_count": 106,
   "id": "d75d752a",
   "metadata": {},
   "outputs": [
    {
     "name": "stdout",
     "output_type": "stream",
     "text": [
      "<class 'sklearn.neighbors._regression.KNeighborsRegressor'>\n",
      "Fitting 5 folds for each of 48 candidates, totalling 240 fits\n",
      "<class 'sklearn.svm._classes.SVR'>\n",
      "Fitting 5 folds for each of 12 candidates, totalling 60 fits\n"
     ]
    },
    {
     "name": "stderr",
     "output_type": "stream",
     "text": [
      "Exception in thread Thread-5:\n",
      "Traceback (most recent call last):\n",
      "  File \"/home/suhyun/.conda/envs/py37/lib/python3.7/threading.py\", line 926, in _bootstrap_inner\n",
      "    self.run()\n",
      "  File \"/home/suhyun/.conda/envs/py37/lib/python3.7/site-packages/joblib/externals/loky/process_executor.py\", line 567, in run\n",
      "    self.flag_executor_shutting_down()\n",
      "  File \"/home/suhyun/.conda/envs/py37/lib/python3.7/site-packages/joblib/externals/loky/process_executor.py\", line 756, in flag_executor_shutting_down\n",
      "    self.kill_workers()\n",
      "  File \"/home/suhyun/.conda/envs/py37/lib/python3.7/site-packages/joblib/externals/loky/process_executor.py\", line 766, in kill_workers\n",
      "    recursive_terminate(p)\n",
      "  File \"/home/suhyun/.conda/envs/py37/lib/python3.7/site-packages/joblib/externals/loky/backend/utils.py\", line 28, in recursive_terminate\n",
      "    _recursive_terminate_without_psutil(process)\n",
      "  File \"/home/suhyun/.conda/envs/py37/lib/python3.7/site-packages/joblib/externals/loky/backend/utils.py\", line 53, in _recursive_terminate_without_psutil\n",
      "    _recursive_terminate(process.pid)\n",
      "  File \"/home/suhyun/.conda/envs/py37/lib/python3.7/site-packages/joblib/externals/loky/backend/utils.py\", line 94, in _recursive_terminate\n",
      "    stderr=None\n",
      "  File \"/home/suhyun/.conda/envs/py37/lib/python3.7/subprocess.py\", line 411, in check_output\n",
      "    **kwargs).stdout\n",
      "  File \"/home/suhyun/.conda/envs/py37/lib/python3.7/subprocess.py\", line 512, in run\n",
      "    output=stdout, stderr=stderr)\n",
      "subprocess.CalledProcessError: Command '['pgrep', '-P', '21645']' died with <Signals.SIGINT: 2>.\n",
      "\n"
     ]
    },
    {
     "ename": "KeyboardInterrupt",
     "evalue": "",
     "output_type": "error",
     "traceback": [
      "\u001b[0;31m---------------------------------------------------------------------------\u001b[0m",
      "\u001b[0;31mKeyboardInterrupt\u001b[0m                         Traceback (most recent call last)",
      "\u001b[0;32m~/.conda/envs/py37/lib/python3.7/site-packages/joblib/parallel.py\u001b[0m in \u001b[0;36mretrieve\u001b[0;34m(self)\u001b[0m\n\u001b[1;32m    932\u001b[0m                 \u001b[0;32mif\u001b[0m \u001b[0mgetattr\u001b[0m\u001b[0;34m(\u001b[0m\u001b[0mself\u001b[0m\u001b[0;34m.\u001b[0m\u001b[0m_backend\u001b[0m\u001b[0;34m,\u001b[0m \u001b[0;34m'supports_timeout'\u001b[0m\u001b[0;34m,\u001b[0m \u001b[0;32mFalse\u001b[0m\u001b[0;34m)\u001b[0m\u001b[0;34m:\u001b[0m\u001b[0;34m\u001b[0m\u001b[0;34m\u001b[0m\u001b[0m\n\u001b[0;32m--> 933\u001b[0;31m                     \u001b[0mself\u001b[0m\u001b[0;34m.\u001b[0m\u001b[0m_output\u001b[0m\u001b[0;34m.\u001b[0m\u001b[0mextend\u001b[0m\u001b[0;34m(\u001b[0m\u001b[0mjob\u001b[0m\u001b[0;34m.\u001b[0m\u001b[0mget\u001b[0m\u001b[0;34m(\u001b[0m\u001b[0mtimeout\u001b[0m\u001b[0;34m=\u001b[0m\u001b[0mself\u001b[0m\u001b[0;34m.\u001b[0m\u001b[0mtimeout\u001b[0m\u001b[0;34m)\u001b[0m\u001b[0;34m)\u001b[0m\u001b[0;34m\u001b[0m\u001b[0;34m\u001b[0m\u001b[0m\n\u001b[0m\u001b[1;32m    934\u001b[0m                 \u001b[0;32melse\u001b[0m\u001b[0;34m:\u001b[0m\u001b[0;34m\u001b[0m\u001b[0;34m\u001b[0m\u001b[0m\n",
      "\u001b[0;32m~/.conda/envs/py37/lib/python3.7/site-packages/joblib/_parallel_backends.py\u001b[0m in \u001b[0;36mwrap_future_result\u001b[0;34m(future, timeout)\u001b[0m\n\u001b[1;32m    541\u001b[0m         \u001b[0;32mtry\u001b[0m\u001b[0;34m:\u001b[0m\u001b[0;34m\u001b[0m\u001b[0;34m\u001b[0m\u001b[0m\n\u001b[0;32m--> 542\u001b[0;31m             \u001b[0;32mreturn\u001b[0m \u001b[0mfuture\u001b[0m\u001b[0;34m.\u001b[0m\u001b[0mresult\u001b[0m\u001b[0;34m(\u001b[0m\u001b[0mtimeout\u001b[0m\u001b[0;34m=\u001b[0m\u001b[0mtimeout\u001b[0m\u001b[0;34m)\u001b[0m\u001b[0;34m\u001b[0m\u001b[0;34m\u001b[0m\u001b[0m\n\u001b[0m\u001b[1;32m    543\u001b[0m         \u001b[0;32mexcept\u001b[0m \u001b[0mCfTimeoutError\u001b[0m \u001b[0;32mas\u001b[0m \u001b[0me\u001b[0m\u001b[0;34m:\u001b[0m\u001b[0;34m\u001b[0m\u001b[0;34m\u001b[0m\u001b[0m\n",
      "\u001b[0;32m~/.conda/envs/py37/lib/python3.7/concurrent/futures/_base.py\u001b[0m in \u001b[0;36mresult\u001b[0;34m(self, timeout)\u001b[0m\n\u001b[1;32m    429\u001b[0m \u001b[0;34m\u001b[0m\u001b[0m\n\u001b[0;32m--> 430\u001b[0;31m             \u001b[0mself\u001b[0m\u001b[0;34m.\u001b[0m\u001b[0m_condition\u001b[0m\u001b[0;34m.\u001b[0m\u001b[0mwait\u001b[0m\u001b[0;34m(\u001b[0m\u001b[0mtimeout\u001b[0m\u001b[0;34m)\u001b[0m\u001b[0;34m\u001b[0m\u001b[0;34m\u001b[0m\u001b[0m\n\u001b[0m\u001b[1;32m    431\u001b[0m \u001b[0;34m\u001b[0m\u001b[0m\n",
      "\u001b[0;32m~/.conda/envs/py37/lib/python3.7/threading.py\u001b[0m in \u001b[0;36mwait\u001b[0;34m(self, timeout)\u001b[0m\n\u001b[1;32m    295\u001b[0m             \u001b[0;32mif\u001b[0m \u001b[0mtimeout\u001b[0m \u001b[0;32mis\u001b[0m \u001b[0;32mNone\u001b[0m\u001b[0;34m:\u001b[0m\u001b[0;34m\u001b[0m\u001b[0;34m\u001b[0m\u001b[0m\n\u001b[0;32m--> 296\u001b[0;31m                 \u001b[0mwaiter\u001b[0m\u001b[0;34m.\u001b[0m\u001b[0macquire\u001b[0m\u001b[0;34m(\u001b[0m\u001b[0;34m)\u001b[0m\u001b[0;34m\u001b[0m\u001b[0;34m\u001b[0m\u001b[0m\n\u001b[0m\u001b[1;32m    297\u001b[0m                 \u001b[0mgotit\u001b[0m \u001b[0;34m=\u001b[0m \u001b[0;32mTrue\u001b[0m\u001b[0;34m\u001b[0m\u001b[0;34m\u001b[0m\u001b[0m\n",
      "\u001b[0;31mKeyboardInterrupt\u001b[0m: ",
      "\nDuring handling of the above exception, another exception occurred:\n",
      "\u001b[0;31mKeyboardInterrupt\u001b[0m                         Traceback (most recent call last)",
      "\u001b[0;32m<ipython-input-106-3357042605e5>\u001b[0m in \u001b[0;36m<module>\u001b[0;34m\u001b[0m\n\u001b[1;32m     17\u001b[0m         \u001b[0mn_jobs\u001b[0m \u001b[0;34m=\u001b[0m \u001b[0;34m-\u001b[0m\u001b[0;36m1\u001b[0m \u001b[0;31m# use all available cores\u001b[0m\u001b[0;34m\u001b[0m\u001b[0;34m\u001b[0m\u001b[0m\n\u001b[1;32m     18\u001b[0m     )\n\u001b[0;32m---> 19\u001b[0;31m     \u001b[0mgrid\u001b[0m\u001b[0;34m.\u001b[0m\u001b[0mfit\u001b[0m\u001b[0;34m(\u001b[0m\u001b[0mtrain_x\u001b[0m\u001b[0;34m,\u001b[0m \u001b[0mtrain_y\u001b[0m\u001b[0;34m)\u001b[0m\u001b[0;34m\u001b[0m\u001b[0;34m\u001b[0m\u001b[0m\n\u001b[0m\u001b[1;32m     20\u001b[0m     \u001b[0mresult_list\u001b[0m\u001b[0;34m.\u001b[0m\u001b[0mappend\u001b[0m\u001b[0;34m(\u001b[0m\u001b[0mpd\u001b[0m\u001b[0;34m.\u001b[0m\u001b[0mDataFrame\u001b[0m\u001b[0;34m.\u001b[0m\u001b[0mfrom_dict\u001b[0m\u001b[0;34m(\u001b[0m\u001b[0mgrid\u001b[0m\u001b[0;34m.\u001b[0m\u001b[0mcv_results_\u001b[0m\u001b[0;34m)\u001b[0m\u001b[0;34m)\u001b[0m\u001b[0;34m\u001b[0m\u001b[0;34m\u001b[0m\u001b[0m\n\u001b[1;32m     21\u001b[0m     \u001b[0mgrid_list\u001b[0m\u001b[0;34m.\u001b[0m\u001b[0mappend\u001b[0m\u001b[0;34m(\u001b[0m\u001b[0mgrid\u001b[0m\u001b[0;34m)\u001b[0m\u001b[0;34m\u001b[0m\u001b[0;34m\u001b[0m\u001b[0m\n",
      "\u001b[0;32m~/.conda/envs/py37/lib/python3.7/site-packages/sklearn/utils/validation.py\u001b[0m in \u001b[0;36minner_f\u001b[0;34m(*args, **kwargs)\u001b[0m\n\u001b[1;32m     61\u001b[0m             \u001b[0mextra_args\u001b[0m \u001b[0;34m=\u001b[0m \u001b[0mlen\u001b[0m\u001b[0;34m(\u001b[0m\u001b[0margs\u001b[0m\u001b[0;34m)\u001b[0m \u001b[0;34m-\u001b[0m \u001b[0mlen\u001b[0m\u001b[0;34m(\u001b[0m\u001b[0mall_args\u001b[0m\u001b[0;34m)\u001b[0m\u001b[0;34m\u001b[0m\u001b[0;34m\u001b[0m\u001b[0m\n\u001b[1;32m     62\u001b[0m             \u001b[0;32mif\u001b[0m \u001b[0mextra_args\u001b[0m \u001b[0;34m<=\u001b[0m \u001b[0;36m0\u001b[0m\u001b[0;34m:\u001b[0m\u001b[0;34m\u001b[0m\u001b[0;34m\u001b[0m\u001b[0m\n\u001b[0;32m---> 63\u001b[0;31m                 \u001b[0;32mreturn\u001b[0m \u001b[0mf\u001b[0m\u001b[0;34m(\u001b[0m\u001b[0;34m*\u001b[0m\u001b[0margs\u001b[0m\u001b[0;34m,\u001b[0m \u001b[0;34m**\u001b[0m\u001b[0mkwargs\u001b[0m\u001b[0;34m)\u001b[0m\u001b[0;34m\u001b[0m\u001b[0;34m\u001b[0m\u001b[0m\n\u001b[0m\u001b[1;32m     64\u001b[0m \u001b[0;34m\u001b[0m\u001b[0m\n\u001b[1;32m     65\u001b[0m             \u001b[0;31m# extra_args > 0\u001b[0m\u001b[0;34m\u001b[0m\u001b[0;34m\u001b[0m\u001b[0;34m\u001b[0m\u001b[0m\n",
      "\u001b[0;32m~/.conda/envs/py37/lib/python3.7/site-packages/sklearn/model_selection/_search.py\u001b[0m in \u001b[0;36mfit\u001b[0;34m(self, X, y, groups, **fit_params)\u001b[0m\n\u001b[1;32m    839\u001b[0m                 \u001b[0;32mreturn\u001b[0m \u001b[0mresults\u001b[0m\u001b[0;34m\u001b[0m\u001b[0;34m\u001b[0m\u001b[0m\n\u001b[1;32m    840\u001b[0m \u001b[0;34m\u001b[0m\u001b[0m\n\u001b[0;32m--> 841\u001b[0;31m             \u001b[0mself\u001b[0m\u001b[0;34m.\u001b[0m\u001b[0m_run_search\u001b[0m\u001b[0;34m(\u001b[0m\u001b[0mevaluate_candidates\u001b[0m\u001b[0;34m)\u001b[0m\u001b[0;34m\u001b[0m\u001b[0;34m\u001b[0m\u001b[0m\n\u001b[0m\u001b[1;32m    842\u001b[0m \u001b[0;34m\u001b[0m\u001b[0m\n\u001b[1;32m    843\u001b[0m             \u001b[0;31m# multimetric is determined here because in the case of a callable\u001b[0m\u001b[0;34m\u001b[0m\u001b[0;34m\u001b[0m\u001b[0;34m\u001b[0m\u001b[0m\n",
      "\u001b[0;32m~/.conda/envs/py37/lib/python3.7/site-packages/sklearn/model_selection/_search.py\u001b[0m in \u001b[0;36m_run_search\u001b[0;34m(self, evaluate_candidates)\u001b[0m\n\u001b[1;32m   1294\u001b[0m     \u001b[0;32mdef\u001b[0m \u001b[0m_run_search\u001b[0m\u001b[0;34m(\u001b[0m\u001b[0mself\u001b[0m\u001b[0;34m,\u001b[0m \u001b[0mevaluate_candidates\u001b[0m\u001b[0;34m)\u001b[0m\u001b[0;34m:\u001b[0m\u001b[0;34m\u001b[0m\u001b[0;34m\u001b[0m\u001b[0m\n\u001b[1;32m   1295\u001b[0m         \u001b[0;34m\"\"\"Search all candidates in param_grid\"\"\"\u001b[0m\u001b[0;34m\u001b[0m\u001b[0;34m\u001b[0m\u001b[0m\n\u001b[0;32m-> 1296\u001b[0;31m         \u001b[0mevaluate_candidates\u001b[0m\u001b[0;34m(\u001b[0m\u001b[0mParameterGrid\u001b[0m\u001b[0;34m(\u001b[0m\u001b[0mself\u001b[0m\u001b[0;34m.\u001b[0m\u001b[0mparam_grid\u001b[0m\u001b[0;34m)\u001b[0m\u001b[0;34m)\u001b[0m\u001b[0;34m\u001b[0m\u001b[0;34m\u001b[0m\u001b[0m\n\u001b[0m\u001b[1;32m   1297\u001b[0m \u001b[0;34m\u001b[0m\u001b[0m\n\u001b[1;32m   1298\u001b[0m \u001b[0;34m\u001b[0m\u001b[0m\n",
      "\u001b[0;32m~/.conda/envs/py37/lib/python3.7/site-packages/sklearn/model_selection/_search.py\u001b[0m in \u001b[0;36mevaluate_candidates\u001b[0;34m(candidate_params, cv, more_results)\u001b[0m\n\u001b[1;32m    807\u001b[0m                                    (split_idx, (train, test)) in product(\n\u001b[1;32m    808\u001b[0m                                    \u001b[0menumerate\u001b[0m\u001b[0;34m(\u001b[0m\u001b[0mcandidate_params\u001b[0m\u001b[0;34m)\u001b[0m\u001b[0;34m,\u001b[0m\u001b[0;34m\u001b[0m\u001b[0;34m\u001b[0m\u001b[0m\n\u001b[0;32m--> 809\u001b[0;31m                                    enumerate(cv.split(X, y, groups))))\n\u001b[0m\u001b[1;32m    810\u001b[0m \u001b[0;34m\u001b[0m\u001b[0m\n\u001b[1;32m    811\u001b[0m                 \u001b[0;32mif\u001b[0m \u001b[0mlen\u001b[0m\u001b[0;34m(\u001b[0m\u001b[0mout\u001b[0m\u001b[0;34m)\u001b[0m \u001b[0;34m<\u001b[0m \u001b[0;36m1\u001b[0m\u001b[0;34m:\u001b[0m\u001b[0;34m\u001b[0m\u001b[0;34m\u001b[0m\u001b[0m\n",
      "\u001b[0;32m~/.conda/envs/py37/lib/python3.7/site-packages/joblib/parallel.py\u001b[0m in \u001b[0;36m__call__\u001b[0;34m(self, iterable)\u001b[0m\n\u001b[1;32m   1052\u001b[0m \u001b[0;34m\u001b[0m\u001b[0m\n\u001b[1;32m   1053\u001b[0m             \u001b[0;32mwith\u001b[0m \u001b[0mself\u001b[0m\u001b[0;34m.\u001b[0m\u001b[0m_backend\u001b[0m\u001b[0;34m.\u001b[0m\u001b[0mretrieval_context\u001b[0m\u001b[0;34m(\u001b[0m\u001b[0;34m)\u001b[0m\u001b[0;34m:\u001b[0m\u001b[0;34m\u001b[0m\u001b[0;34m\u001b[0m\u001b[0m\n\u001b[0;32m-> 1054\u001b[0;31m                 \u001b[0mself\u001b[0m\u001b[0;34m.\u001b[0m\u001b[0mretrieve\u001b[0m\u001b[0;34m(\u001b[0m\u001b[0;34m)\u001b[0m\u001b[0;34m\u001b[0m\u001b[0;34m\u001b[0m\u001b[0m\n\u001b[0m\u001b[1;32m   1055\u001b[0m             \u001b[0;31m# Make sure that we get a last message telling us we are done\u001b[0m\u001b[0;34m\u001b[0m\u001b[0;34m\u001b[0m\u001b[0;34m\u001b[0m\u001b[0m\n\u001b[1;32m   1056\u001b[0m             \u001b[0melapsed_time\u001b[0m \u001b[0;34m=\u001b[0m \u001b[0mtime\u001b[0m\u001b[0;34m.\u001b[0m\u001b[0mtime\u001b[0m\u001b[0;34m(\u001b[0m\u001b[0;34m)\u001b[0m \u001b[0;34m-\u001b[0m \u001b[0mself\u001b[0m\u001b[0;34m.\u001b[0m\u001b[0m_start_time\u001b[0m\u001b[0;34m\u001b[0m\u001b[0;34m\u001b[0m\u001b[0m\n",
      "\u001b[0;32m~/.conda/envs/py37/lib/python3.7/site-packages/joblib/parallel.py\u001b[0m in \u001b[0;36mretrieve\u001b[0;34m(self)\u001b[0m\n\u001b[1;32m    953\u001b[0m                     \u001b[0;31m# scheduling.\u001b[0m\u001b[0;34m\u001b[0m\u001b[0;34m\u001b[0m\u001b[0;34m\u001b[0m\u001b[0m\n\u001b[1;32m    954\u001b[0m                     \u001b[0mensure_ready\u001b[0m \u001b[0;34m=\u001b[0m \u001b[0mself\u001b[0m\u001b[0;34m.\u001b[0m\u001b[0m_managed_backend\u001b[0m\u001b[0;34m\u001b[0m\u001b[0;34m\u001b[0m\u001b[0m\n\u001b[0;32m--> 955\u001b[0;31m                     \u001b[0mbackend\u001b[0m\u001b[0;34m.\u001b[0m\u001b[0mabort_everything\u001b[0m\u001b[0;34m(\u001b[0m\u001b[0mensure_ready\u001b[0m\u001b[0;34m=\u001b[0m\u001b[0mensure_ready\u001b[0m\u001b[0;34m)\u001b[0m\u001b[0;34m\u001b[0m\u001b[0;34m\u001b[0m\u001b[0m\n\u001b[0m\u001b[1;32m    956\u001b[0m                 \u001b[0;32mraise\u001b[0m\u001b[0;34m\u001b[0m\u001b[0;34m\u001b[0m\u001b[0m\n\u001b[1;32m    957\u001b[0m \u001b[0;34m\u001b[0m\u001b[0m\n",
      "\u001b[0;32m~/.conda/envs/py37/lib/python3.7/site-packages/joblib/_parallel_backends.py\u001b[0m in \u001b[0;36mabort_everything\u001b[0;34m(self, ensure_ready)\u001b[0m\n\u001b[1;32m    559\u001b[0m         \"\"\"Shutdown the workers and restart a new one with the same parameters\n\u001b[1;32m    560\u001b[0m         \"\"\"\n\u001b[0;32m--> 561\u001b[0;31m         \u001b[0mself\u001b[0m\u001b[0;34m.\u001b[0m\u001b[0m_workers\u001b[0m\u001b[0;34m.\u001b[0m\u001b[0mterminate\u001b[0m\u001b[0;34m(\u001b[0m\u001b[0mkill_workers\u001b[0m\u001b[0;34m=\u001b[0m\u001b[0;32mTrue\u001b[0m\u001b[0;34m)\u001b[0m\u001b[0;34m\u001b[0m\u001b[0;34m\u001b[0m\u001b[0m\n\u001b[0m\u001b[1;32m    562\u001b[0m         \u001b[0mself\u001b[0m\u001b[0;34m.\u001b[0m\u001b[0m_workers\u001b[0m \u001b[0;34m=\u001b[0m \u001b[0;32mNone\u001b[0m\u001b[0;34m\u001b[0m\u001b[0;34m\u001b[0m\u001b[0m\n\u001b[1;32m    563\u001b[0m \u001b[0;34m\u001b[0m\u001b[0m\n",
      "\u001b[0;32m~/.conda/envs/py37/lib/python3.7/site-packages/joblib/executor.py\u001b[0m in \u001b[0;36mterminate\u001b[0;34m(self, kill_workers)\u001b[0m\n\u001b[1;32m     72\u001b[0m \u001b[0;34m\u001b[0m\u001b[0m\n\u001b[1;32m     73\u001b[0m     \u001b[0;32mdef\u001b[0m \u001b[0mterminate\u001b[0m\u001b[0;34m(\u001b[0m\u001b[0mself\u001b[0m\u001b[0;34m,\u001b[0m \u001b[0mkill_workers\u001b[0m\u001b[0;34m=\u001b[0m\u001b[0;32mFalse\u001b[0m\u001b[0;34m)\u001b[0m\u001b[0;34m:\u001b[0m\u001b[0;34m\u001b[0m\u001b[0;34m\u001b[0m\u001b[0m\n\u001b[0;32m---> 74\u001b[0;31m         \u001b[0mself\u001b[0m\u001b[0;34m.\u001b[0m\u001b[0mshutdown\u001b[0m\u001b[0;34m(\u001b[0m\u001b[0mkill_workers\u001b[0m\u001b[0;34m=\u001b[0m\u001b[0mkill_workers\u001b[0m\u001b[0;34m)\u001b[0m\u001b[0;34m\u001b[0m\u001b[0;34m\u001b[0m\u001b[0m\n\u001b[0m\u001b[1;32m     75\u001b[0m         \u001b[0;32mif\u001b[0m \u001b[0mkill_workers\u001b[0m\u001b[0;34m:\u001b[0m\u001b[0;34m\u001b[0m\u001b[0;34m\u001b[0m\u001b[0m\n\u001b[1;32m     76\u001b[0m             \u001b[0;31m# When workers are killed in such a brutal manner, they cannot\u001b[0m\u001b[0;34m\u001b[0m\u001b[0;34m\u001b[0m\u001b[0;34m\u001b[0m\u001b[0m\n",
      "\u001b[0;32m~/.conda/envs/py37/lib/python3.7/site-packages/joblib/externals/loky/process_executor.py\u001b[0m in \u001b[0;36mshutdown\u001b[0;34m(self, wait, kill_workers)\u001b[0m\n\u001b[1;32m   1169\u001b[0m \u001b[0;34m\u001b[0m\u001b[0m\n\u001b[1;32m   1170\u001b[0m         \u001b[0;32mif\u001b[0m \u001b[0mexecutor_manager_thread\u001b[0m \u001b[0;32mis\u001b[0m \u001b[0;32mnot\u001b[0m \u001b[0;32mNone\u001b[0m \u001b[0;32mand\u001b[0m \u001b[0mwait\u001b[0m\u001b[0;34m:\u001b[0m\u001b[0;34m\u001b[0m\u001b[0;34m\u001b[0m\u001b[0m\n\u001b[0;32m-> 1171\u001b[0;31m             \u001b[0mexecutor_manager_thread\u001b[0m\u001b[0;34m.\u001b[0m\u001b[0mjoin\u001b[0m\u001b[0;34m(\u001b[0m\u001b[0;34m)\u001b[0m\u001b[0;34m\u001b[0m\u001b[0;34m\u001b[0m\u001b[0m\n\u001b[0m\u001b[1;32m   1172\u001b[0m \u001b[0;34m\u001b[0m\u001b[0m\n\u001b[1;32m   1173\u001b[0m         \u001b[0;31m# To reduce the risk of opening too many files, remove references to\u001b[0m\u001b[0;34m\u001b[0m\u001b[0;34m\u001b[0m\u001b[0;34m\u001b[0m\u001b[0m\n",
      "\u001b[0;32m~/.conda/envs/py37/lib/python3.7/threading.py\u001b[0m in \u001b[0;36mjoin\u001b[0;34m(self, timeout)\u001b[0m\n\u001b[1;32m   1042\u001b[0m \u001b[0;34m\u001b[0m\u001b[0m\n\u001b[1;32m   1043\u001b[0m         \u001b[0;32mif\u001b[0m \u001b[0mtimeout\u001b[0m \u001b[0;32mis\u001b[0m \u001b[0;32mNone\u001b[0m\u001b[0;34m:\u001b[0m\u001b[0;34m\u001b[0m\u001b[0;34m\u001b[0m\u001b[0m\n\u001b[0;32m-> 1044\u001b[0;31m             \u001b[0mself\u001b[0m\u001b[0;34m.\u001b[0m\u001b[0m_wait_for_tstate_lock\u001b[0m\u001b[0;34m(\u001b[0m\u001b[0;34m)\u001b[0m\u001b[0;34m\u001b[0m\u001b[0;34m\u001b[0m\u001b[0m\n\u001b[0m\u001b[1;32m   1045\u001b[0m         \u001b[0;32melse\u001b[0m\u001b[0;34m:\u001b[0m\u001b[0;34m\u001b[0m\u001b[0;34m\u001b[0m\u001b[0m\n\u001b[1;32m   1046\u001b[0m             \u001b[0;31m# the behavior of a negative timeout isn't documented, but\u001b[0m\u001b[0;34m\u001b[0m\u001b[0;34m\u001b[0m\u001b[0;34m\u001b[0m\u001b[0m\n",
      "\u001b[0;32m~/.conda/envs/py37/lib/python3.7/threading.py\u001b[0m in \u001b[0;36m_wait_for_tstate_lock\u001b[0;34m(self, block, timeout)\u001b[0m\n\u001b[1;32m   1058\u001b[0m         \u001b[0;32mif\u001b[0m \u001b[0mlock\u001b[0m \u001b[0;32mis\u001b[0m \u001b[0;32mNone\u001b[0m\u001b[0;34m:\u001b[0m  \u001b[0;31m# already determined that the C code is done\u001b[0m\u001b[0;34m\u001b[0m\u001b[0;34m\u001b[0m\u001b[0m\n\u001b[1;32m   1059\u001b[0m             \u001b[0;32massert\u001b[0m \u001b[0mself\u001b[0m\u001b[0;34m.\u001b[0m\u001b[0m_is_stopped\u001b[0m\u001b[0;34m\u001b[0m\u001b[0;34m\u001b[0m\u001b[0m\n\u001b[0;32m-> 1060\u001b[0;31m         \u001b[0;32melif\u001b[0m \u001b[0mlock\u001b[0m\u001b[0;34m.\u001b[0m\u001b[0macquire\u001b[0m\u001b[0;34m(\u001b[0m\u001b[0mblock\u001b[0m\u001b[0;34m,\u001b[0m \u001b[0mtimeout\u001b[0m\u001b[0;34m)\u001b[0m\u001b[0;34m:\u001b[0m\u001b[0;34m\u001b[0m\u001b[0;34m\u001b[0m\u001b[0m\n\u001b[0m\u001b[1;32m   1061\u001b[0m             \u001b[0mlock\u001b[0m\u001b[0;34m.\u001b[0m\u001b[0mrelease\u001b[0m\u001b[0;34m(\u001b[0m\u001b[0;34m)\u001b[0m\u001b[0;34m\u001b[0m\u001b[0;34m\u001b[0m\u001b[0m\n\u001b[1;32m   1062\u001b[0m             \u001b[0mself\u001b[0m\u001b[0;34m.\u001b[0m\u001b[0m_stop\u001b[0m\u001b[0;34m(\u001b[0m\u001b[0;34m)\u001b[0m\u001b[0;34m\u001b[0m\u001b[0;34m\u001b[0m\u001b[0m\n",
      "\u001b[0;31mKeyboardInterrupt\u001b[0m: "
     ]
    }
   ],
   "source": [
    "pipe = Pipeline(\n",
    "    steps = (\n",
    "        #('pca', PCA(CFG_ESM['num_pca_components'])),\n",
    "        ('model', 'passthrough'),\n",
    "    )\n",
    ")\n",
    "\n",
    "result_list = []\n",
    "grid_list = []\n",
    "for cls_name, param_grid in zip(cls_list, param_grid_list):\n",
    "    print(cls_name)\n",
    "    grid = GridSearchCV(\n",
    "        estimator = pipe,\n",
    "        param_grid = param_grid,\n",
    "        scoring = 'r2',\n",
    "        verbose = 1,\n",
    "        n_jobs = -1 # use all available cores\n",
    "    )\n",
    "    grid.fit(train_x, train_y)\n",
    "    result_list.append(pd.DataFrame.from_dict(grid.cv_results_))\n",
    "    grid_list.append(grid)"
   ]
  },
  {
   "cell_type": "code",
   "execution_count": 107,
   "id": "cd78f368",
   "metadata": {},
   "outputs": [
    {
     "data": {
      "text/html": [
       "<div>\n",
       "<style scoped>\n",
       "    .dataframe tbody tr th:only-of-type {\n",
       "        vertical-align: middle;\n",
       "    }\n",
       "\n",
       "    .dataframe tbody tr th {\n",
       "        vertical-align: top;\n",
       "    }\n",
       "\n",
       "    .dataframe thead th {\n",
       "        text-align: right;\n",
       "    }\n",
       "</style>\n",
       "<table border=\"1\" class=\"dataframe\">\n",
       "  <thead>\n",
       "    <tr style=\"text-align: right;\">\n",
       "      <th></th>\n",
       "      <th>mean_fit_time</th>\n",
       "      <th>std_fit_time</th>\n",
       "      <th>mean_score_time</th>\n",
       "      <th>std_score_time</th>\n",
       "      <th>param_model</th>\n",
       "      <th>param_model__algorithm</th>\n",
       "      <th>param_model__leaf_size</th>\n",
       "      <th>param_model__n_neighbors</th>\n",
       "      <th>param_model__p</th>\n",
       "      <th>param_model__weights</th>\n",
       "      <th>params</th>\n",
       "      <th>split0_test_score</th>\n",
       "      <th>split1_test_score</th>\n",
       "      <th>split2_test_score</th>\n",
       "      <th>split3_test_score</th>\n",
       "      <th>split4_test_score</th>\n",
       "      <th>mean_test_score</th>\n",
       "      <th>std_test_score</th>\n",
       "      <th>rank_test_score</th>\n",
       "    </tr>\n",
       "  </thead>\n",
       "  <tbody>\n",
       "    <tr>\n",
       "      <th>37</th>\n",
       "      <td>24.940001</td>\n",
       "      <td>1.102605</td>\n",
       "      <td>784.794163</td>\n",
       "      <td>56.551596</td>\n",
       "      <td>KNeighborsRegressor(algorithm='brute', leaf_si...</td>\n",
       "      <td>brute</td>\n",
       "      <td>15</td>\n",
       "      <td>10</td>\n",
       "      <td>1</td>\n",
       "      <td>distance</td>\n",
       "      <td>{'model': KNeighborsRegressor(algorithm='brute...</td>\n",
       "      <td>0.034148</td>\n",
       "      <td>0.021890</td>\n",
       "      <td>0.016545</td>\n",
       "      <td>0.027181</td>\n",
       "      <td>0.023350</td>\n",
       "      <td>0.024623</td>\n",
       "      <td>0.005859</td>\n",
       "      <td>1</td>\n",
       "    </tr>\n",
       "    <tr>\n",
       "      <th>13</th>\n",
       "      <td>21.898812</td>\n",
       "      <td>1.257736</td>\n",
       "      <td>1549.095191</td>\n",
       "      <td>154.386165</td>\n",
       "      <td>KNeighborsRegressor(algorithm='brute', leaf_si...</td>\n",
       "      <td>ball_tree</td>\n",
       "      <td>30</td>\n",
       "      <td>10</td>\n",
       "      <td>1</td>\n",
       "      <td>distance</td>\n",
       "      <td>{'model': KNeighborsRegressor(algorithm='brute...</td>\n",
       "      <td>0.034304</td>\n",
       "      <td>0.022149</td>\n",
       "      <td>0.016038</td>\n",
       "      <td>0.026353</td>\n",
       "      <td>0.022749</td>\n",
       "      <td>0.024319</td>\n",
       "      <td>0.005993</td>\n",
       "      <td>2</td>\n",
       "    </tr>\n",
       "    <tr>\n",
       "      <th>21</th>\n",
       "      <td>21.205238</td>\n",
       "      <td>1.121926</td>\n",
       "      <td>1584.779614</td>\n",
       "      <td>12.320256</td>\n",
       "      <td>KNeighborsRegressor(algorithm='brute', leaf_si...</td>\n",
       "      <td>kd_tree</td>\n",
       "      <td>15</td>\n",
       "      <td>10</td>\n",
       "      <td>1</td>\n",
       "      <td>distance</td>\n",
       "      <td>{'model': KNeighborsRegressor(algorithm='brute...</td>\n",
       "      <td>0.033984</td>\n",
       "      <td>0.021479</td>\n",
       "      <td>0.016119</td>\n",
       "      <td>0.026428</td>\n",
       "      <td>0.023241</td>\n",
       "      <td>0.024250</td>\n",
       "      <td>0.005904</td>\n",
       "      <td>3</td>\n",
       "    </tr>\n",
       "    <tr>\n",
       "      <th>5</th>\n",
       "      <td>44.644178</td>\n",
       "      <td>0.563542</td>\n",
       "      <td>1596.355875</td>\n",
       "      <td>152.728277</td>\n",
       "      <td>KNeighborsRegressor(algorithm='brute', leaf_si...</td>\n",
       "      <td>ball_tree</td>\n",
       "      <td>15</td>\n",
       "      <td>10</td>\n",
       "      <td>1</td>\n",
       "      <td>distance</td>\n",
       "      <td>{'model': KNeighborsRegressor(algorithm='brute...</td>\n",
       "      <td>0.033902</td>\n",
       "      <td>0.022106</td>\n",
       "      <td>0.016122</td>\n",
       "      <td>0.026255</td>\n",
       "      <td>0.022708</td>\n",
       "      <td>0.024219</td>\n",
       "      <td>0.005834</td>\n",
       "      <td>4</td>\n",
       "    </tr>\n",
       "    <tr>\n",
       "      <th>45</th>\n",
       "      <td>27.254893</td>\n",
       "      <td>1.317523</td>\n",
       "      <td>470.435175</td>\n",
       "      <td>12.558331</td>\n",
       "      <td>KNeighborsRegressor(algorithm='brute', leaf_si...</td>\n",
       "      <td>brute</td>\n",
       "      <td>30</td>\n",
       "      <td>10</td>\n",
       "      <td>1</td>\n",
       "      <td>distance</td>\n",
       "      <td>{'model': KNeighborsRegressor(algorithm='brute...</td>\n",
       "      <td>0.033724</td>\n",
       "      <td>0.021253</td>\n",
       "      <td>0.016182</td>\n",
       "      <td>0.026295</td>\n",
       "      <td>0.023326</td>\n",
       "      <td>0.024156</td>\n",
       "      <td>0.005811</td>\n",
       "      <td>5</td>\n",
       "    </tr>\n",
       "  </tbody>\n",
       "</table>\n",
       "</div>"
      ],
      "text/plain": [
       "    mean_fit_time  std_fit_time  mean_score_time  std_score_time  \\\n",
       "37      24.940001      1.102605       784.794163       56.551596   \n",
       "13      21.898812      1.257736      1549.095191      154.386165   \n",
       "21      21.205238      1.121926      1584.779614       12.320256   \n",
       "5       44.644178      0.563542      1596.355875      152.728277   \n",
       "45      27.254893      1.317523       470.435175       12.558331   \n",
       "\n",
       "                                          param_model param_model__algorithm  \\\n",
       "37  KNeighborsRegressor(algorithm='brute', leaf_si...                  brute   \n",
       "13  KNeighborsRegressor(algorithm='brute', leaf_si...              ball_tree   \n",
       "21  KNeighborsRegressor(algorithm='brute', leaf_si...                kd_tree   \n",
       "5   KNeighborsRegressor(algorithm='brute', leaf_si...              ball_tree   \n",
       "45  KNeighborsRegressor(algorithm='brute', leaf_si...                  brute   \n",
       "\n",
       "   param_model__leaf_size param_model__n_neighbors param_model__p  \\\n",
       "37                     15                       10              1   \n",
       "13                     30                       10              1   \n",
       "21                     15                       10              1   \n",
       "5                      15                       10              1   \n",
       "45                     30                       10              1   \n",
       "\n",
       "   param_model__weights                                             params  \\\n",
       "37             distance  {'model': KNeighborsRegressor(algorithm='brute...   \n",
       "13             distance  {'model': KNeighborsRegressor(algorithm='brute...   \n",
       "21             distance  {'model': KNeighborsRegressor(algorithm='brute...   \n",
       "5              distance  {'model': KNeighborsRegressor(algorithm='brute...   \n",
       "45             distance  {'model': KNeighborsRegressor(algorithm='brute...   \n",
       "\n",
       "    split0_test_score  split1_test_score  split2_test_score  \\\n",
       "37           0.034148           0.021890           0.016545   \n",
       "13           0.034304           0.022149           0.016038   \n",
       "21           0.033984           0.021479           0.016119   \n",
       "5            0.033902           0.022106           0.016122   \n",
       "45           0.033724           0.021253           0.016182   \n",
       "\n",
       "    split3_test_score  split4_test_score  mean_test_score  std_test_score  \\\n",
       "37           0.027181           0.023350         0.024623        0.005859   \n",
       "13           0.026353           0.022749         0.024319        0.005993   \n",
       "21           0.026428           0.023241         0.024250        0.005904   \n",
       "5            0.026255           0.022708         0.024219        0.005834   \n",
       "45           0.026295           0.023326         0.024156        0.005811   \n",
       "\n",
       "    rank_test_score  \n",
       "37                1  \n",
       "13                2  \n",
       "21                3  \n",
       "5                 4  \n",
       "45                5  "
      ]
     },
     "execution_count": 107,
     "metadata": {},
     "output_type": "execute_result"
    }
   ],
   "source": [
    "# KNN\n",
    "result_list[0].sort_values('rank_test_score')[:5]"
   ]
  },
  {
   "cell_type": "code",
   "execution_count": 109,
   "id": "a82ee1a2",
   "metadata": {},
   "outputs": [
    {
     "ename": "IndexError",
     "evalue": "list index out of range",
     "output_type": "error",
     "traceback": [
      "\u001b[0;31m---------------------------------------------------------------------------\u001b[0m",
      "\u001b[0;31mIndexError\u001b[0m                                Traceback (most recent call last)",
      "\u001b[0;32m<ipython-input-109-4d6c4ec272fb>\u001b[0m in \u001b[0;36m<module>\u001b[0;34m\u001b[0m\n\u001b[1;32m      1\u001b[0m \u001b[0;31m# SVM\u001b[0m\u001b[0;34m\u001b[0m\u001b[0;34m\u001b[0m\u001b[0;34m\u001b[0m\u001b[0m\n\u001b[0;32m----> 2\u001b[0;31m \u001b[0mresult_list\u001b[0m\u001b[0;34m[\u001b[0m\u001b[0;36m1\u001b[0m\u001b[0;34m]\u001b[0m\u001b[0;34m.\u001b[0m\u001b[0msort_values\u001b[0m\u001b[0;34m(\u001b[0m\u001b[0;34m'rank_test_score'\u001b[0m\u001b[0;34m)\u001b[0m\u001b[0;34m[\u001b[0m\u001b[0;34m:\u001b[0m\u001b[0;34m]\u001b[0m\u001b[0;34m\u001b[0m\u001b[0;34m\u001b[0m\u001b[0m\n\u001b[0m",
      "\u001b[0;31mIndexError\u001b[0m: list index out of range"
     ]
    }
   ],
   "source": [
    "# SVM\n",
    "result_list[1].sort_values('rank_test_score')[:5]"
   ]
  },
  {
   "cell_type": "code",
   "execution_count": null,
   "id": "0a6d2d42",
   "metadata": {},
   "outputs": [],
   "source": [
    "# Random Forest\n",
    "result_list[2].sort_values('rank_test_score')[:5]"
   ]
  },
  {
   "cell_type": "code",
   "execution_count": null,
   "id": "416c1573",
   "metadata": {},
   "outputs": [],
   "source": [
    "for grid in grid_list:\n",
    "    print(grid.best_estimator_.get_params()[\"steps\"][1][1]) # get the model details from the estimator\n",
    "    print()\n",
    "    preds = grid.predict(Xs_test)\n",
    "    print(f'{scipy.stats.spearmanr(ys_test, preds)}')\n",
    "    print('\\n', '-' * 80, '\\n')\n"
   ]
  },
  {
   "cell_type": "markdown",
   "id": "e4835757",
   "metadata": {},
   "source": [
    "# Sklearn"
   ]
  },
  {
   "cell_type": "code",
   "execution_count": 9,
   "id": "6296fd4e",
   "metadata": {},
   "outputs": [],
   "source": [
    "def preprocess_df(df):\n",
    "    df['epitope_len'] = df['end_position'] - df['start_position']\n",
    "    df = df.drop(['start_position', 'end_position'], axis=1)\n",
    "    return df"
   ]
  },
  {
   "cell_type": "code",
   "execution_count": 26,
   "id": "05419732",
   "metadata": {
    "scrolled": true
   },
   "outputs": [],
   "source": [
    "useless_columns = ['id', 'epitope_seq', 'antigen_seq', 'antigen_code', 'number_of_tested', 'number_of_responses',\n",
    "                   'reference_date',  'reference_IRI', 'reference_journal'] #'reference_title',\n",
    "                    #'epitope_len',] # 'start_position', 'end_position',\n",
    "\n",
    "df = pd.read_csv('./data/train.csv')\n",
    "df = preprocess_df(df)\n",
    "df = df.drop(useless_columns + ['qualitative_label'], axis=1)\n",
    "# 'start_position', 'end_position', 'number_of_tested', 'number_of_responses', 'assay_method_technique', \n",
    "# 'assay_group', 'disease_type', 'disease_state', 'reference_journal'\n",
    "test_df = pd.read_csv('./data/test.csv')\n",
    "test_df = preprocess_df(test_df)\n",
    "test_df = test_df.drop(useless_columns, axis=1)\n",
    "\n",
    "df_len = len(df)\n",
    "all_df = pd.concat([df, test_df]).fillna(-1)"
   ]
  },
  {
   "cell_type": "code",
   "execution_count": 27,
   "id": "48fc74e3",
   "metadata": {},
   "outputs": [],
   "source": [
    "all_df = pd.get_dummies(all_df) ###\n",
    "\n",
    "p_ = 0.8\n",
    "train_df = all_df.iloc[train_idx[:int(train_len*p_)]]\n",
    "val_df = all_df.iloc[int(train_len*p_):df_len]\n",
    "test_df = all_df.iloc[df_len:]"
   ]
  },
  {
   "cell_type": "code",
   "execution_count": 28,
   "id": "d8710a68",
   "metadata": {},
   "outputs": [],
   "source": [
    "train_x = train_df.drop(['label'], axis=1)\n",
    "train_y = train_df['label'].values\n",
    "\n",
    "val_x = val_df.drop(['label'], axis=1)\n",
    "val_y = val_df['label'].values\n",
    "\n",
    "test_x = test_df.drop(['label'], axis=1)\n",
    "\n",
    "all_x = all_df.drop(['label'], axis=1).values"
   ]
  },
  {
   "cell_type": "markdown",
   "id": "c1659cab",
   "metadata": {},
   "source": [
    "## 1. Random Forest"
   ]
  },
  {
   "cell_type": "code",
   "execution_count": 29,
   "id": "27337c92",
   "metadata": {},
   "outputs": [],
   "source": [
    "from sklearn.ensemble import RandomForestClassifier\n",
    "from sklearn.metrics import plot_confusion_matrix\n",
    "\n",
    "model_rf = RandomForestClassifier(\n",
    "    n_estimators=200,       # 랜덤포레스트를 구성할 의사결정나무의 수를 결정합니다.\n",
    "    max_depth=None,         # 의사결정나무의 최대깊이를 결정합니다.\n",
    "    n_jobs=-1               # 사용할 프로세서 수를 결정합니다.\n",
    ")"
   ]
  },
  {
   "cell_type": "code",
   "execution_count": 31,
   "id": "99fb13f6",
   "metadata": {
    "scrolled": true
   },
   "outputs": [
    {
     "name": "stdout",
     "output_type": "stream",
     "text": [
      "CPU times: user 20min 45s, sys: 6.01 s, total: 20min 51s\n",
      "Wall time: 34.8 s\n"
     ]
    },
    {
     "data": {
      "text/plain": [
       "RandomForestClassifier(n_estimators=200, n_jobs=-1)"
      ]
     },
     "execution_count": 31,
     "metadata": {},
     "output_type": "execute_result"
    }
   ],
   "source": [
    "%%time\n",
    "model_rf.fit(train_x, train_y)\n",
    "#print('Accuracy: ', model_rf.score(val_x, val_y, metric='f1') * 100)"
   ]
  },
  {
   "cell_type": "code",
   "execution_count": 32,
   "id": "404057aa",
   "metadata": {
    "scrolled": true
   },
   "outputs": [
    {
     "name": "stdout",
     "output_type": "stream",
     "text": [
      "Confusion Matrix\n",
      "[[32674   186]\n",
      " [ 2486  2817]]\n",
      "Accuracy:0.929985, Precision:0.938062, Recall:0.531209, F1:0.819511\n"
     ]
    },
    {
     "data": {
      "text/plain": [
       "(0.929984539999476, 0.938061938061938, 0.5312087497642843, 0.8195111379615051)"
      ]
     },
     "execution_count": 32,
     "metadata": {},
     "output_type": "execute_result"
    }
   ],
   "source": [
    "pred = model_rf.predict(val_x) ###\n",
    "get_clf_eval(val_y, pred)"
   ]
  },
  {
   "cell_type": "code",
   "execution_count": 118,
   "id": "86916fc1",
   "metadata": {
    "scrolled": true
   },
   "outputs": [
    {
     "name": "stdout",
     "output_type": "stream",
     "text": [
      "THRESHOLD: 0.2\n",
      "Confusion Matrix\n",
      "[[31289  1571]\n",
      " [ 2007  3296]]\n",
      "Accuracy:0.906244, Precision:0.677214, Recall:0.621535, F1:0.797048\n",
      "THRESHOLD: 0.25\n",
      "Confusion Matrix\n",
      "[[31346  1514]\n",
      " [ 2021  3282]]\n",
      "Accuracy:0.907371, Precision:0.684320, Recall:0.618895, F1:0.798294\n",
      "THRESHOLD: 0.3\n",
      "Confusion Matrix\n",
      "[[31883   977]\n",
      " [ 2214  3089]]\n",
      "Accuracy:0.916385, Precision:0.759715, Recall:0.582500, F1:0.805876\n",
      "THRESHOLD: 0.35\n",
      "Confusion Matrix\n",
      "[[32138   722]\n",
      " [ 2307  2996]]\n",
      "Accuracy:0.920630, Precision:0.805810, Recall:0.564963, F1:0.809612\n",
      "THRESHOLD: 0.4\n",
      "Confusion Matrix\n",
      "[[32347   513]\n",
      " [ 2414  2889]]\n",
      "Accuracy:0.923303, Precision:0.849206, Recall:0.544786, F1:0.810236\n",
      "THRESHOLD: 0.45\n",
      "Confusion Matrix\n",
      "[[32404   456]\n",
      " [ 2449  2854]]\n",
      "Accuracy:0.923879, Precision:0.862236, Recall:0.538186, F1:0.809909\n",
      "THRESHOLD: 0.5\n",
      "Confusion Matrix\n",
      "[[32458   402]\n",
      " [ 2489  2814]]\n",
      "Accuracy:0.924246, Precision:0.875000, Recall:0.530643, F1:0.809003\n",
      "THRESHOLD: 0.55\n",
      "Confusion Matrix\n",
      "[[32670   190]\n",
      " [ 2696  2607]]\n",
      "Accuracy:0.924377, Precision:0.932070, Recall:0.491609, F1:0.800702\n",
      "THRESHOLD: 0.6\n",
      "Confusion Matrix\n",
      "[[32670   190]\n",
      " [ 2699  2604]]\n",
      "Accuracy:0.924298, Precision:0.931997, Recall:0.491043, F1:0.800429\n",
      "THRESHOLD: 0.7\n",
      "Confusion Matrix\n",
      "[[32767    93]\n",
      " [ 2834  2469]]\n",
      "Accuracy:0.923303, Precision:0.963700, Recall:0.465586, F1:0.792545\n",
      "THRESHOLD: 0.8\n",
      "Confusion Matrix\n",
      "[[32792    68]\n",
      " [ 2924  2379]]\n",
      "Accuracy:0.921599, Precision:0.972211, Recall:0.448614, F1:0.785153\n"
     ]
    }
   ],
   "source": [
    "threshold_eval(model_rf, val_x, val_y)"
   ]
  },
  {
   "cell_type": "markdown",
   "id": "465b6e01",
   "metadata": {},
   "source": [
    "## 2. CATBoost"
   ]
  },
  {
   "cell_type": "code",
   "execution_count": 174,
   "id": "8a970bd4",
   "metadata": {},
   "outputs": [
    {
     "data": {
      "text/plain": [
       "Index(['assay_method_technique', 'assay_group', 'disease_type',\n",
       "       'disease_state', 'epitope_len'],\n",
       "      dtype='object')"
      ]
     },
     "execution_count": 174,
     "metadata": {},
     "output_type": "execute_result"
    }
   ],
   "source": [
    "train_x.columns"
   ]
  },
  {
   "cell_type": "code",
   "execution_count": 175,
   "id": "71df2c69",
   "metadata": {},
   "outputs": [],
   "source": [
    "from catboost import CatBoostClassifier # pip install catboost\n",
    "from sklearn.metrics import log_loss\n",
    "\n",
    "def objective(trial):\n",
    "    kwargs = {\n",
    "        #'task_type':'GPU',\n",
    "        'loss_function':'Logloss',\n",
    "        'eval_metric':'F1',\n",
    "        \"random_state\":CFG['SEED'],\n",
    "        'learning_rate' : trial.suggest_loguniform('learning_rate', 0.01, 0.3),\n",
    "        'bagging_temperature' :trial.suggest_loguniform('bagging_temperature', 0.01, 100.00),\n",
    "        \"n_estimators\":trial.suggest_int(\"n_estimators\", 1000, 10000),\n",
    "        \"max_depth\":trial.suggest_int(\"max_depth\", 4, 16), # 16\n",
    "        'random_strength' :trial.suggest_int('random_strength', 0, 100),\n",
    "        \"colsample_bylevel\":trial.suggest_float(\"colsample_bylevel\", 0.4, 1.0),\n",
    "        \"l2_leaf_reg\":trial.suggest_float(\"l2_leaf_reg\",1e-8,3e-5),\n",
    "        \"min_child_samples\": trial.suggest_int(\"min_child_samples\", 5, 100),\n",
    "        \"max_bin\": trial.suggest_int(\"max_bin\", 200, 500),\n",
    "        'od_type': trial.suggest_categorical('od_type', ['IncToDec', 'Iter']),\n",
    "    }\n",
    "    \n",
    "    model_cat = CatBoostClassifier(**kwargs)\n",
    "    \n",
    "    %time\n",
    "    model_cat.fit(train_x, train_y,\n",
    "          eval_set=[(train_x, train_y), (val_x, val_y)],\n",
    "          early_stopping_rounds=70, cat_features=cat_features,\n",
    "          verbose=100)\n",
    "    \n",
    "    pred = model_cat.predict_proba(val_x)\n",
    "    log_score = log_loss(val_y, pred)\n",
    "    return log_score"
   ]
  },
  {
   "cell_type": "code",
   "execution_count": 176,
   "id": "61243029",
   "metadata": {
    "scrolled": true
   },
   "outputs": [
    {
     "name": "stderr",
     "output_type": "stream",
     "text": [
      "\u001b[32m[I 2022-07-26 13:43:27,465]\u001b[0m A new study created in memory with name: catboost_hparams\u001b[0m\n"
     ]
    },
    {
     "name": "stdout",
     "output_type": "stream",
     "text": [
      "CPU times: user 0 ns, sys: 9 µs, total: 9 µs\n",
      "Wall time: 16.2 µs\n",
      "0:\tlearn: 0.0974376\ttest: 0.0918100\ttest1: 0.0447789\tbest: 0.0447789 (0)\ttotal: 125ms\tremaining: 14m 46s\n",
      "100:\tlearn: 0.4735206\ttest: 0.4928193\ttest1: 0.5978456\tbest: 0.5978456 (100)\ttotal: 6.58s\tremaining: 7m 35s\n",
      "200:\tlearn: 0.5057710\ttest: 0.5194484\ttest1: 0.6121831\tbest: 0.6124197 (180)\ttotal: 12.7s\tremaining: 7m 15s\n",
      "300:\tlearn: 0.5133737\ttest: 0.5245222\ttest1: 0.6134242\tbest: 0.6134242 (300)\ttotal: 19.1s\tremaining: 7m 10s\n",
      "400:\tlearn: 0.5163611\ttest: 0.5262949\ttest1: 0.6139687\tbest: 0.6139687 (387)\ttotal: 25.5s\tremaining: 7m 6s\n",
      "500:\tlearn: 0.5181311\ttest: 0.5271888\ttest1: 0.6132763\tbest: 0.6144760 (457)\ttotal: 32s\tremaining: 7m 1s\n",
      "600:\tlearn: 0.5282264\ttest: 0.5387479\ttest1: 0.6148437\tbest: 0.6153074 (545)\ttotal: 39.4s\tremaining: 7m 5s\n",
      "700:\tlearn: 0.5370217\ttest: 0.5477439\ttest1: 0.6171816\tbest: 0.6171816 (690)\ttotal: 46.7s\tremaining: 7m 6s\n",
      "800:\tlearn: 0.5416041\ttest: 0.5519906\ttest1: 0.6185877\tbest: 0.6185877 (783)\ttotal: 54.6s\tremaining: 7m 8s\n",
      "Stopped by overfitting detector  (70 iterations wait)\n",
      "\n",
      "bestTest = 0.6189341693\n",
      "bestIteration = 808\n",
      "\n",
      "Shrink model to first 809 iterations.\n"
     ]
    },
    {
     "name": "stderr",
     "output_type": "stream",
     "text": [
      "\u001b[32m[I 2022-07-26 13:44:30,276]\u001b[0m Trial 0 finished with value: 0.22934075622524344 and parameters: {'learning_rate': 0.0234771090882268, 'bagging_temperature': 0.01528914792998402, 'n_estimators': 7092, 'max_depth': 4, 'random_strength': 11, 'colsample_bylevel': 0.7623194133692879, 'l2_leaf_reg': 5.736010576764376e-06, 'min_child_samples': 69, 'max_bin': 476, 'od_type': 'IncToDec'}. Best is trial 0 with value: 0.22934075622524344.\u001b[0m\n"
     ]
    },
    {
     "name": "stdout",
     "output_type": "stream",
     "text": [
      "CPU times: user 6 µs, sys: 1e+03 ns, total: 7 µs\n",
      "Wall time: 11.4 µs\n",
      "0:\tlearn: 0.0920211\ttest: 0.0921601\ttest1: 0.1302588\tbest: 0.1302588 (0)\ttotal: 259ms\tremaining: 16m 37s\n",
      "100:\tlearn: 0.5096647\ttest: 0.5143555\ttest1: 0.6092027\tbest: 0.6092027 (100)\ttotal: 14s\tremaining: 8m 39s\n",
      "200:\tlearn: 0.5481561\ttest: 0.5491572\ttest1: 0.6279501\tbest: 0.6280420 (174)\ttotal: 28.4s\tremaining: 8m 36s\n",
      "300:\tlearn: 0.5611720\ttest: 0.5538941\ttest1: 0.6304642\tbest: 0.6306328 (291)\ttotal: 42.9s\tremaining: 8m 26s\n",
      "400:\tlearn: 0.5683282\ttest: 0.5564929\ttest1: 0.6276161\tbest: 0.6311385 (333)\ttotal: 55.9s\tremaining: 8m 1s\n",
      "Stopped by overfitting detector  (70 iterations wait)\n",
      "\n",
      "bestTest = 0.6311384615\n",
      "bestIteration = 333\n",
      "\n",
      "Shrink model to first 334 iterations.\n"
     ]
    },
    {
     "name": "stderr",
     "output_type": "stream",
     "text": [
      "\u001b[32m[I 2022-07-26 13:45:27,618]\u001b[0m Trial 1 finished with value: 0.2286953450562216 and parameters: {'learning_rate': 0.02618635181276284, 'bagging_temperature': 0.05560694930772057, 'n_estimators': 3854, 'max_depth': 10, 'random_strength': 7, 'colsample_bylevel': 0.8229895429470133, 'l2_leaf_reg': 9.447161250046411e-06, 'min_child_samples': 76, 'max_bin': 319, 'od_type': 'Iter'}. Best is trial 1 with value: 0.2286953450562216.\u001b[0m\n"
     ]
    },
    {
     "name": "stdout",
     "output_type": "stream",
     "text": [
      "CPU times: user 10 µs, sys: 3 µs, total: 13 µs\n",
      "Wall time: 25.5 µs\n",
      "0:\tlearn: 0.0610644\ttest: 0.0415917\ttest1: 0.0307864\tbest: 0.0307864 (0)\ttotal: 148ms\tremaining: 7m 37s\n",
      "100:\tlearn: 0.5038883\ttest: 0.5177981\ttest1: 0.6050228\tbest: 0.6050228 (100)\ttotal: 11.4s\tremaining: 5m 37s\n",
      "200:\tlearn: 0.5278843\ttest: 0.5351767\ttest1: 0.6214535\tbest: 0.6214535 (200)\ttotal: 22s\tremaining: 5m 15s\n",
      "300:\tlearn: 0.5363325\ttest: 0.5391960\ttest1: 0.6241311\tbest: 0.6244254 (286)\ttotal: 31.2s\tremaining: 4m 49s\n",
      "400:\tlearn: 0.5869596\ttest: 0.5827567\ttest1: 0.6297161\tbest: 0.6297161 (400)\ttotal: 45.8s\tremaining: 5m 7s\n",
      "500:\tlearn: 0.6149195\ttest: 0.5994648\ttest1: 0.6394839\tbest: 0.6394839 (498)\ttotal: 1m 4s\tremaining: 5m 33s\n"
     ]
    },
    {
     "name": "stderr",
     "output_type": "stream",
     "text": [
      "Training has stopped (degenerate solution on iteration 544, probably too small l2-regularization, try to increase it)\n"
     ]
    },
    {
     "name": "stdout",
     "output_type": "stream",
     "text": [
      "\n",
      "bestTest = 0.6471641791\n",
      "bestIteration = 528\n",
      "\n",
      "Shrink model to first 529 iterations.\n"
     ]
    },
    {
     "name": "stderr",
     "output_type": "stream",
     "text": [
      "\u001b[32m[I 2022-07-26 13:46:41,283]\u001b[0m Trial 2 finished with value: 0.22140615661173169 and parameters: {'learning_rate': 0.041974715540436816, 'bagging_temperature': 0.3763854729762455, 'n_estimators': 3090, 'max_depth': 9, 'random_strength': 37, 'colsample_bylevel': 0.7501636238368523, 'l2_leaf_reg': 3.009940951081814e-06, 'min_child_samples': 76, 'max_bin': 225, 'od_type': 'Iter'}. Best is trial 2 with value: 0.22140615661173169.\u001b[0m\n"
     ]
    },
    {
     "name": "stdout",
     "output_type": "stream",
     "text": [
      "CPU times: user 13 µs, sys: 2 µs, total: 15 µs\n",
      "Wall time: 29.3 µs\n",
      "0:\tlearn: 0.2615293\ttest: 0.2601871\ttest1: 0.3158519\tbest: 0.3158519 (0)\ttotal: 260ms\tremaining: 15m 18s\n",
      "100:\tlearn: 0.5274606\ttest: 0.5243453\ttest1: 0.6182910\tbest: 0.6188094 (92)\ttotal: 12.9s\tremaining: 7m 17s\n"
     ]
    },
    {
     "name": "stderr",
     "output_type": "stream",
     "text": [
      "Training has stopped (degenerate solution on iteration 196, probably too small l2-regularization, try to increase it)\n"
     ]
    },
    {
     "name": "stdout",
     "output_type": "stream",
     "text": [
      "\n",
      "bestTest = 0.6313841599\n",
      "bestIteration = 186\n",
      "\n",
      "Shrink model to first 187 iterations.\n"
     ]
    },
    {
     "name": "stderr",
     "output_type": "stream",
     "text": [
      "\u001b[32m[I 2022-07-26 13:47:13,654]\u001b[0m Trial 3 finished with value: 0.22504262411162446 and parameters: {'learning_rate': 0.08905976994939424, 'bagging_temperature': 99.51462685125072, 'n_estimators': 3529, 'max_depth': 11, 'random_strength': 88, 'colsample_bylevel': 0.8736035313829214, 'l2_leaf_reg': 6.55044993743618e-06, 'min_child_samples': 38, 'max_bin': 417, 'od_type': 'Iter'}. Best is trial 2 with value: 0.22140615661173169.\u001b[0m\n"
     ]
    },
    {
     "name": "stdout",
     "output_type": "stream",
     "text": [
      "CPU times: user 8 µs, sys: 2 µs, total: 10 µs\n",
      "Wall time: 17.6 µs\n",
      "0:\tlearn: 0.2802071\ttest: 0.2784015\ttest1: 0.3216701\tbest: 0.3216701 (0)\ttotal: 175ms\tremaining: 24m 33s\n",
      "100:\tlearn: 0.5104705\ttest: 0.5112089\ttest1: 0.6111181\tbest: 0.6111955 (95)\ttotal: 1m 18s\tremaining: 1h 48m 19s\n",
      "200:\tlearn: 0.5461386\ttest: 0.5366998\ttest1: 0.6230855\tbest: 0.6230855 (200)\ttotal: 2m 32s\tremaining: 1h 44m 3s\n",
      "300:\tlearn: 0.5612424\ttest: 0.5498137\ttest1: 0.6244558\tbest: 0.6246269 (283)\ttotal: 3m 53s\tremaining: 1h 45m 9s\n",
      "400:\tlearn: 0.5683502\ttest: 0.5507943\ttest1: 0.6261647\tbest: 0.6262425 (393)\ttotal: 4m 58s\tremaining: 1h 39m 50s\n",
      "500:\tlearn: 0.5745738\ttest: 0.5562869\ttest1: 0.6322628\tbest: 0.6322628 (489)\ttotal: 5m 58s\tremaining: 1h 34m 35s\n",
      "600:\tlearn: 0.6006694\ttest: 0.5812389\ttest1: 0.6346341\tbest: 0.6346341 (595)\ttotal: 7m 36s\tremaining: 1h 39m 9s\n"
     ]
    },
    {
     "name": "stderr",
     "output_type": "stream",
     "text": [
      "Training has stopped (degenerate solution on iteration 619, probably too small l2-regularization, try to increase it)\n"
     ]
    },
    {
     "name": "stdout",
     "output_type": "stream",
     "text": [
      "\n",
      "bestTest = 0.6387675885\n",
      "bestIteration = 617\n",
      "\n",
      "Shrink model to first 618 iterations.\n"
     ]
    },
    {
     "name": "stderr",
     "output_type": "stream",
     "text": [
      "\u001b[32m[I 2022-07-26 13:55:21,280]\u001b[0m Trial 4 finished with value: 0.22531876694062095 and parameters: {'learning_rate': 0.022961749622373937, 'bagging_temperature': 0.13509921518832224, 'n_estimators': 8437, 'max_depth': 15, 'random_strength': 14, 'colsample_bylevel': 0.5680430967271756, 'l2_leaf_reg': 1.575982269938329e-05, 'min_child_samples': 91, 'max_bin': 381, 'od_type': 'IncToDec'}. Best is trial 2 with value: 0.22140615661173169.\u001b[0m\n"
     ]
    },
    {
     "name": "stdout",
     "output_type": "stream",
     "text": [
      "CPU times: user 11 µs, sys: 2 µs, total: 13 µs\n",
      "Wall time: 26 µs\n",
      "0:\tlearn: 0.1700019\ttest: 0.1703916\ttest1: 0.2570900\tbest: 0.2570900 (0)\ttotal: 123ms\tremaining: 14m 16s\n",
      "100:\tlearn: 0.4955542\ttest: 0.4967381\ttest1: 0.5989222\tbest: 0.5989222 (100)\ttotal: 1m 29s\tremaining: 1h 41m 7s\n",
      "200:\tlearn: 0.5294205\ttest: 0.5287756\ttest1: 0.6239603\tbest: 0.6239603 (180)\ttotal: 2m 35s\tremaining: 1h 27m 28s\n",
      "300:\tlearn: 0.5392825\ttest: 0.5340965\ttest1: 0.6251239\tbest: 0.6251239 (289)\ttotal: 3m 52s\tremaining: 1h 25m 45s\n",
      "Stopped by overfitting detector  (70 iterations wait)\n",
      "\n",
      "bestTest = 0.625123885\n",
      "bestIteration = 289\n",
      "\n",
      "Shrink model to first 290 iterations.\n"
     ]
    },
    {
     "name": "stderr",
     "output_type": "stream",
     "text": [
      "\u001b[32m[I 2022-07-26 13:59:46,861]\u001b[0m Trial 5 finished with value: 0.24369855326585216 and parameters: {'learning_rate': 0.02561150352358439, 'bagging_temperature': 0.042184056503128044, 'n_estimators': 6974, 'max_depth': 16, 'random_strength': 68, 'colsample_bylevel': 0.9177896421449943, 'l2_leaf_reg': 2.7346082651107284e-05, 'min_child_samples': 83, 'max_bin': 449, 'od_type': 'Iter'}. Best is trial 2 with value: 0.22140615661173169.\u001b[0m\n"
     ]
    },
    {
     "name": "stdout",
     "output_type": "stream",
     "text": [
      "CPU times: user 5 µs, sys: 1e+03 ns, total: 6 µs\n",
      "Wall time: 13.4 µs\n",
      "0:\tlearn: 0.0257006\ttest: 0.0245854\ttest1: 0.0216136\tbest: 0.0216136 (0)\ttotal: 211ms\tremaining: 18m 39s\n",
      "100:\tlearn: 0.4911547\ttest: 0.5025830\ttest1: 0.5977954\tbest: 0.5977954 (100)\ttotal: 9.57s\tremaining: 8m 13s\n",
      "200:\tlearn: 0.5178413\ttest: 0.5262843\ttest1: 0.6195353\tbest: 0.6195353 (194)\ttotal: 18.7s\tremaining: 7m 56s\n",
      "300:\tlearn: 0.5228429\ttest: 0.5292335\ttest1: 0.6198378\tbest: 0.6202247 (237)\ttotal: 27.4s\tremaining: 7m 35s\n",
      "Stopped by overfitting detector  (70 iterations wait)\n",
      "\n",
      "bestTest = 0.6202247191\n",
      "bestIteration = 237\n",
      "\n",
      "Shrink model to first 238 iterations.\n"
     ]
    },
    {
     "name": "stderr",
     "output_type": "stream",
     "text": [
      "\u001b[32m[I 2022-07-26 14:00:15,711]\u001b[0m Trial 6 finished with value: 0.24825895466509978 and parameters: {'learning_rate': 0.024739845986990937, 'bagging_temperature': 0.33177651348521187, 'n_estimators': 5313, 'max_depth': 8, 'random_strength': 44, 'colsample_bylevel': 0.7349615043348889, 'l2_leaf_reg': 1.1815578220552088e-05, 'min_child_samples': 60, 'max_bin': 313, 'od_type': 'Iter'}. Best is trial 2 with value: 0.22140615661173169.\u001b[0m\n"
     ]
    },
    {
     "name": "stdout",
     "output_type": "stream",
     "text": [
      "CPU times: user 4 µs, sys: 1 µs, total: 5 µs\n",
      "Wall time: 10.3 µs\n",
      "0:\tlearn: 0.1378400\ttest: 0.1378991\ttest1: 0.0847488\tbest: 0.0847488 (0)\ttotal: 112ms\tremaining: 13m 22s\n",
      "100:\tlearn: 0.5251756\ttest: 0.5418786\ttest1: 0.6208955\tbest: 0.6225478 (74)\ttotal: 6.59s\tremaining: 7m 39s\n",
      "200:\tlearn: 0.5627265\ttest: 0.5735273\ttest1: 0.6223437\tbest: 0.6252936 (172)\ttotal: 15.4s\tremaining: 8m 52s\n",
      "300:\tlearn: 0.5805761\ttest: 0.5882407\ttest1: 0.6405386\tbest: 0.6449774 (289)\ttotal: 25s\tremaining: 9m 27s\n",
      "Stopped by overfitting detector  (70 iterations wait)\n",
      "\n",
      "bestTest = 0.6452072693\n",
      "bestIteration = 302\n",
      "\n",
      "Shrink model to first 303 iterations.\n"
     ]
    },
    {
     "name": "stderr",
     "output_type": "stream",
     "text": [
      "\u001b[32m[I 2022-07-26 14:00:47,703]\u001b[0m Trial 7 finished with value: 0.22286895662405537 and parameters: {'learning_rate': 0.1092571405620448, 'bagging_temperature': 8.893415217483462, 'n_estimators': 7143, 'max_depth': 5, 'random_strength': 19, 'colsample_bylevel': 0.7090004467571371, 'l2_leaf_reg': 2.5663326334831094e-05, 'min_child_samples': 8, 'max_bin': 257, 'od_type': 'IncToDec'}. Best is trial 2 with value: 0.22140615661173169.\u001b[0m\n"
     ]
    },
    {
     "name": "stdout",
     "output_type": "stream",
     "text": [
      "CPU times: user 9 µs, sys: 2 µs, total: 11 µs\n",
      "Wall time: 18.4 µs\n",
      "0:\tlearn: 0.2361312\ttest: 0.2390977\ttest1: 0.2524182\tbest: 0.2524182 (0)\ttotal: 192ms\tremaining: 15m 41s\n",
      "100:\tlearn: 0.5181972\ttest: 0.5252354\ttest1: 0.6134613\tbest: 0.6134613 (90)\ttotal: 10.2s\tremaining: 8m 6s\n",
      "200:\tlearn: 0.5359689\ttest: 0.5405644\ttest1: 0.6246119\tbest: 0.6246119 (200)\ttotal: 19.2s\tremaining: 7m 30s\n",
      "300:\tlearn: 0.6037047\ttest: 0.5871302\ttest1: 0.6367855\tbest: 0.6378010 (293)\ttotal: 33.1s\tremaining: 8m 27s\n",
      "400:\tlearn: 0.6336314\ttest: 0.6075430\ttest1: 0.6464816\tbest: 0.6469815 (384)\ttotal: 49.9s\tremaining: 9m 22s\n",
      "500:\tlearn: 0.6491091\ttest: 0.6074864\ttest1: 0.6495950\tbest: 0.6499107 (479)\ttotal: 1m 7s\tremaining: 9m 50s\n",
      "Stopped by overfitting detector  (70 iterations wait)\n",
      "\n",
      "bestTest = 0.6499106611\n",
      "bestIteration = 479\n",
      "\n",
      "Shrink model to first 480 iterations.\n"
     ]
    },
    {
     "name": "stderr",
     "output_type": "stream",
     "text": [
      "\u001b[32m[I 2022-07-26 14:02:04,862]\u001b[0m Trial 8 finished with value: 0.21955903827140089 and parameters: {'learning_rate': 0.059956184945699265, 'bagging_temperature': 43.407138326690486, 'n_estimators': 4914, 'max_depth': 10, 'random_strength': 48, 'colsample_bylevel': 0.48889665561342327, 'l2_leaf_reg': 1.688670624812303e-05, 'min_child_samples': 55, 'max_bin': 466, 'od_type': 'IncToDec'}. Best is trial 8 with value: 0.21955903827140089.\u001b[0m\n"
     ]
    },
    {
     "name": "stdout",
     "output_type": "stream",
     "text": [
      "CPU times: user 6 µs, sys: 1e+03 ns, total: 7 µs\n",
      "Wall time: 11 µs\n",
      "0:\tlearn: 0.1950690\ttest: 0.1976033\ttest1: 0.1855325\tbest: 0.1855325 (0)\ttotal: 204ms\tremaining: 14m 13s\n",
      "100:\tlearn: 0.4970205\ttest: 0.5062563\ttest1: 0.6012239\tbest: 0.6012239 (100)\ttotal: 9.35s\tremaining: 6m 17s\n",
      "200:\tlearn: 0.5163308\ttest: 0.5250336\ttest1: 0.6194757\tbest: 0.6197253 (178)\ttotal: 17.7s\tremaining: 5m 49s\n",
      "300:\tlearn: 0.5269791\ttest: 0.5331494\ttest1: 0.6219512\tbest: 0.6221502 (274)\ttotal: 26.5s\tremaining: 5m 41s\n",
      "400:\tlearn: 0.5320183\ttest: 0.5365565\ttest1: 0.6229508\tbest: 0.6230282 (371)\ttotal: 35.2s\tremaining: 5m 31s\n",
      "Stopped by overfitting detector  (70 iterations wait)\n",
      "\n",
      "bestTest = 0.6233862959\n",
      "bestIteration = 405\n",
      "\n",
      "Shrink model to first 406 iterations.\n"
     ]
    },
    {
     "name": "stderr",
     "output_type": "stream",
     "text": [
      "\u001b[32m[I 2022-07-26 14:02:49,872]\u001b[0m Trial 9 finished with value: 0.23998457695906245 and parameters: {'learning_rate': 0.031248388717933052, 'bagging_temperature': 3.804360161439235, 'n_estimators': 4176, 'max_depth': 8, 'random_strength': 32, 'colsample_bylevel': 0.5020655125060984, 'l2_leaf_reg': 1.0194033990418384e-05, 'min_child_samples': 59, 'max_bin': 411, 'od_type': 'IncToDec'}. Best is trial 8 with value: 0.21955903827140089.\u001b[0m\n"
     ]
    },
    {
     "name": "stdout",
     "output_type": "stream",
     "text": [
      "Best Score: 0.21955903827140089\n",
      "Best trial {'learning_rate': 0.059956184945699265, 'bagging_temperature': 43.407138326690486, 'n_estimators': 4914, 'max_depth': 10, 'random_strength': 48, 'colsample_bylevel': 0.48889665561342327, 'l2_leaf_reg': 1.688670624812303e-05, 'min_child_samples': 55, 'max_bin': 466, 'od_type': 'IncToDec'}\n"
     ]
    }
   ],
   "source": [
    "import optuna # pip install optuna\n",
    "from optuna.samplers import TPESampler\n",
    "\n",
    "cat_features =[0,1,2,3]\n",
    "\n",
    "sampler = TPESampler(seed=CFG['SEED'])\n",
    "study = optuna.create_study(\n",
    "    study_name = 'catboost_hparams',\n",
    "    direction = 'minimize',\n",
    "    sampler = sampler,\n",
    ")\n",
    "study.optimize(objective, n_trials=10)\n",
    "print(\"Best Score:\",study.best_value)\n",
    "print(\"Best trial\",study.best_trial.params)"
   ]
  },
  {
   "cell_type": "code",
   "execution_count": 178,
   "id": "03c2a8a5",
   "metadata": {},
   "outputs": [
    {
     "name": "stdout",
     "output_type": "stream",
     "text": [
      "0:\tlearn: 0.6343197\ttest: 0.6342814\ttest1: 0.6504337\tbest: 0.6504337 (0)\ttotal: 68.7ms\tremaining: 5m 37s\n",
      "100:\tlearn: 0.1818262\ttest: 0.1807389\ttest1: 0.2512025\tbest: 0.2512025 (100)\ttotal: 10.8s\tremaining: 8m 35s\n",
      "200:\tlearn: 0.1776864\ttest: 0.1775536\ttest1: 0.2428536\tbest: 0.2428536 (200)\ttotal: 21.3s\tremaining: 8m 20s\n",
      "300:\tlearn: 0.2088172\ttest: 0.1674299\ttest1: 0.2227983\tbest: 0.2227983 (300)\ttotal: 36.8s\tremaining: 9m 24s\n",
      "400:\tlearn: 0.7519910\ttest: 0.1645428\ttest1: 0.2194292\tbest: 0.2194292 (400)\ttotal: 55.5s\tremaining: 10m 25s\n",
      "500:\tlearn: 0.7482762\ttest: 0.1641463\ttest1: 0.2192282\tbest: 0.2192282 (500)\ttotal: 1m 14s\tremaining: 10m 54s\n",
      "Stopped by overfitting detector  (70 iterations wait)\n",
      "\n",
      "bestTest = 0.2192167852\n",
      "bestIteration = 501\n",
      "\n",
      "Shrink model to first 502 iterations.\n"
     ]
    },
    {
     "data": {
      "text/plain": [
       "<catboost.core.CatBoostClassifier at 0x7f1970d9df50>"
      ]
     },
     "execution_count": 178,
     "metadata": {},
     "output_type": "execute_result"
    }
   ],
   "source": [
    "model_cat = CatBoostClassifier(**study.best_params)\n",
    "model_cat.fit(train_x, train_y,\n",
    "          eval_set=[(train_x, train_y), (val_x, val_y)],\n",
    "          early_stopping_rounds=70, cat_features=cat_features,\n",
    "          verbose=100)"
   ]
  },
  {
   "cell_type": "code",
   "execution_count": 179,
   "id": "d22ea636",
   "metadata": {
    "scrolled": true
   },
   "outputs": [
    {
     "name": "stdout",
     "output_type": "stream",
     "text": [
      "Confusion Matrix\n",
      "[[32538   322]\n",
      " [ 2646  2657]]\n",
      "Accuracy:0.922228, Precision:0.891910, Recall:0.501037, F1:0.799007\n"
     ]
    },
    {
     "data": {
      "text/plain": [
       "(0.9222283363467233, 0.8919100369251427, 0.5010371487837073, 0.799006810528483)"
      ]
     },
     "execution_count": 179,
     "metadata": {},
     "output_type": "execute_result"
    }
   ],
   "source": [
    "pred = model_cat.predict(val_x) ###\n",
    "get_clf_eval(val_y, pred)"
   ]
  },
  {
   "cell_type": "code",
   "execution_count": null,
   "id": "05c25e3d",
   "metadata": {
    "scrolled": true
   },
   "outputs": [],
   "source": [
    "threshold_eval(model_cat, val_x, val_y)"
   ]
  },
  {
   "cell_type": "code",
   "execution_count": null,
   "id": "dc7e1392",
   "metadata": {},
   "outputs": [],
   "source": []
  },
  {
   "cell_type": "markdown",
   "id": "9dbde206",
   "metadata": {},
   "source": [
    "# sklearn Inference(test)"
   ]
  },
  {
   "cell_type": "code",
   "execution_count": 34,
   "id": "2f71a763",
   "metadata": {
    "scrolled": true
   },
   "outputs": [],
   "source": [
    "pred = model_rf.predict(test_x) ###"
   ]
  },
  {
   "cell_type": "code",
   "execution_count": 35,
   "id": "3c74547c-a57d-4ac2-9036-cdbf5ac952aa",
   "metadata": {},
   "outputs": [],
   "source": [
    "submit = pd.read_csv('./data/sample_submission.csv')\n",
    "submit['label'] = pred.astype(np.int32)"
   ]
  },
  {
   "cell_type": "code",
   "execution_count": 36,
   "id": "4aa20c89-f3d4-44c2-a2b0-dbd9fb506288",
   "metadata": {},
   "outputs": [
    {
     "name": "stdout",
     "output_type": "stream",
     "text": [
      "Done.\n"
     ]
    }
   ],
   "source": [
    "submit.to_csv('./submit.csv', index=False)\n",
    "print('Done.')"
   ]
  },
  {
   "cell_type": "code",
   "execution_count": 119,
   "id": "91b7004a",
   "metadata": {},
   "outputs": [],
   "source": [
    "# Save prediction\n",
    "pred_all = model_rf.predict(all_x) ###\n",
    "np.save('rf_prob.npy',pred_all)"
   ]
  },
  {
   "cell_type": "markdown",
   "id": "a39f743e",
   "metadata": {},
   "source": [
    "# Threshold 미만 index 뽑기(LSTM으로 inference용)"
   ]
  },
  {
   "cell_type": "code",
   "execution_count": 52,
   "id": "be377d4d",
   "metadata": {},
   "outputs": [],
   "source": [
    "p = 0.2\n",
    "pred_p = model_rf.predict_proba(test_x) ###\n",
    "uncertain_idx = np.where((pred_p[:,0] >= p) & (pred_p[:,0] < 0.5))[0]"
   ]
  },
  {
   "cell_type": "code",
   "execution_count": 49,
   "id": "1710dbf5",
   "metadata": {},
   "outputs": [
    {
     "data": {
      "text/plain": [
       "(2316, array([    43,     68,     98, ..., 120794, 120801, 120871]))"
      ]
     },
     "execution_count": 49,
     "metadata": {},
     "output_type": "execute_result"
    }
   ],
   "source": [
    "len(uncertain_idx), uncertain_idx # 추후 사용"
   ]
  },
  {
   "cell_type": "code",
   "execution_count": 55,
   "id": "a5857a14",
   "metadata": {},
   "outputs": [
    {
     "data": {
      "text/plain": [
       "NoneType"
      ]
     },
     "execution_count": 55,
     "metadata": {},
     "output_type": "execute_result"
    }
   ],
   "source": [
    "model_rf.class_weight"
   ]
  },
  {
   "cell_type": "markdown",
   "id": "36915563",
   "metadata": {},
   "source": [
    "# 결과분석"
   ]
  },
  {
   "cell_type": "code",
   "execution_count": 57,
   "id": "67f1dbb7",
   "metadata": {},
   "outputs": [],
   "source": [
    "pred_p = model_rf.predict_proba(val_x)"
   ]
  },
  {
   "cell_type": "code",
   "execution_count": 58,
   "id": "7c638b44",
   "metadata": {},
   "outputs": [],
   "source": [
    "idx_1 = np.where(val_y == 1)\n",
    "idx_0 = np.where(val_y == 0)"
   ]
  },
  {
   "cell_type": "code",
   "execution_count": 59,
   "id": "4932514c",
   "metadata": {
    "scrolled": true
   },
   "outputs": [
    {
     "data": {
      "image/png": "[encoded data removed]",
      "text/plain": [
       "<Figure size 1500x1000 with 1 Axes>"
      ]
     },
     "metadata": {},
     "output_type": "display_data"
    }
   ],
   "source": [
    "#plt.hist((val_y - pred_p[:,1])[idx], bins=200)\n",
    "# plt.hist(val_y, bins=200)\n",
    "# plt.hist(pred_p[:,1], bins=200)\n",
    "plt.hist((val_y - pred_p[:,1])[idx_1], bins=200)\n",
    "plt.hist((val_y - pred_p[:,1])[idx_0], bins=200)\n",
    "plt.show()"
   ]
  },
  {
   "cell_type": "code",
   "execution_count": 82,
   "id": "220ec61d",
   "metadata": {
    "scrolled": true
   },
   "outputs": [
    {
     "ename": "ValueError",
     "evalue": "Length of feature_names, 733 does not match number of features, 732",
     "output_type": "error",
     "traceback": [
      "\u001b[0;31m---------------------------------------------------------------------------\u001b[0m",
      "\u001b[0;31mValueError\u001b[0m                                Traceback (most recent call last)",
      "\u001b[0;32m<ipython-input-82-23ffd04d29c8>\u001b[0m in \u001b[0;36m<module>\u001b[0;34m\u001b[0m\n\u001b[1;32m      5\u001b[0m                 \u001b[0mclass_names\u001b[0m \u001b[0;34m=\u001b[0m \u001b[0;34m[\u001b[0m\u001b[0;36m0\u001b[0m\u001b[0;34m,\u001b[0m\u001b[0;36m1\u001b[0m\u001b[0;34m]\u001b[0m\u001b[0;34m,\u001b[0m\u001b[0;34m\u001b[0m\u001b[0;34m\u001b[0m\u001b[0m\n\u001b[1;32m      6\u001b[0m                 \u001b[0mrounded\u001b[0m \u001b[0;34m=\u001b[0m \u001b[0;32mTrue\u001b[0m\u001b[0;34m,\u001b[0m \u001b[0mproportion\u001b[0m \u001b[0;34m=\u001b[0m \u001b[0;32mFalse\u001b[0m\u001b[0;34m,\u001b[0m\u001b[0;34m\u001b[0m\u001b[0;34m\u001b[0m\u001b[0m\n\u001b[0;32m----> 7\u001b[0;31m                 precision = 2, filled = True)\n\u001b[0m",
      "\u001b[0;32m~/.conda/envs/py37/lib/python3.7/site-packages/sklearn/utils/validation.py\u001b[0m in \u001b[0;36minner_f\u001b[0;34m(*args, **kwargs)\u001b[0m\n\u001b[1;32m     61\u001b[0m             \u001b[0mextra_args\u001b[0m \u001b[0;34m=\u001b[0m \u001b[0mlen\u001b[0m\u001b[0;34m(\u001b[0m\u001b[0margs\u001b[0m\u001b[0;34m)\u001b[0m \u001b[0;34m-\u001b[0m \u001b[0mlen\u001b[0m\u001b[0;34m(\u001b[0m\u001b[0mall_args\u001b[0m\u001b[0;34m)\u001b[0m\u001b[0;34m\u001b[0m\u001b[0;34m\u001b[0m\u001b[0m\n\u001b[1;32m     62\u001b[0m             \u001b[0;32mif\u001b[0m \u001b[0mextra_args\u001b[0m \u001b[0;34m<=\u001b[0m \u001b[0;36m0\u001b[0m\u001b[0;34m:\u001b[0m\u001b[0;34m\u001b[0m\u001b[0;34m\u001b[0m\u001b[0m\n\u001b[0;32m---> 63\u001b[0;31m                 \u001b[0;32mreturn\u001b[0m \u001b[0mf\u001b[0m\u001b[0;34m(\u001b[0m\u001b[0;34m*\u001b[0m\u001b[0margs\u001b[0m\u001b[0;34m,\u001b[0m \u001b[0;34m**\u001b[0m\u001b[0mkwargs\u001b[0m\u001b[0;34m)\u001b[0m\u001b[0;34m\u001b[0m\u001b[0;34m\u001b[0m\u001b[0m\n\u001b[0m\u001b[1;32m     64\u001b[0m \u001b[0;34m\u001b[0m\u001b[0m\n\u001b[1;32m     65\u001b[0m             \u001b[0;31m# extra_args > 0\u001b[0m\u001b[0;34m\u001b[0m\u001b[0;34m\u001b[0m\u001b[0;34m\u001b[0m\u001b[0m\n",
      "\u001b[0;32m~/.conda/envs/py37/lib/python3.7/site-packages/sklearn/tree/_export.py\u001b[0m in \u001b[0;36mexport_graphviz\u001b[0;34m(decision_tree, out_file, max_depth, feature_names, class_names, label, filled, leaves_parallel, impurity, node_ids, proportion, rotate, rounded, special_characters, precision)\u001b[0m\n\u001b[1;32m    786\u001b[0m             \u001b[0mrounded\u001b[0m\u001b[0;34m=\u001b[0m\u001b[0mrounded\u001b[0m\u001b[0;34m,\u001b[0m \u001b[0mspecial_characters\u001b[0m\u001b[0;34m=\u001b[0m\u001b[0mspecial_characters\u001b[0m\u001b[0;34m,\u001b[0m\u001b[0;34m\u001b[0m\u001b[0;34m\u001b[0m\u001b[0m\n\u001b[1;32m    787\u001b[0m             precision=precision)\n\u001b[0;32m--> 788\u001b[0;31m         \u001b[0mexporter\u001b[0m\u001b[0;34m.\u001b[0m\u001b[0mexport\u001b[0m\u001b[0;34m(\u001b[0m\u001b[0mdecision_tree\u001b[0m\u001b[0;34m)\u001b[0m\u001b[0;34m\u001b[0m\u001b[0;34m\u001b[0m\u001b[0m\n\u001b[0m\u001b[1;32m    789\u001b[0m \u001b[0;34m\u001b[0m\u001b[0m\n\u001b[1;32m    790\u001b[0m         \u001b[0;32mif\u001b[0m \u001b[0mreturn_string\u001b[0m\u001b[0;34m:\u001b[0m\u001b[0;34m\u001b[0m\u001b[0;34m\u001b[0m\u001b[0m\n",
      "\u001b[0;32m~/.conda/envs/py37/lib/python3.7/site-packages/sklearn/tree/_export.py\u001b[0m in \u001b[0;36mexport\u001b[0;34m(self, decision_tree)\u001b[0m\n\u001b[1;32m    415\u001b[0m                                  \u001b[0;34m\"does not match number of features, %d\"\u001b[0m\u001b[0;34m\u001b[0m\u001b[0;34m\u001b[0m\u001b[0m\n\u001b[1;32m    416\u001b[0m                                  % (len(self.feature_names),\n\u001b[0;32m--> 417\u001b[0;31m                                     decision_tree.n_features_))\n\u001b[0m\u001b[1;32m    418\u001b[0m         \u001b[0;31m# each part writes to out_file\u001b[0m\u001b[0;34m\u001b[0m\u001b[0;34m\u001b[0m\u001b[0;34m\u001b[0m\u001b[0m\n\u001b[1;32m    419\u001b[0m         \u001b[0mself\u001b[0m\u001b[0;34m.\u001b[0m\u001b[0mhead\u001b[0m\u001b[0;34m(\u001b[0m\u001b[0;34m)\u001b[0m\u001b[0;34m\u001b[0m\u001b[0;34m\u001b[0m\u001b[0m\n",
      "\u001b[0;31mValueError\u001b[0m: Length of feature_names, 733 does not match number of features, 732"
     ]
    }
   ],
   "source": [
    "from sklearn.tree import export_graphviz\n",
    "# Export as dot file\n",
    "export_graphviz(model, out_file='tree.dot', \n",
    "                feature_names = all_df.columns,\n",
    "                class_names = [0,1],\n",
    "                rounded = True, proportion = False, \n",
    "                precision = 2, filled = True)"
   ]
  },
  {
   "cell_type": "code",
   "execution_count": null,
   "id": "d0bb78e2",
   "metadata": {},
   "outputs": [],
   "source": []
  },
  {
   "cell_type": "markdown",
   "id": "2e70e8be-b74c-4776-b58a-87daabb459f6",
   "metadata": {},
   "source": [
    "## LSTM Inference"
   ]
  },
  {
   "cell_type": "code",
   "execution_count": 27,
   "id": "358984ba-ea99-480b-847f-1144e171b9f6",
   "metadata": {},
   "outputs": [
    {
     "name": "stderr",
     "output_type": "stream",
     "text": [
      "120944it [00:05, 22968.60it/s]"
     ]
    },
    {
     "name": "stdout",
     "output_type": "stream",
     "text": [
      "test dataframe preprocessing was done.\n"
     ]
    },
    {
     "name": "stderr",
     "output_type": "stream",
     "text": [
      "\n"
     ]
    }
   ],
   "source": [
    "test_df = pd.read_csv('./data/test.csv')\n",
    "#test_df = pd.read_csv('./data/test.csv').iloc[uncertain_idx]\n",
    "test_epitope_list, test_left_antigen_list, test_right_antigen_list, test_label_list = get_preprocessing('test', test_df)"
   ]
  },
  {
   "cell_type": "code",
   "execution_count": 28,
   "id": "c4ed31ff-b110-49fc-96bd-7f3fddcbcaf7",
   "metadata": {},
   "outputs": [],
   "source": [
    "test_dataset = CustomDataset(test_epitope_list, test_left_antigen_list, test_right_antigen_list, None)\n",
    "test_loader = DataLoader(test_dataset, batch_size = CFG['BATCH_SIZE'], shuffle=False, num_workers=CFG['NUM_WORKERS'])"
   ]
  },
  {
   "cell_type": "code",
   "execution_count": 29,
   "id": "440a7b3b-e508-4e82-a5a1-42c50ac468d9",
   "metadata": {},
   "outputs": [
    {
     "data": {
      "text/plain": [
       "CNNModel(\n",
       "  (epitope_embed): Embedding(27, 10, padding_idx=26)\n",
       "  (left_antigen_embed): Embedding(27, 10, padding_idx=26)\n",
       "  (right_antigen_embed): Embedding(27, 10, padding_idx=26)\n",
       "  (epitope_cnn1): Conv1d(10, 20, kernel_size=(3,), stride=(2,), padding=(1,))\n",
       "  (epitope_cnn2): Conv1d(20, 40, kernel_size=(3,), stride=(2,), padding=(1,))\n",
       "  (epitope_cnn3): Conv1d(40, 10, kernel_size=(3,), stride=(2,), padding=(1,))\n",
       "  (relu): ReLU(inplace=True)\n",
       "  (classifier): Sequential(\n",
       "    (0): LeakyReLU(negative_slope=True)\n",
       "    (1): BatchNorm1d(320, eps=1e-05, momentum=0.1, affine=True, track_running_stats=True)\n",
       "    (2): Linear(in_features=320, out_features=80, bias=True)\n",
       "    (3): LeakyReLU(negative_slope=True)\n",
       "    (4): BatchNorm1d(80, eps=1e-05, momentum=0.1, affine=True, track_running_stats=True)\n",
       "    (5): Linear(in_features=80, out_features=2, bias=True)\n",
       "  )\n",
       ")"
      ]
     },
     "execution_count": 29,
     "metadata": {},
     "output_type": "execute_result"
    }
   ],
   "source": [
    "#model = BaseModel()\n",
    "model = CNNModel()\n",
    "best_checkpoint = torch.load('./best_model.pth')\n",
    "model.load_state_dict(best_checkpoint)\n",
    "model.eval()\n",
    "model.to(device)"
   ]
  },
  {
   "cell_type": "code",
   "execution_count": 30,
   "id": "c7e25a7a-3c9b-42d3-8762-6e76389f61b3",
   "metadata": {},
   "outputs": [],
   "source": [
    "def inference(model, test_loader, device, th=CFG['THRESHOLD']):\n",
    "    model.eval()\n",
    "    pred_proba_label = []\n",
    "    with torch.no_grad():\n",
    "        for epitope_seq, left_antigen_seq, right_antigen_seq in tqdm(iter(test_loader)):\n",
    "            epitope_seq = epitope_seq.to(device)\n",
    "            left_antigen_seq = left_antigen_seq.to(device)\n",
    "            right_antigen_seq = right_antigen_seq.to(device)\n",
    "            \n",
    "            model_pred = model(epitope_seq, left_antigen_seq, right_antigen_seq)\n",
    "            model_pred = torch.softmax(model_pred, dim=1)[:,1].to('cpu')\n",
    "            \n",
    "            pred_proba_label += model_pred.tolist()\n",
    "    \n",
    "    pred_label = np.where(np.array(pred_proba_label)>th, 1, 0)\n",
    "    return pred_label, np.array(pred_proba_label)"
   ]
  },
  {
   "cell_type": "code",
   "execution_count": 35,
   "id": "8f6a3f55-b50b-4ff5-ae3d-000fdee50ffa",
   "metadata": {},
   "outputs": [
    {
     "name": "stderr",
     "output_type": "stream",
     "text": [
      "100%|██████████| 237/237 [00:02<00:00, 84.21it/s] \n"
     ]
    }
   ],
   "source": [
    "preds, probas = inference(model, test_loader, device, th=0.55)"
   ]
  },
  {
   "cell_type": "code",
   "execution_count": 36,
   "id": "c8fd43b6",
   "metadata": {},
   "outputs": [
    {
     "data": {
      "text/plain": [
       "array([0, 0, 0, ..., 0, 0, 0])"
      ]
     },
     "execution_count": 36,
     "metadata": {},
     "output_type": "execute_result"
    }
   ],
   "source": [
    "preds"
   ]
  },
  {
   "cell_type": "markdown",
   "id": "6f1ba0ba-6089-4403-9e56-eb14e022b016",
   "metadata": {},
   "source": [
    "## Submission"
   ]
  },
  {
   "cell_type": "code",
   "execution_count": 37,
   "id": "9f969c79",
   "metadata": {},
   "outputs": [],
   "source": [
    "submit = pd.read_csv('./data/sample_submission.csv')\n",
    "submit['label'] = preds\n",
    "# submit = pd.read_csv('./submit.csv')\n",
    "# submit['label'].iloc[uncertain_idx] = preds"
   ]
  },
  {
   "cell_type": "code",
   "execution_count": 38,
   "id": "45b8a0f8",
   "metadata": {
    "scrolled": true
   },
   "outputs": [
    {
     "name": "stdout",
     "output_type": "stream",
     "text": [
      "Done.\n"
     ]
    }
   ],
   "source": [
    "submit.to_csv('./submit.csv', index=False)\n",
    "print('Done.')"
   ]
  },
  {
   "cell_type": "code",
   "execution_count": null,
   "id": "2b20a57d",
   "metadata": {},
   "outputs": [],
   "source": []
  }
 ],
 "metadata": {
  "kernelspec": {
   "display_name": "Python 3",
   "language": "python",
   "name": "python3"
  },
  "language_info": {
   "codemirror_mode": {
    "name": "ipython",
    "version": 3
   },
   "file_extension": ".py",
   "mimetype": "text/x-python",
   "name": "python",
   "nbconvert_exporter": "python",
   "pygments_lexer": "ipython3",
   "version": "3.7.11"
  }
 },
 "nbformat": 4,
 "nbformat_minor": 5
}
