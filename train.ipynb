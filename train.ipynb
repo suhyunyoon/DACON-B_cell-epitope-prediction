{
 "cells": [
  {
   "cell_type": "markdown",
   "id": "1ddfa63d",
   "metadata": {},
   "source": [
    "## 0. Import"
   ]
  },
  {
   "cell_type": "code",
   "execution_count": 1,
   "id": "e45a5858",
   "metadata": {},
   "outputs": [],
   "source": [
    "import random\n",
    "import pandas as pd\n",
    "import numpy as np\n",
    "import os\n",
    "\n",
    "import matplotlib.pyplot as plt \n",
    "plt.rcParams['figure.figsize'] = [15, 10]\n",
    "\n",
    "import torch\n",
    "import torch.nn as nn\n",
    "import torch.optim as optim\n",
    "import torch.nn.functional as F\n",
    "from torch.utils.data import Dataset, DataLoader\n",
    "from torchsampler import ImbalancedDatasetSampler # pip install torchsampler\n",
    "\n",
    "from tqdm import tqdm\n",
    "from sklearn.metrics import accuracy_score, precision_score, recall_score, confusion_matrix, f1_score\n",
    "import warnings\n",
    "warnings.filterwarnings(action='ignore')"
   ]
  },
  {
   "cell_type": "code",
   "execution_count": 2,
   "id": "1e98bb25",
   "metadata": {},
   "outputs": [
    {
     "data": {
      "text/plain": [
       "True"
      ]
     },
     "execution_count": 2,
     "metadata": {},
     "output_type": "execute_result"
    }
   ],
   "source": [
    "torch.cuda.is_available()"
   ]
  },
  {
   "cell_type": "code",
   "execution_count": 3,
   "id": "052d3795",
   "metadata": {},
   "outputs": [],
   "source": [
    "device = torch.device('cuda') if torch.cuda.is_available() else torch.device('cpu')"
   ]
  },
  {
   "cell_type": "markdown",
   "id": "8153efcf",
   "metadata": {},
   "source": [
    "## 1-1. Hyperparameter Setting"
   ]
  },
  {
   "cell_type": "code",
   "execution_count": 4,
   "id": "7399d279",
   "metadata": {},
   "outputs": [],
   "source": [
    "CFG = {\n",
    "    'NUM_WORKERS':4,\n",
    "    'ANTIGEN_WINDOW':128,\n",
    "    'ANTIGEN_MAX_LEN':128, # ANTIGEN_WINDOW와 ANTIGEN_MAX_LEN은 같아야합니다.\n",
    "    'EPITOPE_MAX_LEN':64, # 256\n",
    "    'EPOCHS':100,\n",
    "    'LEARNING_RATE':1e-3,\n",
    "    'BATCH_SIZE':512,\n",
    "    'NUM_LAYERS': 2,\n",
    "    'THRESHOLD':0.5,\n",
    "    'SEED':41\n",
    "}"
   ]
  },
  {
   "cell_type": "markdown",
   "id": "eebdf7e0",
   "metadata": {},
   "source": [
    "## 1-2. Fixed RandomSeed"
   ]
  },
  {
   "cell_type": "code",
   "execution_count": 5,
   "id": "f1b8941e",
   "metadata": {},
   "outputs": [],
   "source": [
    "def seed_everything(seed):\n",
    "    random.seed(seed)\n",
    "    os.environ['PYTHONHASHSEED'] = str(seed)\n",
    "    np.random.seed(seed)\n",
    "    torch.manual_seed(seed)\n",
    "    torch.cuda.manual_seed(seed)\n",
    "    torch.backends.cudnn.deterministic = True\n",
    "    torch.backends.cudnn.benchmark = True\n",
    "\n",
    "seed_everything(CFG['SEED']) # Seed 고정"
   ]
  },
  {
   "cell_type": "markdown",
   "id": "ff1562f9",
   "metadata": {},
   "source": [
    "## 2-1. Data Pre-processing"
   ]
  },
  {
   "cell_type": "code",
   "execution_count": 6,
   "id": "34737d7f",
   "metadata": {},
   "outputs": [],
   "source": [
    "def get_preprocessing(data_type, new_df):\n",
    "    alpha_map = {\n",
    "                'A':0, 'B':1, 'C':2, 'D':3, 'E':4, 'F':5,\n",
    "                'G':6, 'H':7, 'I':8, 'J':9, 'K':10, 'L':11,\n",
    "                'M':12, 'N':13, 'O':14, 'P':15, 'Q':16, 'R':17,\n",
    "                'S':18, 'T':19, 'U':20, 'V':21, 'W':22, 'X':23,\n",
    "                'Y':24, 'Z':25, '<PAD>':26,\n",
    "            }\n",
    "\n",
    "    epitope_list = []\n",
    "    left_antigen_list = []\n",
    "    right_antigen_list = []\n",
    "    \n",
    "    for epitope, antigen, s_p, e_p in tqdm(zip(new_df['epitope_seq'], new_df['antigen_seq'], new_df['start_position'], new_df['end_position'])):\n",
    "        epitope_pad = [26 for _ in range(CFG['EPITOPE_MAX_LEN'])]\n",
    "        left_antigen_pad = [26 for _ in range(CFG['ANTIGEN_MAX_LEN'])]\n",
    "        right_antigen_pad = [26 for _ in range(CFG['ANTIGEN_MAX_LEN'])]\n",
    "        \n",
    "        epitope = [alpha_map[x] for x in epitope]\n",
    "        \n",
    "        # Left antigen : [start_position-WINDOW : start_position]\n",
    "        # Right antigen : [end_position : end_position+WINDOW]\n",
    "\n",
    "        start_position = s_p-CFG['ANTIGEN_WINDOW']-1\n",
    "        end_position = e_p+CFG['ANTIGEN_WINDOW']\n",
    "        if start_position < 0:\n",
    "            start_position = 0\n",
    "        if end_position > len(antigen):\n",
    "            end_position = len(antigen)\n",
    "        \n",
    "        # left / right antigen sequence 추출\n",
    "        left_antigen = antigen[int(start_position) : int(s_p)-1]\n",
    "        left_antigen = [alpha_map[x] for x in left_antigen]\n",
    "        \n",
    "        right_antigen = antigen[int(e_p) : int(end_position)]\n",
    "        right_antigen = [alpha_map[x] for x in right_antigen]\n",
    "\n",
    "        if CFG['EPITOPE_MAX_LEN']<len(epitope):\n",
    "            epitope_pad[:len(epitope)] = epitope[:CFG['EPITOPE_MAX_LEN']]\n",
    "        else:\n",
    "            epitope_pad[:len(epitope)] = epitope[:]\n",
    "\n",
    "        left_antigen_pad[:len(left_antigen)] = left_antigen[:]\n",
    "        right_antigen_pad[:len(right_antigen)] = right_antigen[:]\n",
    "        \n",
    "        epitope_list.append(epitope_pad)\n",
    "        left_antigen_list.append(left_antigen_pad)\n",
    "        right_antigen_list.append(right_antigen_pad)\n",
    "    \n",
    "    label_list = None\n",
    "    if data_type != 'test':\n",
    "        label_list = []\n",
    "        for label in new_df['label']:\n",
    "            label_list.append(label)\n",
    "    print(f'{data_type} dataframe preprocessing was done.')\n",
    "    return epitope_list, left_antigen_list, right_antigen_list, label_list"
   ]
  },
  {
   "cell_type": "code",
   "execution_count": 7,
   "id": "4b0118db",
   "metadata": {},
   "outputs": [],
   "source": [
    "df = pd.read_csv('./data/train.csv') #, encoding='utf-8')\n",
    "# Split Train : Validation = 0.8 : 0.2\n",
    "train_len = len(df)\n",
    "train_idx = np.arange(train_len)\n",
    "\n",
    "# random split\n",
    "np.random.shuffle(train_idx)\n",
    "\n",
    "train_df = df.iloc[train_idx[:int(train_len*0.8)]]\n",
    "val_df = df.iloc[int(train_len*0.8):]"
   ]
  },
  {
   "cell_type": "code",
   "execution_count": 8,
   "id": "5f626991",
   "metadata": {
    "scrolled": false
   },
   "outputs": [
    {
     "name": "stderr",
     "output_type": "stream",
     "text": [
      "152648it [00:06, 22747.41it/s]\n"
     ]
    },
    {
     "name": "stdout",
     "output_type": "stream",
     "text": [
      "train dataframe preprocessing was done.\n"
     ]
    },
    {
     "name": "stderr",
     "output_type": "stream",
     "text": [
      "38163it [00:01, 33155.88it/s]"
     ]
    },
    {
     "name": "stdout",
     "output_type": "stream",
     "text": [
      "val dataframe preprocessing was done.\n"
     ]
    },
    {
     "name": "stderr",
     "output_type": "stream",
     "text": [
      "\n"
     ]
    }
   ],
   "source": [
    "train_epitope_list, train_left_antigen_list, train_right_antigen_list, train_label_list = get_preprocessing('train', train_df)\n",
    "val_epitope_list, val_left_antigen_list, val_right_antigen_list, val_label_list = get_preprocessing('val', val_df)"
   ]
  },
  {
   "cell_type": "markdown",
   "id": "28753e69",
   "metadata": {},
   "source": [
    "## 2-2. CustomDataset"
   ]
  },
  {
   "cell_type": "code",
   "execution_count": 9,
   "id": "2e2ff935",
   "metadata": {},
   "outputs": [],
   "source": [
    "class CustomDataset(Dataset):\n",
    "    def __init__(self, epitope_list, left_antigen_list, right_antigen_list, label_list):\n",
    "        self.epitope_list = epitope_list\n",
    "        self.left_antigen_list = left_antigen_list\n",
    "        self.right_antigen_list = right_antigen_list\n",
    "        self.label_list = label_list\n",
    "        \n",
    "    def __getitem__(self, index):\n",
    "        self.epitope = self.epitope_list[index]\n",
    "        self.left_antigen = self.left_antigen_list[index]\n",
    "        self.right_antigen = self.right_antigen_list[index]\n",
    "        \n",
    "        if self.label_list is not None:\n",
    "            self.label = self.label_list[index]\n",
    "            return torch.tensor(self.epitope), torch.tensor(self.left_antigen), torch.tensor(self.right_antigen), self.label\n",
    "        else:\n",
    "            return torch.tensor(self.epitope), torch.tensor(self.left_antigen), torch.tensor(self.right_antigen)\n",
    "        \n",
    "    def __len__(self):\n",
    "        return len(self.epitope_list)\n",
    "    \n",
    "    def get_labels(self):\n",
    "        return self.label_list"
   ]
  },
  {
   "cell_type": "code",
   "execution_count": 10,
   "id": "fc25a38b",
   "metadata": {},
   "outputs": [],
   "source": [
    "train_dataset = CustomDataset(train_epitope_list, train_left_antigen_list, train_right_antigen_list, train_label_list)\n",
    "train_loader = DataLoader(train_dataset, batch_size = CFG['BATCH_SIZE'], num_workers=CFG['NUM_WORKERS'], sampler=ImbalancedDatasetSampler(train_dataset)) # shuffle=True, \n",
    "\n",
    "val_dataset = CustomDataset(val_epitope_list, val_left_antigen_list, val_right_antigen_list, val_label_list)\n",
    "val_loader = DataLoader(val_dataset, batch_size = CFG['BATCH_SIZE'], shuffle=False, num_workers=CFG['NUM_WORKERS'])"
   ]
  },
  {
   "cell_type": "markdown",
   "id": "7fd4a897",
   "metadata": {},
   "source": [
    "## 3_option 1. LSTM Model Define"
   ]
  },
  {
   "cell_type": "code",
   "execution_count": 11,
   "id": "2ead4f1b",
   "metadata": {},
   "outputs": [],
   "source": [
    "class BaseModel(nn.Module):\n",
    "    def __init__(self,\n",
    "                 epitope_length=CFG['EPITOPE_MAX_LEN'],\n",
    "                 epitope_emb_node=10,\n",
    "                 epitope_hidden_dim=64,\n",
    "                 left_antigen_length=CFG['ANTIGEN_MAX_LEN'],\n",
    "                 left_antigen_emb_node=10,\n",
    "                 left_antigen_hidden_dim=64,\n",
    "                 right_antigen_length=CFG['ANTIGEN_MAX_LEN'],\n",
    "                 right_antigen_emb_node=10,\n",
    "                 right_antigen_hidden_dim=64,\n",
    "                 num_layers=CFG['NUM_LAYERS'],\n",
    "                 num_class=2,\n",
    "                 drop_prob=0.5,\n",
    "                 lstm_bidirect=True\n",
    "                ):\n",
    "        super(BaseModel, self).__init__()\n",
    "        self.num_class = num_class\n",
    "        self.num_layers = num_layers\n",
    "        self.epitope_hidden_dim = epitope_hidden_dim\n",
    "        self.left_antigen_hidden_dim = left_antigen_hidden_dim\n",
    "        self.right_antigen_hidden_dim = right_antigen_hidden_dim\n",
    "        # Embedding Layer\n",
    "        self.epitope_embed = nn.Embedding(num_embeddings=27, \n",
    "                                          embedding_dim=epitope_emb_node, \n",
    "                                          padding_idx=26\n",
    "                                         )\n",
    "        self.left_antigen_embed = nn.Embedding(num_embeddings=27,\n",
    "                                          embedding_dim=left_antigen_emb_node, \n",
    "                                          padding_idx=26\n",
    "                                         )\n",
    "        self.right_antigen_embed = nn.Embedding(num_embeddings=27,\n",
    "                                          embedding_dim=right_antigen_emb_node, \n",
    "                                          padding_idx=26\n",
    "                                         )\n",
    "        # LSTM\n",
    "        self.epitope_lstm = nn.LSTM(input_size=epitope_emb_node, \n",
    "                                    hidden_size=epitope_hidden_dim, \n",
    "                                    batch_first=True, \n",
    "                                    bidirectional=lstm_bidirect,\n",
    "                                    num_layers=num_layers,\n",
    "                                    dropout=drop_prob\n",
    "                                   )\n",
    "        self.left_antigen_lstm = nn.LSTM(input_size=left_antigen_emb_node, \n",
    "                                    hidden_size=left_antigen_hidden_dim, \n",
    "                                    batch_first=True, \n",
    "                                    bidirectional=lstm_bidirect,\n",
    "                                    num_layers=num_layers,\n",
    "                                    dropout=drop_prob\n",
    "                                   )\n",
    "        self.right_antigen_lstm = nn.LSTM(input_size=right_antigen_emb_node, \n",
    "                                    hidden_size=right_antigen_hidden_dim, \n",
    "                                    batch_first=True, \n",
    "                                    bidirectional=lstm_bidirect,\n",
    "                                    num_layers=num_layers,\n",
    "                                    dropout=drop_prob\n",
    "                                   )\n",
    "\n",
    "        # Classifier\n",
    "        in_channels = epitope_hidden_dim+left_antigen_hidden_dim+right_antigen_hidden_dim\n",
    "        if lstm_bidirect:\n",
    "            in_channels *= 2\n",
    "            \n",
    "        self.classifier = nn.Sequential(\n",
    "            nn.LeakyReLU(True),\n",
    "            nn.BatchNorm1d(in_channels),\n",
    "            nn.Linear(in_channels, in_channels//4),\n",
    "            nn.LeakyReLU(True),\n",
    "            nn.BatchNorm1d(in_channels//4),\n",
    "            nn.Linear(in_channels//4, self.num_class)\n",
    "        )\n",
    "        \n",
    "        # Weight Initialization \n",
    "        self.init_weights()\n",
    "        \n",
    "    def forward(self, epitope_x, left_antigen_x, right_antigen_x):\n",
    "        BATCH_SIZE = epitope_x.size(0)\n",
    "        \n",
    "#         # Initialize hidden cell\n",
    "#         hc       = self.init_hidden_cell(self.epitope_lstm, BATCH_SIZE, self.epitope_hidden_dim)\n",
    "#         left_hc  = self.init_hidden_cell(self.left_antigen_lstm, BATCH_SIZE, self.left_antigen_hidden_dim)\n",
    "#         right_hc = self.init_hidden_cell(self.right_antigen_lstm, BATCH_SIZE, self.right_antigen_hidden_dim)\n",
    "        \n",
    "        # Get Embedding Vector\n",
    "        epitope_x       = self.epitope_embed(epitope_x)\n",
    "        left_antigen_x  = self.left_antigen_embed(left_antigen_x)\n",
    "        right_antigen_x = self.right_antigen_embed(right_antigen_x)\n",
    "        \n",
    "        # LSTM\n",
    "        epitope_hidden, _ = self.epitope_lstm(epitope_x) #, hc)\n",
    "        epitope_hidden = epitope_hidden[:,-1,:]\n",
    "\n",
    "        left_antigen_hidden, _ = self.left_antigen_lstm(left_antigen_x) #, left_hc)\n",
    "        left_antigen_hidden = left_antigen_hidden[:,-1,:]\n",
    "        \n",
    "        right_antigen_hidden, _ = self.right_antigen_lstm(right_antigen_x) #, right_hc)\n",
    "        right_antigen_hidden = right_antigen_hidden[:,-1,:]\n",
    "        \n",
    "        # Feature Concat -> Binary Classifier\n",
    "        x = torch.cat([epitope_hidden, left_antigen_hidden, right_antigen_hidden], axis=-1)\n",
    "        x = torch.cat([left_antigen_hidden, right_antigen_hidden], axis=-1)\n",
    "        x = epitope_hidden\n",
    "        \n",
    "        x = self.classifier(x).view(-1, self.num_class)\n",
    "        return x\n",
    "    \n",
    "    \n",
    "    def init_weights(self):\n",
    "        # Classifier\n",
    "        for layer in self.classifier:\n",
    "            if isinstance(layer, nn.Linear):\n",
    "                torch.nn.init.xavier_uniform(layer.weight)\n",
    "                layer.bias.data.fill_(0.01)\n",
    "        # LSTM\n",
    "        lstms = [self.epitope_lstm, self.left_antigen_embed, self.right_antigen_embed]\n",
    "        for lstm in lstms:\n",
    "            for name, param in lstm.named_parameters():\n",
    "                if 'bias' in name:\n",
    "                    nn.init.constant_(param, 0.)\n",
    "                elif 'weight' in name:\n",
    "                    nn.init.xavier_uniform_(param)\n",
    "\n",
    "    def init_hidden_cell(self, lstm, batch_size, hidden_dim):\n",
    "        weight = next(lstm.parameters()).data\n",
    "        return (weight.new(self.num_layers, batch_size, hidden_dim).zero_(),\n",
    "                weight.new(self.num_layers, batch_size, hidden_dim).zero_())"
   ]
  },
  {
   "cell_type": "markdown",
   "id": "1563816f",
   "metadata": {},
   "source": [
    "## 3_option 2. CNN Model Define"
   ]
  },
  {
   "cell_type": "code",
   "execution_count": 19,
   "id": "1d438f5c",
   "metadata": {},
   "outputs": [],
   "source": [
    "class CNNModel(nn.Module):\n",
    "    def __init__(self,\n",
    "                 epitope_length=CFG['EPITOPE_MAX_LEN'],\n",
    "                 epitope_emb_node=10,\n",
    "                 epitope_hidden_dim=64,\n",
    "                 left_antigen_length=CFG['ANTIGEN_MAX_LEN'],\n",
    "                 left_antigen_emb_node=10,\n",
    "                 left_antigen_hidden_dim=64,\n",
    "                 right_antigen_length=CFG['ANTIGEN_MAX_LEN'],\n",
    "                 right_antigen_emb_node=10,\n",
    "                 right_antigen_hidden_dim=64,\n",
    "                 num_class=2,\n",
    "                 drop_prob=0.5\n",
    "                ):\n",
    "        super(CNNModel, self).__init__()\n",
    "        self.num_class = num_class\n",
    "        self.epitope_hidden_dim = epitope_hidden_dim\n",
    "        \n",
    "        # Embedding Layer\n",
    "        self.epitope_embed = nn.Embedding(num_embeddings=27, \n",
    "                                          embedding_dim=epitope_emb_node, \n",
    "                                          padding_idx=26\n",
    "                                         )\n",
    "        self.left_antigen_embed = nn.Embedding(num_embeddings=27,\n",
    "                                          embedding_dim=left_antigen_emb_node, \n",
    "                                          padding_idx=26\n",
    "                                         )\n",
    "        self.right_antigen_embed = nn.Embedding(num_embeddings=27,\n",
    "                                          embedding_dim=right_antigen_emb_node, \n",
    "                                          padding_idx=26\n",
    "                                         )\n",
    "        \n",
    "        # CNN\n",
    "        self.epitope_cnn1 = nn.Conv1d(in_channels=epitope_emb_node, out_channels=epitope_emb_node*2, kernel_size=3, padding=1, stride=2)\n",
    "        self.epitope_cnn2 = nn.Conv1d(in_channels=epitope_emb_node*2, out_channels=epitope_emb_node*4, kernel_size=3, padding=1, stride=2)\n",
    "        self.epitope_cnn3 = nn.Conv1d(in_channels=epitope_emb_node*4, out_channels=epitope_emb_node, kernel_size=3, padding=1, stride=2)\n",
    "        \n",
    "        # BatchNorm\n",
    "        \n",
    "        self.relu = nn.ReLU(inplace=True)\n",
    "        \n",
    "        # Classifier\n",
    "        self.in_channels = epitope_emb_node * (epitope_length // (2 ** 3))\n",
    "            \n",
    "        self.classifier = nn.Sequential(\n",
    "            nn.LeakyReLU(True),\n",
    "            nn.BatchNorm1d(self.in_channels),\n",
    "            nn.Linear(self.in_channels, self.in_channels//4),\n",
    "            nn.LeakyReLU(True),\n",
    "            nn.BatchNorm1d(self.in_channels//4),\n",
    "            nn.Linear(self.in_channels//4, self.num_class)\n",
    "        )\n",
    "        \n",
    "        # Weight Initialization \n",
    "        self.init_weights()\n",
    "        \n",
    "    def forward(self, epitope_x, left_antigen_x, right_antigen_x):\n",
    "        BATCH_SIZE = epitope_x.size(0)\n",
    "        \n",
    "        # Get Embedding Vector\n",
    "        epitope_x       = self.epitope_embed(epitope_x)\n",
    "\n",
    "        # CNN\n",
    "        epitope_x = epitope_x.permute(0,2,1)\n",
    "        epitope_hidden = self.relu(self.epitope_cnn1(epitope_x))\n",
    "        epitope_hidden = self.relu(self.epitope_cnn2(epitope_hidden))\n",
    "        epitope_hidden = self.relu(self.epitope_cnn3(epitope_hidden))\n",
    "        \n",
    "        # Feature Concat -> Binary Classifier\n",
    "        x = epitope_hidden.reshape(epitope_hidden.size(0), -1)\n",
    "        \n",
    "        x = self.classifier(x).view(-1, self.num_class)\n",
    "        return x\n",
    "    \n",
    "    \n",
    "    def init_weights(self):\n",
    "        # Classifier\n",
    "        for layer in self.classifier:\n",
    "            if isinstance(layer, nn.Linear):\n",
    "                torch.nn.init.xavier_uniform(layer.weight)\n",
    "                layer.bias.data.fill_(0.01)\n",
    "        # CNN\n",
    "        cnns = [self.epitope_cnn1, self.epitope_cnn2, self.epitope_cnn3]\n",
    "        for lstm in cnns:\n",
    "            for name, param in lstm.named_parameters():\n",
    "                if 'bias' in name:\n",
    "                    nn.init.constant_(param, 0.)\n",
    "                elif 'weight' in name:\n",
    "                    nn.init.xavier_uniform_(param)"
   ]
  },
  {
   "cell_type": "markdown",
   "id": "2eb1d5b9",
   "metadata": {},
   "source": [
    "## Train"
   ]
  },
  {
   "cell_type": "code",
   "execution_count": 20,
   "id": "804e329a",
   "metadata": {},
   "outputs": [],
   "source": [
    "def train(model, optimizer, train_loader, val_loader, scheduler, device):\n",
    "    model.to(device)\n",
    "    #criterion = nn.BCEWithLogitsLoss().to(device) \n",
    "    criterion = nn.CrossEntropyLoss().to(device)\n",
    "    \n",
    "    best_val_f1 = 0\n",
    "    best_epoch = 0\n",
    "    for epoch in range(1, CFG['EPOCHS']+1):\n",
    "        model.train()\n",
    "        train_loss = []\n",
    "        for epitope_seq, left_antigen_seq, right_antigen_seq, label in tqdm(iter(train_loader)):\n",
    "            epitope_seq = epitope_seq.to(device)\n",
    "            left_antigen_seq = left_antigen_seq.to(device)\n",
    "            right_antigen_seq = right_antigen_seq.to(device)\n",
    "            label = label.long().to(device)\n",
    "            \n",
    "            optimizer.zero_grad()\n",
    "            \n",
    "            output = model(epitope_seq, left_antigen_seq, right_antigen_seq)\n",
    "            loss = criterion(output, label)\n",
    "            \n",
    "            loss.backward()\n",
    "            optimizer.step()\n",
    "            \n",
    "            train_loss.append(loss.item())\n",
    "            \n",
    "            if scheduler is not None:\n",
    "                scheduler.step()\n",
    "                    \n",
    "        val_loss, val_f1, val_acc, val_precision, val_recall, val_conf = validation(model, val_loader, criterion, device)\n",
    "        print(f'Epoch : [{epoch}] Train Loss : [{np.mean(train_loss):.5f}] Val Loss : [{val_loss:.5f}] Val F1 : [{val_f1:.5f}] Val ACC : [{val_acc:.5f}] ')\n",
    "        print(f'                                   Val Precision : [{val_precision:.5f}] Val Recall : [{val_recall:.5f}]')\n",
    "        print(val_conf)\n",
    "        \n",
    "        if best_val_f1 < val_f1:\n",
    "            best_val_f1 = val_f1\n",
    "            best_epoch = epoch\n",
    "            torch.save(model.state_dict(), './best_model.pth', _use_new_zipfile_serialization=False)\n",
    "            print('Model Saved.')\n",
    "    return best_val_f1, best_epoch"
   ]
  },
  {
   "cell_type": "code",
   "execution_count": 21,
   "id": "daab2ce0",
   "metadata": {},
   "outputs": [],
   "source": [
    "def validation(model, val_loader, criterion, device, th=CFG['THRESHOLD']):\n",
    "    model.eval()\n",
    "    pred_proba_label = []\n",
    "    true_label = []\n",
    "    val_loss = []\n",
    "    with torch.no_grad():\n",
    "        for epitope_seq, left_antigen_seq, right_antigen_seq, label in tqdm(iter(val_loader)):\n",
    "            epitope_seq = epitope_seq.to(device)\n",
    "            left_antigen_seq = left_antigen_seq.to(device)\n",
    "            right_antigen_seq = right_antigen_seq.to(device)\n",
    "            label = label.long().to(device)\n",
    "            \n",
    "            model_pred = model(epitope_seq, left_antigen_seq, right_antigen_seq)\n",
    "            loss = criterion(model_pred, label)\n",
    "            model_pred = torch.softmax(model_pred, dim=1)[:,1].to('cpu')\n",
    "            pred_proba_label += model_pred.tolist()\n",
    "            true_label += label.to('cpu').tolist()\n",
    "            \n",
    "            val_loss.append(loss.item())\n",
    "            \n",
    "    pred_label = np.where(np.array(pred_proba_label)>th, 1, 0)\n",
    "    val_f1        = f1_score(true_label, pred_label, average='macro')\n",
    "    val_confusion = confusion_matrix(true_label, pred_label)\n",
    "    val_acc       = accuracy_score(true_label, pred_label)\n",
    "    val_precision = precision_score(true_label, pred_label)\n",
    "    val_recall    = recall_score(true_label, pred_label)\n",
    "    return np.mean(val_loss), val_f1, val_acc, val_precision, val_recall, val_confusion"
   ]
  },
  {
   "cell_type": "code",
   "execution_count": 22,
   "id": "bf2bc1b0",
   "metadata": {
    "scrolled": true,
    "tags": []
   },
   "outputs": [
    {
     "name": "stderr",
     "output_type": "stream",
     "text": [
      "Exception ignored in: <function _MultiProcessingDataLoaderIter.__del__ at 0x7f4c27a267a0>\n",
      "Traceback (most recent call last):\n",
      "  File \"/home/suhyun/.conda/envs/py37/lib/python3.7/site-packages/torch/utils/data/dataloader.py\", line 1328, in __del__\n",
      "    self._shutdown_workers()\n",
      "  File \"/home/suhyun/.conda/envs/py37/lib/python3.7/site-packages/torch/utils/data/dataloader.py\", line 1320, in _shutdown_workers\n",
      "    if w.is_alive():\n",
      "  File \"/home/suhyun/.conda/envs/py37/lib/python3.7/multiprocessing/process.py\", line 151, in is_alive\n",
      "    assert self._parent_pid == os.getpid(), 'can only test a child process'\n",
      "AssertionError: can only test a child process\n",
      "  0%|          | 0/299 [00:00<?, ?it/s]Exception ignored in: Exception ignored in: Exception ignored in: <function _MultiProcessingDataLoaderIter.__del__ at 0x7f4c27a267a0><function _MultiProcessingDataLoaderIter.__del__ at 0x7f4c27a267a0><function _MultiProcessingDataLoaderIter.__del__ at 0x7f4c27a267a0>\n",
      "\n",
      "Traceback (most recent call last):\n",
      "  File \"/home/suhyun/.conda/envs/py37/lib/python3.7/site-packages/torch/utils/data/dataloader.py\", line 1328, in __del__\n",
      "Traceback (most recent call last):\n",
      "  File \"/home/suhyun/.conda/envs/py37/lib/python3.7/site-packages/torch/utils/data/dataloader.py\", line 1328, in __del__\n",
      "    self._shutdown_workers()    \n",
      "self._shutdown_workers()  File \"/home/suhyun/.conda/envs/py37/lib/python3.7/site-packages/torch/utils/data/dataloader.py\", line 1320, in _shutdown_workers\n",
      "\n",
      "  File \"/home/suhyun/.conda/envs/py37/lib/python3.7/site-packages/torch/utils/data/dataloader.py\", line 1320, in _shutdown_workers\n",
      "        if w.is_alive():if w.is_alive():\n",
      "\n",
      "  File \"/home/suhyun/.conda/envs/py37/lib/python3.7/multiprocessing/process.py\", line 151, in is_alive\n",
      "  File \"/home/suhyun/.conda/envs/py37/lib/python3.7/multiprocessing/process.py\", line 151, in is_alive\n",
      "    assert self._parent_pid == os.getpid(), 'can only test a child process'\n",
      "    \n",
      "Traceback (most recent call last):\n",
      "assert self._parent_pid == os.getpid(), 'can only test a child process'AssertionError  File \"/home/suhyun/.conda/envs/py37/lib/python3.7/site-packages/torch/utils/data/dataloader.py\", line 1328, in __del__\n",
      ": \n",
      "AssertionErrorcan only test a child process    : \n",
      "self._shutdown_workers()can only test a child process\n",
      "\n",
      "  File \"/home/suhyun/.conda/envs/py37/lib/python3.7/site-packages/torch/utils/data/dataloader.py\", line 1320, in _shutdown_workers\n",
      "    if w.is_alive():\n",
      "  File \"/home/suhyun/.conda/envs/py37/lib/python3.7/multiprocessing/process.py\", line 151, in is_alive\n",
      "    assert self._parent_pid == os.getpid(), 'can only test a child process'\n",
      "AssertionError: can only test a child process\n",
      "100%|██████████| 299/299 [00:08<00:00, 36.00it/s]\n",
      "100%|██████████| 75/75 [00:01<00:00, 67.64it/s]"
     ]
    },
    {
     "name": "stdout",
     "output_type": "stream",
     "text": [
      "Epoch : [1] Train Loss : [0.59884] Val Loss : [0.41804] Val F1 : [0.62205] Val ACC : [0.85997] \n",
      "                                   Val Precision : [0.49206] Val Recall : [0.23949]\n",
      "[[31549  1311]\n",
      " [ 4033  1270]]\n",
      "Model Saved.\n"
     ]
    },
    {
     "name": "stderr",
     "output_type": "stream",
     "text": [
      "\n",
      "100%|██████████| 299/299 [00:08<00:00, 36.99it/s]\n",
      "100%|██████████| 75/75 [00:01<00:00, 74.53it/s]\n"
     ]
    },
    {
     "name": "stdout",
     "output_type": "stream",
     "text": [
      "Epoch : [2] Train Loss : [0.55280] Val Loss : [0.53823] Val F1 : [0.62038] Val ACC : [0.76700] \n",
      "                                   Val Precision : [0.30373] Val Recall : [0.52367]\n",
      "[[26494  6366]\n",
      " [ 2526  2777]]\n"
     ]
    },
    {
     "name": "stderr",
     "output_type": "stream",
     "text": [
      "100%|██████████| 299/299 [00:07<00:00, 37.81it/s]\n",
      "100%|██████████| 75/75 [00:01<00:00, 72.68it/s]\n"
     ]
    },
    {
     "name": "stdout",
     "output_type": "stream",
     "text": [
      "Epoch : [3] Train Loss : [0.52898] Val Loss : [0.52560] Val F1 : [0.63325] Val ACC : [0.77997] \n",
      "                                   Val Precision : [0.32263] Val Recall : [0.53064]\n",
      "[[26952  5908]\n",
      " [ 2489  2814]]\n",
      "Model Saved.\n"
     ]
    },
    {
     "name": "stderr",
     "output_type": "stream",
     "text": [
      "100%|██████████| 299/299 [00:08<00:00, 36.21it/s]\n",
      "100%|██████████| 75/75 [00:01<00:00, 73.76it/s]\n"
     ]
    },
    {
     "name": "stdout",
     "output_type": "stream",
     "text": [
      "Epoch : [4] Train Loss : [0.51141] Val Loss : [0.54561] Val F1 : [0.62659] Val ACC : [0.75353] \n",
      "                                   Val Precision : [0.30663] Val Recall : [0.61343]\n",
      "[[25504  7356]\n",
      " [ 2050  3253]]\n"
     ]
    },
    {
     "name": "stderr",
     "output_type": "stream",
     "text": [
      "100%|██████████| 299/299 [00:08<00:00, 36.31it/s]\n",
      "100%|██████████| 75/75 [00:01<00:00, 74.87it/s]\n"
     ]
    },
    {
     "name": "stdout",
     "output_type": "stream",
     "text": [
      "Epoch : [5] Train Loss : [0.49721] Val Loss : [1.90007] Val F1 : [0.16783] Val ACC : [0.17585] \n",
      "                                   Val Precision : [0.14284] Val Recall : [0.98605]\n",
      "[[ 1482 31378]\n",
      " [   74  5229]]\n"
     ]
    },
    {
     "name": "stderr",
     "output_type": "stream",
     "text": [
      "100%|██████████| 299/299 [00:08<00:00, 36.72it/s]\n",
      "100%|██████████| 75/75 [00:01<00:00, 67.05it/s]\n"
     ]
    },
    {
     "name": "stdout",
     "output_type": "stream",
     "text": [
      "Epoch : [6] Train Loss : [0.48673] Val Loss : [0.43636] Val F1 : [0.66783] Val ACC : [0.82064] \n",
      "                                   Val Precision : [0.38948] Val Recall : [0.51235]\n",
      "[[28601  4259]\n",
      " [ 2586  2717]]\n",
      "Model Saved.\n"
     ]
    },
    {
     "name": "stderr",
     "output_type": "stream",
     "text": [
      "100%|██████████| 299/299 [00:08<00:00, 36.90it/s]\n",
      "100%|██████████| 75/75 [00:01<00:00, 71.94it/s]\n"
     ]
    },
    {
     "name": "stdout",
     "output_type": "stream",
     "text": [
      "Epoch : [7] Train Loss : [0.47340] Val Loss : [1.74365] Val F1 : [0.18547] Val ACC : [0.19084] \n",
      "                                   Val Precision : [0.14436] Val Recall : [0.97888]\n",
      "[[ 2092 30768]\n",
      " [  112  5191]]\n"
     ]
    },
    {
     "name": "stderr",
     "output_type": "stream",
     "text": [
      "100%|██████████| 299/299 [00:08<00:00, 36.88it/s]\n",
      "100%|██████████| 75/75 [00:00<00:00, 77.09it/s]\n"
     ]
    },
    {
     "name": "stdout",
     "output_type": "stream",
     "text": [
      "Epoch : [8] Train Loss : [0.46506] Val Loss : [0.36086] Val F1 : [0.64647] Val ACC : [0.86906] \n",
      "                                   Val Precision : [0.55935] Val Recall : [0.27192]\n",
      "[[31724  1136]\n",
      " [ 3861  1442]]\n"
     ]
    },
    {
     "name": "stderr",
     "output_type": "stream",
     "text": [
      "100%|██████████| 299/299 [00:08<00:00, 36.46it/s]\n",
      "100%|██████████| 75/75 [00:01<00:00, 74.80it/s]\n"
     ]
    },
    {
     "name": "stdout",
     "output_type": "stream",
     "text": [
      "Epoch : [9] Train Loss : [0.46341] Val Loss : [1.42104] Val F1 : [0.27655] Val ACC : [0.27658] \n",
      "                                   Val Precision : [0.15833] Val Recall : [0.97454]\n",
      "[[ 5387 27473]\n",
      " [  135  5168]]\n"
     ]
    },
    {
     "name": "stderr",
     "output_type": "stream",
     "text": [
      "100%|██████████| 299/299 [00:08<00:00, 36.99it/s]\n",
      "100%|██████████| 75/75 [00:01<00:00, 69.41it/s]"
     ]
    },
    {
     "name": "stdout",
     "output_type": "stream",
     "text": [
      "Epoch : [10] Train Loss : [0.45290] Val Loss : [0.53109] Val F1 : [0.63992] Val ACC : [0.75796] \n",
      "                                   Val Precision : [0.32134] Val Recall : [0.66717]\n",
      "[[25388  7472]\n",
      " [ 1765  3538]]\n"
     ]
    },
    {
     "name": "stderr",
     "output_type": "stream",
     "text": [
      "\n",
      "100%|██████████| 299/299 [00:08<00:00, 34.70it/s]\n",
      "100%|██████████| 75/75 [00:01<00:00, 70.07it/s]"
     ]
    },
    {
     "name": "stdout",
     "output_type": "stream",
     "text": [
      "Epoch : [11] Train Loss : [0.45075] Val Loss : [0.44589] Val F1 : [0.66656] Val ACC : [0.81016] \n",
      "                                   Val Precision : [0.37577] Val Recall : [0.55384]\n",
      "[[27981  4879]\n",
      " [ 2366  2937]]\n"
     ]
    },
    {
     "name": "stderr",
     "output_type": "stream",
     "text": [
      "\n",
      "100%|██████████| 299/299 [00:08<00:00, 36.67it/s]\n",
      "100%|██████████| 75/75 [00:00<00:00, 76.47it/s]\n"
     ]
    },
    {
     "name": "stdout",
     "output_type": "stream",
     "text": [
      "Epoch : [12] Train Loss : [0.44428] Val Loss : [1.29435] Val F1 : [0.31989] Val ACC : [0.32196] \n",
      "                                   Val Precision : [0.16551] Val Recall : [0.95983]\n",
      "[[ 7197 25663]\n",
      " [  213  5090]]\n"
     ]
    },
    {
     "name": "stderr",
     "output_type": "stream",
     "text": [
      "100%|██████████| 299/299 [00:08<00:00, 36.26it/s]\n",
      "100%|██████████| 75/75 [00:01<00:00, 69.69it/s]\n"
     ]
    },
    {
     "name": "stdout",
     "output_type": "stream",
     "text": [
      "Epoch : [13] Train Loss : [0.44058] Val Loss : [0.40512] Val F1 : [0.68143] Val ACC : [0.83649] \n",
      "                                   Val Precision : [0.42486] Val Recall : [0.49953]\n",
      "[[29274  3586]\n",
      " [ 2654  2649]]\n",
      "Model Saved.\n"
     ]
    },
    {
     "name": "stderr",
     "output_type": "stream",
     "text": [
      "100%|██████████| 299/299 [00:08<00:00, 36.32it/s]\n",
      "100%|██████████| 75/75 [00:00<00:00, 77.67it/s]\n"
     ]
    },
    {
     "name": "stdout",
     "output_type": "stream",
     "text": [
      "Epoch : [14] Train Loss : [0.43797] Val Loss : [0.50340] Val F1 : [0.65371] Val ACC : [0.77465] \n",
      "                                   Val Precision : [0.34006] Val Recall : [0.66095]\n",
      "[[26058  6802]\n",
      " [ 1798  3505]]\n"
     ]
    },
    {
     "name": "stderr",
     "output_type": "stream",
     "text": [
      "100%|██████████| 299/299 [00:08<00:00, 36.26it/s]\n",
      "100%|██████████| 75/75 [00:01<00:00, 74.84it/s]\n"
     ]
    },
    {
     "name": "stdout",
     "output_type": "stream",
     "text": [
      "Epoch : [15] Train Loss : [0.43411] Val Loss : [0.66363] Val F1 : [0.58038] Val ACC : [0.66578] \n",
      "                                   Val Precision : [0.26183] Val Recall : [0.77239]\n",
      "[[21312 11548]\n",
      " [ 1207  4096]]\n"
     ]
    },
    {
     "name": "stderr",
     "output_type": "stream",
     "text": [
      "100%|██████████| 299/299 [00:08<00:00, 36.39it/s]\n",
      "100%|██████████| 75/75 [00:00<00:00, 75.93it/s]\n"
     ]
    },
    {
     "name": "stdout",
     "output_type": "stream",
     "text": [
      "Epoch : [16] Train Loss : [0.43079] Val Loss : [1.35716] Val F1 : [0.31024] Val ACC : [0.31156] \n",
      "                                   Val Precision : [0.16383] Val Recall : [0.96361]\n",
      "[[ 6780 26080]\n",
      " [  193  5110]]\n"
     ]
    },
    {
     "name": "stderr",
     "output_type": "stream",
     "text": [
      "100%|██████████| 299/299 [00:08<00:00, 36.58it/s]\n",
      "100%|██████████| 75/75 [00:01<00:00, 70.04it/s]\n"
     ]
    },
    {
     "name": "stdout",
     "output_type": "stream",
     "text": [
      "Epoch : [17] Train Loss : [0.42994] Val Loss : [0.75899] Val F1 : [0.53309] Val ACC : [0.59628] \n",
      "                                   Val Precision : [0.23156] Val Recall : [0.82180]\n",
      "[[18398 14462]\n",
      " [  945  4358]]\n"
     ]
    },
    {
     "name": "stderr",
     "output_type": "stream",
     "text": [
      "100%|██████████| 299/299 [00:08<00:00, 36.69it/s]\n",
      "100%|██████████| 75/75 [00:01<00:00, 72.41it/s]\n"
     ]
    },
    {
     "name": "stdout",
     "output_type": "stream",
     "text": [
      "Epoch : [18] Train Loss : [0.42831] Val Loss : [0.71599] Val F1 : [0.55680] Val ACC : [0.62846] \n",
      "                                   Val Precision : [0.24660] Val Recall : [0.81444]\n",
      "[[19665 13195]\n",
      " [  984  4319]]\n"
     ]
    },
    {
     "name": "stderr",
     "output_type": "stream",
     "text": [
      "100%|██████████| 299/299 [00:08<00:00, 36.49it/s]\n",
      "100%|██████████| 75/75 [00:00<00:00, 77.11it/s]\n"
     ]
    },
    {
     "name": "stdout",
     "output_type": "stream",
     "text": [
      "Epoch : [19] Train Loss : [0.42342] Val Loss : [0.92494] Val F1 : [0.47357] Val ACC : [0.50981] \n",
      "                                   Val Precision : [0.20664] Val Recall : [0.89025]\n",
      "[[14735 18125]\n",
      " [  582  4721]]\n"
     ]
    },
    {
     "name": "stderr",
     "output_type": "stream",
     "text": [
      "100%|██████████| 299/299 [00:08<00:00, 36.50it/s]\n",
      "100%|██████████| 75/75 [00:01<00:00, 68.27it/s]"
     ]
    },
    {
     "name": "stdout",
     "output_type": "stream",
     "text": [
      "Epoch : [20] Train Loss : [0.42408] Val Loss : [0.94921] Val F1 : [0.46090] Val ACC : [0.49165] \n",
      "                                   Val Precision : [0.20316] Val Recall : [0.90967]\n",
      "[[13939 18921]\n",
      " [  479  4824]]\n"
     ]
    },
    {
     "name": "stderr",
     "output_type": "stream",
     "text": [
      "\n",
      "100%|██████████| 299/299 [00:08<00:00, 36.15it/s]\n",
      "100%|██████████| 75/75 [00:00<00:00, 75.60it/s]\n"
     ]
    },
    {
     "name": "stdout",
     "output_type": "stream",
     "text": [
      "Epoch : [21] Train Loss : [0.41727] Val Loss : [0.78164] Val F1 : [0.52354] Val ACC : [0.57799] \n",
      "                                   Val Precision : [0.22938] Val Recall : [0.86328]\n",
      "[[17480 15380]\n",
      " [  725  4578]]\n"
     ]
    },
    {
     "name": "stderr",
     "output_type": "stream",
     "text": [
      "100%|██████████| 299/299 [00:08<00:00, 36.46it/s]\n",
      "100%|██████████| 75/75 [00:01<00:00, 73.39it/s]\n"
     ]
    },
    {
     "name": "stdout",
     "output_type": "stream",
     "text": [
      "Epoch : [22] Train Loss : [0.41610] Val Loss : [0.95950] Val F1 : [0.45428] Val ACC : [0.48361] \n",
      "                                   Val Precision : [0.20007] Val Recall : [0.90590]\n",
      "[[13652 19208]\n",
      " [  499  4804]]\n"
     ]
    },
    {
     "name": "stderr",
     "output_type": "stream",
     "text": [
      "100%|██████████| 299/299 [00:08<00:00, 36.42it/s]\n",
      "100%|██████████| 75/75 [00:00<00:00, 77.87it/s]\n"
     ]
    },
    {
     "name": "stdout",
     "output_type": "stream",
     "text": [
      "Epoch : [23] Train Loss : [0.41530] Val Loss : [0.79223] Val F1 : [0.52251] Val ACC : [0.57844] \n",
      "                                   Val Precision : [0.22764] Val Recall : [0.84990]\n",
      "[[17568 15292]\n",
      " [  796  4507]]\n"
     ]
    },
    {
     "name": "stderr",
     "output_type": "stream",
     "text": [
      "100%|██████████| 299/299 [00:08<00:00, 36.83it/s]\n",
      "100%|██████████| 75/75 [00:01<00:00, 74.20it/s]\n"
     ]
    },
    {
     "name": "stdout",
     "output_type": "stream",
     "text": [
      "Epoch : [24] Train Loss : [0.41398] Val Loss : [0.44740] Val F1 : [0.67249] Val ACC : [0.80769] \n",
      "                                   Val Precision : [0.37794] Val Recall : [0.59438]\n",
      "[[27672  5188]\n",
      " [ 2151  3152]]\n"
     ]
    },
    {
     "name": "stderr",
     "output_type": "stream",
     "text": [
      "100%|██████████| 299/299 [00:08<00:00, 36.87it/s]\n",
      "100%|██████████| 75/75 [00:01<00:00, 74.36it/s]\n"
     ]
    },
    {
     "name": "stdout",
     "output_type": "stream",
     "text": [
      "Epoch : [25] Train Loss : [0.41113] Val Loss : [0.54115] Val F1 : [0.63562] Val ACC : [0.74711] \n",
      "                                   Val Precision : [0.31498] Val Recall : [0.69791]\n",
      "[[24811  8049]\n",
      " [ 1602  3701]]\n"
     ]
    },
    {
     "name": "stderr",
     "output_type": "stream",
     "text": [
      "100%|██████████| 299/299 [00:08<00:00, 36.95it/s]\n",
      "100%|██████████| 75/75 [00:00<00:00, 81.65it/s]"
     ]
    },
    {
     "name": "stdout",
     "output_type": "stream",
     "text": [
      "Epoch : [26] Train Loss : [0.41184] Val Loss : [0.85692] Val F1 : [0.50103] Val ACC : [0.54731] \n",
      "                                   Val Precision : [0.21811] Val Recall : [0.87347]\n",
      "[[16255 16605]\n",
      " [  671  4632]]\n"
     ]
    },
    {
     "name": "stderr",
     "output_type": "stream",
     "text": [
      "\n",
      "100%|██████████| 299/299 [00:08<00:00, 36.51it/s]\n",
      "100%|██████████| 75/75 [00:01<00:00, 74.72it/s]\n"
     ]
    },
    {
     "name": "stdout",
     "output_type": "stream",
     "text": [
      "Epoch : [27] Train Loss : [0.40963] Val Loss : [0.64205] Val F1 : [0.60176] Val ACC : [0.68939] \n",
      "                                   Val Precision : [0.28103] Val Recall : [0.79276]\n",
      "[[22105 10755]\n",
      " [ 1099  4204]]\n"
     ]
    },
    {
     "name": "stderr",
     "output_type": "stream",
     "text": [
      "100%|██████████| 299/299 [00:08<00:00, 36.58it/s]\n",
      "100%|██████████| 75/75 [00:00<00:00, 77.05it/s]\n"
     ]
    },
    {
     "name": "stdout",
     "output_type": "stream",
     "text": [
      "Epoch : [28] Train Loss : [0.40650] Val Loss : [0.41319] Val F1 : [0.68451] Val ACC : [0.82397] \n",
      "                                   Val Precision : [0.40550] Val Recall : [0.57251]\n",
      "[[28409  4451]\n",
      " [ 2267  3036]]\n",
      "Model Saved.\n"
     ]
    },
    {
     "name": "stderr",
     "output_type": "stream",
     "text": [
      "100%|██████████| 299/299 [00:08<00:00, 36.30it/s]\n",
      "100%|██████████| 75/75 [00:01<00:00, 69.82it/s]\n"
     ]
    },
    {
     "name": "stdout",
     "output_type": "stream",
     "text": [
      "Epoch : [29] Train Loss : [0.40430] Val Loss : [0.42908] Val F1 : [0.68132] Val ACC : [0.81647] \n",
      "                                   Val Precision : [0.39378] Val Recall : [0.59457]\n",
      "[[28006  4854]\n",
      " [ 2150  3153]]\n"
     ]
    },
    {
     "name": "stderr",
     "output_type": "stream",
     "text": [
      "100%|██████████| 299/299 [00:09<00:00, 31.00it/s]\n",
      "100%|██████████| 75/75 [00:00<00:00, 75.65it/s]\n"
     ]
    },
    {
     "name": "stdout",
     "output_type": "stream",
     "text": [
      "Epoch : [30] Train Loss : [0.40679] Val Loss : [0.92210] Val F1 : [0.47696] Val ACC : [0.51348] \n",
      "                                   Val Precision : [0.20882] Val Recall : [0.89685]\n",
      "[[14840 18020]\n",
      " [  547  4756]]\n"
     ]
    },
    {
     "name": "stderr",
     "output_type": "stream",
     "text": [
      "100%|██████████| 299/299 [00:08<00:00, 36.10it/s]\n",
      "100%|██████████| 75/75 [00:00<00:00, 78.68it/s]\n"
     ]
    },
    {
     "name": "stdout",
     "output_type": "stream",
     "text": [
      "Epoch : [31] Train Loss : [0.40355] Val Loss : [0.51623] Val F1 : [0.64937] Val ACC : [0.76386] \n",
      "                                   Val Precision : [0.33222] Val Recall : [0.69244]\n",
      "[[25479  7381]\n",
      " [ 1631  3672]]\n"
     ]
    },
    {
     "name": "stderr",
     "output_type": "stream",
     "text": [
      "100%|██████████| 299/299 [00:08<00:00, 36.44it/s]\n",
      "100%|██████████| 75/75 [00:01<00:00, 69.97it/s]\n"
     ]
    },
    {
     "name": "stdout",
     "output_type": "stream",
     "text": [
      "Epoch : [32] Train Loss : [0.40175] Val Loss : [0.76888] Val F1 : [0.54307] Val ACC : [0.60375] \n",
      "                                   Val Precision : [0.24096] Val Recall : [0.86121]\n",
      "[[18474 14386]\n",
      " [  736  4567]]\n"
     ]
    },
    {
     "name": "stderr",
     "output_type": "stream",
     "text": [
      "100%|██████████| 299/299 [00:08<00:00, 36.65it/s]\n",
      "100%|██████████| 75/75 [00:01<00:00, 69.70it/s]\n"
     ]
    },
    {
     "name": "stdout",
     "output_type": "stream",
     "text": [
      "Epoch : [33] Train Loss : [0.39966] Val Loss : [0.54034] Val F1 : [0.63896] Val ACC : [0.74968] \n",
      "                                   Val Precision : [0.31878] Val Recall : [0.70488]\n",
      "[[24872  7988]\n",
      " [ 1565  3738]]\n"
     ]
    },
    {
     "name": "stderr",
     "output_type": "stream",
     "text": [
      "100%|██████████| 299/299 [00:08<00:00, 36.04it/s]\n",
      "100%|██████████| 75/75 [00:01<00:00, 72.12it/s]\n"
     ]
    },
    {
     "name": "stdout",
     "output_type": "stream",
     "text": [
      "Epoch : [34] Train Loss : [0.39764] Val Loss : [0.44198] Val F1 : [0.67635] Val ACC : [0.80982] \n",
      "                                   Val Precision : [0.38298] Val Recall : [0.60324]\n",
      "[[27706  5154]\n",
      " [ 2104  3199]]\n"
     ]
    },
    {
     "name": "stderr",
     "output_type": "stream",
     "text": [
      "100%|██████████| 299/299 [00:08<00:00, 36.12it/s]\n",
      "100%|██████████| 75/75 [00:01<00:00, 72.56it/s]\n"
     ]
    },
    {
     "name": "stdout",
     "output_type": "stream",
     "text": [
      "Epoch : [35] Train Loss : [0.39928] Val Loss : [0.56235] Val F1 : [0.63163] Val ACC : [0.73333] \n",
      "                                   Val Precision : [0.30973] Val Recall : [0.74807]\n",
      "[[24019  8841]\n",
      " [ 1336  3967]]\n"
     ]
    },
    {
     "name": "stderr",
     "output_type": "stream",
     "text": [
      "100%|██████████| 299/299 [00:08<00:00, 36.33it/s]\n",
      "100%|██████████| 75/75 [00:01<00:00, 68.04it/s]\n"
     ]
    },
    {
     "name": "stdout",
     "output_type": "stream",
     "text": [
      "Epoch : [36] Train Loss : [0.39718] Val Loss : [0.60364] Val F1 : [0.61200] Val ACC : [0.70450] \n",
      "                                   Val Precision : [0.29003] Val Recall : [0.77805]\n",
      "[[22760 10100]\n",
      " [ 1177  4126]]\n"
     ]
    },
    {
     "name": "stderr",
     "output_type": "stream",
     "text": [
      "100%|██████████| 299/299 [00:08<00:00, 36.27it/s]\n",
      "100%|██████████| 75/75 [00:01<00:00, 74.12it/s]\n"
     ]
    },
    {
     "name": "stdout",
     "output_type": "stream",
     "text": [
      "Epoch : [37] Train Loss : [0.39584] Val Loss : [0.96231] Val F1 : [0.46843] Val ACC : [0.49999] \n",
      "                                   Val Precision : [0.20759] Val Recall : [0.92231]\n",
      "[[14190 18670]\n",
      " [  412  4891]]\n"
     ]
    },
    {
     "name": "stderr",
     "output_type": "stream",
     "text": [
      "100%|██████████| 299/299 [00:08<00:00, 36.34it/s]\n",
      "100%|██████████| 75/75 [00:01<00:00, 74.96it/s]\n"
     ]
    },
    {
     "name": "stdout",
     "output_type": "stream",
     "text": [
      "Epoch : [38] Train Loss : [0.39748] Val Loss : [0.57878] Val F1 : [0.62559] Val ACC : [0.72675] \n",
      "                                   Val Precision : [0.30323] Val Recall : [0.74467]\n",
      "[[23786  9074]\n",
      " [ 1354  3949]]\n"
     ]
    },
    {
     "name": "stderr",
     "output_type": "stream",
     "text": [
      "100%|██████████| 299/299 [00:08<00:00, 36.16it/s]\n",
      "100%|██████████| 75/75 [00:02<00:00, 34.89it/s]"
     ]
    },
    {
     "name": "stdout",
     "output_type": "stream",
     "text": [
      "Epoch : [39] Train Loss : [0.39536] Val Loss : [0.54818] Val F1 : [0.63638] Val ACC : [0.74087] \n",
      "                                   Val Precision : [0.31511] Val Recall : [0.73694]\n",
      "[[24366  8494]\n",
      " [ 1395  3908]]\n"
     ]
    },
    {
     "name": "stderr",
     "output_type": "stream",
     "text": [
      "\n",
      "100%|██████████| 299/299 [00:09<00:00, 32.22it/s]\n",
      "100%|██████████| 75/75 [00:00<00:00, 75.49it/s]"
     ]
    },
    {
     "name": "stdout",
     "output_type": "stream",
     "text": [
      "Epoch : [40] Train Loss : [0.39392] Val Loss : [0.60202] Val F1 : [0.60923] Val ACC : [0.70359] \n",
      "                                   Val Precision : [0.28702] Val Recall : [0.76353]\n",
      "[[22802 10058]\n",
      " [ 1254  4049]]\n"
     ]
    },
    {
     "name": "stderr",
     "output_type": "stream",
     "text": [
      "\n",
      "100%|██████████| 299/299 [00:08<00:00, 36.46it/s]\n",
      "100%|██████████| 75/75 [00:00<00:00, 76.78it/s]\n"
     ]
    },
    {
     "name": "stdout",
     "output_type": "stream",
     "text": [
      "Epoch : [41] Train Loss : [0.39050] Val Loss : [0.69324] Val F1 : [0.58000] Val ACC : [0.65590] \n",
      "                                   Val Precision : [0.26471] Val Recall : [0.83047]\n",
      "[[20627 12233]\n",
      " [  899  4404]]\n"
     ]
    },
    {
     "name": "stderr",
     "output_type": "stream",
     "text": [
      "100%|██████████| 299/299 [00:08<00:00, 36.33it/s]\n",
      "100%|██████████| 75/75 [00:01<00:00, 73.93it/s]\n"
     ]
    },
    {
     "name": "stdout",
     "output_type": "stream",
     "text": [
      "Epoch : [42] Train Loss : [0.38986] Val Loss : [0.38307] Val F1 : [0.68750] Val ACC : [0.84372] \n",
      "                                   Val Precision : [0.44376] Val Recall : [0.49180]\n",
      "[[29591  3269]\n",
      " [ 2695  2608]]\n",
      "Model Saved.\n"
     ]
    },
    {
     "name": "stderr",
     "output_type": "stream",
     "text": [
      "100%|██████████| 299/299 [00:08<00:00, 36.61it/s]\n",
      "100%|██████████| 75/75 [00:01<00:00, 73.00it/s]\n"
     ]
    },
    {
     "name": "stdout",
     "output_type": "stream",
     "text": [
      "Epoch : [43] Train Loss : [0.39080] Val Loss : [0.65502] Val F1 : [0.59389] Val ACC : [0.67751] \n",
      "                                   Val Precision : [0.27468] Val Recall : [0.80502]\n",
      "[[21587 11273]\n",
      " [ 1034  4269]]\n"
     ]
    },
    {
     "name": "stderr",
     "output_type": "stream",
     "text": [
      "100%|██████████| 299/299 [00:08<00:00, 36.63it/s]\n",
      "100%|██████████| 75/75 [00:01<00:00, 68.11it/s]\n"
     ]
    },
    {
     "name": "stdout",
     "output_type": "stream",
     "text": [
      "Epoch : [44] Train Loss : [0.39131] Val Loss : [0.45411] Val F1 : [0.67246] Val ACC : [0.80099] \n",
      "                                   Val Precision : [0.37201] Val Recall : [0.62814]\n",
      "[[27237  5623]\n",
      " [ 1972  3331]]\n"
     ]
    },
    {
     "name": "stderr",
     "output_type": "stream",
     "text": [
      "100%|██████████| 299/299 [00:08<00:00, 36.31it/s]\n",
      "100%|██████████| 75/75 [00:01<00:00, 71.79it/s]"
     ]
    },
    {
     "name": "stdout",
     "output_type": "stream",
     "text": [
      "Epoch : [45] Train Loss : [0.38993] Val Loss : [0.72301] Val F1 : [0.56718] Val ACC : [0.63714] \n",
      "                                   Val Precision : [0.25609] Val Recall : [0.84594]\n",
      "[[19829 13031]\n",
      " [  817  4486]]\n"
     ]
    },
    {
     "name": "stderr",
     "output_type": "stream",
     "text": [
      "\n",
      "100%|██████████| 299/299 [00:08<00:00, 36.04it/s]\n",
      "100%|██████████| 75/75 [00:00<00:00, 76.76it/s]\n"
     ]
    },
    {
     "name": "stdout",
     "output_type": "stream",
     "text": [
      "Epoch : [46] Train Loss : [0.38655] Val Loss : [0.54842] Val F1 : [0.64023] Val ACC : [0.74635] \n",
      "                                   Val Precision : [0.31962] Val Recall : [0.73128]\n",
      "[[24605  8255]\n",
      " [ 1425  3878]]\n"
     ]
    },
    {
     "name": "stderr",
     "output_type": "stream",
     "text": [
      "100%|██████████| 299/299 [00:08<00:00, 36.25it/s]\n",
      "100%|██████████| 75/75 [00:01<00:00, 67.79it/s]"
     ]
    },
    {
     "name": "stdout",
     "output_type": "stream",
     "text": [
      "Epoch : [47] Train Loss : [0.39066] Val Loss : [0.45688] Val F1 : [0.67524] Val ACC : [0.79868] \n",
      "                                   Val Precision : [0.37248] Val Recall : [0.65548]\n",
      "[[27004  5856]\n",
      " [ 1827  3476]]\n"
     ]
    },
    {
     "name": "stderr",
     "output_type": "stream",
     "text": [
      "\n",
      "100%|██████████| 299/299 [00:08<00:00, 36.20it/s]\n",
      "100%|██████████| 75/75 [00:00<00:00, 79.27it/s]\n"
     ]
    },
    {
     "name": "stdout",
     "output_type": "stream",
     "text": [
      "Epoch : [48] Train Loss : [0.38806] Val Loss : [0.86729] Val F1 : [0.51578] Val ACC : [0.56314] \n",
      "                                   Val Precision : [0.22834] Val Recall : [0.90100]\n",
      "[[16713 16147]\n",
      " [  525  4778]]\n"
     ]
    },
    {
     "name": "stderr",
     "output_type": "stream",
     "text": [
      "100%|██████████| 299/299 [00:08<00:00, 36.45it/s]\n",
      "100%|██████████| 75/75 [00:01<00:00, 74.81it/s]\n"
     ]
    },
    {
     "name": "stdout",
     "output_type": "stream",
     "text": [
      "Epoch : [49] Train Loss : [0.38809] Val Loss : [0.50633] Val F1 : [0.65443] Val ACC : [0.76747] \n",
      "                                   Val Precision : [0.33817] Val Recall : [0.70356]\n",
      "[[25558  7302]\n",
      " [ 1572  3731]]\n"
     ]
    },
    {
     "name": "stderr",
     "output_type": "stream",
     "text": [
      "100%|██████████| 299/299 [00:08<00:00, 35.84it/s]\n",
      "100%|██████████| 75/75 [00:01<00:00, 73.33it/s]\n"
     ]
    },
    {
     "name": "stdout",
     "output_type": "stream",
     "text": [
      "Epoch : [50] Train Loss : [0.38718] Val Loss : [0.76670] Val F1 : [0.55245] Val ACC : [0.61410] \n",
      "                                   Val Precision : [0.24797] Val Recall : [0.87422]\n",
      "[[18800 14060]\n",
      " [  667  4636]]\n"
     ]
    },
    {
     "name": "stderr",
     "output_type": "stream",
     "text": [
      "100%|██████████| 299/299 [00:08<00:00, 35.28it/s]\n",
      "100%|██████████| 75/75 [00:00<00:00, 75.77it/s]\n"
     ]
    },
    {
     "name": "stdout",
     "output_type": "stream",
     "text": [
      "Epoch : [51] Train Loss : [0.38720] Val Loss : [0.63107] Val F1 : [0.60700] Val ACC : [0.69473] \n",
      "                                   Val Precision : [0.28599] Val Recall : [0.79974]\n",
      "[[22272 10588]\n",
      " [ 1062  4241]]\n"
     ]
    },
    {
     "name": "stderr",
     "output_type": "stream",
     "text": [
      "100%|██████████| 299/299 [00:08<00:00, 36.15it/s]\n",
      "100%|██████████| 75/75 [00:01<00:00, 73.59it/s]"
     ]
    },
    {
     "name": "stdout",
     "output_type": "stream",
     "text": [
      "Epoch : [52] Train Loss : [0.38605] Val Loss : [0.52273] Val F1 : [0.64977] Val ACC : [0.75896] \n",
      "                                   Val Precision : [0.33137] Val Recall : [0.72186]\n",
      "[[25136  7724]\n",
      " [ 1475  3828]]\n"
     ]
    },
    {
     "name": "stderr",
     "output_type": "stream",
     "text": [
      "\n",
      "100%|██████████| 299/299 [00:08<00:00, 36.52it/s]\n",
      "100%|██████████| 75/75 [00:01<00:00, 73.33it/s]\n"
     ]
    },
    {
     "name": "stdout",
     "output_type": "stream",
     "text": [
      "Epoch : [53] Train Loss : [0.38388] Val Loss : [0.76480] Val F1 : [0.55430] Val ACC : [0.61701] \n",
      "                                   Val Precision : [0.24891] Val Recall : [0.87045]\n",
      "[[18931 13929]\n",
      " [  687  4616]]\n"
     ]
    },
    {
     "name": "stderr",
     "output_type": "stream",
     "text": [
      "100%|██████████| 299/299 [00:09<00:00, 32.23it/s]\n",
      "100%|██████████| 75/75 [00:00<00:00, 77.00it/s]\n"
     ]
    },
    {
     "name": "stdout",
     "output_type": "stream",
     "text": [
      "Epoch : [54] Train Loss : [0.38289] Val Loss : [0.51025] Val F1 : [0.65396] Val ACC : [0.76606] \n",
      "                                   Val Precision : [0.33728] Val Recall : [0.70847]\n",
      "[[25478  7382]\n",
      " [ 1546  3757]]\n"
     ]
    },
    {
     "name": "stderr",
     "output_type": "stream",
     "text": [
      "100%|██████████| 299/299 [00:08<00:00, 36.10it/s]\n",
      "100%|██████████| 75/75 [00:01<00:00, 67.75it/s]\n"
     ]
    },
    {
     "name": "stdout",
     "output_type": "stream",
     "text": [
      "Epoch : [55] Train Loss : [0.38161] Val Loss : [0.61893] Val F1 : [0.61188] Val ACC : [0.69981] \n",
      "                                   Val Precision : [0.29064] Val Recall : [0.80539]\n",
      "[[22436 10424]\n",
      " [ 1032  4271]]\n"
     ]
    },
    {
     "name": "stderr",
     "output_type": "stream",
     "text": [
      "100%|██████████| 299/299 [00:08<00:00, 36.33it/s]\n",
      "100%|██████████| 75/75 [00:00<00:00, 75.58it/s]\n"
     ]
    },
    {
     "name": "stdout",
     "output_type": "stream",
     "text": [
      "Epoch : [56] Train Loss : [0.38125] Val Loss : [0.47267] Val F1 : [0.66962] Val ACC : [0.79084] \n",
      "                                   Val Precision : [0.36252] Val Recall : [0.66604]\n",
      "[[26649  6211]\n",
      " [ 1771  3532]]\n"
     ]
    },
    {
     "name": "stderr",
     "output_type": "stream",
     "text": [
      "100%|██████████| 299/299 [00:08<00:00, 36.22it/s]\n",
      "100%|██████████| 75/75 [00:01<00:00, 69.24it/s]\n"
     ]
    },
    {
     "name": "stdout",
     "output_type": "stream",
     "text": [
      "Epoch : [57] Train Loss : [0.38016] Val Loss : [0.49804] Val F1 : [0.65792] Val ACC : [0.77305] \n",
      "                                   Val Precision : [0.34338] Val Recall : [0.69414]\n",
      "[[25821  7039]\n",
      " [ 1622  3681]]\n"
     ]
    },
    {
     "name": "stderr",
     "output_type": "stream",
     "text": [
      "100%|██████████| 299/299 [00:08<00:00, 36.98it/s]\n",
      "100%|██████████| 75/75 [00:01<00:00, 73.53it/s]\n"
     ]
    },
    {
     "name": "stdout",
     "output_type": "stream",
     "text": [
      "Epoch : [58] Train Loss : [0.38060] Val Loss : [0.44647] Val F1 : [0.67936] Val ACC : [0.80827] \n",
      "                                   Val Precision : [0.38375] Val Recall : [0.62682]\n",
      "[[27522  5338]\n",
      " [ 1979  3324]]\n"
     ]
    },
    {
     "name": "stderr",
     "output_type": "stream",
     "text": [
      "100%|██████████| 299/299 [00:08<00:00, 36.51it/s]\n",
      "100%|██████████| 75/75 [00:00<00:00, 75.15it/s]\n"
     ]
    },
    {
     "name": "stdout",
     "output_type": "stream",
     "text": [
      "Epoch : [59] Train Loss : [0.38038] Val Loss : [0.59964] Val F1 : [0.62227] Val ACC : [0.71603] \n",
      "                                   Val Precision : [0.30016] Val Recall : [0.78371]\n",
      "[[23170  9690]\n",
      " [ 1147  4156]]\n"
     ]
    },
    {
     "name": "stderr",
     "output_type": "stream",
     "text": [
      "100%|██████████| 299/299 [00:08<00:00, 36.67it/s]\n",
      "100%|██████████| 75/75 [00:01<00:00, 71.39it/s]\n"
     ]
    },
    {
     "name": "stdout",
     "output_type": "stream",
     "text": [
      "Epoch : [60] Train Loss : [0.38030] Val Loss : [0.51695] Val F1 : [0.65433] Val ACC : [0.76522] \n",
      "                                   Val Precision : [0.33739] Val Recall : [0.71544]\n",
      "[[25409  7451]\n",
      " [ 1509  3794]]\n"
     ]
    },
    {
     "name": "stderr",
     "output_type": "stream",
     "text": [
      "100%|██████████| 299/299 [00:08<00:00, 36.61it/s]\n",
      "100%|██████████| 75/75 [00:01<00:00, 73.31it/s]\n"
     ]
    },
    {
     "name": "stdout",
     "output_type": "stream",
     "text": [
      "Epoch : [61] Train Loss : [0.37871] Val Loss : [0.63420] Val F1 : [0.60628] Val ACC : [0.69169] \n",
      "                                   Val Precision : [0.28578] Val Recall : [0.81294]\n",
      "[[22086 10774]\n",
      " [  992  4311]]\n"
     ]
    },
    {
     "name": "stderr",
     "output_type": "stream",
     "text": [
      "100%|██████████| 299/299 [00:08<00:00, 36.56it/s]\n",
      "100%|██████████| 75/75 [00:00<00:00, 77.24it/s]\n"
     ]
    },
    {
     "name": "stdout",
     "output_type": "stream",
     "text": [
      "Epoch : [62] Train Loss : [0.38042] Val Loss : [0.55238] Val F1 : [0.64192] Val ACC : [0.74405] \n",
      "                                   Val Precision : [0.32110] Val Recall : [0.75561]\n",
      "[[24388  8472]\n",
      " [ 1296  4007]]\n"
     ]
    },
    {
     "name": "stderr",
     "output_type": "stream",
     "text": [
      "100%|██████████| 299/299 [00:08<00:00, 36.32it/s]\n",
      "100%|██████████| 75/75 [00:02<00:00, 25.48it/s]\n"
     ]
    },
    {
     "name": "stdout",
     "output_type": "stream",
     "text": [
      "Epoch : [63] Train Loss : [0.37874] Val Loss : [0.59798] Val F1 : [0.62468] Val ACC : [0.71737] \n",
      "                                   Val Precision : [0.30270] Val Recall : [0.79314]\n",
      "[[23171  9689]\n",
      " [ 1097  4206]]\n"
     ]
    },
    {
     "name": "stderr",
     "output_type": "stream",
     "text": [
      "100%|██████████| 299/299 [00:09<00:00, 32.01it/s]\n",
      "100%|██████████| 75/75 [00:00<00:00, 79.10it/s]\n"
     ]
    },
    {
     "name": "stdout",
     "output_type": "stream",
     "text": [
      "Epoch : [64] Train Loss : [0.37670] Val Loss : [0.71555] Val F1 : [0.57623] Val ACC : [0.64772] \n",
      "                                   Val Precision : [0.26314] Val Recall : [0.85272]\n",
      "[[20197 12663]\n",
      " [  781  4522]]\n"
     ]
    },
    {
     "name": "stderr",
     "output_type": "stream",
     "text": [
      "100%|██████████| 299/299 [00:08<00:00, 36.17it/s]\n",
      "100%|██████████| 75/75 [00:01<00:00, 71.86it/s]\n"
     ]
    },
    {
     "name": "stdout",
     "output_type": "stream",
     "text": [
      "Epoch : [65] Train Loss : [0.37742] Val Loss : [0.60544] Val F1 : [0.61755] Val ACC : [0.70985] \n",
      "                                   Val Precision : [0.29556] Val Recall : [0.78654]\n",
      "[[22919  9941]\n",
      " [ 1132  4171]]\n"
     ]
    },
    {
     "name": "stderr",
     "output_type": "stream",
     "text": [
      "100%|██████████| 299/299 [00:08<00:00, 36.31it/s]\n",
      "100%|██████████| 75/75 [00:01<00:00, 71.85it/s]\n"
     ]
    },
    {
     "name": "stdout",
     "output_type": "stream",
     "text": [
      "Epoch : [66] Train Loss : [0.37652] Val Loss : [0.59355] Val F1 : [0.62496] Val ACC : [0.72141] \n",
      "                                   Val Precision : [0.30273] Val Recall : [0.77107]\n",
      "[[23442  9418]\n",
      " [ 1214  4089]]\n"
     ]
    },
    {
     "name": "stderr",
     "output_type": "stream",
     "text": [
      "100%|██████████| 299/299 [00:08<00:00, 36.04it/s]\n",
      "100%|██████████| 75/75 [00:01<00:00, 70.82it/s]"
     ]
    },
    {
     "name": "stdout",
     "output_type": "stream",
     "text": [
      "Epoch : [67] Train Loss : [0.37466] Val Loss : [0.58225] Val F1 : [0.62966] Val ACC : [0.72906] \n",
      "                                   Val Precision : [0.30759] Val Recall : [0.75919]\n",
      "[[23797  9063]\n",
      " [ 1277  4026]]\n"
     ]
    },
    {
     "name": "stderr",
     "output_type": "stream",
     "text": [
      "\n",
      "100%|██████████| 299/299 [00:08<00:00, 36.59it/s]\n",
      "100%|██████████| 75/75 [00:01<00:00, 74.00it/s]\n"
     ]
    },
    {
     "name": "stdout",
     "output_type": "stream",
     "text": [
      "Epoch : [68] Train Loss : [0.37425] Val Loss : [0.71982] Val F1 : [0.57777] Val ACC : [0.64893] \n",
      "                                   Val Precision : [0.26458] Val Recall : [0.85782]\n",
      "[[20216 12644]\n",
      " [  754  4549]]\n"
     ]
    },
    {
     "name": "stderr",
     "output_type": "stream",
     "text": [
      "100%|██████████| 299/299 [00:08<00:00, 36.11it/s]\n",
      "100%|██████████| 75/75 [00:00<00:00, 77.62it/s]\n"
     ]
    },
    {
     "name": "stdout",
     "output_type": "stream",
     "text": [
      "Epoch : [69] Train Loss : [0.37574] Val Loss : [0.66423] Val F1 : [0.59634] Val ACC : [0.67728] \n",
      "                                   Val Precision : [0.27766] Val Recall : [0.82576]\n",
      "[[21468 11392]\n",
      " [  924  4379]]\n"
     ]
    },
    {
     "name": "stderr",
     "output_type": "stream",
     "text": [
      "100%|██████████| 299/299 [00:08<00:00, 36.07it/s]\n",
      "100%|██████████| 75/75 [00:00<00:00, 76.41it/s]\n"
     ]
    },
    {
     "name": "stdout",
     "output_type": "stream",
     "text": [
      "Epoch : [70] Train Loss : [0.37411] Val Loss : [0.63312] Val F1 : [0.60641] Val ACC : [0.69431] \n",
      "                                   Val Precision : [0.28540] Val Recall : [0.79785]\n",
      "[[22266 10594]\n",
      " [ 1072  4231]]\n"
     ]
    },
    {
     "name": "stderr",
     "output_type": "stream",
     "text": [
      "100%|██████████| 299/299 [00:08<00:00, 36.58it/s]\n",
      "100%|██████████| 75/75 [00:00<00:00, 82.14it/s] \n"
     ]
    },
    {
     "name": "stdout",
     "output_type": "stream",
     "text": [
      "Epoch : [71] Train Loss : [0.37490] Val Loss : [0.59507] Val F1 : [0.62500] Val ACC : [0.71863] \n",
      "                                   Val Precision : [0.30295] Val Recall : [0.78786]\n",
      "[[23247  9613]\n",
      " [ 1125  4178]]\n"
     ]
    },
    {
     "name": "stderr",
     "output_type": "stream",
     "text": [
      "100%|██████████| 299/299 [00:08<00:00, 36.06it/s]\n",
      "100%|██████████| 75/75 [00:01<00:00, 74.20it/s]\n"
     ]
    },
    {
     "name": "stdout",
     "output_type": "stream",
     "text": [
      "Epoch : [72] Train Loss : [0.37481] Val Loss : [0.63839] Val F1 : [0.60558] Val ACC : [0.69140] \n",
      "                                   Val Precision : [0.28503] Val Recall : [0.80935]\n",
      "[[22094 10766]\n",
      " [ 1011  4292]]\n"
     ]
    },
    {
     "name": "stderr",
     "output_type": "stream",
     "text": [
      "100%|██████████| 299/299 [00:08<00:00, 36.46it/s]\n",
      "100%|██████████| 75/75 [00:01<00:00, 69.66it/s]"
     ]
    },
    {
     "name": "stdout",
     "output_type": "stream",
     "text": [
      "Epoch : [73] Train Loss : [0.37317] Val Loss : [0.60031] Val F1 : [0.62457] Val ACC : [0.71661] \n",
      "                                   Val Precision : [0.30264] Val Recall : [0.79691]\n",
      "[[23122  9738]\n",
      " [ 1077  4226]]\n"
     ]
    },
    {
     "name": "stderr",
     "output_type": "stream",
     "text": [
      "\n",
      "100%|██████████| 299/299 [00:08<00:00, 36.31it/s]\n",
      "100%|██████████| 75/75 [00:01<00:00, 73.51it/s]\n"
     ]
    },
    {
     "name": "stdout",
     "output_type": "stream",
     "text": [
      "Epoch : [74] Train Loss : [0.37382] Val Loss : [0.66034] Val F1 : [0.60024] Val ACC : [0.68257] \n",
      "                                   Val Precision : [0.28087] Val Recall : [0.82312]\n",
      "[[21684 11176]\n",
      " [  938  4365]]\n"
     ]
    },
    {
     "name": "stderr",
     "output_type": "stream",
     "text": [
      "100%|██████████| 299/299 [00:08<00:00, 36.38it/s]\n",
      "100%|██████████| 75/75 [00:00<00:00, 75.47it/s]\n"
     ]
    },
    {
     "name": "stdout",
     "output_type": "stream",
     "text": [
      "Epoch : [75] Train Loss : [0.37089] Val Loss : [0.64137] Val F1 : [0.60859] Val ACC : [0.69476] \n",
      "                                   Val Precision : [0.28782] Val Recall : [0.81162]\n",
      "[[22210 10650]\n",
      " [  999  4304]]\n"
     ]
    },
    {
     "name": "stderr",
     "output_type": "stream",
     "text": [
      "100%|██████████| 299/299 [00:08<00:00, 36.62it/s]\n",
      "100%|██████████| 75/75 [00:01<00:00, 74.59it/s]\n"
     ]
    },
    {
     "name": "stdout",
     "output_type": "stream",
     "text": [
      "Epoch : [76] Train Loss : [0.37466] Val Loss : [0.59102] Val F1 : [0.62663] Val ACC : [0.72156] \n",
      "                                   Val Precision : [0.30455] Val Recall : [0.78201]\n",
      "[[23390  9470]\n",
      " [ 1156  4147]]\n"
     ]
    },
    {
     "name": "stderr",
     "output_type": "stream",
     "text": [
      "100%|██████████| 299/299 [00:08<00:00, 36.47it/s]\n",
      "100%|██████████| 75/75 [00:01<00:00, 69.99it/s]"
     ]
    },
    {
     "name": "stdout",
     "output_type": "stream",
     "text": [
      "Epoch : [77] Train Loss : [0.37297] Val Loss : [0.65775] Val F1 : [0.60096] Val ACC : [0.68430] \n",
      "                                   Val Precision : [0.28128] Val Recall : [0.81784]\n",
      "[[21778 11082]\n",
      " [  966  4337]]\n"
     ]
    },
    {
     "name": "stderr",
     "output_type": "stream",
     "text": [
      "\n",
      "100%|██████████| 299/299 [00:09<00:00, 32.05it/s]\n",
      "100%|██████████| 75/75 [00:01<00:00, 70.30it/s]"
     ]
    },
    {
     "name": "stdout",
     "output_type": "stream",
     "text": [
      "Epoch : [78] Train Loss : [0.36989] Val Loss : [0.56199] Val F1 : [0.64082] Val ACC : [0.74158] \n",
      "                                   Val Precision : [0.31976] Val Recall : [0.76259]\n",
      "[[24257  8603]\n",
      " [ 1259  4044]]\n"
     ]
    },
    {
     "name": "stderr",
     "output_type": "stream",
     "text": [
      "\n",
      "100%|██████████| 299/299 [00:08<00:00, 36.26it/s]\n",
      "100%|██████████| 75/75 [00:00<00:00, 78.43it/s]\n"
     ]
    },
    {
     "name": "stdout",
     "output_type": "stream",
     "text": [
      "Epoch : [79] Train Loss : [0.37265] Val Loss : [0.63757] Val F1 : [0.61100] Val ACC : [0.69767] \n",
      "                                   Val Precision : [0.29002] Val Recall : [0.81199]\n",
      "[[22319 10541]\n",
      " [  997  4306]]\n"
     ]
    },
    {
     "name": "stderr",
     "output_type": "stream",
     "text": [
      "100%|██████████| 299/299 [00:08<00:00, 36.19it/s]\n",
      "100%|██████████| 75/75 [00:01<00:00, 68.68it/s]"
     ]
    },
    {
     "name": "stdout",
     "output_type": "stream",
     "text": [
      "Epoch : [80] Train Loss : [0.37073] Val Loss : [0.62006] Val F1 : [0.61794] Val ACC : [0.70802] \n",
      "                                   Val Precision : [0.29623] Val Recall : [0.80049]\n",
      "[[22775 10085]\n",
      " [ 1058  4245]]\n"
     ]
    },
    {
     "name": "stderr",
     "output_type": "stream",
     "text": [
      "\n",
      "100%|██████████| 299/299 [00:08<00:00, 36.59it/s]\n",
      "100%|██████████| 75/75 [00:01<00:00, 72.99it/s]"
     ]
    },
    {
     "name": "stdout",
     "output_type": "stream",
     "text": [
      "Epoch : [81] Train Loss : [0.37193] Val Loss : [0.63505] Val F1 : [0.60885] Val ACC : [0.69523] \n",
      "                                   Val Precision : [0.28802] Val Recall : [0.81067]\n",
      "[[22233 10627]\n",
      " [ 1004  4299]]\n"
     ]
    },
    {
     "name": "stderr",
     "output_type": "stream",
     "text": [
      "\n",
      "100%|██████████| 299/299 [00:08<00:00, 36.10it/s]\n",
      "100%|██████████| 75/75 [00:01<00:00, 72.96it/s]\n"
     ]
    },
    {
     "name": "stdout",
     "output_type": "stream",
     "text": [
      "Epoch : [82] Train Loss : [0.37054] Val Loss : [0.63353] Val F1 : [0.60953] Val ACC : [0.69641] \n",
      "                                   Val Precision : [0.28858] Val Recall : [0.80860]\n",
      "[[22289 10571]\n",
      " [ 1015  4288]]\n"
     ]
    },
    {
     "name": "stderr",
     "output_type": "stream",
     "text": [
      "100%|██████████| 299/299 [00:08<00:00, 36.67it/s]\n",
      "100%|██████████| 75/75 [00:00<00:00, 76.21it/s]\n"
     ]
    },
    {
     "name": "stdout",
     "output_type": "stream",
     "text": [
      "Epoch : [83] Train Loss : [0.36844] Val Loss : [0.63547] Val F1 : [0.60827] Val ACC : [0.69512] \n",
      "                                   Val Precision : [0.28737] Val Recall : [0.80690]\n",
      "[[22249 10611]\n",
      " [ 1024  4279]]\n"
     ]
    },
    {
     "name": "stderr",
     "output_type": "stream",
     "text": [
      "100%|██████████| 299/299 [00:08<00:00, 36.36it/s]\n",
      "100%|██████████| 75/75 [00:00<00:00, 77.92it/s]\n"
     ]
    },
    {
     "name": "stdout",
     "output_type": "stream",
     "text": [
      "Epoch : [84] Train Loss : [0.36956] Val Loss : [0.61830] Val F1 : [0.61717] Val ACC : [0.70720] \n",
      "                                   Val Precision : [0.29548] Val Recall : [0.79974]\n",
      "[[22748 10112]\n",
      " [ 1062  4241]]\n"
     ]
    },
    {
     "name": "stderr",
     "output_type": "stream",
     "text": [
      "100%|██████████| 299/299 [00:08<00:00, 36.50it/s]\n",
      "100%|██████████| 75/75 [00:00<00:00, 75.32it/s]\n"
     ]
    },
    {
     "name": "stdout",
     "output_type": "stream",
     "text": [
      "Epoch : [85] Train Loss : [0.36902] Val Loss : [0.60776] Val F1 : [0.62064] Val ACC : [0.71216] \n",
      "                                   Val Precision : [0.29874] Val Recall : [0.79521]\n",
      "[[22961  9899]\n",
      " [ 1086  4217]]\n"
     ]
    },
    {
     "name": "stderr",
     "output_type": "stream",
     "text": [
      "100%|██████████| 299/299 [00:08<00:00, 36.51it/s]\n",
      "100%|██████████| 75/75 [00:01<00:00, 72.26it/s]\n"
     ]
    },
    {
     "name": "stdout",
     "output_type": "stream",
     "text": [
      "Epoch : [86] Train Loss : [0.36903] Val Loss : [0.61376] Val F1 : [0.62179] Val ACC : [0.71302] \n",
      "                                   Val Precision : [0.29992] Val Recall : [0.79842]\n",
      "[[22977  9883]\n",
      " [ 1069  4234]]\n"
     ]
    },
    {
     "name": "stderr",
     "output_type": "stream",
     "text": [
      "100%|██████████| 299/299 [00:08<00:00, 36.89it/s]\n",
      "100%|██████████| 75/75 [00:02<00:00, 35.13it/s]\n"
     ]
    },
    {
     "name": "stdout",
     "output_type": "stream",
     "text": [
      "Epoch : [87] Train Loss : [0.36914] Val Loss : [0.61437] Val F1 : [0.61738] Val ACC : [0.70749] \n",
      "                                   Val Precision : [0.29568] Val Recall : [0.79955]\n",
      "[[22760 10100]\n",
      " [ 1063  4240]]\n"
     ]
    },
    {
     "name": "stderr",
     "output_type": "stream",
     "text": [
      "100%|██████████| 299/299 [00:09<00:00, 32.91it/s]\n",
      "100%|██████████| 75/75 [00:00<00:00, 78.74it/s]\n"
     ]
    },
    {
     "name": "stdout",
     "output_type": "stream",
     "text": [
      "Epoch : [88] Train Loss : [0.37048] Val Loss : [0.63100] Val F1 : [0.61181] Val ACC : [0.69979] \n",
      "                                   Val Precision : [0.29057] Val Recall : [0.80502]\n",
      "[[22437 10423]\n",
      " [ 1034  4269]]\n"
     ]
    },
    {
     "name": "stderr",
     "output_type": "stream",
     "text": [
      "100%|██████████| 299/299 [00:08<00:00, 36.41it/s]\n",
      "100%|██████████| 75/75 [00:01<00:00, 74.79it/s]\n"
     ]
    },
    {
     "name": "stdout",
     "output_type": "stream",
     "text": [
      "Epoch : [89] Train Loss : [0.36865] Val Loss : [0.61913] Val F1 : [0.61682] Val ACC : [0.70616] \n",
      "                                   Val Precision : [0.29523] Val Recall : [0.80351]\n",
      "[[22688 10172]\n",
      " [ 1042  4261]]\n"
     ]
    },
    {
     "name": "stderr",
     "output_type": "stream",
     "text": [
      "100%|██████████| 299/299 [00:08<00:00, 36.44it/s]\n",
      "100%|██████████| 75/75 [00:01<00:00, 73.08it/s]\n"
     ]
    },
    {
     "name": "stdout",
     "output_type": "stream",
     "text": [
      "Epoch : [90] Train Loss : [0.37120] Val Loss : [0.61021] Val F1 : [0.61967] Val ACC : [0.71048] \n",
      "                                   Val Precision : [0.29785] Val Recall : [0.79823]\n",
      "[[22881  9979]\n",
      " [ 1070  4233]]\n"
     ]
    },
    {
     "name": "stderr",
     "output_type": "stream",
     "text": [
      "100%|██████████| 299/299 [00:08<00:00, 36.48it/s]\n",
      "100%|██████████| 75/75 [00:01<00:00, 64.42it/s]"
     ]
    },
    {
     "name": "stdout",
     "output_type": "stream",
     "text": [
      "Epoch : [91] Train Loss : [0.36683] Val Loss : [0.63450] Val F1 : [0.61073] Val ACC : [0.69769] \n",
      "                                   Val Precision : [0.28970] Val Recall : [0.80973]\n",
      "[[22332 10528]\n",
      " [ 1009  4294]]\n"
     ]
    },
    {
     "name": "stderr",
     "output_type": "stream",
     "text": [
      "\n",
      "100%|██████████| 299/299 [00:08<00:00, 35.41it/s]\n",
      "100%|██████████| 75/75 [00:01<00:00, 72.73it/s]\n"
     ]
    },
    {
     "name": "stdout",
     "output_type": "stream",
     "text": [
      "Epoch : [92] Train Loss : [0.36619] Val Loss : [0.61729] Val F1 : [0.61737] Val ACC : [0.70723] \n",
      "                                   Val Precision : [0.29570] Val Recall : [0.80106]\n",
      "[[22742 10118]\n",
      " [ 1055  4248]]\n"
     ]
    },
    {
     "name": "stderr",
     "output_type": "stream",
     "text": [
      "100%|██████████| 299/299 [00:08<00:00, 36.33it/s]\n",
      "100%|██████████| 75/75 [00:01<00:00, 71.70it/s]\n"
     ]
    },
    {
     "name": "stdout",
     "output_type": "stream",
     "text": [
      "Epoch : [93] Train Loss : [0.37071] Val Loss : [0.63035] Val F1 : [0.61360] Val ACC : [0.70152] \n",
      "                                   Val Precision : [0.29230] Val Recall : [0.80784]\n",
      "[[22488 10372]\n",
      " [ 1019  4284]]\n"
     ]
    },
    {
     "name": "stderr",
     "output_type": "stream",
     "text": [
      "100%|██████████| 299/299 [00:08<00:00, 36.66it/s]\n",
      "100%|██████████| 75/75 [00:01<00:00, 68.54it/s]"
     ]
    },
    {
     "name": "stdout",
     "output_type": "stream",
     "text": [
      "Epoch : [94] Train Loss : [0.37193] Val Loss : [0.60647] Val F1 : [0.62117] Val ACC : [0.71373] \n",
      "                                   Val Precision : [0.29916] Val Recall : [0.78955]\n",
      "[[23051  9809]\n",
      " [ 1116  4187]]\n"
     ]
    },
    {
     "name": "stderr",
     "output_type": "stream",
     "text": [
      "\n",
      "100%|██████████| 299/299 [00:08<00:00, 36.20it/s]\n",
      "100%|██████████| 75/75 [00:01<00:00, 74.60it/s]\n"
     ]
    },
    {
     "name": "stdout",
     "output_type": "stream",
     "text": [
      "Epoch : [95] Train Loss : [0.36917] Val Loss : [0.61390] Val F1 : [0.61770] Val ACC : [0.70775] \n",
      "                                   Val Precision : [0.29600] Val Recall : [0.80030]\n",
      "[[22766 10094]\n",
      " [ 1059  4244]]\n"
     ]
    },
    {
     "name": "stderr",
     "output_type": "stream",
     "text": [
      "100%|██████████| 299/299 [00:08<00:00, 36.55it/s]\n",
      "100%|██████████| 75/75 [00:01<00:00, 74.98it/s]\n"
     ]
    },
    {
     "name": "stdout",
     "output_type": "stream",
     "text": [
      "Epoch : [96] Train Loss : [0.36838] Val Loss : [0.60869] Val F1 : [0.61941] Val ACC : [0.70982] \n",
      "                                   Val Precision : [0.29764] Val Recall : [0.80030]\n",
      "[[22845 10015]\n",
      " [ 1059  4244]]\n"
     ]
    },
    {
     "name": "stderr",
     "output_type": "stream",
     "text": [
      "100%|██████████| 299/299 [00:08<00:00, 36.14it/s]\n",
      "100%|██████████| 75/75 [00:01<00:00, 65.00it/s]\n"
     ]
    },
    {
     "name": "stdout",
     "output_type": "stream",
     "text": [
      "Epoch : [97] Train Loss : [0.36883] Val Loss : [0.63356] Val F1 : [0.61213] Val ACC : [0.69926] \n",
      "                                   Val Precision : [0.29102] Val Recall : [0.81067]\n",
      "[[22387 10473]\n",
      " [ 1004  4299]]\n"
     ]
    },
    {
     "name": "stderr",
     "output_type": "stream",
     "text": [
      "100%|██████████| 299/299 [00:08<00:00, 36.37it/s]\n",
      "100%|██████████| 75/75 [00:01<00:00, 73.56it/s]\n"
     ]
    },
    {
     "name": "stdout",
     "output_type": "stream",
     "text": [
      "Epoch : [98] Train Loss : [0.36854] Val Loss : [0.61522] Val F1 : [0.61891] Val ACC : [0.70919] \n",
      "                                   Val Precision : [0.29716] Val Recall : [0.80049]\n",
      "[[22820 10040]\n",
      " [ 1058  4245]]\n"
     ]
    },
    {
     "name": "stderr",
     "output_type": "stream",
     "text": [
      "100%|██████████| 299/299 [00:08<00:00, 36.55it/s]\n",
      "100%|██████████| 75/75 [00:01<00:00, 70.29it/s]"
     ]
    },
    {
     "name": "stdout",
     "output_type": "stream",
     "text": [
      "Epoch : [99] Train Loss : [0.36826] Val Loss : [0.61602] Val F1 : [0.61867] Val ACC : [0.70912] \n",
      "                                   Val Precision : [0.29690] Val Recall : [0.79917]\n",
      "[[22824 10036]\n",
      " [ 1065  4238]]\n"
     ]
    },
    {
     "name": "stderr",
     "output_type": "stream",
     "text": [
      "\n",
      "100%|██████████| 299/299 [00:08<00:00, 36.33it/s]\n",
      "100%|██████████| 75/75 [00:01<00:00, 65.98it/s]\n"
     ]
    },
    {
     "name": "stdout",
     "output_type": "stream",
     "text": [
      "Epoch : [100] Train Loss : [0.36946] Val Loss : [0.60934] Val F1 : [0.62106] Val ACC : [0.71297] \n",
      "                                   Val Precision : [0.29911] Val Recall : [0.79332]\n",
      "[[23002  9858]\n",
      " [ 1096  4207]]\n",
      "Best Validation F1 Score : [0.68750] at 42 EPOCH\n"
     ]
    }
   ],
   "source": [
    "#model = BaseModel()\n",
    "model = CNNModel()\n",
    "model.eval()\n",
    "optimizer = torch.optim.Adam(params = model.parameters(), lr = CFG[\"LEARNING_RATE\"])\n",
    "scheduler = torch.optim.lr_scheduler.CosineAnnealingLR(optimizer, T_max=len(train_loader)*CFG['EPOCHS'], eta_min=0)\n",
    "\n",
    "best_score, best_epoch = train(model, optimizer, train_loader, val_loader, scheduler, device)\n",
    "print(f'Best Validation F1 Score : [{best_score:.5f}] at {best_epoch} EPOCH')"
   ]
  },
  {
   "cell_type": "markdown",
   "id": "835dbc63",
   "metadata": {},
   "source": [
    "## Threshold Validation"
   ]
  },
  {
   "cell_type": "code",
   "execution_count": 25,
   "id": "64e748af",
   "metadata": {},
   "outputs": [],
   "source": [
    "# Validation with multiple threshold\n",
    "#model = BaseModel()\n",
    "model=CNNModel()\n",
    "best_checkpoint = torch.load('./best_model.pth')\n",
    "model.load_state_dict(best_checkpoint)\n",
    "model.eval()\n",
    "model = model.to(device)"
   ]
  },
  {
   "cell_type": "code",
   "execution_count": 26,
   "id": "4eb3a9ff",
   "metadata": {
    "scrolled": true
   },
   "outputs": [
    {
     "name": "stderr",
     "output_type": "stream",
     "text": [
      "100%|██████████| 75/75 [00:00<00:00, 89.18it/s] \n"
     ]
    },
    {
     "name": "stdout",
     "output_type": "stream",
     "text": [
      "[0.20] Loss: 0.383072, F1: 0.603553, ACC: 0.693184, PRECISION: 0.282316, RECALL: 0.783330\n",
      "[[22300 10560]\n",
      " [ 1149  4154]]\n"
     ]
    },
    {
     "name": "stderr",
     "output_type": "stream",
     "text": [
      "100%|██████████| 75/75 [00:01<00:00, 69.96it/s]"
     ]
    },
    {
     "name": "stdout",
     "output_type": "stream",
     "text": [
      "[0.30] Loss: 0.383072, F1: 0.656963, ACC: 0.774860, PRECISION: 0.343187, RECALL: 0.678672\n",
      "[[25972  6888]\n",
      " [ 1704  3599]]\n"
     ]
    },
    {
     "name": "stderr",
     "output_type": "stream",
     "text": [
      "\n",
      "100%|██████████| 75/75 [00:01<00:00, 71.27it/s]"
     ]
    },
    {
     "name": "stdout",
     "output_type": "stream",
     "text": [
      "[0.35] Loss: 0.383072, F1: 0.669312, ACC: 0.798391, PRECISION: 0.367417, RECALL: 0.624741\n",
      "[[27156  5704]\n",
      " [ 1990  3313]]\n"
     ]
    },
    {
     "name": "stderr",
     "output_type": "stream",
     "text": [
      "\n",
      "100%|██████████| 75/75 [00:00<00:00, 76.94it/s]\n"
     ]
    },
    {
     "name": "stdout",
     "output_type": "stream",
     "text": [
      "[0.40] Loss: 0.383072, F1: 0.681540, ACC: 0.819013, PRECISION: 0.396995, RECALL: 0.582878\n",
      "[[28165  4695]\n",
      " [ 2212  3091]]\n"
     ]
    },
    {
     "name": "stderr",
     "output_type": "stream",
     "text": [
      "100%|██████████| 75/75 [00:01<00:00, 69.12it/s]\n"
     ]
    },
    {
     "name": "stdout",
     "output_type": "stream",
     "text": [
      "[0.45] Loss: 0.383072, F1: 0.686865, ACC: 0.833530, PRECISION: 0.422130, RECALL: 0.536677\n",
      "[[28964  3896]\n",
      " [ 2457  2846]]\n"
     ]
    },
    {
     "name": "stderr",
     "output_type": "stream",
     "text": [
      "100%|██████████| 75/75 [00:01<00:00, 74.74it/s]\n"
     ]
    },
    {
     "name": "stdout",
     "output_type": "stream",
     "text": [
      "[0.50] Loss: 0.383072, F1: 0.687500, ACC: 0.843723, PRECISION: 0.443764, RECALL: 0.491797\n",
      "[[29591  3269]\n",
      " [ 2695  2608]]\n"
     ]
    },
    {
     "name": "stderr",
     "output_type": "stream",
     "text": [
      "100%|██████████| 75/75 [00:00<00:00, 76.23it/s]\n"
     ]
    },
    {
     "name": "stdout",
     "output_type": "stream",
     "text": [
      "[0.55] Loss: 0.383072, F1: 0.687225, ACC: 0.852685, PRECISION: 0.468744, RECALL: 0.451065\n",
      "[[30149  2711]\n",
      " [ 2911  2392]]\n"
     ]
    },
    {
     "name": "stderr",
     "output_type": "stream",
     "text": [
      "100%|██████████| 75/75 [00:01<00:00, 72.54it/s]"
     ]
    },
    {
     "name": "stdout",
     "output_type": "stream",
     "text": [
      "[0.60] Loss: 0.383072, F1: 0.684986, ACC: 0.859969, PRECISION: 0.495359, RECALL: 0.412597\n",
      "[[30631  2229]\n",
      " [ 3115  2188]]\n"
     ]
    },
    {
     "name": "stderr",
     "output_type": "stream",
     "text": [
      "\n",
      "100%|██████████| 75/75 [00:00<00:00, 78.51it/s]\n"
     ]
    },
    {
     "name": "stdout",
     "output_type": "stream",
     "text": [
      "[0.65] Loss: 0.383072, F1: 0.678161, ACC: 0.865341, PRECISION: 0.521832, RECALL: 0.369602\n",
      "[[31064  1796]\n",
      " [ 3343  1960]]\n"
     ]
    },
    {
     "name": "stderr",
     "output_type": "stream",
     "text": [
      "100%|██████████| 75/75 [00:00<00:00, 75.84it/s]\n"
     ]
    },
    {
     "name": "stdout",
     "output_type": "stream",
     "text": [
      "[0.70] Loss: 0.383072, F1: 0.669217, ACC: 0.869586, PRECISION: 0.551615, RECALL: 0.328493\n",
      "[[31444  1416]\n",
      " [ 3561  1742]]\n"
     ]
    },
    {
     "name": "stderr",
     "output_type": "stream",
     "text": [
      "100%|██████████| 75/75 [00:01<00:00, 72.31it/s]\n"
     ]
    },
    {
     "name": "stdout",
     "output_type": "stream",
     "text": [
      "[0.80] Loss: 0.383072, F1: 0.636511, ACC: 0.873071, PRECISION: 0.610709, RECALL: 0.238733\n",
      "[[32053   807]\n",
      " [ 4037  1266]]\n"
     ]
    }
   ],
   "source": [
    "for f in [0.2, 0.3, 0.35, 0.4, 0.45, 0.5, 0.55, 0.6, 0.65, 0.7, 0.8]:\n",
    "    val_loss, val_f1, val_acc, val_precision, val_recall, val_conf = validation(model, val_loader, nn.CrossEntropyLoss().to(device), device, f)\n",
    "    print(f'[{f:.2f}] Loss: {val_loss:.6f}, F1: {val_f1:.6f}, ACC: {val_acc:.6f}, PRECISION: {val_precision:.6f}, RECALL: {val_recall:.6f}')\n",
    "    print(val_conf)"
   ]
  },
  {
   "cell_type": "code",
   "execution_count": null,
   "id": "12c235de",
   "metadata": {},
   "outputs": [],
   "source": []
  },
  {
   "cell_type": "markdown",
   "id": "8c7a0b22",
   "metadata": {},
   "source": [
    "## 3_option 3. Pretrained ESM"
   ]
  },
  {
   "cell_type": "code",
   "execution_count": 76,
   "id": "a828b2d9",
   "metadata": {},
   "outputs": [],
   "source": [
    "import pathlib\n",
    "\n",
    "CFG_ESM = {\n",
    "    'toks_per_batch': 4096,\n",
    "    'model_location': 'uniref50_v2/weights.hdf5',\n",
    "    'output_dir': pathlib.Path('esm_features/'),\n",
    "    'repr_layers': [-1],\n",
    "    'include': 'per_tok mean bos',\n",
    "    'truncate': False,\n",
    "    'nogpu': False,\n",
    "    'EMB_LAYER': 33,\n",
    "    'num_pca_components': 60\n",
    "}"
   ]
  },
  {
   "cell_type": "code",
   "execution_count": 32,
   "id": "03e9ecb3",
   "metadata": {},
   "outputs": [],
   "source": [
    "class ESMDataset(object):\n",
    "    def __init__(self, sequence_labels, sequence_strs):\n",
    "        self.sequence_labels = list(sequence_labels)\n",
    "        self.sequence_strs = list(sequence_strs)\n",
    "        \n",
    "    def __len__(self):\n",
    "        return len(self.sequence_labels)\n",
    "\n",
    "    def __getitem__(self, idx):\n",
    "        return self.sequence_labels[idx], self.sequence_strs[idx]\n",
    "    \n",
    "    def get_batch_indices(self, toks_per_batch, extra_toks_per_seq=0):\n",
    "        sizes = [(len(s), i) for i, s in enumerate(self.sequence_strs)]\n",
    "        sizes.sort()\n",
    "        batches = []\n",
    "        buf = []\n",
    "        max_len = 0\n",
    "\n",
    "        def _flush_current_buf():\n",
    "            nonlocal max_len, buf\n",
    "            if len(buf) == 0:\n",
    "                return\n",
    "            batches.append(buf)\n",
    "            buf = []\n",
    "            max_len = 0\n",
    "\n",
    "        for sz, i in sizes:\n",
    "            sz += extra_toks_per_seq\n",
    "            if max(sz, max_len) * (len(buf) + 1) > toks_per_batch:\n",
    "                _flush_current_buf()\n",
    "            max_len = max(max_len, sz)\n",
    "            buf.append(i)\n",
    "\n",
    "        _flush_current_buf()\n",
    "        return batches"
   ]
  },
  {
   "cell_type": "code",
   "execution_count": 38,
   "id": "1a7a644b",
   "metadata": {
    "scrolled": true
   },
   "outputs": [
    {
     "name": "stderr",
     "output_type": "stream",
     "text": [
      "Using cache found in /home/suhyun/.cache/torch/hub/facebookresearch_esm_main\n"
     ]
    }
   ],
   "source": [
    "### Download Pretrained Model ###\n",
    "model, alphabet = torch.hub.load(\"facebookresearch/esm:main\", \"esm1b_t33_650M_UR50S\")\n",
    "model.eval()\n",
    "model = model.cuda()"
   ]
  },
  {
   "cell_type": "code",
   "execution_count": 96,
   "id": "b86d7e1c",
   "metadata": {},
   "outputs": [],
   "source": [
    "# Prepare dataset and dataloader\n",
    "train_dataset = ESMDataset(sequence_labels=df['label'].values, sequence_strs=df['epitope_seq'].values)\n",
    "\n",
    "batches = train_dataset.get_batch_indices(CFG_ESM['toks_per_batch'], extra_toks_per_seq=1)\n",
    "\n",
    "train_loader = torch.utils.data.DataLoader(\n",
    "    train_dataset, collate_fn=alphabet.get_batch_converter(), batch_sampler=batches\n",
    ")\n"
   ]
  },
  {
   "cell_type": "code",
   "execution_count": 99,
   "id": "ac2f8e70",
   "metadata": {
    "scrolled": true
   },
   "outputs": [],
   "source": [
    "from tqdm import tqdm\n",
    "\n",
    "def extract_features(model, loader):\n",
    "\n",
    "    CFG_ESM['output_dir'].mkdir(parents=True, exist_ok=True)\n",
    "    return_contacts = \"contacts\" in CFG_ESM['include']\n",
    "\n",
    "    assert all(-(model.num_layers + 1) <= i <= model.num_layers for i in CFG_ESM['repr_layers'])\n",
    "    repr_layers = [(i + model.num_layers + 1) % (model.num_layers + 1) for i in CFG_ESM['repr_layers']]\n",
    "\n",
    "    with torch.no_grad():\n",
    "        idx = 0\n",
    "        for batch_idx, (labels, strs, toks) in tqdm(enumerate(loader), desc=f\"Processing {len(batches)} batches\"):\n",
    "            #print(f\"Processing {batch_idx + 1} of {len(batches)} batches ({toks.size(0)} sequences)\")\n",
    "            if torch.cuda.is_available() and not CFG_ESM['nogpu']:\n",
    "                toks = toks.to(device=\"cuda\", non_blocking=True)\n",
    "\n",
    "            # The model is trained on truncated sequences and passing longer ones in at\n",
    "            # infernce will cause an error. See https://github.com/facebookresearch/esm/issues/21\n",
    "            if CFG_ESM['truncate']:\n",
    "                toks = toks[:, :1022]\n",
    "\n",
    "            out = model(toks, repr_layers=repr_layers, return_contacts=return_contacts)\n",
    "\n",
    "            logits = out[\"logits\"].to(device=\"cpu\")\n",
    "            representations = {\n",
    "                layer: t.to(device=\"cpu\") for layer, t in out[\"representations\"].items()\n",
    "            }\n",
    "            if return_contacts:\n",
    "                contacts = out[\"contacts\"].to(device=\"cpu\")\n",
    "\n",
    "            for i, label in enumerate(labels):\n",
    "                CFG_ESM['output_file'] = CFG_ESM['output_dir'] / f\"{idx}.pt\"\n",
    "                CFG_ESM['output_file'].parent.mkdir(parents=True, exist_ok=True)\n",
    "                result = {\"label\": label}\n",
    "                # Call clone on tensors to ensure tensors are not views into a larger representation\n",
    "                # See https://github.com/pytorch/pytorch/issues/1995\n",
    "                if \"per_tok\" in CFG_ESM['include']:\n",
    "                    result[\"representations\"] = {\n",
    "                        layer: t[i, 1 : len(strs[i]) + 1].clone()\n",
    "                        for layer, t in representations.items()\n",
    "                    }\n",
    "                if \"mean\" in CFG_ESM['include']:\n",
    "                    result[\"mean_representations\"] = {\n",
    "                        layer: t[i, 1 : len(strs[i]) + 1].mean(0).clone()\n",
    "                        for layer, t in representations.items()\n",
    "                    }\n",
    "                if \"bos\" in CFG_ESM['include']:\n",
    "                    result[\"bos_representations\"] = {\n",
    "                        layer: t[i, 0].clone() for layer, t in representations.items()\n",
    "                    }\n",
    "                if return_contacts:\n",
    "                    result[\"contacts\"] = contacts[i, : len(strs[i]), : len(strs[i])].clone()\n",
    "\n",
    "                torch.save(\n",
    "                    result,\n",
    "                    CFG_ESM['output_file'],\n",
    "                )\n",
    "                idx += 1"
   ]
  },
  {
   "cell_type": "code",
   "execution_count": 100,
   "id": "46d25446",
   "metadata": {},
   "outputs": [
    {
     "name": "stderr",
     "output_type": "stream",
     "text": [
      "Processing 723 batches: 723it [09:20,  1.29it/s]\n"
     ]
    }
   ],
   "source": [
    "# Call Ones\n",
    "extract_features(model, train_loader)"
   ]
  },
  {
   "cell_type": "markdown",
   "id": "738d04cb",
   "metadata": {},
   "source": [
    "# Load features"
   ]
  },
  {
   "cell_type": "code",
   "execution_count": 101,
   "id": "4f69a4bb",
   "metadata": {},
   "outputs": [
    {
     "name": "stdout",
     "output_type": "stream",
     "text": [
      "190811\n",
      "(190811, 1280)\n"
     ]
    }
   ],
   "source": [
    "### import esm #!pip install git+https://github.com/facebookresearch/esm.git\n",
    "\n",
    "Y = []\n",
    "X = []\n",
    "for i, label in tqdm(enumerate(df['label'])):\n",
    "    fn = f\"{CFG_ESM['output_dir']}/{i}.pt\"\n",
    "    embs = torch.load(fn)\n",
    "    X.append(embs['mean_representations'][CFG_ESM['EMB_LAYER']])\n",
    "    Y.append(label)\n",
    "X = torch.stack(X, dim=0).numpy()\n",
    "Y = np.array(Y)\n",
    "print(len(Y))\n",
    "print(X.shape)"
   ]
  },
  {
   "cell_type": "code",
   "execution_count": 102,
   "id": "774c0599",
   "metadata": {},
   "outputs": [],
   "source": [
    "# split\n",
    "train_x = X[train_idx[:int(train_len*0.8)]]\n",
    "train_y = Y[train_idx[:int(train_len*0.8)]]\n",
    "\n",
    "val_x = X[int(train_len*0.8):]\n",
    "val_y = Y[int(train_len*0.8):]"
   ]
  },
  {
   "cell_type": "markdown",
   "id": "b4c6de8b",
   "metadata": {},
   "source": [
    "## Grid Search"
   ]
  },
  {
   "cell_type": "code",
   "execution_count": 103,
   "id": "18f1c550",
   "metadata": {},
   "outputs": [],
   "source": [
    "from sklearn.model_selection import GridSearchCV\n",
    "from sklearn.decomposition import PCA\n",
    "from sklearn.neighbors import KNeighborsClassifier, KNeighborsRegressor\n",
    "from sklearn.svm import SVC, SVR\n",
    "from sklearn.ensemble import RandomForestClassifier, RandomForestRegressor\n",
    "from sklearn.pipeline import Pipeline\n",
    "\n",
    "knn_grid = [\n",
    "    {\n",
    "        'model': [KNeighborsRegressor()],\n",
    "        'model__n_neighbors': [5, 10],\n",
    "        'model__weights': ['uniform', 'distance'],\n",
    "        'model__algorithm': ['ball_tree', 'kd_tree', 'brute'],\n",
    "        'model__leaf_size' : [15, 30],\n",
    "        'model__p' : [1, 2],\n",
    "    }\n",
    "    ]\n",
    "\n",
    "svm_grid = [\n",
    "    {\n",
    "        'model': [SVR()],\n",
    "        'model__C' : [0.1, 1.0, 10.0],\n",
    "        'model__kernel' : ['linear', 'poly', 'rbf', 'sigmoid'],\n",
    "        'model__degree' : [3],\n",
    "        'model__gamma': ['scale'],\n",
    "    }\n",
    "]\n",
    "\n",
    "rfr_grid = [\n",
    "    {\n",
    "        'model': [RandomForestRegressor()],\n",
    "        'model__n_estimators' : [20],\n",
    "        'model__criterion' : ['squared_error', 'absolute_error'],\n",
    "        'model__max_features': ['sqrt', 'log2'],\n",
    "        'model__min_samples_split' : [5, 10],\n",
    "        'model__min_samples_leaf': [1, 4]\n",
    "    }\n",
    "]"
   ]
  },
  {
   "cell_type": "code",
   "execution_count": 104,
   "id": "9e8dc03f",
   "metadata": {},
   "outputs": [],
   "source": [
    "cls_list = [KNeighborsRegressor, SVR, RandomForestRegressor]\n",
    "param_grid_list = [knn_grid, svm_grid, rfr_grid]"
   ]
  },
  {
   "cell_type": "code",
   "execution_count": null,
   "id": "17d45871",
   "metadata": {},
   "outputs": [
    {
     "name": "stdout",
     "output_type": "stream",
     "text": [
      "<class 'sklearn.neighbors._regression.KNeighborsRegressor'>\n",
      "Fitting 5 folds for each of 48 candidates, totalling 240 fits\n"
     ]
    }
   ],
   "source": [
    "pipe = Pipeline(\n",
    "    steps = (\n",
    "        ('pca', PCA(CFG_ESM['num_pca_components'])),\n",
    "        ('model', 'passthrough')\n",
    "    )\n",
    ")\n",
    "\n",
    "result_list = []\n",
    "grid_list = []\n",
    "for cls_name, param_grid in zip(cls_list, param_grid_list):\n",
    "    print(cls_name)\n",
    "    grid = GridSearchCV(\n",
    "        estimator = pipe,\n",
    "        param_grid = param_grid,\n",
    "        scoring = 'r2',\n",
    "        verbose = 1,\n",
    "        n_jobs = -1 # use all available cores\n",
    "    )\n",
    "    grid.fit(train_x, train_y)\n",
    "    result_list.append(pd.DataFrame.from_dict(grid.cv_results_))\n",
    "    grid_list.append(grid)"
   ]
  },
  {
   "cell_type": "code",
   "execution_count": null,
   "id": "30a71d4e",
   "metadata": {},
   "outputs": [],
   "source": [
    "# KNN\n",
    "result_list[0].sort_values('rank_test_score')[:5]"
   ]
  },
  {
   "cell_type": "code",
   "execution_count": null,
   "id": "0de6dd19",
   "metadata": {},
   "outputs": [],
   "source": [
    "# SVM\n",
    "result_list[1].sort_values('rank_test_score')[:5]"
   ]
  },
  {
   "cell_type": "code",
   "execution_count": null,
   "id": "b78a42ce",
   "metadata": {},
   "outputs": [],
   "source": [
    "# Random Forest\n",
    "result_list[2].sort_values('rank_test_score')[:5]"
   ]
  },
  {
   "cell_type": "code",
   "execution_count": null,
   "id": "46909e7a",
   "metadata": {},
   "outputs": [],
   "source": [
    "for grid in grid_list:\n",
    "    print(grid.best_estimator_.get_params()[\"steps\"][1][1]) # get the model details from the estimator\n",
    "    print()\n",
    "    preds = grid.predict(Xs_test)\n",
    "    print(f'{scipy.stats.spearmanr(ys_test, preds)}')\n",
    "    print('\\n', '-' * 80, '\\n')\n"
   ]
  },
  {
   "cell_type": "markdown",
   "id": "e4835757",
   "metadata": {},
   "source": [
    "# Sklearn"
   ]
  },
  {
   "cell_type": "code",
   "execution_count": 12,
   "id": "6296fd4e",
   "metadata": {},
   "outputs": [],
   "source": [
    "def preprocess_df(df):\n",
    "    df['epitope_len'] = df['end_position'] - df['start_position']\n",
    "    df = df.drop(['start_position', 'end_position'], axis=1)\n",
    "    return df"
   ]
  },
  {
   "cell_type": "code",
   "execution_count": 13,
   "id": "05419732",
   "metadata": {
    "scrolled": true
   },
   "outputs": [],
   "source": [
    "useless_columns = ['id', 'epitope_seq', 'antigen_seq', 'reference_date', 'reference_title', 'antigen_code', 'reference_IRI',\n",
    "                   'reference_journal'] #'epitope_len',] # 'start_position', 'end_position',\n",
    "\n",
    "df = pd.read_csv('./data/train.csv')\n",
    "df = preprocess_df(df)\n",
    "df = df.drop(useless_columns + ['qualitative_label'], axis=1)\n",
    "# 'start_position', 'end_position', 'number_of_tested', 'number_of_responses', 'assay_method_technique', \n",
    "# 'assay_group', 'disease_type', 'disease_state', 'reference_journal'\n",
    "test_df = pd.read_csv('./data/test.csv')\n",
    "test_df = preprocess_df(test_df)\n",
    "test_df = test_df.drop(useless_columns, axis=1)\n",
    "\n",
    "df_len = len(df)\n",
    "all_df = pd.concat([df, test_df]).fillna(-1)"
   ]
  },
  {
   "cell_type": "code",
   "execution_count": 14,
   "id": "48fc74e3",
   "metadata": {},
   "outputs": [],
   "source": [
    "all_df = pd.get_dummies(all_df) ###\n",
    "\n",
    "train_df = all_df.iloc[train_idx[:int(train_len*0.8)]]\n",
    "val_df = all_df.iloc[int(train_len*0.8):df_len]\n",
    "test_df = all_df.iloc[df_len:]"
   ]
  },
  {
   "cell_type": "code",
   "execution_count": 19,
   "id": "d8710a68",
   "metadata": {},
   "outputs": [],
   "source": [
    "train_x = train_df.drop(['label'], axis=1)\n",
    "train_y = train_df['label'].values\n",
    "\n",
    "val_x = val_df.drop(['label'], axis=1)\n",
    "val_y = val_df['label'].values\n",
    "\n",
    "test_x = test_df.drop(['label'], axis=1)\n",
    "\n",
    "all_x = all_df.drop(['label'], axis=1).values"
   ]
  },
  {
   "cell_type": "code",
   "execution_count": 20,
   "id": "ceb20ec3",
   "metadata": {},
   "outputs": [],
   "source": [
    "from sklearn.metrics import accuracy_score, precision_score, recall_score, confusion_matrix, f1_score\n",
    "\n",
    "def get_clf_eval(y_test, pred):\n",
    "    confusion = confusion_matrix(y_test, pred)\n",
    "    accuracy  = accuracy_score(y_test, pred)\n",
    "    precision = precision_score(y_test, pred)\n",
    "    recall    = recall_score(y_test, pred)\n",
    "    f1        = f1_score(y_test, pred, average='macro')\n",
    "    print('Confusion Matrix')\n",
    "    print(confusion)\n",
    "    print(f'Accuracy:{accuracy:.6f}, Precision:{precision:.6f}, Recall:{recall:.6f}, F1:{f1:.6f}')\n",
    "    return accuracy, precision, recall, f1\n",
    "\n",
    "def threshold_eval(model, x, y):\n",
    "    for th in [0.2, 0.25, 0.3, 0.35, 0.4, 0.45, 0.5, 0.55, 0.6, 0.7, 0.8]:\n",
    "        print('THRESHOLD:', th)\n",
    "        #idx = np.where((pred_p[:,1] >= 0.7))\n",
    "        pred_p = model.predict_proba(x) ###\n",
    "        pred = np.where(pred_p[:,1] >= th, 1, 0)\n",
    "        get_clf_eval(y, pred)"
   ]
  },
  {
   "cell_type": "markdown",
   "id": "c1659cab",
   "metadata": {},
   "source": [
    "## 1. Random Forest"
   ]
  },
  {
   "cell_type": "code",
   "execution_count": 21,
   "id": "9536415b",
   "metadata": {},
   "outputs": [],
   "source": [
    "from sklearn.ensemble import RandomForestClassifier\n",
    "from sklearn.metrics import plot_confusion_matrix\n",
    "\n",
    "model_rf = RandomForestClassifier(\n",
    "    n_estimators=200,       # 랜덤포레스트를 구성할 의사결정나무의 수를 결정합니다.\n",
    "    max_depth=None,         # 의사결정나무의 최대깊이를 결정합니다.\n",
    "    n_jobs=-1               # 사용할 프로세서 수를 결정합니다.\n",
    ")"
   ]
  },
  {
   "cell_type": "code",
   "execution_count": 22,
   "id": "33ea770c",
   "metadata": {
    "scrolled": true
   },
   "outputs": [
    {
     "ename": "ValueError",
     "evalue": "could not convert string to float: 'microarray'",
     "output_type": "error",
     "traceback": [
      "\u001b[0;31m---------------------------------------------------------------------------\u001b[0m",
      "\u001b[0;31mValueError\u001b[0m                                Traceback (most recent call last)",
      "\u001b[0;32m<timed eval>\u001b[0m in \u001b[0;36m<module>\u001b[0;34m\u001b[0m\n",
      "\u001b[0;32m~/.conda/envs/py37/lib/python3.7/site-packages/sklearn/ensemble/_forest.py\u001b[0m in \u001b[0;36mfit\u001b[0;34m(self, X, y, sample_weight)\u001b[0m\n\u001b[1;32m    303\u001b[0m             )\n\u001b[1;32m    304\u001b[0m         X, y = self._validate_data(X, y, multi_output=True,\n\u001b[0;32m--> 305\u001b[0;31m                                    accept_sparse=\"csc\", dtype=DTYPE)\n\u001b[0m\u001b[1;32m    306\u001b[0m         \u001b[0;32mif\u001b[0m \u001b[0msample_weight\u001b[0m \u001b[0;32mis\u001b[0m \u001b[0;32mnot\u001b[0m \u001b[0;32mNone\u001b[0m\u001b[0;34m:\u001b[0m\u001b[0;34m\u001b[0m\u001b[0;34m\u001b[0m\u001b[0m\n\u001b[1;32m    307\u001b[0m             \u001b[0msample_weight\u001b[0m \u001b[0;34m=\u001b[0m \u001b[0m_check_sample_weight\u001b[0m\u001b[0;34m(\u001b[0m\u001b[0msample_weight\u001b[0m\u001b[0;34m,\u001b[0m \u001b[0mX\u001b[0m\u001b[0;34m)\u001b[0m\u001b[0;34m\u001b[0m\u001b[0;34m\u001b[0m\u001b[0m\n",
      "\u001b[0;32m~/.conda/envs/py37/lib/python3.7/site-packages/sklearn/base.py\u001b[0m in \u001b[0;36m_validate_data\u001b[0;34m(self, X, y, reset, validate_separately, **check_params)\u001b[0m\n\u001b[1;32m    431\u001b[0m                 \u001b[0my\u001b[0m \u001b[0;34m=\u001b[0m \u001b[0mcheck_array\u001b[0m\u001b[0;34m(\u001b[0m\u001b[0my\u001b[0m\u001b[0;34m,\u001b[0m \u001b[0;34m**\u001b[0m\u001b[0mcheck_y_params\u001b[0m\u001b[0;34m)\u001b[0m\u001b[0;34m\u001b[0m\u001b[0;34m\u001b[0m\u001b[0m\n\u001b[1;32m    432\u001b[0m             \u001b[0;32melse\u001b[0m\u001b[0;34m:\u001b[0m\u001b[0;34m\u001b[0m\u001b[0;34m\u001b[0m\u001b[0m\n\u001b[0;32m--> 433\u001b[0;31m                 \u001b[0mX\u001b[0m\u001b[0;34m,\u001b[0m \u001b[0my\u001b[0m \u001b[0;34m=\u001b[0m \u001b[0mcheck_X_y\u001b[0m\u001b[0;34m(\u001b[0m\u001b[0mX\u001b[0m\u001b[0;34m,\u001b[0m \u001b[0my\u001b[0m\u001b[0;34m,\u001b[0m \u001b[0;34m**\u001b[0m\u001b[0mcheck_params\u001b[0m\u001b[0;34m)\u001b[0m\u001b[0;34m\u001b[0m\u001b[0;34m\u001b[0m\u001b[0m\n\u001b[0m\u001b[1;32m    434\u001b[0m             \u001b[0mout\u001b[0m \u001b[0;34m=\u001b[0m \u001b[0mX\u001b[0m\u001b[0;34m,\u001b[0m \u001b[0my\u001b[0m\u001b[0;34m\u001b[0m\u001b[0;34m\u001b[0m\u001b[0m\n\u001b[1;32m    435\u001b[0m \u001b[0;34m\u001b[0m\u001b[0m\n",
      "\u001b[0;32m~/.conda/envs/py37/lib/python3.7/site-packages/sklearn/utils/validation.py\u001b[0m in \u001b[0;36minner_f\u001b[0;34m(*args, **kwargs)\u001b[0m\n\u001b[1;32m     61\u001b[0m             \u001b[0mextra_args\u001b[0m \u001b[0;34m=\u001b[0m \u001b[0mlen\u001b[0m\u001b[0;34m(\u001b[0m\u001b[0margs\u001b[0m\u001b[0;34m)\u001b[0m \u001b[0;34m-\u001b[0m \u001b[0mlen\u001b[0m\u001b[0;34m(\u001b[0m\u001b[0mall_args\u001b[0m\u001b[0;34m)\u001b[0m\u001b[0;34m\u001b[0m\u001b[0;34m\u001b[0m\u001b[0m\n\u001b[1;32m     62\u001b[0m             \u001b[0;32mif\u001b[0m \u001b[0mextra_args\u001b[0m \u001b[0;34m<=\u001b[0m \u001b[0;36m0\u001b[0m\u001b[0;34m:\u001b[0m\u001b[0;34m\u001b[0m\u001b[0;34m\u001b[0m\u001b[0m\n\u001b[0;32m---> 63\u001b[0;31m                 \u001b[0;32mreturn\u001b[0m \u001b[0mf\u001b[0m\u001b[0;34m(\u001b[0m\u001b[0;34m*\u001b[0m\u001b[0margs\u001b[0m\u001b[0;34m,\u001b[0m \u001b[0;34m**\u001b[0m\u001b[0mkwargs\u001b[0m\u001b[0;34m)\u001b[0m\u001b[0;34m\u001b[0m\u001b[0;34m\u001b[0m\u001b[0m\n\u001b[0m\u001b[1;32m     64\u001b[0m \u001b[0;34m\u001b[0m\u001b[0m\n\u001b[1;32m     65\u001b[0m             \u001b[0;31m# extra_args > 0\u001b[0m\u001b[0;34m\u001b[0m\u001b[0;34m\u001b[0m\u001b[0;34m\u001b[0m\u001b[0m\n",
      "\u001b[0;32m~/.conda/envs/py37/lib/python3.7/site-packages/sklearn/utils/validation.py\u001b[0m in \u001b[0;36mcheck_X_y\u001b[0;34m(X, y, accept_sparse, accept_large_sparse, dtype, order, copy, force_all_finite, ensure_2d, allow_nd, multi_output, ensure_min_samples, ensure_min_features, y_numeric, estimator)\u001b[0m\n\u001b[1;32m    876\u001b[0m                     \u001b[0mensure_min_samples\u001b[0m\u001b[0;34m=\u001b[0m\u001b[0mensure_min_samples\u001b[0m\u001b[0;34m,\u001b[0m\u001b[0;34m\u001b[0m\u001b[0;34m\u001b[0m\u001b[0m\n\u001b[1;32m    877\u001b[0m                     \u001b[0mensure_min_features\u001b[0m\u001b[0;34m=\u001b[0m\u001b[0mensure_min_features\u001b[0m\u001b[0;34m,\u001b[0m\u001b[0;34m\u001b[0m\u001b[0;34m\u001b[0m\u001b[0m\n\u001b[0;32m--> 878\u001b[0;31m                     estimator=estimator)\n\u001b[0m\u001b[1;32m    879\u001b[0m     \u001b[0;32mif\u001b[0m \u001b[0mmulti_output\u001b[0m\u001b[0;34m:\u001b[0m\u001b[0;34m\u001b[0m\u001b[0;34m\u001b[0m\u001b[0m\n\u001b[1;32m    880\u001b[0m         y = check_array(y, accept_sparse='csr', force_all_finite=True,\n",
      "\u001b[0;32m~/.conda/envs/py37/lib/python3.7/site-packages/sklearn/utils/validation.py\u001b[0m in \u001b[0;36minner_f\u001b[0;34m(*args, **kwargs)\u001b[0m\n\u001b[1;32m     61\u001b[0m             \u001b[0mextra_args\u001b[0m \u001b[0;34m=\u001b[0m \u001b[0mlen\u001b[0m\u001b[0;34m(\u001b[0m\u001b[0margs\u001b[0m\u001b[0;34m)\u001b[0m \u001b[0;34m-\u001b[0m \u001b[0mlen\u001b[0m\u001b[0;34m(\u001b[0m\u001b[0mall_args\u001b[0m\u001b[0;34m)\u001b[0m\u001b[0;34m\u001b[0m\u001b[0;34m\u001b[0m\u001b[0m\n\u001b[1;32m     62\u001b[0m             \u001b[0;32mif\u001b[0m \u001b[0mextra_args\u001b[0m \u001b[0;34m<=\u001b[0m \u001b[0;36m0\u001b[0m\u001b[0;34m:\u001b[0m\u001b[0;34m\u001b[0m\u001b[0;34m\u001b[0m\u001b[0m\n\u001b[0;32m---> 63\u001b[0;31m                 \u001b[0;32mreturn\u001b[0m \u001b[0mf\u001b[0m\u001b[0;34m(\u001b[0m\u001b[0;34m*\u001b[0m\u001b[0margs\u001b[0m\u001b[0;34m,\u001b[0m \u001b[0;34m**\u001b[0m\u001b[0mkwargs\u001b[0m\u001b[0;34m)\u001b[0m\u001b[0;34m\u001b[0m\u001b[0;34m\u001b[0m\u001b[0m\n\u001b[0m\u001b[1;32m     64\u001b[0m \u001b[0;34m\u001b[0m\u001b[0m\n\u001b[1;32m     65\u001b[0m             \u001b[0;31m# extra_args > 0\u001b[0m\u001b[0;34m\u001b[0m\u001b[0;34m\u001b[0m\u001b[0;34m\u001b[0m\u001b[0m\n",
      "\u001b[0;32m~/.conda/envs/py37/lib/python3.7/site-packages/sklearn/utils/validation.py\u001b[0m in \u001b[0;36mcheck_array\u001b[0;34m(array, accept_sparse, accept_large_sparse, dtype, order, copy, force_all_finite, ensure_2d, allow_nd, ensure_min_samples, ensure_min_features, estimator)\u001b[0m\n\u001b[1;32m    671\u001b[0m                     \u001b[0marray\u001b[0m \u001b[0;34m=\u001b[0m \u001b[0marray\u001b[0m\u001b[0;34m.\u001b[0m\u001b[0mastype\u001b[0m\u001b[0;34m(\u001b[0m\u001b[0mdtype\u001b[0m\u001b[0;34m,\u001b[0m \u001b[0mcasting\u001b[0m\u001b[0;34m=\u001b[0m\u001b[0;34m\"unsafe\"\u001b[0m\u001b[0;34m,\u001b[0m \u001b[0mcopy\u001b[0m\u001b[0;34m=\u001b[0m\u001b[0;32mFalse\u001b[0m\u001b[0;34m)\u001b[0m\u001b[0;34m\u001b[0m\u001b[0;34m\u001b[0m\u001b[0m\n\u001b[1;32m    672\u001b[0m                 \u001b[0;32melse\u001b[0m\u001b[0;34m:\u001b[0m\u001b[0;34m\u001b[0m\u001b[0;34m\u001b[0m\u001b[0m\n\u001b[0;32m--> 673\u001b[0;31m                     \u001b[0marray\u001b[0m \u001b[0;34m=\u001b[0m \u001b[0mnp\u001b[0m\u001b[0;34m.\u001b[0m\u001b[0masarray\u001b[0m\u001b[0;34m(\u001b[0m\u001b[0marray\u001b[0m\u001b[0;34m,\u001b[0m \u001b[0morder\u001b[0m\u001b[0;34m=\u001b[0m\u001b[0morder\u001b[0m\u001b[0;34m,\u001b[0m \u001b[0mdtype\u001b[0m\u001b[0;34m=\u001b[0m\u001b[0mdtype\u001b[0m\u001b[0;34m)\u001b[0m\u001b[0;34m\u001b[0m\u001b[0;34m\u001b[0m\u001b[0m\n\u001b[0m\u001b[1;32m    674\u001b[0m             \u001b[0;32mexcept\u001b[0m \u001b[0mComplexWarning\u001b[0m \u001b[0;32mas\u001b[0m \u001b[0mcomplex_warning\u001b[0m\u001b[0;34m:\u001b[0m\u001b[0;34m\u001b[0m\u001b[0;34m\u001b[0m\u001b[0m\n\u001b[1;32m    675\u001b[0m                 raise ValueError(\"Complex data not supported\\n\"\n",
      "\u001b[0;32m~/.conda/envs/py37/lib/python3.7/site-packages/numpy/core/_asarray.py\u001b[0m in \u001b[0;36masarray\u001b[0;34m(a, dtype, order, like)\u001b[0m\n\u001b[1;32m    100\u001b[0m         \u001b[0;32mreturn\u001b[0m \u001b[0m_asarray_with_like\u001b[0m\u001b[0;34m(\u001b[0m\u001b[0ma\u001b[0m\u001b[0;34m,\u001b[0m \u001b[0mdtype\u001b[0m\u001b[0;34m=\u001b[0m\u001b[0mdtype\u001b[0m\u001b[0;34m,\u001b[0m \u001b[0morder\u001b[0m\u001b[0;34m=\u001b[0m\u001b[0morder\u001b[0m\u001b[0;34m,\u001b[0m \u001b[0mlike\u001b[0m\u001b[0;34m=\u001b[0m\u001b[0mlike\u001b[0m\u001b[0;34m)\u001b[0m\u001b[0;34m\u001b[0m\u001b[0;34m\u001b[0m\u001b[0m\n\u001b[1;32m    101\u001b[0m \u001b[0;34m\u001b[0m\u001b[0m\n\u001b[0;32m--> 102\u001b[0;31m     \u001b[0;32mreturn\u001b[0m \u001b[0marray\u001b[0m\u001b[0;34m(\u001b[0m\u001b[0ma\u001b[0m\u001b[0;34m,\u001b[0m \u001b[0mdtype\u001b[0m\u001b[0;34m,\u001b[0m \u001b[0mcopy\u001b[0m\u001b[0;34m=\u001b[0m\u001b[0;32mFalse\u001b[0m\u001b[0;34m,\u001b[0m \u001b[0morder\u001b[0m\u001b[0;34m=\u001b[0m\u001b[0morder\u001b[0m\u001b[0;34m)\u001b[0m\u001b[0;34m\u001b[0m\u001b[0;34m\u001b[0m\u001b[0m\n\u001b[0m\u001b[1;32m    103\u001b[0m \u001b[0;34m\u001b[0m\u001b[0m\n\u001b[1;32m    104\u001b[0m \u001b[0;34m\u001b[0m\u001b[0m\n",
      "\u001b[0;31mValueError\u001b[0m: could not convert string to float: 'microarray'"
     ]
    }
   ],
   "source": [
    "%%time\n",
    "model_rf.fit(train_x, train_y)\n",
    "#print('Accuracy: ', model_rf.score(val_x, val_y, metric='f1') * 100)"
   ]
  },
  {
   "cell_type": "code",
   "execution_count": 75,
   "id": "301acaf6",
   "metadata": {},
   "outputs": [
    {
     "name": "stdout",
     "output_type": "stream",
     "text": [
      "Confusion Matrix\n",
      "[[32831    29]\n",
      " [ 1024  4279]]\n",
      "Accuracy:0.972408, Precision:0.993268, Recall:0.806902, F1:0.937327\n"
     ]
    },
    {
     "data": {
      "text/plain": [
       "(0.9724078295731468, 0.9932683379758589, 0.806901753724307, 0.937327241412446)"
      ]
     },
     "execution_count": 75,
     "metadata": {},
     "output_type": "execute_result"
    }
   ],
   "source": [
    "pred = model_rf.predict(val_x) ###\n",
    "get_clf_eval(val_y, pred)"
   ]
  },
  {
   "cell_type": "code",
   "execution_count": 76,
   "id": "86916fc1",
   "metadata": {
    "scrolled": true
   },
   "outputs": [
    {
     "name": "stdout",
     "output_type": "stream",
     "text": [
      "THRESHOLD: 0.2\n",
      "Confusion Matrix\n",
      "[[32723   137]\n",
      " [  973  4330]]\n",
      "Accuracy:0.970914, Precision:0.969331, Recall:0.816519, F1:0.934855\n",
      "THRESHOLD: 0.25\n",
      "Confusion Matrix\n",
      "[[32740   120]\n",
      " [  979  4324]]\n",
      "Accuracy:0.971202, Precision:0.972997, Recall:0.815388, F1:0.935370\n",
      "THRESHOLD: 0.3\n",
      "Confusion Matrix\n",
      "[[32764    96]\n",
      " [  987  4316]]\n",
      "Accuracy:0.971622, Precision:0.978241, Recall:0.813879, F1:0.936132\n",
      "THRESHOLD: 0.35\n",
      "Confusion Matrix\n",
      "[[32793    67]\n",
      " [  995  4308]]\n",
      "Accuracy:0.972172, Precision:0.984686, Recall:0.812370, F1:0.937166\n",
      "THRESHOLD: 0.4\n",
      "Confusion Matrix\n",
      "[[32798    62]\n",
      " [  998  4305]]\n",
      "Accuracy:0.972224, Precision:0.985803, Recall:0.811805, F1:0.937240\n",
      "THRESHOLD: 0.45\n",
      "Confusion Matrix\n",
      "[[32827    33]\n",
      " [ 1020  4283]]\n",
      "Accuracy:0.972408, Precision:0.992354, Recall:0.807656, F1:0.937372\n",
      "THRESHOLD: 0.5\n",
      "Confusion Matrix\n",
      "[[32831    29]\n",
      " [ 1024  4279]]\n",
      "Accuracy:0.972408, Precision:0.993268, Recall:0.806902, F1:0.937327\n",
      "THRESHOLD: 0.55\n",
      "Confusion Matrix\n",
      "[[32840    20]\n",
      " [ 1030  4273]]\n",
      "Accuracy:0.972486, Precision:0.995341, Recall:0.805770, F1:0.937422\n",
      "THRESHOLD: 0.6\n",
      "Confusion Matrix\n",
      "[[32845    15]\n",
      " [ 1033  4270]]\n",
      "Accuracy:0.972539, Precision:0.996499, Recall:0.805205, F1:0.937497\n",
      "THRESHOLD: 0.7\n",
      "Confusion Matrix\n",
      "[[32847    13]\n",
      " [ 1042  4261]]\n",
      "Accuracy:0.972355, Precision:0.996958, Recall:0.803507, F1:0.937017\n",
      "THRESHOLD: 0.8\n",
      "Confusion Matrix\n",
      "[[32848    12]\n",
      " [ 1057  4246]]\n",
      "Accuracy:0.971989, Precision:0.997182, Recall:0.800679, F1:0.936090\n"
     ]
    }
   ],
   "source": [
    "threshold_eval(model_rf, val_x, val_y)"
   ]
  },
  {
   "cell_type": "markdown",
   "id": "465b6e01",
   "metadata": {},
   "source": [
    "## 2. CATBoost"
   ]
  },
  {
   "cell_type": "code",
   "execution_count": 65,
   "id": "8a970bd4",
   "metadata": {},
   "outputs": [
    {
     "data": {
      "text/plain": [
       "Index(['number_of_tested', 'number_of_responses', 'assay_method_technique',\n",
       "       'assay_group', 'disease_type', 'disease_state', 'epitope_len'],\n",
       "      dtype='object')"
      ]
     },
     "execution_count": 65,
     "metadata": {},
     "output_type": "execute_result"
    }
   ],
   "source": [
    "train_x.columns"
   ]
  },
  {
   "cell_type": "code",
   "execution_count": 102,
   "id": "71df2c69",
   "metadata": {},
   "outputs": [],
   "source": [
    "from catboost import CatBoostClassifier # pip install catboost\n",
    "from sklearn.metrics import log_loss\n",
    "\n",
    "def objective(trial):\n",
    "    kwargs = {\n",
    "        #'task_type':'GPU',\n",
    "        'loss_function':'Logloss',\n",
    "        'eval_metric':'F1',\n",
    "        \"random_state\":CFG['SEED'],\n",
    "        'learning_rate' : trial.suggest_loguniform('learning_rate', 0.01, 0.3),\n",
    "        'bagging_temperature' :trial.suggest_loguniform('bagging_temperature', 0.01, 100.00),\n",
    "        \"n_estimators\":trial.suggest_int(\"n_estimators\", 1000, 10000),\n",
    "        \"max_depth\":trial.suggest_int(\"max_depth\", 4, 16), # 16\n",
    "        'random_strength' :trial.suggest_int('random_strength', 0, 100),\n",
    "        \"colsample_bylevel\":trial.suggest_float(\"colsample_bylevel\", 0.4, 1.0),\n",
    "        \"l2_leaf_reg\":trial.suggest_float(\"l2_leaf_reg\",1e-8,3e-5),\n",
    "        \"min_child_samples\": trial.suggest_int(\"min_child_samples\", 5, 100),\n",
    "        \"max_bin\": trial.suggest_int(\"max_bin\", 200, 500),\n",
    "        'od_type': trial.suggest_categorical('od_type', ['IncToDec', 'Iter']),\n",
    "    }\n",
    "    \n",
    "    cat_features =[2,3,4,5]\n",
    "    model_cat = CatBoostClassifier(**kwargs)\n",
    "    \n",
    "    %time\n",
    "    model_cat.fit(train_x, train_y,\n",
    "          eval_set=[(train_x, train_y), (val_x, val_y)],\n",
    "          early_stopping_rounds=70, cat_features=cat_features,\n",
    "          verbose=100)\n",
    "    \n",
    "    pred = model_cat.predict_proba(val_x)\n",
    "    log_score = log_loss(val_y, pred)\n",
    "    return log_score"
   ]
  },
  {
   "cell_type": "code",
   "execution_count": 103,
   "id": "61243029",
   "metadata": {
    "scrolled": true
   },
   "outputs": [
    {
     "name": "stderr",
     "output_type": "stream",
     "text": [
      "\u001b[32m[I 2022-07-25 15:57:38,292]\u001b[0m A new study created in memory with name: catboost_hparams\u001b[0m\n"
     ]
    },
    {
     "name": "stdout",
     "output_type": "stream",
     "text": [
      "CPU times: user 10 µs, sys: 0 ns, total: 10 µs\n",
      "Wall time: 19.3 µs\n",
      "0:\tlearn: 0.6295572\ttest: 0.6295572\ttest1: 0.6456552\tbest: 0.6456552 (0)\ttotal: 52ms\tremaining: 6m 8s\n",
      "100:\tlearn: 0.7297518\ttest: 0.7311043\ttest1: 0.7684320\tbest: 0.7684320 (98)\ttotal: 2.73s\tremaining: 3m 9s\n",
      "200:\tlearn: 0.7794881\ttest: 0.7862983\ttest1: 0.8703626\tbest: 0.8703626 (193)\ttotal: 5.17s\tremaining: 2m 57s\n",
      "300:\tlearn: 0.7847917\ttest: 0.7884434\ttest1: 0.8721725\tbest: 0.8721725 (271)\ttotal: 7.52s\tremaining: 2m 49s\n",
      "400:\tlearn: 0.7963580\ttest: 0.8012430\ttest1: 0.8724098\tbest: 0.8724098 (354)\ttotal: 9.87s\tremaining: 2m 44s\n",
      "Stopped by overfitting detector  (70 iterations wait)\n",
      "\n",
      "bestTest = 0.8724098033\n",
      "bestIteration = 354\n",
      "\n",
      "Shrink model to first 355 iterations.\n"
     ]
    },
    {
     "name": "stderr",
     "output_type": "stream",
     "text": [
      "\u001b[32m[I 2022-07-25 15:57:49,452]\u001b[0m Trial 0 finished with value: 0.1140330198609619 and parameters: {'learning_rate': 0.0234771090882268, 'bagging_temperature': 0.01528914792998402, 'n_estimators': 7092, 'max_depth': 4, 'random_strength': 11, 'colsample_bylevel': 0.7623194133692879, 'l2_leaf_reg': 5.736010576764376e-06, 'min_child_samples': 69, 'max_bin': 476, 'od_type': 'IncToDec'}. Best is trial 0 with value: 0.1140330198609619.\u001b[0m\n"
     ]
    },
    {
     "name": "stdout",
     "output_type": "stream",
     "text": [
      "CPU times: user 3 µs, sys: 1e+03 ns, total: 4 µs\n",
      "Wall time: 7.63 µs\n",
      "0:\tlearn: 0.6432788\ttest: 0.6424860\ttest1: 0.6525970\tbest: 0.6525970 (0)\ttotal: 61.4ms\tremaining: 3m 56s\n",
      "100:\tlearn: 0.7989965\ttest: 0.8008322\ttest1: 0.8723023\tbest: 0.8724211 (95)\ttotal: 6.01s\tremaining: 3m 43s\n",
      "200:\tlearn: 0.8093594\ttest: 0.8086520\ttest1: 0.8759063\tbest: 0.8759063 (189)\ttotal: 11.2s\tremaining: 3m 24s\n",
      "300:\tlearn: 0.8197358\ttest: 0.8184001\ttest1: 0.8768618\tbest: 0.8768618 (278)\ttotal: 16.1s\tremaining: 3m 10s\n",
      "Stopped by overfitting detector  (70 iterations wait)\n",
      "\n",
      "bestTest = 0.8768617579\n",
      "bestIteration = 278\n",
      "\n",
      "Shrink model to first 279 iterations.\n"
     ]
    },
    {
     "name": "stderr",
     "output_type": "stream",
     "text": [
      "\u001b[32m[I 2022-07-25 15:58:08,995]\u001b[0m Trial 1 finished with value: 0.09962890978164783 and parameters: {'learning_rate': 0.02618635181276284, 'bagging_temperature': 0.05560694930772057, 'n_estimators': 3854, 'max_depth': 10, 'random_strength': 7, 'colsample_bylevel': 0.8229895429470133, 'l2_leaf_reg': 9.447161250046411e-06, 'min_child_samples': 76, 'max_bin': 319, 'od_type': 'Iter'}. Best is trial 1 with value: 0.09962890978164783.\u001b[0m\n"
     ]
    },
    {
     "name": "stdout",
     "output_type": "stream",
     "text": [
      "CPU times: user 3 µs, sys: 1e+03 ns, total: 4 µs\n",
      "Wall time: 7.39 µs\n",
      "0:\tlearn: 0.1880679\ttest: 0.1863283\ttest1: 0.2845933\tbest: 0.2845933 (0)\ttotal: 83.7ms\tremaining: 4m 18s\n",
      "100:\tlearn: 0.7695297\ttest: 0.7733039\ttest1: 0.8588448\tbest: 0.8588448 (99)\ttotal: 5.05s\tremaining: 2m 29s\n",
      "200:\tlearn: 0.7842845\ttest: 0.7862706\ttest1: 0.8624947\tbest: 0.8624947 (196)\ttotal: 9.14s\tremaining: 2m 11s\n",
      "300:\tlearn: 0.8024968\ttest: 0.8042506\ttest1: 0.8734324\tbest: 0.8734324 (300)\ttotal: 13.3s\tremaining: 2m 3s\n",
      "400:\tlearn: 0.8326442\ttest: 0.8296117\ttest1: 0.8804598\tbest: 0.8805767 (395)\ttotal: 19.7s\tremaining: 2m 12s\n",
      "500:\tlearn: 0.8442387\ttest: 0.8361355\ttest1: 0.8837258\tbest: 0.8837258 (499)\ttotal: 26.8s\tremaining: 2m 18s\n",
      "600:\tlearn: 0.8502949\ttest: 0.8386693\ttest1: 0.8843949\tbest: 0.8843949 (600)\ttotal: 33.8s\tremaining: 2m 19s\n",
      "Stopped by overfitting detector  (70 iterations wait)\n",
      "\n",
      "bestTest = 0.8843948713\n",
      "bestIteration = 600\n",
      "\n",
      "Shrink model to first 601 iterations.\n"
     ]
    },
    {
     "name": "stderr",
     "output_type": "stream",
     "text": [
      "\u001b[32m[I 2022-07-25 15:58:48,289]\u001b[0m Trial 2 finished with value: 0.09312599128855288 and parameters: {'learning_rate': 0.041974715540436816, 'bagging_temperature': 0.3763854729762455, 'n_estimators': 3090, 'max_depth': 9, 'random_strength': 37, 'colsample_bylevel': 0.7501636238368523, 'l2_leaf_reg': 3.009940951081814e-06, 'min_child_samples': 76, 'max_bin': 225, 'od_type': 'Iter'}. Best is trial 2 with value: 0.09312599128855288.\u001b[0m\n"
     ]
    },
    {
     "name": "stdout",
     "output_type": "stream",
     "text": [
      "CPU times: user 5 µs, sys: 0 ns, total: 5 µs\n",
      "Wall time: 9.3 µs\n",
      "0:\tlearn: 0.1341210\ttest: 0.1310326\ttest1: 0.1025368\tbest: 0.1025368 (0)\ttotal: 89.7ms\tremaining: 5m 16s\n",
      "100:\tlearn: 0.7711047\ttest: 0.7715763\ttest1: 0.8554692\tbest: 0.8555911 (98)\ttotal: 6.59s\tremaining: 3m 43s\n"
     ]
    },
    {
     "name": "stderr",
     "output_type": "stream",
     "text": [
      "Training has stopped (degenerate solution on iteration 190, probably too small l2-regularization, try to increase it)\n"
     ]
    },
    {
     "name": "stdout",
     "output_type": "stream",
     "text": [
      "\n",
      "bestTest = 0.8798830165\n",
      "bestIteration = 186\n",
      "\n",
      "Shrink model to first 187 iterations.\n"
     ]
    },
    {
     "name": "stderr",
     "output_type": "stream",
     "text": [
      "\u001b[32m[I 2022-07-25 15:59:01,846]\u001b[0m Trial 3 finished with value: 0.09959687667449536 and parameters: {'learning_rate': 0.08905976994939424, 'bagging_temperature': 99.51462685125072, 'n_estimators': 3529, 'max_depth': 11, 'random_strength': 88, 'colsample_bylevel': 0.8736035313829214, 'l2_leaf_reg': 6.55044993743618e-06, 'min_child_samples': 38, 'max_bin': 417, 'od_type': 'Iter'}. Best is trial 2 with value: 0.09312599128855288.\u001b[0m\n"
     ]
    },
    {
     "name": "stdout",
     "output_type": "stream",
     "text": [
      "CPU times: user 5 µs, sys: 0 ns, total: 5 µs\n",
      "Wall time: 10.7 µs\n",
      "0:\tlearn: 0.6418503\ttest: 0.6416481\ttest1: 0.6533198\tbest: 0.6533198 (0)\ttotal: 545ms\tremaining: 1h 16m 37s\n",
      "100:\tlearn: 0.7840423\ttest: 0.7836861\ttest1: 0.8668855\tbest: 0.8668855 (100)\ttotal: 31.7s\tremaining: 43m 35s\n",
      "200:\tlearn: 0.8069386\ttest: 0.8029772\ttest1: 0.8719570\tbest: 0.8719570 (193)\ttotal: 1m 3s\tremaining: 43m 31s\n",
      "300:\tlearn: 0.8139565\ttest: 0.8075404\ttest1: 0.8739867\tbest: 0.8741582 (275)\ttotal: 1m 28s\tremaining: 40m 1s\n",
      "Stopped by overfitting detector  (70 iterations wait)\n",
      "\n",
      "bestTest = 0.8741582492\n",
      "bestIteration = 275\n",
      "\n",
      "Shrink model to first 276 iterations.\n"
     ]
    },
    {
     "name": "stderr",
     "output_type": "stream",
     "text": [
      "\u001b[32m[I 2022-07-25 16:00:40,493]\u001b[0m Trial 4 finished with value: 0.10417234851301738 and parameters: {'learning_rate': 0.022961749622373937, 'bagging_temperature': 0.13509921518832224, 'n_estimators': 8437, 'max_depth': 15, 'random_strength': 14, 'colsample_bylevel': 0.5680430967271756, 'l2_leaf_reg': 1.575982269938329e-05, 'min_child_samples': 91, 'max_bin': 381, 'od_type': 'IncToDec'}. Best is trial 2 with value: 0.09312599128855288.\u001b[0m\n"
     ]
    },
    {
     "name": "stdout",
     "output_type": "stream",
     "text": [
      "CPU times: user 5 µs, sys: 0 ns, total: 5 µs\n",
      "Wall time: 12.9 µs\n",
      "0:\tlearn: 0.1190492\ttest: 0.1190492\ttest1: 0.1598628\tbest: 0.1598628 (0)\ttotal: 38.2ms\tremaining: 4m 26s\n",
      "100:\tlearn: 0.7224852\ttest: 0.7229447\ttest1: 0.7623421\tbest: 0.7623421 (98)\ttotal: 31.9s\tremaining: 36m 7s\n",
      "200:\tlearn: 0.7754830\ttest: 0.7742482\ttest1: 0.8549537\tbest: 0.8549537 (192)\ttotal: 1m 8s\tremaining: 38m 23s\n",
      "300:\tlearn: 0.7813582\ttest: 0.7762736\ttest1: 0.8565032\tbest: 0.8569905 (291)\ttotal: 1m 30s\tremaining: 33m 35s\n",
      "400:\tlearn: 0.7874934\ttest: 0.7829433\ttest1: 0.8592466\tbest: 0.8592466 (400)\ttotal: 2m\tremaining: 33m 1s\n",
      "500:\tlearn: 0.7970709\ttest: 0.7926883\ttest1: 0.8721900\tbest: 0.8721900 (498)\ttotal: 2m 29s\tremaining: 32m 17s\n"
     ]
    },
    {
     "name": "stderr",
     "output_type": "stream",
     "text": [
      "Training has stopped (degenerate solution on iteration 599, probably too small l2-regularization, try to increase it)\n"
     ]
    },
    {
     "name": "stdout",
     "output_type": "stream",
     "text": [
      "\n",
      "bestTest = 0.8810323122\n",
      "bestIteration = 598\n",
      "\n",
      "Shrink model to first 599 iterations.\n"
     ]
    },
    {
     "name": "stderr",
     "output_type": "stream",
     "text": [
      "\u001b[32m[I 2022-07-25 16:04:16,243]\u001b[0m Trial 5 finished with value: 0.10055724107391527 and parameters: {'learning_rate': 0.02561150352358439, 'bagging_temperature': 0.042184056503128044, 'n_estimators': 6974, 'max_depth': 16, 'random_strength': 68, 'colsample_bylevel': 0.9177896421449943, 'l2_leaf_reg': 2.7346082651107284e-05, 'min_child_samples': 83, 'max_bin': 449, 'od_type': 'Iter'}. Best is trial 2 with value: 0.09312599128855288.\u001b[0m\n"
     ]
    },
    {
     "name": "stdout",
     "output_type": "stream",
     "text": [
      "CPU times: user 4 µs, sys: 0 ns, total: 4 µs\n",
      "Wall time: 9.54 µs\n",
      "0:\tlearn: 0.1880679\ttest: 0.1863283\ttest1: 0.2845933\tbest: 0.2845933 (0)\ttotal: 81.7ms\tremaining: 7m 14s\n",
      "100:\tlearn: 0.7178163\ttest: 0.7207540\ttest1: 0.7614424\tbest: 0.7614424 (95)\ttotal: 4.36s\tremaining: 3m 44s\n",
      "200:\tlearn: 0.7658519\ttest: 0.7700355\ttest1: 0.8559250\tbest: 0.8560469 (198)\ttotal: 8.4s\tremaining: 3m 33s\n",
      "300:\tlearn: 0.7707506\ttest: 0.7739200\ttest1: 0.8590561\tbest: 0.8590561 (241)\ttotal: 12.5s\tremaining: 3m 27s\n",
      "Stopped by overfitting detector  (70 iterations wait)\n",
      "\n",
      "bestTest = 0.8590561224\n",
      "bestIteration = 241\n",
      "\n",
      "Shrink model to first 242 iterations.\n"
     ]
    },
    {
     "name": "stderr",
     "output_type": "stream",
     "text": [
      "\u001b[32m[I 2022-07-25 16:04:29,820]\u001b[0m Trial 6 finished with value: 0.13209942016036677 and parameters: {'learning_rate': 0.024739845986990937, 'bagging_temperature': 0.33177651348521187, 'n_estimators': 5313, 'max_depth': 8, 'random_strength': 44, 'colsample_bylevel': 0.7349615043348889, 'l2_leaf_reg': 1.1815578220552088e-05, 'min_child_samples': 60, 'max_bin': 313, 'od_type': 'Iter'}. Best is trial 2 with value: 0.09312599128855288.\u001b[0m\n"
     ]
    },
    {
     "name": "stdout",
     "output_type": "stream",
     "text": [
      "CPU times: user 3 µs, sys: 0 ns, total: 3 µs\n",
      "Wall time: 7.63 µs\n",
      "0:\tlearn: 0.6340466\ttest: 0.6339785\ttest1: 0.6494727\tbest: 0.6494727 (0)\ttotal: 51.6ms\tremaining: 6m 8s\n",
      "100:\tlearn: 0.7841560\ttest: 0.7882449\ttest1: 0.8725706\tbest: 0.8725706 (95)\ttotal: 3.17s\tremaining: 3m 40s\n",
      "200:\tlearn: 0.8197490\ttest: 0.8231098\ttest1: 0.8774059\tbest: 0.8774976 (195)\ttotal: 6.53s\tremaining: 3m 45s\n",
      "300:\tlearn: 0.8264863\ttest: 0.8284844\ttest1: 0.8810095\tbest: 0.8810095 (286)\ttotal: 10.2s\tremaining: 3m 51s\n",
      "400:\tlearn: 0.8328356\ttest: 0.8323219\ttest1: 0.8815215\tbest: 0.8815215 (355)\ttotal: 14s\tremaining: 3m 54s\n",
      "500:\tlearn: 0.8361862\ttest: 0.8350839\ttest1: 0.8831169\tbest: 0.8831651 (493)\ttotal: 17.6s\tremaining: 3m 53s\n",
      "600:\tlearn: 0.8392303\ttest: 0.8348822\ttest1: 0.8834192\tbest: 0.8835341 (594)\ttotal: 21.1s\tremaining: 3m 49s\n",
      "700:\tlearn: 0.8409964\ttest: 0.8351575\ttest1: 0.8838550\tbest: 0.8838550 (695)\ttotal: 24.8s\tremaining: 3m 48s\n",
      "Stopped by overfitting detector  (70 iterations wait)\n",
      "\n",
      "bestTest = 0.8840370752\n",
      "bestIteration = 707\n",
      "\n",
      "Shrink model to first 708 iterations.\n"
     ]
    },
    {
     "name": "stderr",
     "output_type": "stream",
     "text": [
      "\u001b[32m[I 2022-07-25 16:04:58,158]\u001b[0m Trial 7 finished with value: 0.09388811902455751 and parameters: {'learning_rate': 0.1092571405620448, 'bagging_temperature': 8.893415217483462, 'n_estimators': 7143, 'max_depth': 5, 'random_strength': 19, 'colsample_bylevel': 0.7090004467571371, 'l2_leaf_reg': 2.5663326334831094e-05, 'min_child_samples': 8, 'max_bin': 257, 'od_type': 'IncToDec'}. Best is trial 2 with value: 0.09312599128855288.\u001b[0m\n"
     ]
    },
    {
     "name": "stdout",
     "output_type": "stream",
     "text": [
      "CPU times: user 4 µs, sys: 0 ns, total: 4 µs\n",
      "Wall time: 8.34 µs\n",
      "0:\tlearn: 0.0466619\ttest: 0.0466619\ttest1: 0.0869253\tbest: 0.0869253 (0)\ttotal: 82.5ms\tremaining: 6m 45s\n",
      "100:\tlearn: 0.7711538\ttest: 0.7732517\ttest1: 0.8494324\tbest: 0.8494324 (90)\ttotal: 5.36s\tremaining: 4m 15s\n",
      "200:\tlearn: 0.7915102\ttest: 0.7929419\ttest1: 0.8724931\tbest: 0.8729958 (189)\ttotal: 10.1s\tremaining: 3m 57s\n"
     ]
    },
    {
     "name": "stderr",
     "output_type": "stream",
     "text": [
      "Training has stopped (degenerate solution on iteration 271, probably too small l2-regularization, try to increase it)\n"
     ]
    },
    {
     "name": "stdout",
     "output_type": "stream",
     "text": [
      "\n",
      "bestTest = 0.8789942378\n",
      "bestIteration = 261\n",
      "\n",
      "Shrink model to first 262 iterations.\n"
     ]
    },
    {
     "name": "stderr",
     "output_type": "stream",
     "text": [
      "\u001b[32m[I 2022-07-25 16:05:13,772]\u001b[0m Trial 8 finished with value: 0.09854763480288777 and parameters: {'learning_rate': 0.059956184945699265, 'bagging_temperature': 43.407138326690486, 'n_estimators': 4914, 'max_depth': 10, 'random_strength': 48, 'colsample_bylevel': 0.48889665561342327, 'l2_leaf_reg': 1.688670624812303e-05, 'min_child_samples': 55, 'max_bin': 466, 'od_type': 'IncToDec'}. Best is trial 2 with value: 0.09312599128855288.\u001b[0m\n"
     ]
    },
    {
     "name": "stdout",
     "output_type": "stream",
     "text": [
      "CPU times: user 5 µs, sys: 1e+03 ns, total: 6 µs\n",
      "Wall time: 10.5 µs\n",
      "0:\tlearn: 0.0943792\ttest: 0.0916608\ttest1: 0.1252859\tbest: 0.1252859 (0)\ttotal: 85.2ms\tremaining: 5m 55s\n",
      "100:\tlearn: 0.7579276\ttest: 0.7617602\ttest1: 0.8483611\tbest: 0.8484523 (99)\ttotal: 4.44s\tremaining: 2m 59s\n",
      "200:\tlearn: 0.7769430\ttest: 0.7795147\ttest1: 0.8594300\tbest: 0.8596716 (171)\ttotal: 8.31s\tremaining: 2m 44s\n",
      "300:\tlearn: 0.7885759\ttest: 0.7914067\ttest1: 0.8713561\tbest: 0.8715945 (287)\ttotal: 12s\tremaining: 2m 34s\n",
      "400:\tlearn: 0.7927897\ttest: 0.7949163\ttest1: 0.8729841\tbest: 0.8730761 (394)\ttotal: 15.7s\tremaining: 2m 27s\n",
      "500:\tlearn: 0.8205171\ttest: 0.8211597\ttest1: 0.8764021\tbest: 0.8764163 (492)\ttotal: 21.2s\tremaining: 2m 35s\n",
      "600:\tlearn: 0.8341039\ttest: 0.8299779\ttest1: 0.8802089\tbest: 0.8802089 (599)\ttotal: 27.1s\tremaining: 2m 40s\n",
      "700:\tlearn: 0.8399566\ttest: 0.8353884\ttest1: 0.8814374\tbest: 0.8814869 (688)\ttotal: 32.9s\tremaining: 2m 42s\n",
      "800:\tlearn: 0.8435964\ttest: 0.8351356\ttest1: 0.8819242\tbest: 0.8820406 (786)\ttotal: 38.7s\tremaining: 2m 43s\n",
      "900:\tlearn: 0.8470853\ttest: 0.8363773\ttest1: 0.8836288\tbest: 0.8836288 (898)\ttotal: 44.4s\tremaining: 2m 41s\n",
      "1000:\tlearn: 0.8499356\ttest: 0.8378255\ttest1: 0.8843509\tbest: 0.8843509 (988)\ttotal: 50.4s\tremaining: 2m 39s\n",
      "Stopped by overfitting detector  (70 iterations wait)\n",
      "\n",
      "bestTest = 0.8843509064\n",
      "bestIteration = 988\n",
      "\n",
      "Shrink model to first 989 iterations.\n"
     ]
    },
    {
     "name": "stderr",
     "output_type": "stream",
     "text": [
      "\u001b[32m[I 2022-07-25 16:06:08,534]\u001b[0m Trial 9 finished with value: 0.09333278371469254 and parameters: {'learning_rate': 0.031248388717933052, 'bagging_temperature': 3.804360161439235, 'n_estimators': 4176, 'max_depth': 8, 'random_strength': 32, 'colsample_bylevel': 0.5020655125060984, 'l2_leaf_reg': 1.0194033990418384e-05, 'min_child_samples': 59, 'max_bin': 411, 'od_type': 'IncToDec'}. Best is trial 2 with value: 0.09312599128855288.\u001b[0m\n"
     ]
    },
    {
     "name": "stdout",
     "output_type": "stream",
     "text": [
      "Best Score: 0.09312599128855288\n",
      "Best trial {'learning_rate': 0.041974715540436816, 'bagging_temperature': 0.3763854729762455, 'n_estimators': 3090, 'max_depth': 9, 'random_strength': 37, 'colsample_bylevel': 0.7501636238368523, 'l2_leaf_reg': 3.009940951081814e-06, 'min_child_samples': 76, 'max_bin': 225, 'od_type': 'Iter'}\n"
     ]
    }
   ],
   "source": [
    "import optuna # pip install optuna\n",
    "from optuna.samplers import TPESampler\n",
    "\n",
    "sampler = TPESampler(seed=CFG['SEED'])\n",
    "study = optuna.create_study(\n",
    "    study_name = 'catboost_hparams',\n",
    "    direction = 'minimize',\n",
    "    sampler = sampler,\n",
    ")\n",
    "study.optimize(objective, n_trials=10)\n",
    "print(\"Best Score:\",study.best_value)\n",
    "print(\"Best trial\",study.best_trial.params)"
   ]
  },
  {
   "cell_type": "code",
   "execution_count": 104,
   "id": "03c2a8a5",
   "metadata": {},
   "outputs": [
    {
     "name": "stdout",
     "output_type": "stream",
     "text": [
      "0:\tlearn: 0.6357475\ttest: 0.6357007\ttest1: 0.6641720\tbest: 0.6641720 (0)\ttotal: 90.3ms\tremaining: 4m 39s\n",
      "100:\tlearn: 0.1213422\ttest: 0.1207809\ttest1: 0.1345240\tbest: 0.1345240 (100)\ttotal: 4.83s\tremaining: 2m 22s\n",
      "200:\tlearn: 0.1135550\ttest: 0.1131328\ttest1: 0.1228002\tbest: 0.1228002 (200)\ttotal: 8.91s\tremaining: 2m 8s\n",
      "300:\tlearn: 0.1049059\ttest: 0.1048682\ttest1: 0.1106903\tbest: 0.1106903 (300)\ttotal: 13.4s\tremaining: 2m 4s\n",
      "400:\tlearn: 2.2878757\ttest: 2.2886017\ttest1: 0.0967554\tbest: 0.0967554 (400)\ttotal: 19.7s\tremaining: 2m 12s\n",
      "500:\tlearn: 2.2838416\ttest: 2.2860658\ttest1: 0.0946842\tbest: 0.0946805 (498)\ttotal: 26.7s\tremaining: 2m 17s\n",
      "600:\tlearn: 2.2818013\ttest: 2.2851819\ttest1: 0.0937073\tbest: 0.0937073 (600)\ttotal: 33.7s\tremaining: 2m 19s\n",
      "700:\tlearn: 2.2804999\ttest: 2.2848289\ttest1: 0.0933590\tbest: 0.0933590 (700)\ttotal: 40.4s\tremaining: 2m 17s\n",
      "800:\tlearn: 2.2794560\ttest: 2.2846213\ttest1: 0.0930805\tbest: 0.0930805 (800)\ttotal: 47.2s\tremaining: 2m 14s\n",
      "Stopped by overfitting detector  (70 iterations wait)\n",
      "\n",
      "bestTest = 0.09307299768\n",
      "bestIteration = 810\n",
      "\n",
      "Shrink model to first 811 iterations.\n"
     ]
    },
    {
     "data": {
      "text/plain": [
       "<catboost.core.CatBoostClassifier at 0x7f7b718a6390>"
      ]
     },
     "execution_count": 104,
     "metadata": {},
     "output_type": "execute_result"
    }
   ],
   "source": [
    "model_cat = CatBoostClassifier(**study.best_params)\n",
    "model_cat.fit(train_x, train_y,\n",
    "          eval_set=[(train_x, train_y), (val_x, val_y)],\n",
    "          early_stopping_rounds=70, cat_features=cat_features,\n",
    "          verbose=100)"
   ]
  },
  {
   "cell_type": "code",
   "execution_count": 105,
   "id": "d22ea636",
   "metadata": {
    "scrolled": true
   },
   "outputs": [
    {
     "name": "stdout",
     "output_type": "stream",
     "text": [
      "Confusion Matrix\n",
      "[[32770    90]\n",
      " [ 1017  4286]]\n",
      "Accuracy:0.970993, Precision:0.979433, Recall:0.808222, F1:0.934509\n"
     ]
    },
    {
     "data": {
      "text/plain": [
       "(0.9709928464743338,\n",
       " 0.9794332723948812,\n",
       " 0.8082217612672072,\n",
       " 0.9345093903641755)"
      ]
     },
     "execution_count": 105,
     "metadata": {},
     "output_type": "execute_result"
    }
   ],
   "source": [
    "pred = model_cat.predict(val_x) ###\n",
    "get_clf_eval(val_y, pred)"
   ]
  },
  {
   "cell_type": "code",
   "execution_count": 69,
   "id": "05c25e3d",
   "metadata": {
    "collapsed": true
   },
   "outputs": [
    {
     "name": "stdout",
     "output_type": "stream",
     "text": [
      "THRESHOLD: 0.2\n",
      "Confusion Matrix\n",
      "[[32607   253]\n",
      " [ 1007  4296]]\n",
      "Accuracy:0.966984, Precision:0.944383, Recall:0.810107, F1:0.926576\n",
      "THRESHOLD: 0.25\n",
      "Confusion Matrix\n",
      "[[32621   239]\n",
      " [ 1015  4288]]\n",
      "Accuracy:0.967141, Precision:0.947206, Recall:0.808599, F1:0.926787\n",
      "THRESHOLD: 0.3\n",
      "Confusion Matrix\n",
      "[[32672   188]\n",
      " [ 1058  4245]]\n",
      "Accuracy:0.967351, Precision:0.957591, Recall:0.800490, F1:0.926655\n",
      "THRESHOLD: 0.35\n",
      "Confusion Matrix\n",
      "[[32733   127]\n",
      " [ 1071  4232]]\n",
      "Accuracy:0.968608, Precision:0.970865, Recall:0.798039, F1:0.929019\n",
      "THRESHOLD: 0.4\n",
      "Confusion Matrix\n",
      "[[32794    66]\n",
      " [ 1122  4181]]\n",
      "Accuracy:0.968870, Precision:0.984460, Recall:0.788422, F1:0.928906\n",
      "THRESHOLD: 0.45\n",
      "Confusion Matrix\n",
      "[[32794    66]\n",
      " [ 1126  4177]]\n",
      "Accuracy:0.968766, Precision:0.984445, Recall:0.787667, F1:0.928641\n",
      "THRESHOLD: 0.5\n",
      "Confusion Matrix\n",
      "[[32798    62]\n",
      " [ 1130  4173]]\n",
      "Accuracy:0.968766, Precision:0.985360, Recall:0.786913, F1:0.928589\n",
      "THRESHOLD: 0.55\n",
      "Confusion Matrix\n",
      "[[32801    59]\n",
      " [ 1143  4160]]\n",
      "Accuracy:0.968504, Precision:0.986016, Recall:0.784462, F1:0.927887\n",
      "THRESHOLD: 0.6\n",
      "Confusion Matrix\n",
      "[[32806    54]\n",
      " [ 1180  4123]]\n",
      "Accuracy:0.967665, Precision:0.987072, Recall:0.777484, F1:0.925685\n",
      "THRESHOLD: 0.7\n",
      "Confusion Matrix\n",
      "[[32826    34]\n",
      " [ 1286  4017]]\n",
      "Accuracy:0.965412, Precision:0.991607, Recall:0.757496, F1:0.919587\n",
      "THRESHOLD: 0.8\n",
      "Confusion Matrix\n",
      "[[32832    28]\n",
      " [ 1355  3948]]\n",
      "Accuracy:0.963761, Precision:0.992958, Recall:0.744484, F1:0.915163\n"
     ]
    }
   ],
   "source": [
    "threshold_eval(model_cat, val_x, val_y)"
   ]
  },
  {
   "cell_type": "code",
   "execution_count": null,
   "id": "dc7e1392",
   "metadata": {},
   "outputs": [],
   "source": []
  },
  {
   "cell_type": "markdown",
   "id": "9dbde206",
   "metadata": {},
   "source": [
    "# sklearn Inference(test)"
   ]
  },
  {
   "cell_type": "code",
   "execution_count": 77,
   "id": "2f71a763",
   "metadata": {},
   "outputs": [],
   "source": [
    "pred = model_rf.predict(test_x) ###"
   ]
  },
  {
   "cell_type": "code",
   "execution_count": 78,
   "id": "3c74547c-a57d-4ac2-9036-cdbf5ac952aa",
   "metadata": {},
   "outputs": [],
   "source": [
    "submit = pd.read_csv('./data/sample_submission.csv')\n",
    "submit['label'] = pred.astype(np.int32)"
   ]
  },
  {
   "cell_type": "code",
   "execution_count": 79,
   "id": "4aa20c89-f3d4-44c2-a2b0-dbd9fb506288",
   "metadata": {},
   "outputs": [
    {
     "name": "stdout",
     "output_type": "stream",
     "text": [
      "Done.\n"
     ]
    }
   ],
   "source": [
    "submit.to_csv('./submit.csv', index=False)\n",
    "print('Done.')"
   ]
  },
  {
   "cell_type": "code",
   "execution_count": 119,
   "id": "91b7004a",
   "metadata": {},
   "outputs": [],
   "source": [
    "# Save prediction\n",
    "pred_all = model_rf.predict(all_x) ###\n",
    "np.save('rf_prob.npy',pred_all)"
   ]
  },
  {
   "cell_type": "markdown",
   "id": "a39f743e",
   "metadata": {},
   "source": [
    "# Threshold 미만 index 뽑기(LSTM으로 inference용)"
   ]
  },
  {
   "cell_type": "code",
   "execution_count": 52,
   "id": "be377d4d",
   "metadata": {},
   "outputs": [],
   "source": [
    "p = 0.2\n",
    "pred_p = model_rf.predict_proba(test_x) ###\n",
    "uncertain_idx = np.where((pred_p[:,0] >= p) & (pred_p[:,0] < 0.5))[0]"
   ]
  },
  {
   "cell_type": "code",
   "execution_count": 49,
   "id": "1710dbf5",
   "metadata": {},
   "outputs": [
    {
     "data": {
      "text/plain": [
       "(2316, array([    43,     68,     98, ..., 120794, 120801, 120871]))"
      ]
     },
     "execution_count": 49,
     "metadata": {},
     "output_type": "execute_result"
    }
   ],
   "source": [
    "len(uncertain_idx), uncertain_idx # 추후 사용"
   ]
  },
  {
   "cell_type": "code",
   "execution_count": 55,
   "id": "a5857a14",
   "metadata": {},
   "outputs": [
    {
     "data": {
      "text/plain": [
       "NoneType"
      ]
     },
     "execution_count": 55,
     "metadata": {},
     "output_type": "execute_result"
    }
   ],
   "source": [
    "model_rf.class_weight"
   ]
  },
  {
   "cell_type": "markdown",
   "id": "36915563",
   "metadata": {},
   "source": [
    "# 결과분석"
   ]
  },
  {
   "cell_type": "code",
   "execution_count": 57,
   "id": "67f1dbb7",
   "metadata": {},
   "outputs": [],
   "source": [
    "pred_p = model_rf.predict_proba(val_x)"
   ]
  },
  {
   "cell_type": "code",
   "execution_count": 58,
   "id": "7c638b44",
   "metadata": {},
   "outputs": [],
   "source": [
    "idx_1 = np.where(val_y == 1)\n",
    "idx_0 = np.where(val_y == 0)"
   ]
  },
  {
   "cell_type": "code",
   "execution_count": 59,
   "id": "4932514c",
   "metadata": {
    "scrolled": true
   },
   "outputs": [
    {
     "data": {
      "image/png": "[encoded data removed]",
      "text/plain": [
       "<Figure size 1500x1000 with 1 Axes>"
      ]
     },
     "metadata": {},
     "output_type": "display_data"
    }
   ],
   "source": [
    "#plt.hist((val_y - pred_p[:,1])[idx], bins=200)\n",
    "# plt.hist(val_y, bins=200)\n",
    "# plt.hist(pred_p[:,1], bins=200)\n",
    "plt.hist((val_y - pred_p[:,1])[idx_1], bins=200)\n",
    "plt.hist((val_y - pred_p[:,1])[idx_0], bins=200)\n",
    "plt.show()"
   ]
  },
  {
   "cell_type": "code",
   "execution_count": 82,
   "id": "220ec61d",
   "metadata": {
    "scrolled": true
   },
   "outputs": [
    {
     "ename": "ValueError",
     "evalue": "Length of feature_names, 733 does not match number of features, 732",
     "output_type": "error",
     "traceback": [
      "\u001b[0;31m---------------------------------------------------------------------------\u001b[0m",
      "\u001b[0;31mValueError\u001b[0m                                Traceback (most recent call last)",
      "\u001b[0;32m<ipython-input-82-23ffd04d29c8>\u001b[0m in \u001b[0;36m<module>\u001b[0;34m\u001b[0m\n\u001b[1;32m      5\u001b[0m                 \u001b[0mclass_names\u001b[0m \u001b[0;34m=\u001b[0m \u001b[0;34m[\u001b[0m\u001b[0;36m0\u001b[0m\u001b[0;34m,\u001b[0m\u001b[0;36m1\u001b[0m\u001b[0;34m]\u001b[0m\u001b[0;34m,\u001b[0m\u001b[0;34m\u001b[0m\u001b[0;34m\u001b[0m\u001b[0m\n\u001b[1;32m      6\u001b[0m                 \u001b[0mrounded\u001b[0m \u001b[0;34m=\u001b[0m \u001b[0;32mTrue\u001b[0m\u001b[0;34m,\u001b[0m \u001b[0mproportion\u001b[0m \u001b[0;34m=\u001b[0m \u001b[0;32mFalse\u001b[0m\u001b[0;34m,\u001b[0m\u001b[0;34m\u001b[0m\u001b[0;34m\u001b[0m\u001b[0m\n\u001b[0;32m----> 7\u001b[0;31m                 precision = 2, filled = True)\n\u001b[0m",
      "\u001b[0;32m~/.conda/envs/py37/lib/python3.7/site-packages/sklearn/utils/validation.py\u001b[0m in \u001b[0;36minner_f\u001b[0;34m(*args, **kwargs)\u001b[0m\n\u001b[1;32m     61\u001b[0m             \u001b[0mextra_args\u001b[0m \u001b[0;34m=\u001b[0m \u001b[0mlen\u001b[0m\u001b[0;34m(\u001b[0m\u001b[0margs\u001b[0m\u001b[0;34m)\u001b[0m \u001b[0;34m-\u001b[0m \u001b[0mlen\u001b[0m\u001b[0;34m(\u001b[0m\u001b[0mall_args\u001b[0m\u001b[0;34m)\u001b[0m\u001b[0;34m\u001b[0m\u001b[0;34m\u001b[0m\u001b[0m\n\u001b[1;32m     62\u001b[0m             \u001b[0;32mif\u001b[0m \u001b[0mextra_args\u001b[0m \u001b[0;34m<=\u001b[0m \u001b[0;36m0\u001b[0m\u001b[0;34m:\u001b[0m\u001b[0;34m\u001b[0m\u001b[0;34m\u001b[0m\u001b[0m\n\u001b[0;32m---> 63\u001b[0;31m                 \u001b[0;32mreturn\u001b[0m \u001b[0mf\u001b[0m\u001b[0;34m(\u001b[0m\u001b[0;34m*\u001b[0m\u001b[0margs\u001b[0m\u001b[0;34m,\u001b[0m \u001b[0;34m**\u001b[0m\u001b[0mkwargs\u001b[0m\u001b[0;34m)\u001b[0m\u001b[0;34m\u001b[0m\u001b[0;34m\u001b[0m\u001b[0m\n\u001b[0m\u001b[1;32m     64\u001b[0m \u001b[0;34m\u001b[0m\u001b[0m\n\u001b[1;32m     65\u001b[0m             \u001b[0;31m# extra_args > 0\u001b[0m\u001b[0;34m\u001b[0m\u001b[0;34m\u001b[0m\u001b[0;34m\u001b[0m\u001b[0m\n",
      "\u001b[0;32m~/.conda/envs/py37/lib/python3.7/site-packages/sklearn/tree/_export.py\u001b[0m in \u001b[0;36mexport_graphviz\u001b[0;34m(decision_tree, out_file, max_depth, feature_names, class_names, label, filled, leaves_parallel, impurity, node_ids, proportion, rotate, rounded, special_characters, precision)\u001b[0m\n\u001b[1;32m    786\u001b[0m             \u001b[0mrounded\u001b[0m\u001b[0;34m=\u001b[0m\u001b[0mrounded\u001b[0m\u001b[0;34m,\u001b[0m \u001b[0mspecial_characters\u001b[0m\u001b[0;34m=\u001b[0m\u001b[0mspecial_characters\u001b[0m\u001b[0;34m,\u001b[0m\u001b[0;34m\u001b[0m\u001b[0;34m\u001b[0m\u001b[0m\n\u001b[1;32m    787\u001b[0m             precision=precision)\n\u001b[0;32m--> 788\u001b[0;31m         \u001b[0mexporter\u001b[0m\u001b[0;34m.\u001b[0m\u001b[0mexport\u001b[0m\u001b[0;34m(\u001b[0m\u001b[0mdecision_tree\u001b[0m\u001b[0;34m)\u001b[0m\u001b[0;34m\u001b[0m\u001b[0;34m\u001b[0m\u001b[0m\n\u001b[0m\u001b[1;32m    789\u001b[0m \u001b[0;34m\u001b[0m\u001b[0m\n\u001b[1;32m    790\u001b[0m         \u001b[0;32mif\u001b[0m \u001b[0mreturn_string\u001b[0m\u001b[0;34m:\u001b[0m\u001b[0;34m\u001b[0m\u001b[0;34m\u001b[0m\u001b[0m\n",
      "\u001b[0;32m~/.conda/envs/py37/lib/python3.7/site-packages/sklearn/tree/_export.py\u001b[0m in \u001b[0;36mexport\u001b[0;34m(self, decision_tree)\u001b[0m\n\u001b[1;32m    415\u001b[0m                                  \u001b[0;34m\"does not match number of features, %d\"\u001b[0m\u001b[0;34m\u001b[0m\u001b[0;34m\u001b[0m\u001b[0m\n\u001b[1;32m    416\u001b[0m                                  % (len(self.feature_names),\n\u001b[0;32m--> 417\u001b[0;31m                                     decision_tree.n_features_))\n\u001b[0m\u001b[1;32m    418\u001b[0m         \u001b[0;31m# each part writes to out_file\u001b[0m\u001b[0;34m\u001b[0m\u001b[0;34m\u001b[0m\u001b[0;34m\u001b[0m\u001b[0m\n\u001b[1;32m    419\u001b[0m         \u001b[0mself\u001b[0m\u001b[0;34m.\u001b[0m\u001b[0mhead\u001b[0m\u001b[0;34m(\u001b[0m\u001b[0;34m)\u001b[0m\u001b[0;34m\u001b[0m\u001b[0;34m\u001b[0m\u001b[0m\n",
      "\u001b[0;31mValueError\u001b[0m: Length of feature_names, 733 does not match number of features, 732"
     ]
    }
   ],
   "source": [
    "from sklearn.tree import export_graphviz\n",
    "# Export as dot file\n",
    "export_graphviz(model, out_file='tree.dot', \n",
    "                feature_names = all_df.columns,\n",
    "                class_names = [0,1],\n",
    "                rounded = True, proportion = False, \n",
    "                precision = 2, filled = True)"
   ]
  },
  {
   "cell_type": "code",
   "execution_count": null,
   "id": "d0bb78e2",
   "metadata": {},
   "outputs": [],
   "source": []
  },
  {
   "cell_type": "markdown",
   "id": "2e70e8be-b74c-4776-b58a-87daabb459f6",
   "metadata": {},
   "source": [
    "## LSTM Inference"
   ]
  },
  {
   "cell_type": "code",
   "execution_count": 27,
   "id": "358984ba-ea99-480b-847f-1144e171b9f6",
   "metadata": {},
   "outputs": [
    {
     "name": "stderr",
     "output_type": "stream",
     "text": [
      "120944it [00:05, 22968.60it/s]"
     ]
    },
    {
     "name": "stdout",
     "output_type": "stream",
     "text": [
      "test dataframe preprocessing was done.\n"
     ]
    },
    {
     "name": "stderr",
     "output_type": "stream",
     "text": [
      "\n"
     ]
    }
   ],
   "source": [
    "test_df = pd.read_csv('./data/test.csv')\n",
    "#test_df = pd.read_csv('./data/test.csv').iloc[uncertain_idx]\n",
    "test_epitope_list, test_left_antigen_list, test_right_antigen_list, test_label_list = get_preprocessing('test', test_df)"
   ]
  },
  {
   "cell_type": "code",
   "execution_count": 28,
   "id": "c4ed31ff-b110-49fc-96bd-7f3fddcbcaf7",
   "metadata": {},
   "outputs": [],
   "source": [
    "test_dataset = CustomDataset(test_epitope_list, test_left_antigen_list, test_right_antigen_list, None)\n",
    "test_loader = DataLoader(test_dataset, batch_size = CFG['BATCH_SIZE'], shuffle=False, num_workers=CFG['NUM_WORKERS'])"
   ]
  },
  {
   "cell_type": "code",
   "execution_count": 29,
   "id": "440a7b3b-e508-4e82-a5a1-42c50ac468d9",
   "metadata": {},
   "outputs": [
    {
     "data": {
      "text/plain": [
       "CNNModel(\n",
       "  (epitope_embed): Embedding(27, 10, padding_idx=26)\n",
       "  (left_antigen_embed): Embedding(27, 10, padding_idx=26)\n",
       "  (right_antigen_embed): Embedding(27, 10, padding_idx=26)\n",
       "  (epitope_cnn1): Conv1d(10, 20, kernel_size=(3,), stride=(2,), padding=(1,))\n",
       "  (epitope_cnn2): Conv1d(20, 40, kernel_size=(3,), stride=(2,), padding=(1,))\n",
       "  (epitope_cnn3): Conv1d(40, 10, kernel_size=(3,), stride=(2,), padding=(1,))\n",
       "  (relu): ReLU(inplace=True)\n",
       "  (classifier): Sequential(\n",
       "    (0): LeakyReLU(negative_slope=True)\n",
       "    (1): BatchNorm1d(320, eps=1e-05, momentum=0.1, affine=True, track_running_stats=True)\n",
       "    (2): Linear(in_features=320, out_features=80, bias=True)\n",
       "    (3): LeakyReLU(negative_slope=True)\n",
       "    (4): BatchNorm1d(80, eps=1e-05, momentum=0.1, affine=True, track_running_stats=True)\n",
       "    (5): Linear(in_features=80, out_features=2, bias=True)\n",
       "  )\n",
       ")"
      ]
     },
     "execution_count": 29,
     "metadata": {},
     "output_type": "execute_result"
    }
   ],
   "source": [
    "#model = BaseModel()\n",
    "model = CNNModel()\n",
    "best_checkpoint = torch.load('./best_model.pth')\n",
    "model.load_state_dict(best_checkpoint)\n",
    "model.eval()\n",
    "model.to(device)"
   ]
  },
  {
   "cell_type": "code",
   "execution_count": 30,
   "id": "c7e25a7a-3c9b-42d3-8762-6e76389f61b3",
   "metadata": {},
   "outputs": [],
   "source": [
    "def inference(model, test_loader, device, th=CFG['THRESHOLD']):\n",
    "    model.eval()\n",
    "    pred_proba_label = []\n",
    "    with torch.no_grad():\n",
    "        for epitope_seq, left_antigen_seq, right_antigen_seq in tqdm(iter(test_loader)):\n",
    "            epitope_seq = epitope_seq.to(device)\n",
    "            left_antigen_seq = left_antigen_seq.to(device)\n",
    "            right_antigen_seq = right_antigen_seq.to(device)\n",
    "            \n",
    "            model_pred = model(epitope_seq, left_antigen_seq, right_antigen_seq)\n",
    "            model_pred = torch.softmax(model_pred, dim=1)[:,1].to('cpu')\n",
    "            \n",
    "            pred_proba_label += model_pred.tolist()\n",
    "    \n",
    "    pred_label = np.where(np.array(pred_proba_label)>th, 1, 0)\n",
    "    return pred_label"
   ]
  },
  {
   "cell_type": "code",
   "execution_count": 35,
   "id": "8f6a3f55-b50b-4ff5-ae3d-000fdee50ffa",
   "metadata": {},
   "outputs": [
    {
     "name": "stderr",
     "output_type": "stream",
     "text": [
      "100%|██████████| 237/237 [00:02<00:00, 84.21it/s] \n"
     ]
    }
   ],
   "source": [
    "preds = inference(model, test_loader, device, th=0.55)"
   ]
  },
  {
   "cell_type": "code",
   "execution_count": 36,
   "id": "c8fd43b6",
   "metadata": {},
   "outputs": [
    {
     "data": {
      "text/plain": [
       "array([0, 0, 0, ..., 0, 0, 0])"
      ]
     },
     "execution_count": 36,
     "metadata": {},
     "output_type": "execute_result"
    }
   ],
   "source": [
    "preds"
   ]
  },
  {
   "cell_type": "markdown",
   "id": "6f1ba0ba-6089-4403-9e56-eb14e022b016",
   "metadata": {},
   "source": [
    "## Submission"
   ]
  },
  {
   "cell_type": "code",
   "execution_count": 37,
   "id": "9f969c79",
   "metadata": {},
   "outputs": [],
   "source": [
    "submit = pd.read_csv('./data/sample_submission.csv')\n",
    "submit['label'] = preds\n",
    "# submit = pd.read_csv('./submit.csv')\n",
    "# submit['label'].iloc[uncertain_idx] = preds"
   ]
  },
  {
   "cell_type": "code",
   "execution_count": 38,
   "id": "45b8a0f8",
   "metadata": {
    "scrolled": true
   },
   "outputs": [
    {
     "name": "stdout",
     "output_type": "stream",
     "text": [
      "Done.\n"
     ]
    }
   ],
   "source": [
    "submit.to_csv('./submit.csv', index=False)\n",
    "print('Done.')"
   ]
  },
  {
   "cell_type": "code",
   "execution_count": null,
   "id": "2b20a57d",
   "metadata": {},
   "outputs": [],
   "source": []
  }
 ],
 "metadata": {
  "kernelspec": {
   "display_name": "Python 3",
   "language": "python",
   "name": "python3"
  },
  "language_info": {
   "codemirror_mode": {
    "name": "ipython",
    "version": 3
   },
   "file_extension": ".py",
   "mimetype": "text/x-python",
   "name": "python",
   "nbconvert_exporter": "python",
   "pygments_lexer": "ipython3",
   "version": "3.7.11"
  }
 },
 "nbformat": 4,
 "nbformat_minor": 5
}
